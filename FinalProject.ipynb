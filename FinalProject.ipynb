{
  "nbformat": 4,
  "nbformat_minor": 0,
  "metadata": {
    "accelerator": "GPU",
    "colab": {
      "name": "FinalProject.ipynb",
      "provenance": [],
      "collapsed_sections": [
        "7gL7IovmhCXA",
        "RyEY2R0B6cgN",
        "KwKKtG0t6hUU",
        "E0kj8_T46sdc",
        "JnlPM4rdJPXW",
        "BdwNiR5zDT6o"
      ]
    },
    "kernelspec": {
      "display_name": "Python 3",
      "name": "python3"
    }
  },
  "cells": [
    {
      "cell_type": "markdown",
      "metadata": {
        "id": "FEJUgLaOgcuc"
      },
      "source": [
        "### Setup"
      ]
    },
    {
      "cell_type": "code",
      "metadata": {
        "id": "oi7qJujXOb44"
      },
      "source": [
        "# the capture thing just supresses output from the pip installs\n",
        "%%capture \n",
        "%pip install pytorch_lightning\n",
        "%pip install numpy"
      ],
      "execution_count": 1,
      "outputs": []
    },
    {
      "cell_type": "code",
      "metadata": {
        "id": "tqPMrrKxtjHV"
      },
      "source": [
        "import torch             \n",
        "import torchvision\n",
        "import torchvision.datasets as datasets\n",
        "import torch.nn.functional as F\n",
        "import numpy as np\n",
        "import pytorch_lightning as pl\n",
        "import pytorch_lightning.loggers as pl_loggers\n",
        "from time import process_time \n",
        "import datetime\n",
        "import pandas as pd\n",
        "from pytorch_lightning import seed_everything\n",
        "import matplotlib as mpl\n",
        "import matplotlib.pyplot as plt"
      ],
      "execution_count": 55,
      "outputs": []
    },
    {
      "cell_type": "code",
      "metadata": {
        "id": "wqyTyceWvkdY"
      },
      "source": [
        "#Function for setting seeds, should be called before each experiment\n",
        "def set_seeds():\n",
        "  torch.manual_seed(0)\n",
        "  np.random.seed(0)\n",
        "  torch.set_deterministic(True)\n",
        "  seed_everything(42)"
      ],
      "execution_count": 3,
      "outputs": []
    },
    {
      "cell_type": "code",
      "metadata": {
        "id": "3lzXxkfVEV9P"
      },
      "source": [
        "# functions for plotting stuff\n",
        "\n",
        "#returns moving average of python list data series\n",
        "def moving_average(a):\n",
        "  leng = len(a)\n",
        "  m_a = []\n",
        "  sum = 0\n",
        "  for i in range(leng):\n",
        "    sum += a[i]\n",
        "    val = float(sum) / (i + 1)\n",
        "    m_a.append(val)\n",
        "  return m_a\n",
        "\n",
        "#returns exponential moving average of python list data series\n",
        "def ema(a):\n",
        "  leng = len(a)\n",
        "  ema = []\n",
        "  ema.append(a[0])\n",
        "  smoothing = float(2)\n",
        "  for i in range(1, leng):\n",
        "    v1 = a[i] * (smoothing / (i + 2))\n",
        "    v2 = ema[i - 1] * (1  - (smoothing / (i + 2)))\n",
        "    ema.append(v1 + v2)\n",
        "  return ema\n",
        "\n",
        "def plot_data(training, validation, metric, average_method = 'ema', save = [False,''],show = True):\n",
        "  if average_method == 'ema':\n",
        "    plt.plot(ema(training), 'r', label = \"Training \"+metric)\n",
        "    plt.plot(ema(validation), 'b', label = \"Validation \"+metric)\n",
        "  elif average_method == 'moving':\n",
        "    plt.plot(moving_average(training), 'r', label = \"Training \"+metric)\n",
        "    plt.plot(moving_average(validation), 'b', label = \"Validation \"+metric)\n",
        "  plt.title(f\"Training and Validation {metric} Over Steps ({save[1]})\")\n",
        "  plt.ylabel(metric)\n",
        "  plt.xlabel('Steps')\n",
        "  plt.legend()\n",
        "  if save[0] == True:\n",
        "    plt.savefig(\"/content/drive/MyDrive/Deep Learning Final Project/Graphs/\"+str(save[1])+\".png\")\n",
        "    plt.clf()\n",
        "  if show == True:\n",
        "    plt.show()\n"
      ],
      "execution_count": 4,
      "outputs": []
    },
    {
      "cell_type": "markdown",
      "metadata": {
        "id": "7gL7IovmhCXA"
      },
      "source": [
        "### Connecting to Drive"
      ]
    },
    {
      "cell_type": "code",
      "metadata": {
        "colab": {
          "base_uri": "https://localhost:8080/"
        },
        "id": "-pwy7Qpfm0vT",
        "outputId": "a2ef0845-3748-4b21-a490-2bce797feb00"
      },
      "source": [
        "from google.colab import drive\n",
        "drive.mount('/content/drive')"
      ],
      "execution_count": 5,
      "outputs": [
        {
          "output_type": "stream",
          "text": [
            "Mounted at /content/drive\n"
          ],
          "name": "stdout"
        }
      ]
    },
    {
      "cell_type": "markdown",
      "metadata": {
        "id": "RyEY2R0B6cgN"
      },
      "source": [
        "### Our Trivial Dataset"
      ]
    },
    {
      "cell_type": "code",
      "metadata": {
        "id": "j5FJTaY-KeGU"
      },
      "source": [
        "#We get 100% accuracy on this\n",
        "#Trivial dataset\n",
        "class Trivial(torch.utils.data.Dataset):\n",
        "  def __init__(self, train):\n",
        "    data_arr = []\n",
        "  \n",
        "    #Order of Data\n",
        "    #['Home Scoring', 'Home Pass Yds', 'Home Rush Yds', 'Home Fumbles', 'Home Ints', 'Away Scoring', 'Away Pass Yds', 'Away Rush Yds', 'Away Fumbles', 'Away Ints', 'Home Field Adv']\n",
        "\n",
        "    #Should Predict wins here\n",
        "    line1 = [100, 100, 100, 0, 0, 0, 0, 0, 10, 20, 0.5]\n",
        "    line2 = [x*2 for x in line1[:-1]]\n",
        "    line2.append(0.5)\n",
        "    line3 = [x*3 for x in line1[:-1]]\n",
        "    line3.append(0.5)\n",
        "\n",
        "    #Should predict losses here\n",
        "    line4 = [0, 0, 0, 10, 10, 100, 100, 100, 0, 0, 0.5]\n",
        "    line5 = [x*2 for x in line4[:-1]]\n",
        "    line5.append(0.5)\n",
        "    line6 = [x*3 for x in line4[:-1]]\n",
        "    line6.append(0.5)\n",
        "\n",
        "    #Win or Loss outcomes for the home team\n",
        "    targets = [1,1,1,0,0,0]\n",
        "\n",
        "    if train:\n",
        "      targets = [1,1,0,0]\n",
        "      data_arr.append(line1)\n",
        "      data_arr.append(line2)\n",
        "      data_arr.append(line4)\n",
        "      data_arr.append(line5)\n",
        "      print(data_arr)\n",
        "      \n",
        "      self.ex = torch.tensor(data_arr).to(dtype=torch.float32)\n",
        "      #Might need to make labels ints\n",
        "      self.labels = torch.FloatTensor(targets)\n",
        "      \n",
        "      self.leng = 4\n",
        "\n",
        "    else:\n",
        "      targets = [1,0]\n",
        "      data_arr.append(line3)\n",
        "      data_arr.append(line6)\n",
        "      self.ex = torch.tensor(data_arr).to(dtype=torch.float32)\n",
        "      #Might need to make labels ints\n",
        "      self.labels = torch.tensor(targets).to(dtype=torch.float32)\n",
        "      self.leng = 2\n",
        "\n",
        "  def __len__(self):\n",
        "      return self.leng\n",
        "\n",
        "  def __getitem__(self, idx):\n",
        "      return self.ex[idx], self.labels[idx]"
      ],
      "execution_count": 6,
      "outputs": []
    },
    {
      "cell_type": "markdown",
      "metadata": {
        "id": "KwKKtG0t6hUU"
      },
      "source": [
        "### Our Model And Acutal Dataset/Loader"
      ]
    },
    {
      "cell_type": "code",
      "metadata": {
        "id": "QeLj3GqfuFjt"
      },
      "source": [
        "class nflStatsModule(pl.LightningModule):\n",
        "  # Define the model architecture\n",
        "  def __init__(self, batch_size = 1, twitter = False):\n",
        "    super(nflStatsModule, self).__init__()\n",
        "    # if using twitter the input array has 4 extra params\n",
        "    if twitter:\n",
        "      self.layer_1 = torch.nn.Linear(15, 4)\n",
        "    else:\n",
        "      self.layer_1 = torch.nn.Linear(11, 4)\n",
        "\n",
        "    # the other layers are the same for both nets\n",
        "    self.layer_2 = torch.nn.Linear(4, 6)\n",
        "    self.layer_3 = torch.nn.Linear(6, 2)\n",
        "\n",
        "    #Set variables that measure performance\n",
        "    self.correct_predictions = []\n",
        "    self.validation_loss = []\n",
        "    self.training_loss = []\n",
        "    self.validation_accuracy = []\n",
        "    self.training_accuracy = []\n",
        "    self.batch_size = batch_size\n",
        "\n",
        "\n",
        "  def forward(self, x):\n",
        "      x = torch.tanh(self.layer_1(x))\n",
        "      x = torch.tanh(self.layer_2(x))\n",
        "      x = F.softmax(self.layer_3(x))\n",
        "      return x\n",
        "\n",
        "  #We will stick with this optimizer\n",
        "  def configure_optimizers(self):\n",
        "    optimizer = torch.optim.Adam(self.parameters(), lr=1e-3)\n",
        "    return optimizer\n",
        "\n",
        "  #Use this loss, so predictions are 0s and 1s\n",
        "  def my_loss(self, y_hat, y):\n",
        "    # print('output is')\n",
        "    # print(y_hat)\n",
        "    # print(y_hat[0])\n",
        "    # print('label is')\n",
        "    # print(y)\n",
        "    # if int(y.item()) == 1:\n",
        "    #   target_tensor = torch.tensor([0,1]).to(dtype=torch.float32)\n",
        "    # else:\n",
        "    #   target_tensor = torch.tensor([1,0]).to(dtype=torch.float32)\n",
        "\n",
        "    return torch.nn.functional.binary_cross_entropy(y_hat, y)\n",
        "\n",
        "  def training_step(self, train_batch, batch_idx):\n",
        "    x, y = train_batch  # Here x = data, y = labels\n",
        "    output = self.forward(x)\n",
        "    loss = self.my_loss(output, y)\n",
        "    self.training_loss.append(loss)\n",
        "    \n",
        "    # # Calculate the accuracy of the model on the batch of data\n",
        "    y_hat =  output.argmax(dim=1)\n",
        "    y = y.argmax(dim=1)\n",
        "    \n",
        "    \n",
        "    accuracy = y_hat.eq(y).sum().item()/len(y)\n",
        "    self.training_accuracy.append(accuracy)\n",
        "\n",
        "    # # these two lines write the accurcay and loss to TensorBoard\n",
        "    # self.logger.experiment.add_scalar(\"Accuracy/Train\", accuracy)\n",
        "    # self.logger.experiment.add_scalar(\"Loss/Train\", loss)\n",
        "\n",
        "    return {\"loss\": loss} \n",
        "\n",
        "  def validation_step(self, val_batch, batch_idx):\n",
        "    x, y = val_batch\n",
        "    output = self.forward(x)\n",
        "    loss = self.my_loss(output, y)\n",
        "    self.logger.experiment.add_scalar(\"Loss/Val\", loss)\n",
        "    self.validation_loss.append(loss)\n",
        "\n",
        "    y_hat =  output.argmax(dim=1)\n",
        "    y = y.argmax(dim=1)\n",
        "\n",
        "    accuracy = y_hat.eq(y).sum().item()/len(y)\n",
        "    self.validation_accuracy.append(accuracy)\n",
        "    return {\"loss\":loss}\n",
        "\n",
        "  def test_step(self, test_batch, batch_idx):\n",
        "    x, y = test_batch\n",
        "    output = self.forward(x)\n",
        "    \n",
        "    pred = torch.argmax(output[0])\n",
        "    if pred == torch.argmax(y[0]):\n",
        "      self.correct_predictions.append(1)\n",
        "    else:\n",
        "      self.correct_predictions.append(0)\n",
        "    loss = self.my_loss(output, y)\n",
        "    return {\"loss\":loss}"
      ],
      "execution_count": 7,
      "outputs": []
    },
    {
      "cell_type": "code",
      "metadata": {
        "id": "YGJJGdSRyOaK"
      },
      "source": [
        "class nflStatsDataModule(pl.LightningDataModule):\n",
        "\n",
        "    def __init__(self,train_batch = 1, val_batch = 1, data_dir = ''):\n",
        "        super().__init__()\n",
        "        self.train_batch = train_batch\n",
        "        self.val_batch = val_batch\n",
        "        self.dataset = nflStatsDataset(data_dir)\n",
        "        \n",
        "    \n",
        "    #Split the data up\n",
        "    def setup(self, stage=None):\n",
        "        #224 total examples\n",
        "        #80/20 split #no idea what they did in paper, ill check that later\n",
        "        self.train, self.val, self.test = torch.utils.data.random_split(self.dataset, [145*3, 35*3 - 1, 44*3]) #[415, 128, 128])\n",
        "        \n",
        "\n",
        "    # Dataloaders are the things that handle creating batches of data and handing them\n",
        "    # to the model. You determine whether to randomize data order and the size of the batch\n",
        "    # when you declare the data loader\n",
        "    def train_dataloader(self):\n",
        "        return torch.utils.data.DataLoader(self.train, batch_size=self.train_batch, shuffle=True)\n",
        "\n",
        "    def val_dataloader(self):\n",
        "        return torch.utils.data.DataLoader(self.val, batch_size=self.val_batch, shuffle=False)\n",
        "\n",
        "    def test_dataloader(self):\n",
        "        return torch.utils.data.DataLoader(self.test, batch_size=1)"
      ],
      "execution_count": 8,
      "outputs": []
    },
    {
      "cell_type": "code",
      "metadata": {
        "id": "8CtOEdMeNtIK"
      },
      "source": [
        "# HERE'S THE DATASET TO HELP YOU TEST/TRAIN IT\n",
        "class nflStatsDataset(torch.utils.data.Dataset):\n",
        "\n",
        "    def __init__(self, data_dir):\n",
        "        self.df = pd.read_csv(data_dir)\n",
        "        self.length = len(self.df)\n",
        "\n",
        "        \n",
        "        #We need this, conversion from pandas to csv creates an extra column\n",
        "        try:\n",
        "          self.df = self.df.drop(columns=['Unnamed: 0'])\n",
        "        except:\n",
        "          pass\n",
        "        \n",
        "        #Predetermined Length; 256 Total Games (32*16 / 2); subtract two weeks 256 - 16*2 = 224 \n",
        "        #1D target Array\n",
        "        target_vals = self.df['Target'].values\n",
        "        new_vals = []\n",
        "        for targ in target_vals:\n",
        "          if int(targ) == 1:\n",
        "            new_targ = [0.0,1.0]\n",
        "          else:\n",
        "            new_targ = [1.0,0.0]\n",
        "          new_vals.append(new_targ)\n",
        "\n",
        "        self.label = torch.tensor(new_vals)\n",
        "\n",
        "        data_df = self.df.drop(columns = ['Target'])\n",
        "        self.data = torch.tensor(data_df.values).to(dtype=torch.float32)\n",
        "       \n",
        "    def __len__(self):\n",
        "        return self.length\n",
        "\n",
        "    def __getitem__(self, idx):\n",
        "        return self.data[idx], self.label[idx]"
      ],
      "execution_count": 9,
      "outputs": []
    },
    {
      "cell_type": "markdown",
      "metadata": {
        "id": "E0kj8_T46sdc"
      },
      "source": [
        "## Experiments"
      ]
    },
    {
      "cell_type": "markdown",
      "metadata": {
        "id": "JnlPM4rdJPXW"
      },
      "source": [
        "### Single Run Tests"
      ]
    },
    {
      "cell_type": "code",
      "metadata": {
        "colab": {
          "base_uri": "https://localhost:8080/",
          "height": 1000
        },
        "id": "WDNJhSJeJTWS",
        "outputId": "8a61ef49-31c6-4fed-cbd1-33a5928c7e82"
      },
      "source": [
        "\n",
        "set_seeds()\n",
        "model = nflStatsModule(256, twitter = False)\n",
        "\n",
        "trainer = pl.Trainer(gpus = 1, deterministic=True, progress_bar_refresh_rate=0,max_steps=10000, max_epochs=8000) #,limit_val_batches=0.125) #Limit val batches\n",
        "\n",
        "data_path = \"/content/drive/MyDrive/Deep Learning Final Project/Data/all_years.csv\"\n",
        "data_module = nflStatsDataModule(model.batch_size, data_path)\n",
        "\n",
        "trainer.fit(model, data_module)\n",
        "\n",
        "#This will come later, this is how we will trach, final accuracy and how well our net performs\n",
        "trainer.test(model, datamodule=data_module)\n",
        "\n",
        "print(model.correct_predictions)\n",
        "if len(model.correct_predictions) > 45*3:\n",
        "  print('DATA CORRUPTED RERUN CELL 2')\n",
        "else:\n",
        "  accuracy = 100 * float(sum(model.correct_predictions)) / len(model.correct_predictions)\n",
        "  print(accuracy)\n",
        "print(model.validation_accuracy[-1])\n",
        "\n",
        "#Plot Data\n",
        "plot_data(model.training_loss,model.validation_loss, 'Loss',save = [False, \"twitter_loss_20ksteps_\"+ str(i)+\"batch\"],show= True)\n",
        "plot_data(model.training_accuracy,model.validation_accuracy, 'Accuracy',save = [False,\"twitter_acc_20ksteps_\"+ str(i)+\"batch\"],show = True)\n",
        "\n",
        "\n"
      ],
      "execution_count": null,
      "outputs": [
        {
          "output_type": "stream",
          "text": [
            "/usr/local/lib/python3.6/dist-packages/pytorch_lightning/utilities/distributed.py:49: UserWarning: You have set progress_bar_refresh_rate < 20 on Google Colab. This may crash. Consider using progress_bar_refresh_rate >= 20 in Trainer.\n",
            "  warnings.warn(*args, **kwargs)\n",
            "GPU available: True, used: True\n",
            "TPU available: None, using: 0 TPU cores\n",
            "LOCAL_RANK: 0 - CUDA_VISIBLE_DEVICES: [0]\n",
            "\n",
            "  | Name    | Type   | Params\n",
            "-----------------------------------\n",
            "0 | layer_1 | Linear | 48    \n",
            "1 | layer_2 | Linear | 30    \n",
            "2 | layer_3 | Linear | 14    \n",
            "-----------------------------------\n",
            "92        Trainable params\n",
            "0         Non-trainable params\n",
            "92        Total params\n",
            "/usr/local/lib/python3.6/dist-packages/ipykernel_launcher.py:26: UserWarning: Implicit dimension choice for softmax has been deprecated. Change the call to include dim=X as an argument.\n"
          ],
          "name": "stderr"
        },
        {
          "output_type": "stream",
          "text": [
            "--------------------------------------------------------------------------------\n",
            "DATALOADER:0 TEST RESULTS\n",
            "{'loss': tensor(0.2397, device='cuda:0')}\n",
            "--------------------------------------------------------------------------------\n",
            "[0, 0, 1, 1, 1, 1, 1, 0, 1, 0, 0, 1, 1, 1, 0, 0, 1, 1, 0, 1, 0, 0, 0, 1, 1, 1, 1, 0, 1, 1, 1, 1, 1, 0, 1, 0, 1, 0, 0, 0, 1, 1, 1, 0, 1, 1, 0, 1, 0, 0, 1, 1, 1, 0, 1, 1, 1, 1, 1, 1, 1, 0, 1, 0, 0, 0, 1, 1, 1, 0, 1, 1, 0, 0, 1, 1, 1, 1, 1, 1, 1, 0, 1, 1, 1, 0, 1, 1, 0, 0, 0, 1, 1, 1, 1, 1, 0, 1, 0, 1, 1, 1, 1, 1, 1, 0, 0, 1, 1, 1, 1, 1, 0, 0, 0, 1, 1, 0, 1, 1, 0, 0, 0, 1, 1, 0, 1, 1]\n",
            "64.0625\n",
            "0.6953125\n"
          ],
          "name": "stdout"
        },
        {
          "output_type": "display_data",
          "data": {
            "image/png": "[encoded data removed]",
            "text/plain": [
              "<Figure size 432x288 with 1 Axes>"
            ]
          },
          "metadata": {
            "tags": [],
            "needs_background": "light"
          }
        },
        {
          "output_type": "display_data",
          "data": {
            "image/png": "[encoded data removed]",
            "text/plain": [
              "<Figure size 432x288 with 1 Axes>"
            ]
          },
          "metadata": {
            "tags": [],
            "needs_background": "light"
          }
        },
        {
          "output_type": "stream",
          "text": [
            "CPU times: user 1min 2s, sys: 1.46 s, total: 1min 3s\n",
            "Wall time: 1min 3s\n"
          ],
          "name": "stdout"
        }
      ]
    },
    {
      "cell_type": "code",
      "metadata": {
        "id": "pBsx0CeG8NGK",
        "colab": {
          "base_uri": "https://localhost:8080/",
          "height": 984
        },
        "outputId": "dfa2a485-f7ec-44d3-c5d5-317d222df842"
      },
      "source": [
        "set_seeds()\n",
        "for i in [16]:\n",
        "  model = nflStatsModule(batch_size = i,twitter = True)\n",
        "\n",
        "  trainer = pl.Trainer(gpus = 1, max_steps=15000, deterministic=True, progress_bar_refresh_rate=0,max_epochs=15000) #,limit_val_batches=0.125) #Limit val batches\n",
        "\n",
        "  data_path = \"/content/drive/MyDrive/Deep Learning Final Project/Data/all_years_twitter.csv\"\n",
        "  data_module = nflStatsDataModule(model.batch_size,data_path)\n",
        "\n",
        "  trainer.fit(model, data_module)\n",
        "\n",
        "  #This will come later, this is how we will track, final accuracy and how well our net performs\n",
        "  trainer.test(model, datamodule=data_module)\n",
        "\n",
        "  print(model.correct_predictions)\n",
        "  if len(model.correct_predictions) > 45*3:\n",
        "    print('DATA CORRUPTED RERUN CELL 2')\n",
        "  else:\n",
        "    accuracy = 100 * float(sum(model.correct_predictions)) / len(model.correct_predictions)\n",
        "    print(accuracy)\n",
        "  print(model.validation_accuracy[-1])\n",
        "\n",
        "  #Plot Data\n",
        "  plot_data(model.training_loss,model.validation_loss, 'Loss', save= [False,\"twitter_loss_20ksteps_\"+ str(i)+\"batch\"], show = True)\n",
        "  plot_data(model.training_accuracy,model.validation_accuracy, 'Accuracy',save= [False,\"twitter_acc_20ksteps_\"+ str(i)+\"batch\"], show = True)"
      ],
      "execution_count": null,
      "outputs": [
        {
          "output_type": "stream",
          "text": [
            "/usr/local/lib/python3.6/dist-packages/pytorch_lightning/utilities/distributed.py:49: UserWarning: You have set progress_bar_refresh_rate < 20 on Google Colab. This may crash. Consider using progress_bar_refresh_rate >= 20 in Trainer.\n",
            "  warnings.warn(*args, **kwargs)\n",
            "GPU available: True, used: True\n",
            "TPU available: None, using: 0 TPU cores\n",
            "LOCAL_RANK: 0 - CUDA_VISIBLE_DEVICES: [0]\n",
            "\n",
            "  | Name    | Type   | Params\n",
            "-----------------------------------\n",
            "0 | layer_1 | Linear | 64    \n",
            "1 | layer_2 | Linear | 30    \n",
            "2 | layer_3 | Linear | 14    \n",
            "-----------------------------------\n",
            "108       Trainable params\n",
            "0         Non-trainable params\n",
            "108       Total params\n",
            "/usr/local/lib/python3.6/dist-packages/ipykernel_launcher.py:26: UserWarning: Implicit dimension choice for softmax has been deprecated. Change the call to include dim=X as an argument.\n"
          ],
          "name": "stderr"
        },
        {
          "output_type": "stream",
          "text": [
            "--------------------------------------------------------------------------------\n",
            "DATALOADER:0 TEST RESULTS\n",
            "{'loss': tensor(0.6564, device='cuda:0')}\n",
            "--------------------------------------------------------------------------------\n",
            "[1, 0, 1, 0, 0, 0, 1, 1, 1, 1, 0, 1, 0, 0, 1, 0, 0, 1, 1, 0, 1, 0, 0, 0, 1, 1, 0, 1, 1, 0, 0, 1, 1, 1, 1, 1, 1, 1, 1, 0, 0, 1, 1, 0, 1, 0, 1, 1, 1, 1, 0, 0, 0, 1, 1, 1, 0, 1, 1, 1, 0, 0, 1, 1, 0, 1, 1, 1, 1, 0, 0, 1, 1, 0, 0, 1, 0, 1, 0, 0, 0, 0, 1, 0, 0, 1, 1, 0, 1, 0, 1, 1, 1, 1, 0, 1, 0, 0, 1, 0, 0, 1, 0, 1, 0, 1, 0, 0, 1, 0, 0, 0, 1, 1, 1, 1, 1, 1, 1, 0, 1, 1, 1, 1, 1, 1, 1, 1]\n",
            "58.59375\n",
            "0.75\n"
          ],
          "name": "stdout"
        },
        {
          "output_type": "display_data",
          "data": {
            "image/png": "[encoded data removed]",
            "text/plain": [
              "<Figure size 432x288 with 1 Axes>"
            ]
          },
          "metadata": {
            "tags": [],
            "needs_background": "light"
          }
        },
        {
          "output_type": "display_data",
          "data": {
            "image/png": "[encoded data removed]",
            "text/plain": [
              "<Figure size 432x288 with 1 Axes>"
            ]
          },
          "metadata": {
            "tags": [],
            "needs_background": "light"
          }
        }
      ]
    },
    {
      "cell_type": "code",
      "metadata": {
        "colab": {
          "base_uri": "https://localhost:8080/"
        },
        "id": "lBesalm7nsza",
        "outputId": "4cda74a6-ca2b-4ea0-c7e2-a79ed3286d51"
      },
      "source": [
        "print(model.validation_accuracy[-10:])"
      ],
      "execution_count": null,
      "outputs": [
        {
          "output_type": "stream",
          "text": [
            "[0.375, 0.75, 0.6875, 0.5, 0.625, 0.5625, 0.5, 0.4375, 0.375, 0.75]\n"
          ],
          "name": "stdout"
        }
      ]
    },
    {
      "cell_type": "markdown",
      "metadata": {
        "id": "BdwNiR5zDT6o"
      },
      "source": [
        "### Multi Run Test (loops)"
      ]
    },
    {
      "cell_type": "code",
      "metadata": {
        "id": "6zwmB47U5ZT_"
      },
      "source": [
        "set_seeds()\n",
        "\n",
        "steps = [1000 + x*1000 for x in range(1,11)]\n",
        "batches = [1,2,4,8,16,32,64,128,256,512]\n",
        "\n",
        "acc = np.zeros([len(steps),len(batches)])\n",
        "for b in range(len(batches)):\n",
        "  for s in range(len(steps)):\n",
        "    model = nflStatsModule(batches[b])\n",
        "\n",
        "    trainer = pl.Trainer(gpus = 1, deterministic=True, progress_bar_refresh_rate=0,max_steps=steps[s],max_epochs = 2000) #,limit_val_batches=0.125) #Limit val batches\n",
        "\n",
        "    data_path = ['/content/drive/MyDrive/Deep Learning Final Project/Data/2010_examples.csv','/content/drive/MyDrive/Deep Learning Final Project/Data/2011_examples.csv','/content/drive/MyDrive/Deep Learning Final Project/Data/2012_examples.csv']\n",
        "    data_module = nflStatsDataModule(model.batch_size, data_path, array = True)\n",
        "\n",
        "    trainer.fit(model, data_module)\n",
        "\n",
        "    #This will come later, this is how we will trach, final accuracy and how well our net performs\n",
        "    trainer.test(model, datamodule=data_module)\n",
        "    accuracy = 100 * float(sum(model.correct_predictions)) / len(model.correct_predictions)\n",
        "    acc[s][b] = accuracy"
      ],
      "execution_count": null,
      "outputs": []
    },
    {
      "cell_type": "code",
      "metadata": {
        "colab": {
          "base_uri": "https://localhost:8080/"
        },
        "id": "68mTibhN8pDr",
        "outputId": "7dffd433-49bd-4264-d383-7c35422a9999"
      },
      "source": [
        "acc"
      ],
      "execution_count": null,
      "outputs": [
        {
          "output_type": "execute_result",
          "data": {
            "text/plain": [
              "array([[55.55555556, 54.81481481, 52.59259259, 54.81481481, 54.81481481,\n",
              "        49.62962963, 62.22222222, 58.51851852, 61.48148148, 60.        ],\n",
              "       [60.74074074, 54.07407407, 52.59259259, 57.03703704, 61.48148148,\n",
              "        58.51851852, 59.25925926, 52.59259259, 68.88888889, 52.59259259],\n",
              "       [54.81481481, 54.07407407, 57.77777778, 60.74074074, 58.51851852,\n",
              "        60.        , 57.03703704, 51.11111111, 57.77777778, 62.22222222],\n",
              "       [52.59259259, 56.2962963 , 46.66666667, 52.59259259, 54.07407407,\n",
              "        57.77777778, 58.51851852, 51.11111111, 56.2962963 , 60.        ],\n",
              "       [54.07407407, 52.59259259, 58.51851852, 57.03703704, 49.62962963,\n",
              "        58.51851852, 47.40740741, 54.81481481, 54.07407407, 57.03703704],\n",
              "       [59.25925926, 58.51851852, 62.22222222, 57.03703704, 54.07407407,\n",
              "        58.51851852, 54.81481481, 56.2962963 , 65.92592593, 60.74074074],\n",
              "       [55.55555556, 54.81481481, 56.2962963 , 51.11111111, 56.2962963 ,\n",
              "        57.03703704, 54.07407407, 53.33333333, 55.55555556, 59.25925926],\n",
              "       [58.51851852, 53.33333333, 53.33333333, 57.77777778, 53.33333333,\n",
              "        51.11111111, 55.55555556, 67.40740741, 52.59259259, 53.33333333],\n",
              "       [52.59259259, 59.25925926, 53.33333333, 61.48148148, 56.2962963 ,\n",
              "        57.77777778, 62.96296296, 60.74074074, 54.07407407, 56.2962963 ],\n",
              "       [52.59259259, 54.81481481, 60.74074074, 51.85185185, 62.22222222,\n",
              "        57.77777778, 57.77777778, 57.77777778, 57.03703704, 57.03703704]])"
            ]
          },
          "metadata": {
            "tags": []
          },
          "execution_count": 17
        }
      ]
    },
    {
      "cell_type": "code",
      "metadata": {
        "colab": {
          "base_uri": "https://localhost:8080/",
          "height": 232
        },
        "id": "9mgT90z5L4Q9",
        "outputId": "c4bc0a9e-c266-4c0f-c9ff-06eee93534cc"
      },
      "source": [
        "acc_t = [[55.55555556, 57.03703704, 59.25925926, 59.25925926, 57.03703704,\n",
        "        46.66666667, 60.        , 54.81481481, 62.22222222, 54.07407407],\n",
        "       [52.59259259, 58.51851852, 63.7037037 , 53.33333333, 57.03703704,\n",
        "        51.11111111, 54.07407407, 63.7037037 , 51.85185185, 58.51851852],\n",
        "       [54.07407407, 60.        , 52.59259259, 57.03703704, 54.07407407,\n",
        "        55.55555556, 60.        , 59.25925926, 57.03703704, 61.48148148],\n",
        "       [50.37037037, 57.03703704, 57.77777778, 51.11111111, 60.74074074,\n",
        "        63.7037037 , 56.2962963 , 51.11111111, 68.14814815, 51.85185185],\n",
        "       [54.07407407, 54.07407407, 49.62962963, 55.55555556, 46.66666667,\n",
        "        45.18518519, 50.37037037, 54.07407407, 60.74074074, 62.96296296],\n",
        "       [57.77777778, 54.07407407, 51.85185185, 59.25925926, 53.33333333,\n",
        "        57.77777778, 65.92592593, 54.07407407, 56.2962963 , 43.7037037 ],\n",
        "       [52.59259259, 54.07407407, 56.2962963 , 48.88888889, 60.        ,\n",
        "        54.81481481, 57.03703704, 56.2962963 , 57.77777778, 64.44444444],\n",
        "       [59.25925926, 55.55555556, 55.55555556, 68.88888889, 54.81481481,\n",
        "        60.        , 54.07407407, 57.03703704, 54.81481481, 63.7037037 ],\n",
        "       [53.33333333, 52.59259259, 58.51851852, 54.81481481, 53.33333333,\n",
        "        61.48148148, 54.07407407, 65.18518519, 56.2962963 , 60.        ],\n",
        "       [55.55555556, 58.51851852, 53.33333333, 48.88888889, 60.        ,\n",
        "        62.96296296, 51.85185185, 61.48148148, 57.77777778, 57.77777778]]\n",
        "\n",
        "        "
      ],
      "execution_count": null,
      "outputs": [
        {
          "output_type": "error",
          "ename": "NameError",
          "evalue": "ignored",
          "traceback": [
            "\u001b[0;31m---------------------------------------------------------------------------\u001b[0m",
            "\u001b[0;31mNameError\u001b[0m                                 Traceback (most recent call last)",
            "\u001b[0;32m<ipython-input-9-df2fa91850fb>\u001b[0m in \u001b[0;36m<module>\u001b[0;34m()\u001b[0m\n\u001b[0;32m----> 1\u001b[0;31m acc_t = array([[55.55555556, 57.03703704, 59.25925926, 59.25925926, 57.03703704,\n\u001b[0m\u001b[1;32m      2\u001b[0m         46.66666667, 60.        , 54.81481481, 62.22222222, 54.07407407],\n\u001b[1;32m      3\u001b[0m        [52.59259259, 58.51851852, 63.7037037 , 53.33333333, 57.03703704,\n\u001b[1;32m      4\u001b[0m         51.11111111, 54.07407407, 63.7037037 , 51.85185185, 58.51851852],\n\u001b[1;32m      5\u001b[0m        [54.07407407, 60.        , 52.59259259, 57.03703704, 54.07407407,\n",
            "\u001b[0;31mNameError\u001b[0m: name 'array' is not defined"
          ]
        }
      ]
    },
    {
      "cell_type": "code",
      "metadata": {
        "colab": {
          "base_uri": "https://localhost:8080/"
        },
        "id": "S0BNZUgU8plT",
        "outputId": "92439bb1-37ba-4f2b-a559-89cdf17cdc9f"
      },
      "source": [
        "set_seeds()\n",
        "\n",
        "steps = [1000 + x*1000 for x in range(1,11)]\n",
        "batches = [1,2,4,8,16,32,64,128,256,512]\n",
        "\n",
        "acc_t = np.zeros([len(steps),len(batches)])\n",
        "for b in range(len(batches)):\n",
        "  for s in range(len(steps)):\n",
        "    model = nflStatsModule(batches[b],twitter = True)\n",
        "\n",
        "    trainer = pl.Trainer(gpus = 1, deterministic=True, progress_bar_refresh_rate=0,max_steps=steps[s],max_epochs = 2000) #,limit_val_batches=0.125) #Limit val batches\n",
        "\n",
        "    data_path = '/content/drive/MyDrive/Deep Learning Final Project/Data/all_years_twitter.csv'\n",
        "    data_module = nflStatsDataModule(model.batch_size, data_path)\n",
        "\n",
        "    trainer.fit(model, data_module)\n",
        "\n",
        "    #This will come later, this is how we will trach, final accuracy and how well our net performs\n",
        "    trainer.test(model, datamodule=data_module)\n",
        "    accuracy = 100 * float(sum(model.correct_predictions)) / len(model.correct_predictions)\n",
        "    acc_t[s][b] = accuracy"
      ],
      "execution_count": null,
      "outputs": [
        {
          "output_type": "stream",
          "text": [
            "/usr/local/lib/python3.6/dist-packages/pytorch_lightning/utilities/distributed.py:49: UserWarning: You have set progress_bar_refresh_rate < 20 on Google Colab. This may crash. Consider using progress_bar_refresh_rate >= 20 in Trainer.\n",
            "  warnings.warn(*args, **kwargs)\n",
            "GPU available: True, used: True\n",
            "TPU available: None, using: 0 TPU cores\n",
            "LOCAL_RANK: 0 - CUDA_VISIBLE_DEVICES: [0]\n",
            "\n",
            "  | Name    | Type   | Params\n",
            "-----------------------------------\n",
            "0 | layer_1 | Linear | 64    \n",
            "1 | layer_2 | Linear | 30    \n",
            "2 | layer_3 | Linear | 14    \n",
            "-----------------------------------\n",
            "108       Trainable params\n",
            "0         Non-trainable params\n",
            "108       Total params\n",
            "/usr/local/lib/python3.6/dist-packages/ipykernel_launcher.py:26: UserWarning: Implicit dimension choice for softmax has been deprecated. Change the call to include dim=X as an argument.\n",
            "GPU available: True, used: True\n",
            "TPU available: None, using: 0 TPU cores\n",
            "LOCAL_RANK: 0 - CUDA_VISIBLE_DEVICES: [0]\n",
            "\n",
            "  | Name    | Type   | Params\n",
            "-----------------------------------\n",
            "0 | layer_1 | Linear | 64    \n",
            "1 | layer_2 | Linear | 30    \n",
            "2 | layer_3 | Linear | 14    \n",
            "-----------------------------------\n",
            "108       Trainable params\n",
            "0         Non-trainable params\n",
            "108       Total params\n"
          ],
          "name": "stderr"
        },
        {
          "output_type": "stream",
          "text": [
            "--------------------------------------------------------------------------------\n",
            "DATALOADER:0 TEST RESULTS\n",
            "{'loss': tensor(0.7950, device='cuda:0')}\n",
            "--------------------------------------------------------------------------------\n"
          ],
          "name": "stdout"
        },
        {
          "output_type": "stream",
          "text": [
            "GPU available: True, used: True\n",
            "TPU available: None, using: 0 TPU cores\n",
            "LOCAL_RANK: 0 - CUDA_VISIBLE_DEVICES: [0]\n",
            "\n",
            "  | Name    | Type   | Params\n",
            "-----------------------------------\n",
            "0 | layer_1 | Linear | 64    \n",
            "1 | layer_2 | Linear | 30    \n",
            "2 | layer_3 | Linear | 14    \n",
            "-----------------------------------\n",
            "108       Trainable params\n",
            "0         Non-trainable params\n",
            "108       Total params\n"
          ],
          "name": "stderr"
        },
        {
          "output_type": "stream",
          "text": [
            "--------------------------------------------------------------------------------\n",
            "DATALOADER:0 TEST RESULTS\n",
            "{'loss': tensor(0.6136, device='cuda:0')}\n",
            "--------------------------------------------------------------------------------\n"
          ],
          "name": "stdout"
        },
        {
          "output_type": "stream",
          "text": [
            "GPU available: True, used: True\n",
            "TPU available: None, using: 0 TPU cores\n",
            "LOCAL_RANK: 0 - CUDA_VISIBLE_DEVICES: [0]\n",
            "\n",
            "  | Name    | Type   | Params\n",
            "-----------------------------------\n",
            "0 | layer_1 | Linear | 64    \n",
            "1 | layer_2 | Linear | 30    \n",
            "2 | layer_3 | Linear | 14    \n",
            "-----------------------------------\n",
            "108       Trainable params\n",
            "0         Non-trainable params\n",
            "108       Total params\n"
          ],
          "name": "stderr"
        },
        {
          "output_type": "stream",
          "text": [
            "--------------------------------------------------------------------------------\n",
            "DATALOADER:0 TEST RESULTS\n",
            "{'loss': tensor(0.8920, device='cuda:0')}\n",
            "--------------------------------------------------------------------------------\n"
          ],
          "name": "stdout"
        },
        {
          "output_type": "stream",
          "text": [
            "GPU available: True, used: True\n",
            "TPU available: None, using: 0 TPU cores\n",
            "LOCAL_RANK: 0 - CUDA_VISIBLE_DEVICES: [0]\n",
            "\n",
            "  | Name    | Type   | Params\n",
            "-----------------------------------\n",
            "0 | layer_1 | Linear | 64    \n",
            "1 | layer_2 | Linear | 30    \n",
            "2 | layer_3 | Linear | 14    \n",
            "-----------------------------------\n",
            "108       Trainable params\n",
            "0         Non-trainable params\n",
            "108       Total params\n"
          ],
          "name": "stderr"
        },
        {
          "output_type": "stream",
          "text": [
            "--------------------------------------------------------------------------------\n",
            "DATALOADER:0 TEST RESULTS\n",
            "{'loss': tensor(0.8609, device='cuda:0')}\n",
            "--------------------------------------------------------------------------------\n"
          ],
          "name": "stdout"
        },
        {
          "output_type": "stream",
          "text": [
            "GPU available: True, used: True\n",
            "TPU available: None, using: 0 TPU cores\n",
            "LOCAL_RANK: 0 - CUDA_VISIBLE_DEVICES: [0]\n",
            "\n",
            "  | Name    | Type   | Params\n",
            "-----------------------------------\n",
            "0 | layer_1 | Linear | 64    \n",
            "1 | layer_2 | Linear | 30    \n",
            "2 | layer_3 | Linear | 14    \n",
            "-----------------------------------\n",
            "108       Trainable params\n",
            "0         Non-trainable params\n",
            "108       Total params\n"
          ],
          "name": "stderr"
        },
        {
          "output_type": "stream",
          "text": [
            "--------------------------------------------------------------------------------\n",
            "DATALOADER:0 TEST RESULTS\n",
            "{'loss': tensor(0.6104, device='cuda:0')}\n",
            "--------------------------------------------------------------------------------\n"
          ],
          "name": "stdout"
        },
        {
          "output_type": "stream",
          "text": [
            "GPU available: True, used: True\n",
            "TPU available: None, using: 0 TPU cores\n",
            "LOCAL_RANK: 0 - CUDA_VISIBLE_DEVICES: [0]\n",
            "\n",
            "  | Name    | Type   | Params\n",
            "-----------------------------------\n",
            "0 | layer_1 | Linear | 64    \n",
            "1 | layer_2 | Linear | 30    \n",
            "2 | layer_3 | Linear | 14    \n",
            "-----------------------------------\n",
            "108       Trainable params\n",
            "0         Non-trainable params\n",
            "108       Total params\n"
          ],
          "name": "stderr"
        },
        {
          "output_type": "stream",
          "text": [
            "--------------------------------------------------------------------------------\n",
            "DATALOADER:0 TEST RESULTS\n",
            "{'loss': tensor(0.7243, device='cuda:0')}\n",
            "--------------------------------------------------------------------------------\n"
          ],
          "name": "stdout"
        },
        {
          "output_type": "stream",
          "text": [
            "GPU available: True, used: True\n",
            "TPU available: None, using: 0 TPU cores\n",
            "LOCAL_RANK: 0 - CUDA_VISIBLE_DEVICES: [0]\n",
            "\n",
            "  | Name    | Type   | Params\n",
            "-----------------------------------\n",
            "0 | layer_1 | Linear | 64    \n",
            "1 | layer_2 | Linear | 30    \n",
            "2 | layer_3 | Linear | 14    \n",
            "-----------------------------------\n",
            "108       Trainable params\n",
            "0         Non-trainable params\n",
            "108       Total params\n"
          ],
          "name": "stderr"
        },
        {
          "output_type": "stream",
          "text": [
            "--------------------------------------------------------------------------------\n",
            "DATALOADER:0 TEST RESULTS\n",
            "{'loss': tensor(0.7466, device='cuda:0')}\n",
            "--------------------------------------------------------------------------------\n"
          ],
          "name": "stdout"
        },
        {
          "output_type": "stream",
          "text": [
            "GPU available: True, used: True\n",
            "TPU available: None, using: 0 TPU cores\n",
            "LOCAL_RANK: 0 - CUDA_VISIBLE_DEVICES: [0]\n",
            "\n",
            "  | Name    | Type   | Params\n",
            "-----------------------------------\n",
            "0 | layer_1 | Linear | 64    \n",
            "1 | layer_2 | Linear | 30    \n",
            "2 | layer_3 | Linear | 14    \n",
            "-----------------------------------\n",
            "108       Trainable params\n",
            "0         Non-trainable params\n",
            "108       Total params\n"
          ],
          "name": "stderr"
        },
        {
          "output_type": "stream",
          "text": [
            "--------------------------------------------------------------------------------\n",
            "DATALOADER:0 TEST RESULTS\n",
            "{'loss': tensor(0.6657, device='cuda:0')}\n",
            "--------------------------------------------------------------------------------\n"
          ],
          "name": "stdout"
        },
        {
          "output_type": "stream",
          "text": [
            "GPU available: True, used: True\n",
            "TPU available: None, using: 0 TPU cores\n",
            "LOCAL_RANK: 0 - CUDA_VISIBLE_DEVICES: [0]\n",
            "\n",
            "  | Name    | Type   | Params\n",
            "-----------------------------------\n",
            "0 | layer_1 | Linear | 64    \n",
            "1 | layer_2 | Linear | 30    \n",
            "2 | layer_3 | Linear | 14    \n",
            "-----------------------------------\n",
            "108       Trainable params\n",
            "0         Non-trainable params\n",
            "108       Total params\n"
          ],
          "name": "stderr"
        },
        {
          "output_type": "stream",
          "text": [
            "--------------------------------------------------------------------------------\n",
            "DATALOADER:0 TEST RESULTS\n",
            "{'loss': tensor(0.5957, device='cuda:0')}\n",
            "--------------------------------------------------------------------------------\n"
          ],
          "name": "stdout"
        },
        {
          "output_type": "stream",
          "text": [
            "GPU available: True, used: True\n",
            "TPU available: None, using: 0 TPU cores\n",
            "LOCAL_RANK: 0 - CUDA_VISIBLE_DEVICES: [0]\n",
            "\n",
            "  | Name    | Type   | Params\n",
            "-----------------------------------\n",
            "0 | layer_1 | Linear | 64    \n",
            "1 | layer_2 | Linear | 30    \n",
            "2 | layer_3 | Linear | 14    \n",
            "-----------------------------------\n",
            "108       Trainable params\n",
            "0         Non-trainable params\n",
            "108       Total params\n"
          ],
          "name": "stderr"
        },
        {
          "output_type": "stream",
          "text": [
            "--------------------------------------------------------------------------------\n",
            "DATALOADER:0 TEST RESULTS\n",
            "{'loss': tensor(0.8310, device='cuda:0')}\n",
            "--------------------------------------------------------------------------------\n"
          ],
          "name": "stdout"
        },
        {
          "output_type": "stream",
          "text": [
            "GPU available: True, used: True\n",
            "TPU available: None, using: 0 TPU cores\n",
            "LOCAL_RANK: 0 - CUDA_VISIBLE_DEVICES: [0]\n",
            "\n",
            "  | Name    | Type   | Params\n",
            "-----------------------------------\n",
            "0 | layer_1 | Linear | 64    \n",
            "1 | layer_2 | Linear | 30    \n",
            "2 | layer_3 | Linear | 14    \n",
            "-----------------------------------\n",
            "108       Trainable params\n",
            "0         Non-trainable params\n",
            "108       Total params\n"
          ],
          "name": "stderr"
        },
        {
          "output_type": "stream",
          "text": [
            "--------------------------------------------------------------------------------\n",
            "DATALOADER:0 TEST RESULTS\n",
            "{'loss': tensor(0.8474, device='cuda:0')}\n",
            "--------------------------------------------------------------------------------\n"
          ],
          "name": "stdout"
        },
        {
          "output_type": "stream",
          "text": [
            "GPU available: True, used: True\n",
            "TPU available: None, using: 0 TPU cores\n",
            "LOCAL_RANK: 0 - CUDA_VISIBLE_DEVICES: [0]\n",
            "\n",
            "  | Name    | Type   | Params\n",
            "-----------------------------------\n",
            "0 | layer_1 | Linear | 64    \n",
            "1 | layer_2 | Linear | 30    \n",
            "2 | layer_3 | Linear | 14    \n",
            "-----------------------------------\n",
            "108       Trainable params\n",
            "0         Non-trainable params\n",
            "108       Total params\n"
          ],
          "name": "stderr"
        },
        {
          "output_type": "stream",
          "text": [
            "--------------------------------------------------------------------------------\n",
            "DATALOADER:0 TEST RESULTS\n",
            "{'loss': tensor(0.8272, device='cuda:0')}\n",
            "--------------------------------------------------------------------------------\n"
          ],
          "name": "stdout"
        },
        {
          "output_type": "stream",
          "text": [
            "GPU available: True, used: True\n",
            "TPU available: None, using: 0 TPU cores\n",
            "LOCAL_RANK: 0 - CUDA_VISIBLE_DEVICES: [0]\n",
            "\n",
            "  | Name    | Type   | Params\n",
            "-----------------------------------\n",
            "0 | layer_1 | Linear | 64    \n",
            "1 | layer_2 | Linear | 30    \n",
            "2 | layer_3 | Linear | 14    \n",
            "-----------------------------------\n",
            "108       Trainable params\n",
            "0         Non-trainable params\n",
            "108       Total params\n"
          ],
          "name": "stderr"
        },
        {
          "output_type": "stream",
          "text": [
            "--------------------------------------------------------------------------------\n",
            "DATALOADER:0 TEST RESULTS\n",
            "{'loss': tensor(0.8478, device='cuda:0')}\n",
            "--------------------------------------------------------------------------------\n"
          ],
          "name": "stdout"
        },
        {
          "output_type": "stream",
          "text": [
            "GPU available: True, used: True\n",
            "TPU available: None, using: 0 TPU cores\n",
            "LOCAL_RANK: 0 - CUDA_VISIBLE_DEVICES: [0]\n",
            "\n",
            "  | Name    | Type   | Params\n",
            "-----------------------------------\n",
            "0 | layer_1 | Linear | 64    \n",
            "1 | layer_2 | Linear | 30    \n",
            "2 | layer_3 | Linear | 14    \n",
            "-----------------------------------\n",
            "108       Trainable params\n",
            "0         Non-trainable params\n",
            "108       Total params\n"
          ],
          "name": "stderr"
        },
        {
          "output_type": "stream",
          "text": [
            "--------------------------------------------------------------------------------\n",
            "DATALOADER:0 TEST RESULTS\n",
            "{'loss': tensor(0.6001, device='cuda:0')}\n",
            "--------------------------------------------------------------------------------\n"
          ],
          "name": "stdout"
        },
        {
          "output_type": "stream",
          "text": [
            "GPU available: True, used: True\n",
            "TPU available: None, using: 0 TPU cores\n",
            "LOCAL_RANK: 0 - CUDA_VISIBLE_DEVICES: [0]\n",
            "\n",
            "  | Name    | Type   | Params\n",
            "-----------------------------------\n",
            "0 | layer_1 | Linear | 64    \n",
            "1 | layer_2 | Linear | 30    \n",
            "2 | layer_3 | Linear | 14    \n",
            "-----------------------------------\n",
            "108       Trainable params\n",
            "0         Non-trainable params\n",
            "108       Total params\n"
          ],
          "name": "stderr"
        },
        {
          "output_type": "stream",
          "text": [
            "--------------------------------------------------------------------------------\n",
            "DATALOADER:0 TEST RESULTS\n",
            "{'loss': tensor(0.6445, device='cuda:0')}\n",
            "--------------------------------------------------------------------------------\n"
          ],
          "name": "stdout"
        },
        {
          "output_type": "stream",
          "text": [
            "GPU available: True, used: True\n",
            "TPU available: None, using: 0 TPU cores\n",
            "LOCAL_RANK: 0 - CUDA_VISIBLE_DEVICES: [0]\n",
            "\n",
            "  | Name    | Type   | Params\n",
            "-----------------------------------\n",
            "0 | layer_1 | Linear | 64    \n",
            "1 | layer_2 | Linear | 30    \n",
            "2 | layer_3 | Linear | 14    \n",
            "-----------------------------------\n",
            "108       Trainable params\n",
            "0         Non-trainable params\n",
            "108       Total params\n"
          ],
          "name": "stderr"
        },
        {
          "output_type": "stream",
          "text": [
            "--------------------------------------------------------------------------------\n",
            "DATALOADER:0 TEST RESULTS\n",
            "{'loss': tensor(0.4576, device='cuda:0')}\n",
            "--------------------------------------------------------------------------------\n"
          ],
          "name": "stdout"
        },
        {
          "output_type": "stream",
          "text": [
            "GPU available: True, used: True\n",
            "TPU available: None, using: 0 TPU cores\n",
            "LOCAL_RANK: 0 - CUDA_VISIBLE_DEVICES: [0]\n",
            "\n",
            "  | Name    | Type   | Params\n",
            "-----------------------------------\n",
            "0 | layer_1 | Linear | 64    \n",
            "1 | layer_2 | Linear | 30    \n",
            "2 | layer_3 | Linear | 14    \n",
            "-----------------------------------\n",
            "108       Trainable params\n",
            "0         Non-trainable params\n",
            "108       Total params\n"
          ],
          "name": "stderr"
        },
        {
          "output_type": "stream",
          "text": [
            "--------------------------------------------------------------------------------\n",
            "DATALOADER:0 TEST RESULTS\n",
            "{'loss': tensor(0.5645, device='cuda:0')}\n",
            "--------------------------------------------------------------------------------\n"
          ],
          "name": "stdout"
        },
        {
          "output_type": "stream",
          "text": [
            "GPU available: True, used: True\n",
            "TPU available: None, using: 0 TPU cores\n",
            "LOCAL_RANK: 0 - CUDA_VISIBLE_DEVICES: [0]\n",
            "\n",
            "  | Name    | Type   | Params\n",
            "-----------------------------------\n",
            "0 | layer_1 | Linear | 64    \n",
            "1 | layer_2 | Linear | 30    \n",
            "2 | layer_3 | Linear | 14    \n",
            "-----------------------------------\n",
            "108       Trainable params\n",
            "0         Non-trainable params\n",
            "108       Total params\n"
          ],
          "name": "stderr"
        },
        {
          "output_type": "stream",
          "text": [
            "--------------------------------------------------------------------------------\n",
            "DATALOADER:0 TEST RESULTS\n",
            "{'loss': tensor(0.7011, device='cuda:0')}\n",
            "--------------------------------------------------------------------------------\n"
          ],
          "name": "stdout"
        },
        {
          "output_type": "stream",
          "text": [
            "GPU available: True, used: True\n",
            "TPU available: None, using: 0 TPU cores\n",
            "LOCAL_RANK: 0 - CUDA_VISIBLE_DEVICES: [0]\n",
            "\n",
            "  | Name    | Type   | Params\n",
            "-----------------------------------\n",
            "0 | layer_1 | Linear | 64    \n",
            "1 | layer_2 | Linear | 30    \n",
            "2 | layer_3 | Linear | 14    \n",
            "-----------------------------------\n",
            "108       Trainable params\n",
            "0         Non-trainable params\n",
            "108       Total params\n"
          ],
          "name": "stderr"
        },
        {
          "output_type": "stream",
          "text": [
            "--------------------------------------------------------------------------------\n",
            "DATALOADER:0 TEST RESULTS\n",
            "{'loss': tensor(0.8122, device='cuda:0')}\n",
            "--------------------------------------------------------------------------------\n"
          ],
          "name": "stdout"
        },
        {
          "output_type": "stream",
          "text": [
            "GPU available: True, used: True\n",
            "TPU available: None, using: 0 TPU cores\n",
            "LOCAL_RANK: 0 - CUDA_VISIBLE_DEVICES: [0]\n",
            "\n",
            "  | Name    | Type   | Params\n",
            "-----------------------------------\n",
            "0 | layer_1 | Linear | 64    \n",
            "1 | layer_2 | Linear | 30    \n",
            "2 | layer_3 | Linear | 14    \n",
            "-----------------------------------\n",
            "108       Trainable params\n",
            "0         Non-trainable params\n",
            "108       Total params\n"
          ],
          "name": "stderr"
        },
        {
          "output_type": "stream",
          "text": [
            "--------------------------------------------------------------------------------\n",
            "DATALOADER:0 TEST RESULTS\n",
            "{'loss': tensor(0.8233, device='cuda:0')}\n",
            "--------------------------------------------------------------------------------\n"
          ],
          "name": "stdout"
        },
        {
          "output_type": "stream",
          "text": [
            "GPU available: True, used: True\n",
            "TPU available: None, using: 0 TPU cores\n",
            "LOCAL_RANK: 0 - CUDA_VISIBLE_DEVICES: [0]\n",
            "\n",
            "  | Name    | Type   | Params\n",
            "-----------------------------------\n",
            "0 | layer_1 | Linear | 64    \n",
            "1 | layer_2 | Linear | 30    \n",
            "2 | layer_3 | Linear | 14    \n",
            "-----------------------------------\n",
            "108       Trainable params\n",
            "0         Non-trainable params\n",
            "108       Total params\n"
          ],
          "name": "stderr"
        },
        {
          "output_type": "stream",
          "text": [
            "--------------------------------------------------------------------------------\n",
            "DATALOADER:0 TEST RESULTS\n",
            "{'loss': tensor(0.6228, device='cuda:0')}\n",
            "--------------------------------------------------------------------------------\n"
          ],
          "name": "stdout"
        },
        {
          "output_type": "stream",
          "text": [
            "GPU available: True, used: True\n",
            "TPU available: None, using: 0 TPU cores\n",
            "LOCAL_RANK: 0 - CUDA_VISIBLE_DEVICES: [0]\n",
            "\n",
            "  | Name    | Type   | Params\n",
            "-----------------------------------\n",
            "0 | layer_1 | Linear | 64    \n",
            "1 | layer_2 | Linear | 30    \n",
            "2 | layer_3 | Linear | 14    \n",
            "-----------------------------------\n",
            "108       Trainable params\n",
            "0         Non-trainable params\n",
            "108       Total params\n"
          ],
          "name": "stderr"
        },
        {
          "output_type": "stream",
          "text": [
            "--------------------------------------------------------------------------------\n",
            "DATALOADER:0 TEST RESULTS\n",
            "{'loss': tensor(0.8147, device='cuda:0')}\n",
            "--------------------------------------------------------------------------------\n"
          ],
          "name": "stdout"
        },
        {
          "output_type": "stream",
          "text": [
            "GPU available: True, used: True\n",
            "TPU available: None, using: 0 TPU cores\n",
            "LOCAL_RANK: 0 - CUDA_VISIBLE_DEVICES: [0]\n",
            "\n",
            "  | Name    | Type   | Params\n",
            "-----------------------------------\n",
            "0 | layer_1 | Linear | 64    \n",
            "1 | layer_2 | Linear | 30    \n",
            "2 | layer_3 | Linear | 14    \n",
            "-----------------------------------\n",
            "108       Trainable params\n",
            "0         Non-trainable params\n",
            "108       Total params\n"
          ],
          "name": "stderr"
        },
        {
          "output_type": "stream",
          "text": [
            "--------------------------------------------------------------------------------\n",
            "DATALOADER:0 TEST RESULTS\n",
            "{'loss': tensor(0.7125, device='cuda:0')}\n",
            "--------------------------------------------------------------------------------\n"
          ],
          "name": "stdout"
        },
        {
          "output_type": "stream",
          "text": [
            "GPU available: True, used: True\n",
            "TPU available: None, using: 0 TPU cores\n",
            "LOCAL_RANK: 0 - CUDA_VISIBLE_DEVICES: [0]\n",
            "\n",
            "  | Name    | Type   | Params\n",
            "-----------------------------------\n",
            "0 | layer_1 | Linear | 64    \n",
            "1 | layer_2 | Linear | 30    \n",
            "2 | layer_3 | Linear | 14    \n",
            "-----------------------------------\n",
            "108       Trainable params\n",
            "0         Non-trainable params\n",
            "108       Total params\n"
          ],
          "name": "stderr"
        },
        {
          "output_type": "stream",
          "text": [
            "--------------------------------------------------------------------------------\n",
            "DATALOADER:0 TEST RESULTS\n",
            "{'loss': tensor(0.4508, device='cuda:0')}\n",
            "--------------------------------------------------------------------------------\n"
          ],
          "name": "stdout"
        },
        {
          "output_type": "stream",
          "text": [
            "GPU available: True, used: True\n",
            "TPU available: None, using: 0 TPU cores\n",
            "LOCAL_RANK: 0 - CUDA_VISIBLE_DEVICES: [0]\n",
            "\n",
            "  | Name    | Type   | Params\n",
            "-----------------------------------\n",
            "0 | layer_1 | Linear | 64    \n",
            "1 | layer_2 | Linear | 30    \n",
            "2 | layer_3 | Linear | 14    \n",
            "-----------------------------------\n",
            "108       Trainable params\n",
            "0         Non-trainable params\n",
            "108       Total params\n"
          ],
          "name": "stderr"
        },
        {
          "output_type": "stream",
          "text": [
            "--------------------------------------------------------------------------------\n",
            "DATALOADER:0 TEST RESULTS\n",
            "{'loss': tensor(0.7725, device='cuda:0')}\n",
            "--------------------------------------------------------------------------------\n"
          ],
          "name": "stdout"
        },
        {
          "output_type": "stream",
          "text": [
            "GPU available: True, used: True\n",
            "TPU available: None, using: 0 TPU cores\n",
            "LOCAL_RANK: 0 - CUDA_VISIBLE_DEVICES: [0]\n",
            "\n",
            "  | Name    | Type   | Params\n",
            "-----------------------------------\n",
            "0 | layer_1 | Linear | 64    \n",
            "1 | layer_2 | Linear | 30    \n",
            "2 | layer_3 | Linear | 14    \n",
            "-----------------------------------\n",
            "108       Trainable params\n",
            "0         Non-trainable params\n",
            "108       Total params\n"
          ],
          "name": "stderr"
        },
        {
          "output_type": "stream",
          "text": [
            "--------------------------------------------------------------------------------\n",
            "DATALOADER:0 TEST RESULTS\n",
            "{'loss': tensor(0.6204, device='cuda:0')}\n",
            "--------------------------------------------------------------------------------\n"
          ],
          "name": "stdout"
        },
        {
          "output_type": "stream",
          "text": [
            "GPU available: True, used: True\n",
            "TPU available: None, using: 0 TPU cores\n",
            "LOCAL_RANK: 0 - CUDA_VISIBLE_DEVICES: [0]\n",
            "\n",
            "  | Name    | Type   | Params\n",
            "-----------------------------------\n",
            "0 | layer_1 | Linear | 64    \n",
            "1 | layer_2 | Linear | 30    \n",
            "2 | layer_3 | Linear | 14    \n",
            "-----------------------------------\n",
            "108       Trainable params\n",
            "0         Non-trainable params\n",
            "108       Total params\n"
          ],
          "name": "stderr"
        },
        {
          "output_type": "stream",
          "text": [
            "--------------------------------------------------------------------------------\n",
            "DATALOADER:0 TEST RESULTS\n",
            "{'loss': tensor(0.5936, device='cuda:0')}\n",
            "--------------------------------------------------------------------------------\n"
          ],
          "name": "stdout"
        },
        {
          "output_type": "stream",
          "text": [
            "GPU available: True, used: True\n",
            "TPU available: None, using: 0 TPU cores\n",
            "LOCAL_RANK: 0 - CUDA_VISIBLE_DEVICES: [0]\n",
            "\n",
            "  | Name    | Type   | Params\n",
            "-----------------------------------\n",
            "0 | layer_1 | Linear | 64    \n",
            "1 | layer_2 | Linear | 30    \n",
            "2 | layer_3 | Linear | 14    \n",
            "-----------------------------------\n",
            "108       Trainable params\n",
            "0         Non-trainable params\n",
            "108       Total params\n"
          ],
          "name": "stderr"
        },
        {
          "output_type": "stream",
          "text": [
            "--------------------------------------------------------------------------------\n",
            "DATALOADER:0 TEST RESULTS\n",
            "{'loss': tensor(0.6136, device='cuda:0')}\n",
            "--------------------------------------------------------------------------------\n"
          ],
          "name": "stdout"
        },
        {
          "output_type": "stream",
          "text": [
            "GPU available: True, used: True\n",
            "TPU available: None, using: 0 TPU cores\n",
            "LOCAL_RANK: 0 - CUDA_VISIBLE_DEVICES: [0]\n",
            "\n",
            "  | Name    | Type   | Params\n",
            "-----------------------------------\n",
            "0 | layer_1 | Linear | 64    \n",
            "1 | layer_2 | Linear | 30    \n",
            "2 | layer_3 | Linear | 14    \n",
            "-----------------------------------\n",
            "108       Trainable params\n",
            "0         Non-trainable params\n",
            "108       Total params\n"
          ],
          "name": "stderr"
        },
        {
          "output_type": "stream",
          "text": [
            "--------------------------------------------------------------------------------\n",
            "DATALOADER:0 TEST RESULTS\n",
            "{'loss': tensor(0.6920, device='cuda:0')}\n",
            "--------------------------------------------------------------------------------\n"
          ],
          "name": "stdout"
        },
        {
          "output_type": "stream",
          "text": [
            "GPU available: True, used: True\n",
            "TPU available: None, using: 0 TPU cores\n",
            "LOCAL_RANK: 0 - CUDA_VISIBLE_DEVICES: [0]\n",
            "\n",
            "  | Name    | Type   | Params\n",
            "-----------------------------------\n",
            "0 | layer_1 | Linear | 64    \n",
            "1 | layer_2 | Linear | 30    \n",
            "2 | layer_3 | Linear | 14    \n",
            "-----------------------------------\n",
            "108       Trainable params\n",
            "0         Non-trainable params\n",
            "108       Total params\n"
          ],
          "name": "stderr"
        },
        {
          "output_type": "stream",
          "text": [
            "--------------------------------------------------------------------------------\n",
            "DATALOADER:0 TEST RESULTS\n",
            "{'loss': tensor(0.6351, device='cuda:0')}\n",
            "--------------------------------------------------------------------------------\n"
          ],
          "name": "stdout"
        },
        {
          "output_type": "stream",
          "text": [
            "GPU available: True, used: True\n",
            "TPU available: None, using: 0 TPU cores\n",
            "LOCAL_RANK: 0 - CUDA_VISIBLE_DEVICES: [0]\n",
            "\n",
            "  | Name    | Type   | Params\n",
            "-----------------------------------\n",
            "0 | layer_1 | Linear | 64    \n",
            "1 | layer_2 | Linear | 30    \n",
            "2 | layer_3 | Linear | 14    \n",
            "-----------------------------------\n",
            "108       Trainable params\n",
            "0         Non-trainable params\n",
            "108       Total params\n"
          ],
          "name": "stderr"
        },
        {
          "output_type": "stream",
          "text": [
            "--------------------------------------------------------------------------------\n",
            "DATALOADER:0 TEST RESULTS\n",
            "{'loss': tensor(0.6078, device='cuda:0')}\n",
            "--------------------------------------------------------------------------------\n"
          ],
          "name": "stdout"
        },
        {
          "output_type": "stream",
          "text": [
            "GPU available: True, used: True\n",
            "TPU available: None, using: 0 TPU cores\n",
            "LOCAL_RANK: 0 - CUDA_VISIBLE_DEVICES: [0]\n",
            "\n",
            "  | Name    | Type   | Params\n",
            "-----------------------------------\n",
            "0 | layer_1 | Linear | 64    \n",
            "1 | layer_2 | Linear | 30    \n",
            "2 | layer_3 | Linear | 14    \n",
            "-----------------------------------\n",
            "108       Trainable params\n",
            "0         Non-trainable params\n",
            "108       Total params\n"
          ],
          "name": "stderr"
        },
        {
          "output_type": "stream",
          "text": [
            "--------------------------------------------------------------------------------\n",
            "DATALOADER:0 TEST RESULTS\n",
            "{'loss': tensor(0.8063, device='cuda:0')}\n",
            "--------------------------------------------------------------------------------\n"
          ],
          "name": "stdout"
        },
        {
          "output_type": "stream",
          "text": [
            "GPU available: True, used: True\n",
            "TPU available: None, using: 0 TPU cores\n",
            "LOCAL_RANK: 0 - CUDA_VISIBLE_DEVICES: [0]\n",
            "\n",
            "  | Name    | Type   | Params\n",
            "-----------------------------------\n",
            "0 | layer_1 | Linear | 64    \n",
            "1 | layer_2 | Linear | 30    \n",
            "2 | layer_3 | Linear | 14    \n",
            "-----------------------------------\n",
            "108       Trainable params\n",
            "0         Non-trainable params\n",
            "108       Total params\n"
          ],
          "name": "stderr"
        },
        {
          "output_type": "stream",
          "text": [
            "--------------------------------------------------------------------------------\n",
            "DATALOADER:0 TEST RESULTS\n",
            "{'loss': tensor(0.8479, device='cuda:0')}\n",
            "--------------------------------------------------------------------------------\n"
          ],
          "name": "stdout"
        },
        {
          "output_type": "stream",
          "text": [
            "GPU available: True, used: True\n",
            "TPU available: None, using: 0 TPU cores\n",
            "LOCAL_RANK: 0 - CUDA_VISIBLE_DEVICES: [0]\n",
            "\n",
            "  | Name    | Type   | Params\n",
            "-----------------------------------\n",
            "0 | layer_1 | Linear | 64    \n",
            "1 | layer_2 | Linear | 30    \n",
            "2 | layer_3 | Linear | 14    \n",
            "-----------------------------------\n",
            "108       Trainable params\n",
            "0         Non-trainable params\n",
            "108       Total params\n"
          ],
          "name": "stderr"
        },
        {
          "output_type": "stream",
          "text": [
            "--------------------------------------------------------------------------------\n",
            "DATALOADER:0 TEST RESULTS\n",
            "{'loss': tensor(0.6002, device='cuda:0')}\n",
            "--------------------------------------------------------------------------------\n"
          ],
          "name": "stdout"
        },
        {
          "output_type": "stream",
          "text": [
            "GPU available: True, used: True\n",
            "TPU available: None, using: 0 TPU cores\n",
            "LOCAL_RANK: 0 - CUDA_VISIBLE_DEVICES: [0]\n",
            "\n",
            "  | Name    | Type   | Params\n",
            "-----------------------------------\n",
            "0 | layer_1 | Linear | 64    \n",
            "1 | layer_2 | Linear | 30    \n",
            "2 | layer_3 | Linear | 14    \n",
            "-----------------------------------\n",
            "108       Trainable params\n",
            "0         Non-trainable params\n",
            "108       Total params\n"
          ],
          "name": "stderr"
        },
        {
          "output_type": "stream",
          "text": [
            "--------------------------------------------------------------------------------\n",
            "DATALOADER:0 TEST RESULTS\n",
            "{'loss': tensor(0.7647, device='cuda:0')}\n",
            "--------------------------------------------------------------------------------\n"
          ],
          "name": "stdout"
        },
        {
          "output_type": "stream",
          "text": [
            "GPU available: True, used: True\n",
            "TPU available: None, using: 0 TPU cores\n",
            "LOCAL_RANK: 0 - CUDA_VISIBLE_DEVICES: [0]\n",
            "\n",
            "  | Name    | Type   | Params\n",
            "-----------------------------------\n",
            "0 | layer_1 | Linear | 64    \n",
            "1 | layer_2 | Linear | 30    \n",
            "2 | layer_3 | Linear | 14    \n",
            "-----------------------------------\n",
            "108       Trainable params\n",
            "0         Non-trainable params\n",
            "108       Total params\n"
          ],
          "name": "stderr"
        },
        {
          "output_type": "stream",
          "text": [
            "--------------------------------------------------------------------------------\n",
            "DATALOADER:0 TEST RESULTS\n",
            "{'loss': tensor(0.5405, device='cuda:0')}\n",
            "--------------------------------------------------------------------------------\n"
          ],
          "name": "stdout"
        },
        {
          "output_type": "stream",
          "text": [
            "GPU available: True, used: True\n",
            "TPU available: None, using: 0 TPU cores\n",
            "LOCAL_RANK: 0 - CUDA_VISIBLE_DEVICES: [0]\n",
            "\n",
            "  | Name    | Type   | Params\n",
            "-----------------------------------\n",
            "0 | layer_1 | Linear | 64    \n",
            "1 | layer_2 | Linear | 30    \n",
            "2 | layer_3 | Linear | 14    \n",
            "-----------------------------------\n",
            "108       Trainable params\n",
            "0         Non-trainable params\n",
            "108       Total params\n"
          ],
          "name": "stderr"
        },
        {
          "output_type": "stream",
          "text": [
            "--------------------------------------------------------------------------------\n",
            "DATALOADER:0 TEST RESULTS\n",
            "{'loss': tensor(0.6558, device='cuda:0')}\n",
            "--------------------------------------------------------------------------------\n"
          ],
          "name": "stdout"
        },
        {
          "output_type": "stream",
          "text": [
            "GPU available: True, used: True\n",
            "TPU available: None, using: 0 TPU cores\n",
            "LOCAL_RANK: 0 - CUDA_VISIBLE_DEVICES: [0]\n",
            "\n",
            "  | Name    | Type   | Params\n",
            "-----------------------------------\n",
            "0 | layer_1 | Linear | 64    \n",
            "1 | layer_2 | Linear | 30    \n",
            "2 | layer_3 | Linear | 14    \n",
            "-----------------------------------\n",
            "108       Trainable params\n",
            "0         Non-trainable params\n",
            "108       Total params\n"
          ],
          "name": "stderr"
        },
        {
          "output_type": "stream",
          "text": [
            "--------------------------------------------------------------------------------\n",
            "DATALOADER:0 TEST RESULTS\n",
            "{'loss': tensor(0.7730, device='cuda:0')}\n",
            "--------------------------------------------------------------------------------\n"
          ],
          "name": "stdout"
        },
        {
          "output_type": "stream",
          "text": [
            "GPU available: True, used: True\n",
            "TPU available: None, using: 0 TPU cores\n",
            "LOCAL_RANK: 0 - CUDA_VISIBLE_DEVICES: [0]\n",
            "\n",
            "  | Name    | Type   | Params\n",
            "-----------------------------------\n",
            "0 | layer_1 | Linear | 64    \n",
            "1 | layer_2 | Linear | 30    \n",
            "2 | layer_3 | Linear | 14    \n",
            "-----------------------------------\n",
            "108       Trainable params\n",
            "0         Non-trainable params\n",
            "108       Total params\n"
          ],
          "name": "stderr"
        },
        {
          "output_type": "stream",
          "text": [
            "--------------------------------------------------------------------------------\n",
            "DATALOADER:0 TEST RESULTS\n",
            "{'loss': tensor(0.7699, device='cuda:0')}\n",
            "--------------------------------------------------------------------------------\n"
          ],
          "name": "stdout"
        },
        {
          "output_type": "stream",
          "text": [
            "GPU available: True, used: True\n",
            "TPU available: None, using: 0 TPU cores\n",
            "LOCAL_RANK: 0 - CUDA_VISIBLE_DEVICES: [0]\n",
            "\n",
            "  | Name    | Type   | Params\n",
            "-----------------------------------\n",
            "0 | layer_1 | Linear | 64    \n",
            "1 | layer_2 | Linear | 30    \n",
            "2 | layer_3 | Linear | 14    \n",
            "-----------------------------------\n",
            "108       Trainable params\n",
            "0         Non-trainable params\n",
            "108       Total params\n"
          ],
          "name": "stderr"
        },
        {
          "output_type": "stream",
          "text": [
            "--------------------------------------------------------------------------------\n",
            "DATALOADER:0 TEST RESULTS\n",
            "{'loss': tensor(0.7106, device='cuda:0')}\n",
            "--------------------------------------------------------------------------------\n"
          ],
          "name": "stdout"
        },
        {
          "output_type": "stream",
          "text": [
            "GPU available: True, used: True\n",
            "TPU available: None, using: 0 TPU cores\n",
            "LOCAL_RANK: 0 - CUDA_VISIBLE_DEVICES: [0]\n",
            "\n",
            "  | Name    | Type   | Params\n",
            "-----------------------------------\n",
            "0 | layer_1 | Linear | 64    \n",
            "1 | layer_2 | Linear | 30    \n",
            "2 | layer_3 | Linear | 14    \n",
            "-----------------------------------\n",
            "108       Trainable params\n",
            "0         Non-trainable params\n",
            "108       Total params\n"
          ],
          "name": "stderr"
        },
        {
          "output_type": "stream",
          "text": [
            "--------------------------------------------------------------------------------\n",
            "DATALOADER:0 TEST RESULTS\n",
            "{'loss': tensor(0.5112, device='cuda:0')}\n",
            "--------------------------------------------------------------------------------\n"
          ],
          "name": "stdout"
        },
        {
          "output_type": "stream",
          "text": [
            "GPU available: True, used: True\n",
            "TPU available: None, using: 0 TPU cores\n",
            "LOCAL_RANK: 0 - CUDA_VISIBLE_DEVICES: [0]\n",
            "\n",
            "  | Name    | Type   | Params\n",
            "-----------------------------------\n",
            "0 | layer_1 | Linear | 64    \n",
            "1 | layer_2 | Linear | 30    \n",
            "2 | layer_3 | Linear | 14    \n",
            "-----------------------------------\n",
            "108       Trainable params\n",
            "0         Non-trainable params\n",
            "108       Total params\n"
          ],
          "name": "stderr"
        },
        {
          "output_type": "stream",
          "text": [
            "--------------------------------------------------------------------------------\n",
            "DATALOADER:0 TEST RESULTS\n",
            "{'loss': tensor(0.6616, device='cuda:0')}\n",
            "--------------------------------------------------------------------------------\n"
          ],
          "name": "stdout"
        },
        {
          "output_type": "stream",
          "text": [
            "GPU available: True, used: True\n",
            "TPU available: None, using: 0 TPU cores\n",
            "LOCAL_RANK: 0 - CUDA_VISIBLE_DEVICES: [0]\n",
            "\n",
            "  | Name    | Type   | Params\n",
            "-----------------------------------\n",
            "0 | layer_1 | Linear | 64    \n",
            "1 | layer_2 | Linear | 30    \n",
            "2 | layer_3 | Linear | 14    \n",
            "-----------------------------------\n",
            "108       Trainable params\n",
            "0         Non-trainable params\n",
            "108       Total params\n"
          ],
          "name": "stderr"
        },
        {
          "output_type": "stream",
          "text": [
            "--------------------------------------------------------------------------------\n",
            "DATALOADER:0 TEST RESULTS\n",
            "{'loss': tensor(0.8138, device='cuda:0')}\n",
            "--------------------------------------------------------------------------------\n"
          ],
          "name": "stdout"
        },
        {
          "output_type": "stream",
          "text": [
            "GPU available: True, used: True\n",
            "TPU available: None, using: 0 TPU cores\n",
            "LOCAL_RANK: 0 - CUDA_VISIBLE_DEVICES: [0]\n",
            "\n",
            "  | Name    | Type   | Params\n",
            "-----------------------------------\n",
            "0 | layer_1 | Linear | 64    \n",
            "1 | layer_2 | Linear | 30    \n",
            "2 | layer_3 | Linear | 14    \n",
            "-----------------------------------\n",
            "108       Trainable params\n",
            "0         Non-trainable params\n",
            "108       Total params\n"
          ],
          "name": "stderr"
        },
        {
          "output_type": "stream",
          "text": [
            "--------------------------------------------------------------------------------\n",
            "DATALOADER:0 TEST RESULTS\n",
            "{'loss': tensor(0.8195, device='cuda:0')}\n",
            "--------------------------------------------------------------------------------\n"
          ],
          "name": "stdout"
        },
        {
          "output_type": "stream",
          "text": [
            "GPU available: True, used: True\n",
            "TPU available: None, using: 0 TPU cores\n",
            "LOCAL_RANK: 0 - CUDA_VISIBLE_DEVICES: [0]\n",
            "\n",
            "  | Name    | Type   | Params\n",
            "-----------------------------------\n",
            "0 | layer_1 | Linear | 64    \n",
            "1 | layer_2 | Linear | 30    \n",
            "2 | layer_3 | Linear | 14    \n",
            "-----------------------------------\n",
            "108       Trainable params\n",
            "0         Non-trainable params\n",
            "108       Total params\n"
          ],
          "name": "stderr"
        },
        {
          "output_type": "stream",
          "text": [
            "--------------------------------------------------------------------------------\n",
            "DATALOADER:0 TEST RESULTS\n",
            "{'loss': tensor(0.5355, device='cuda:0')}\n",
            "--------------------------------------------------------------------------------\n"
          ],
          "name": "stdout"
        },
        {
          "output_type": "stream",
          "text": [
            "GPU available: True, used: True\n",
            "TPU available: None, using: 0 TPU cores\n",
            "LOCAL_RANK: 0 - CUDA_VISIBLE_DEVICES: [0]\n",
            "\n",
            "  | Name    | Type   | Params\n",
            "-----------------------------------\n",
            "0 | layer_1 | Linear | 64    \n",
            "1 | layer_2 | Linear | 30    \n",
            "2 | layer_3 | Linear | 14    \n",
            "-----------------------------------\n",
            "108       Trainable params\n",
            "0         Non-trainable params\n",
            "108       Total params\n"
          ],
          "name": "stderr"
        },
        {
          "output_type": "stream",
          "text": [
            "--------------------------------------------------------------------------------\n",
            "DATALOADER:0 TEST RESULTS\n",
            "{'loss': tensor(0.8962, device='cuda:0')}\n",
            "--------------------------------------------------------------------------------\n"
          ],
          "name": "stdout"
        },
        {
          "output_type": "stream",
          "text": [
            "GPU available: True, used: True\n",
            "TPU available: None, using: 0 TPU cores\n",
            "LOCAL_RANK: 0 - CUDA_VISIBLE_DEVICES: [0]\n",
            "\n",
            "  | Name    | Type   | Params\n",
            "-----------------------------------\n",
            "0 | layer_1 | Linear | 64    \n",
            "1 | layer_2 | Linear | 30    \n",
            "2 | layer_3 | Linear | 14    \n",
            "-----------------------------------\n",
            "108       Trainable params\n",
            "0         Non-trainable params\n",
            "108       Total params\n"
          ],
          "name": "stderr"
        },
        {
          "output_type": "stream",
          "text": [
            "--------------------------------------------------------------------------------\n",
            "DATALOADER:0 TEST RESULTS\n",
            "{'loss': tensor(0.6515, device='cuda:0')}\n",
            "--------------------------------------------------------------------------------\n"
          ],
          "name": "stdout"
        },
        {
          "output_type": "stream",
          "text": [
            "GPU available: True, used: True\n",
            "TPU available: None, using: 0 TPU cores\n",
            "LOCAL_RANK: 0 - CUDA_VISIBLE_DEVICES: [0]\n",
            "\n",
            "  | Name    | Type   | Params\n",
            "-----------------------------------\n",
            "0 | layer_1 | Linear | 64    \n",
            "1 | layer_2 | Linear | 30    \n",
            "2 | layer_3 | Linear | 14    \n",
            "-----------------------------------\n",
            "108       Trainable params\n",
            "0         Non-trainable params\n",
            "108       Total params\n"
          ],
          "name": "stderr"
        },
        {
          "output_type": "stream",
          "text": [
            "--------------------------------------------------------------------------------\n",
            "DATALOADER:0 TEST RESULTS\n",
            "{'loss': tensor(0.8430, device='cuda:0')}\n",
            "--------------------------------------------------------------------------------\n"
          ],
          "name": "stdout"
        },
        {
          "output_type": "stream",
          "text": [
            "GPU available: True, used: True\n",
            "TPU available: None, using: 0 TPU cores\n",
            "LOCAL_RANK: 0 - CUDA_VISIBLE_DEVICES: [0]\n",
            "\n",
            "  | Name    | Type   | Params\n",
            "-----------------------------------\n",
            "0 | layer_1 | Linear | 64    \n",
            "1 | layer_2 | Linear | 30    \n",
            "2 | layer_3 | Linear | 14    \n",
            "-----------------------------------\n",
            "108       Trainable params\n",
            "0         Non-trainable params\n",
            "108       Total params\n"
          ],
          "name": "stderr"
        },
        {
          "output_type": "stream",
          "text": [
            "--------------------------------------------------------------------------------\n",
            "DATALOADER:0 TEST RESULTS\n",
            "{'loss': tensor(0.6084, device='cuda:0')}\n",
            "--------------------------------------------------------------------------------\n"
          ],
          "name": "stdout"
        },
        {
          "output_type": "stream",
          "text": [
            "GPU available: True, used: True\n",
            "TPU available: None, using: 0 TPU cores\n",
            "LOCAL_RANK: 0 - CUDA_VISIBLE_DEVICES: [0]\n",
            "\n",
            "  | Name    | Type   | Params\n",
            "-----------------------------------\n",
            "0 | layer_1 | Linear | 64    \n",
            "1 | layer_2 | Linear | 30    \n",
            "2 | layer_3 | Linear | 14    \n",
            "-----------------------------------\n",
            "108       Trainable params\n",
            "0         Non-trainable params\n",
            "108       Total params\n"
          ],
          "name": "stderr"
        },
        {
          "output_type": "stream",
          "text": [
            "--------------------------------------------------------------------------------\n",
            "DATALOADER:0 TEST RESULTS\n",
            "{'loss': tensor(0.4740, device='cuda:0')}\n",
            "--------------------------------------------------------------------------------\n"
          ],
          "name": "stdout"
        },
        {
          "output_type": "stream",
          "text": [
            "GPU available: True, used: True\n",
            "TPU available: None, using: 0 TPU cores\n",
            "LOCAL_RANK: 0 - CUDA_VISIBLE_DEVICES: [0]\n",
            "\n",
            "  | Name    | Type   | Params\n",
            "-----------------------------------\n",
            "0 | layer_1 | Linear | 64    \n",
            "1 | layer_2 | Linear | 30    \n",
            "2 | layer_3 | Linear | 14    \n",
            "-----------------------------------\n",
            "108       Trainable params\n",
            "0         Non-trainable params\n",
            "108       Total params\n"
          ],
          "name": "stderr"
        },
        {
          "output_type": "stream",
          "text": [
            "--------------------------------------------------------------------------------\n",
            "DATALOADER:0 TEST RESULTS\n",
            "{'loss': tensor(0.7956, device='cuda:0')}\n",
            "--------------------------------------------------------------------------------\n"
          ],
          "name": "stdout"
        },
        {
          "output_type": "stream",
          "text": [
            "GPU available: True, used: True\n",
            "TPU available: None, using: 0 TPU cores\n",
            "LOCAL_RANK: 0 - CUDA_VISIBLE_DEVICES: [0]\n",
            "\n",
            "  | Name    | Type   | Params\n",
            "-----------------------------------\n",
            "0 | layer_1 | Linear | 64    \n",
            "1 | layer_2 | Linear | 30    \n",
            "2 | layer_3 | Linear | 14    \n",
            "-----------------------------------\n",
            "108       Trainable params\n",
            "0         Non-trainable params\n",
            "108       Total params\n"
          ],
          "name": "stderr"
        },
        {
          "output_type": "stream",
          "text": [
            "--------------------------------------------------------------------------------\n",
            "DATALOADER:0 TEST RESULTS\n",
            "{'loss': tensor(0.5798, device='cuda:0')}\n",
            "--------------------------------------------------------------------------------\n"
          ],
          "name": "stdout"
        },
        {
          "output_type": "stream",
          "text": [
            "GPU available: True, used: True\n",
            "TPU available: None, using: 0 TPU cores\n",
            "LOCAL_RANK: 0 - CUDA_VISIBLE_DEVICES: [0]\n",
            "\n",
            "  | Name    | Type   | Params\n",
            "-----------------------------------\n",
            "0 | layer_1 | Linear | 64    \n",
            "1 | layer_2 | Linear | 30    \n",
            "2 | layer_3 | Linear | 14    \n",
            "-----------------------------------\n",
            "108       Trainable params\n",
            "0         Non-trainable params\n",
            "108       Total params\n"
          ],
          "name": "stderr"
        },
        {
          "output_type": "stream",
          "text": [
            "--------------------------------------------------------------------------------\n",
            "DATALOADER:0 TEST RESULTS\n",
            "{'loss': tensor(0.8144, device='cuda:0')}\n",
            "--------------------------------------------------------------------------------\n"
          ],
          "name": "stdout"
        },
        {
          "output_type": "stream",
          "text": [
            "GPU available: True, used: True\n",
            "TPU available: None, using: 0 TPU cores\n",
            "LOCAL_RANK: 0 - CUDA_VISIBLE_DEVICES: [0]\n",
            "\n",
            "  | Name    | Type   | Params\n",
            "-----------------------------------\n",
            "0 | layer_1 | Linear | 64    \n",
            "1 | layer_2 | Linear | 30    \n",
            "2 | layer_3 | Linear | 14    \n",
            "-----------------------------------\n",
            "108       Trainable params\n",
            "0         Non-trainable params\n",
            "108       Total params\n"
          ],
          "name": "stderr"
        },
        {
          "output_type": "stream",
          "text": [
            "--------------------------------------------------------------------------------\n",
            "DATALOADER:0 TEST RESULTS\n",
            "{'loss': tensor(0.4419, device='cuda:0')}\n",
            "--------------------------------------------------------------------------------\n"
          ],
          "name": "stdout"
        },
        {
          "output_type": "stream",
          "text": [
            "GPU available: True, used: True\n",
            "TPU available: None, using: 0 TPU cores\n",
            "LOCAL_RANK: 0 - CUDA_VISIBLE_DEVICES: [0]\n",
            "\n",
            "  | Name    | Type   | Params\n",
            "-----------------------------------\n",
            "0 | layer_1 | Linear | 64    \n",
            "1 | layer_2 | Linear | 30    \n",
            "2 | layer_3 | Linear | 14    \n",
            "-----------------------------------\n",
            "108       Trainable params\n",
            "0         Non-trainable params\n",
            "108       Total params\n"
          ],
          "name": "stderr"
        },
        {
          "output_type": "stream",
          "text": [
            "--------------------------------------------------------------------------------\n",
            "DATALOADER:0 TEST RESULTS\n",
            "{'loss': tensor(0.2780, device='cuda:0')}\n",
            "--------------------------------------------------------------------------------\n"
          ],
          "name": "stdout"
        },
        {
          "output_type": "stream",
          "text": [
            "GPU available: True, used: True\n",
            "TPU available: None, using: 0 TPU cores\n",
            "LOCAL_RANK: 0 - CUDA_VISIBLE_DEVICES: [0]\n",
            "\n",
            "  | Name    | Type   | Params\n",
            "-----------------------------------\n",
            "0 | layer_1 | Linear | 64    \n",
            "1 | layer_2 | Linear | 30    \n",
            "2 | layer_3 | Linear | 14    \n",
            "-----------------------------------\n",
            "108       Trainable params\n",
            "0         Non-trainable params\n",
            "108       Total params\n"
          ],
          "name": "stderr"
        },
        {
          "output_type": "stream",
          "text": [
            "--------------------------------------------------------------------------------\n",
            "DATALOADER:0 TEST RESULTS\n",
            "{'loss': tensor(0.5603, device='cuda:0')}\n",
            "--------------------------------------------------------------------------------\n"
          ],
          "name": "stdout"
        },
        {
          "output_type": "stream",
          "text": [
            "GPU available: True, used: True\n",
            "TPU available: None, using: 0 TPU cores\n",
            "LOCAL_RANK: 0 - CUDA_VISIBLE_DEVICES: [0]\n",
            "\n",
            "  | Name    | Type   | Params\n",
            "-----------------------------------\n",
            "0 | layer_1 | Linear | 64    \n",
            "1 | layer_2 | Linear | 30    \n",
            "2 | layer_3 | Linear | 14    \n",
            "-----------------------------------\n",
            "108       Trainable params\n",
            "0         Non-trainable params\n",
            "108       Total params\n"
          ],
          "name": "stderr"
        },
        {
          "output_type": "stream",
          "text": [
            "--------------------------------------------------------------------------------\n",
            "DATALOADER:0 TEST RESULTS\n",
            "{'loss': tensor(0.5539, device='cuda:0')}\n",
            "--------------------------------------------------------------------------------\n"
          ],
          "name": "stdout"
        },
        {
          "output_type": "stream",
          "text": [
            "GPU available: True, used: True\n",
            "TPU available: None, using: 0 TPU cores\n",
            "LOCAL_RANK: 0 - CUDA_VISIBLE_DEVICES: [0]\n",
            "\n",
            "  | Name    | Type   | Params\n",
            "-----------------------------------\n",
            "0 | layer_1 | Linear | 64    \n",
            "1 | layer_2 | Linear | 30    \n",
            "2 | layer_3 | Linear | 14    \n",
            "-----------------------------------\n",
            "108       Trainable params\n",
            "0         Non-trainable params\n",
            "108       Total params\n"
          ],
          "name": "stderr"
        },
        {
          "output_type": "stream",
          "text": [
            "--------------------------------------------------------------------------------\n",
            "DATALOADER:0 TEST RESULTS\n",
            "{'loss': tensor(0.5812, device='cuda:0')}\n",
            "--------------------------------------------------------------------------------\n"
          ],
          "name": "stdout"
        },
        {
          "output_type": "stream",
          "text": [
            "GPU available: True, used: True\n",
            "TPU available: None, using: 0 TPU cores\n",
            "LOCAL_RANK: 0 - CUDA_VISIBLE_DEVICES: [0]\n",
            "\n",
            "  | Name    | Type   | Params\n",
            "-----------------------------------\n",
            "0 | layer_1 | Linear | 64    \n",
            "1 | layer_2 | Linear | 30    \n",
            "2 | layer_3 | Linear | 14    \n",
            "-----------------------------------\n",
            "108       Trainable params\n",
            "0         Non-trainable params\n",
            "108       Total params\n"
          ],
          "name": "stderr"
        },
        {
          "output_type": "stream",
          "text": [
            "--------------------------------------------------------------------------------\n",
            "DATALOADER:0 TEST RESULTS\n",
            "{'loss': tensor(0.8627, device='cuda:0')}\n",
            "--------------------------------------------------------------------------------\n"
          ],
          "name": "stdout"
        },
        {
          "output_type": "stream",
          "text": [
            "GPU available: True, used: True\n",
            "TPU available: None, using: 0 TPU cores\n",
            "LOCAL_RANK: 0 - CUDA_VISIBLE_DEVICES: [0]\n",
            "\n",
            "  | Name    | Type   | Params\n",
            "-----------------------------------\n",
            "0 | layer_1 | Linear | 64    \n",
            "1 | layer_2 | Linear | 30    \n",
            "2 | layer_3 | Linear | 14    \n",
            "-----------------------------------\n",
            "108       Trainable params\n",
            "0         Non-trainable params\n",
            "108       Total params\n"
          ],
          "name": "stderr"
        },
        {
          "output_type": "stream",
          "text": [
            "--------------------------------------------------------------------------------\n",
            "DATALOADER:0 TEST RESULTS\n",
            "{'loss': tensor(1.1312, device='cuda:0')}\n",
            "--------------------------------------------------------------------------------\n"
          ],
          "name": "stdout"
        },
        {
          "output_type": "stream",
          "text": [
            "GPU available: True, used: True\n",
            "TPU available: None, using: 0 TPU cores\n",
            "LOCAL_RANK: 0 - CUDA_VISIBLE_DEVICES: [0]\n",
            "\n",
            "  | Name    | Type   | Params\n",
            "-----------------------------------\n",
            "0 | layer_1 | Linear | 64    \n",
            "1 | layer_2 | Linear | 30    \n",
            "2 | layer_3 | Linear | 14    \n",
            "-----------------------------------\n",
            "108       Trainable params\n",
            "0         Non-trainable params\n",
            "108       Total params\n"
          ],
          "name": "stderr"
        },
        {
          "output_type": "stream",
          "text": [
            "--------------------------------------------------------------------------------\n",
            "DATALOADER:0 TEST RESULTS\n",
            "{'loss': tensor(0.6061, device='cuda:0')}\n",
            "--------------------------------------------------------------------------------\n"
          ],
          "name": "stdout"
        },
        {
          "output_type": "stream",
          "text": [
            "GPU available: True, used: True\n",
            "TPU available: None, using: 0 TPU cores\n",
            "LOCAL_RANK: 0 - CUDA_VISIBLE_DEVICES: [0]\n",
            "\n",
            "  | Name    | Type   | Params\n",
            "-----------------------------------\n",
            "0 | layer_1 | Linear | 64    \n",
            "1 | layer_2 | Linear | 30    \n",
            "2 | layer_3 | Linear | 14    \n",
            "-----------------------------------\n",
            "108       Trainable params\n",
            "0         Non-trainable params\n",
            "108       Total params\n"
          ],
          "name": "stderr"
        },
        {
          "output_type": "stream",
          "text": [
            "--------------------------------------------------------------------------------\n",
            "DATALOADER:0 TEST RESULTS\n",
            "{'loss': tensor(0.7266, device='cuda:0')}\n",
            "--------------------------------------------------------------------------------\n"
          ],
          "name": "stdout"
        },
        {
          "output_type": "stream",
          "text": [
            "GPU available: True, used: True\n",
            "TPU available: None, using: 0 TPU cores\n",
            "LOCAL_RANK: 0 - CUDA_VISIBLE_DEVICES: [0]\n",
            "\n",
            "  | Name    | Type   | Params\n",
            "-----------------------------------\n",
            "0 | layer_1 | Linear | 64    \n",
            "1 | layer_2 | Linear | 30    \n",
            "2 | layer_3 | Linear | 14    \n",
            "-----------------------------------\n",
            "108       Trainable params\n",
            "0         Non-trainable params\n",
            "108       Total params\n"
          ],
          "name": "stderr"
        },
        {
          "output_type": "stream",
          "text": [
            "--------------------------------------------------------------------------------\n",
            "DATALOADER:0 TEST RESULTS\n",
            "{'loss': tensor(0.6135, device='cuda:0')}\n",
            "--------------------------------------------------------------------------------\n"
          ],
          "name": "stdout"
        },
        {
          "output_type": "stream",
          "text": [
            "GPU available: True, used: True\n",
            "TPU available: None, using: 0 TPU cores\n",
            "LOCAL_RANK: 0 - CUDA_VISIBLE_DEVICES: [0]\n",
            "\n",
            "  | Name    | Type   | Params\n",
            "-----------------------------------\n",
            "0 | layer_1 | Linear | 64    \n",
            "1 | layer_2 | Linear | 30    \n",
            "2 | layer_3 | Linear | 14    \n",
            "-----------------------------------\n",
            "108       Trainable params\n",
            "0         Non-trainable params\n",
            "108       Total params\n"
          ],
          "name": "stderr"
        },
        {
          "output_type": "stream",
          "text": [
            "--------------------------------------------------------------------------------\n",
            "DATALOADER:0 TEST RESULTS\n",
            "{'loss': tensor(0.7083, device='cuda:0')}\n",
            "--------------------------------------------------------------------------------\n"
          ],
          "name": "stdout"
        },
        {
          "output_type": "stream",
          "text": [
            "GPU available: True, used: True\n",
            "TPU available: None, using: 0 TPU cores\n",
            "LOCAL_RANK: 0 - CUDA_VISIBLE_DEVICES: [0]\n",
            "\n",
            "  | Name    | Type   | Params\n",
            "-----------------------------------\n",
            "0 | layer_1 | Linear | 64    \n",
            "1 | layer_2 | Linear | 30    \n",
            "2 | layer_3 | Linear | 14    \n",
            "-----------------------------------\n",
            "108       Trainable params\n",
            "0         Non-trainable params\n",
            "108       Total params\n"
          ],
          "name": "stderr"
        },
        {
          "output_type": "stream",
          "text": [
            "--------------------------------------------------------------------------------\n",
            "DATALOADER:0 TEST RESULTS\n",
            "{'loss': tensor(0.6006, device='cuda:0')}\n",
            "--------------------------------------------------------------------------------\n"
          ],
          "name": "stdout"
        },
        {
          "output_type": "stream",
          "text": [
            "GPU available: True, used: True\n",
            "TPU available: None, using: 0 TPU cores\n",
            "LOCAL_RANK: 0 - CUDA_VISIBLE_DEVICES: [0]\n",
            "\n",
            "  | Name    | Type   | Params\n",
            "-----------------------------------\n",
            "0 | layer_1 | Linear | 64    \n",
            "1 | layer_2 | Linear | 30    \n",
            "2 | layer_3 | Linear | 14    \n",
            "-----------------------------------\n",
            "108       Trainable params\n",
            "0         Non-trainable params\n",
            "108       Total params\n"
          ],
          "name": "stderr"
        },
        {
          "output_type": "stream",
          "text": [
            "--------------------------------------------------------------------------------\n",
            "DATALOADER:0 TEST RESULTS\n",
            "{'loss': tensor(0.5327, device='cuda:0')}\n",
            "--------------------------------------------------------------------------------\n"
          ],
          "name": "stdout"
        },
        {
          "output_type": "stream",
          "text": [
            "GPU available: True, used: True\n",
            "TPU available: None, using: 0 TPU cores\n",
            "LOCAL_RANK: 0 - CUDA_VISIBLE_DEVICES: [0]\n",
            "\n",
            "  | Name    | Type   | Params\n",
            "-----------------------------------\n",
            "0 | layer_1 | Linear | 64    \n",
            "1 | layer_2 | Linear | 30    \n",
            "2 | layer_3 | Linear | 14    \n",
            "-----------------------------------\n",
            "108       Trainable params\n",
            "0         Non-trainable params\n",
            "108       Total params\n"
          ],
          "name": "stderr"
        },
        {
          "output_type": "stream",
          "text": [
            "--------------------------------------------------------------------------------\n",
            "DATALOADER:0 TEST RESULTS\n",
            "{'loss': tensor(0.8203, device='cuda:0')}\n",
            "--------------------------------------------------------------------------------\n"
          ],
          "name": "stdout"
        },
        {
          "output_type": "stream",
          "text": [
            "GPU available: True, used: True\n",
            "TPU available: None, using: 0 TPU cores\n",
            "LOCAL_RANK: 0 - CUDA_VISIBLE_DEVICES: [0]\n",
            "\n",
            "  | Name    | Type   | Params\n",
            "-----------------------------------\n",
            "0 | layer_1 | Linear | 64    \n",
            "1 | layer_2 | Linear | 30    \n",
            "2 | layer_3 | Linear | 14    \n",
            "-----------------------------------\n",
            "108       Trainable params\n",
            "0         Non-trainable params\n",
            "108       Total params\n"
          ],
          "name": "stderr"
        },
        {
          "output_type": "stream",
          "text": [
            "--------------------------------------------------------------------------------\n",
            "DATALOADER:0 TEST RESULTS\n",
            "{'loss': tensor(0.6028, device='cuda:0')}\n",
            "--------------------------------------------------------------------------------\n"
          ],
          "name": "stdout"
        },
        {
          "output_type": "stream",
          "text": [
            "GPU available: True, used: True\n",
            "TPU available: None, using: 0 TPU cores\n",
            "LOCAL_RANK: 0 - CUDA_VISIBLE_DEVICES: [0]\n",
            "\n",
            "  | Name    | Type   | Params\n",
            "-----------------------------------\n",
            "0 | layer_1 | Linear | 64    \n",
            "1 | layer_2 | Linear | 30    \n",
            "2 | layer_3 | Linear | 14    \n",
            "-----------------------------------\n",
            "108       Trainable params\n",
            "0         Non-trainable params\n",
            "108       Total params\n"
          ],
          "name": "stderr"
        },
        {
          "output_type": "stream",
          "text": [
            "--------------------------------------------------------------------------------\n",
            "DATALOADER:0 TEST RESULTS\n",
            "{'loss': tensor(0.7965, device='cuda:0')}\n",
            "--------------------------------------------------------------------------------\n"
          ],
          "name": "stdout"
        },
        {
          "output_type": "stream",
          "text": [
            "GPU available: True, used: True\n",
            "TPU available: None, using: 0 TPU cores\n",
            "LOCAL_RANK: 0 - CUDA_VISIBLE_DEVICES: [0]\n",
            "\n",
            "  | Name    | Type   | Params\n",
            "-----------------------------------\n",
            "0 | layer_1 | Linear | 64    \n",
            "1 | layer_2 | Linear | 30    \n",
            "2 | layer_3 | Linear | 14    \n",
            "-----------------------------------\n",
            "108       Trainable params\n",
            "0         Non-trainable params\n",
            "108       Total params\n"
          ],
          "name": "stderr"
        },
        {
          "output_type": "stream",
          "text": [
            "--------------------------------------------------------------------------------\n",
            "DATALOADER:0 TEST RESULTS\n",
            "{'loss': tensor(0.6320, device='cuda:0')}\n",
            "--------------------------------------------------------------------------------\n"
          ],
          "name": "stdout"
        },
        {
          "output_type": "stream",
          "text": [
            "GPU available: True, used: True\n",
            "TPU available: None, using: 0 TPU cores\n",
            "LOCAL_RANK: 0 - CUDA_VISIBLE_DEVICES: [0]\n",
            "\n",
            "  | Name    | Type   | Params\n",
            "-----------------------------------\n",
            "0 | layer_1 | Linear | 64    \n",
            "1 | layer_2 | Linear | 30    \n",
            "2 | layer_3 | Linear | 14    \n",
            "-----------------------------------\n",
            "108       Trainable params\n",
            "0         Non-trainable params\n",
            "108       Total params\n"
          ],
          "name": "stderr"
        },
        {
          "output_type": "stream",
          "text": [
            "--------------------------------------------------------------------------------\n",
            "DATALOADER:0 TEST RESULTS\n",
            "{'loss': tensor(0.7454, device='cuda:0')}\n",
            "--------------------------------------------------------------------------------\n"
          ],
          "name": "stdout"
        },
        {
          "output_type": "stream",
          "text": [
            "GPU available: True, used: True\n",
            "TPU available: None, using: 0 TPU cores\n",
            "LOCAL_RANK: 0 - CUDA_VISIBLE_DEVICES: [0]\n",
            "\n",
            "  | Name    | Type   | Params\n",
            "-----------------------------------\n",
            "0 | layer_1 | Linear | 64    \n",
            "1 | layer_2 | Linear | 30    \n",
            "2 | layer_3 | Linear | 14    \n",
            "-----------------------------------\n",
            "108       Trainable params\n",
            "0         Non-trainable params\n",
            "108       Total params\n"
          ],
          "name": "stderr"
        },
        {
          "output_type": "stream",
          "text": [
            "--------------------------------------------------------------------------------\n",
            "DATALOADER:0 TEST RESULTS\n",
            "{'loss': tensor(0.3872, device='cuda:0')}\n",
            "--------------------------------------------------------------------------------\n"
          ],
          "name": "stdout"
        },
        {
          "output_type": "stream",
          "text": [
            "GPU available: True, used: True\n",
            "TPU available: None, using: 0 TPU cores\n",
            "LOCAL_RANK: 0 - CUDA_VISIBLE_DEVICES: [0]\n",
            "\n",
            "  | Name    | Type   | Params\n",
            "-----------------------------------\n",
            "0 | layer_1 | Linear | 64    \n",
            "1 | layer_2 | Linear | 30    \n",
            "2 | layer_3 | Linear | 14    \n",
            "-----------------------------------\n",
            "108       Trainable params\n",
            "0         Non-trainable params\n",
            "108       Total params\n"
          ],
          "name": "stderr"
        },
        {
          "output_type": "stream",
          "text": [
            "--------------------------------------------------------------------------------\n",
            "DATALOADER:0 TEST RESULTS\n",
            "{'loss': tensor(0.8333, device='cuda:0')}\n",
            "--------------------------------------------------------------------------------\n"
          ],
          "name": "stdout"
        },
        {
          "output_type": "stream",
          "text": [
            "GPU available: True, used: True\n",
            "TPU available: None, using: 0 TPU cores\n",
            "LOCAL_RANK: 0 - CUDA_VISIBLE_DEVICES: [0]\n",
            "\n",
            "  | Name    | Type   | Params\n",
            "-----------------------------------\n",
            "0 | layer_1 | Linear | 64    \n",
            "1 | layer_2 | Linear | 30    \n",
            "2 | layer_3 | Linear | 14    \n",
            "-----------------------------------\n",
            "108       Trainable params\n",
            "0         Non-trainable params\n",
            "108       Total params\n"
          ],
          "name": "stderr"
        },
        {
          "output_type": "stream",
          "text": [
            "--------------------------------------------------------------------------------\n",
            "DATALOADER:0 TEST RESULTS\n",
            "{'loss': tensor(0.6154, device='cuda:0')}\n",
            "--------------------------------------------------------------------------------\n"
          ],
          "name": "stdout"
        },
        {
          "output_type": "stream",
          "text": [
            "GPU available: True, used: True\n",
            "TPU available: None, using: 0 TPU cores\n",
            "LOCAL_RANK: 0 - CUDA_VISIBLE_DEVICES: [0]\n",
            "\n",
            "  | Name    | Type   | Params\n",
            "-----------------------------------\n",
            "0 | layer_1 | Linear | 64    \n",
            "1 | layer_2 | Linear | 30    \n",
            "2 | layer_3 | Linear | 14    \n",
            "-----------------------------------\n",
            "108       Trainable params\n",
            "0         Non-trainable params\n",
            "108       Total params\n"
          ],
          "name": "stderr"
        },
        {
          "output_type": "stream",
          "text": [
            "--------------------------------------------------------------------------------\n",
            "DATALOADER:0 TEST RESULTS\n",
            "{'loss': tensor(0.8111, device='cuda:0')}\n",
            "--------------------------------------------------------------------------------\n"
          ],
          "name": "stdout"
        },
        {
          "output_type": "stream",
          "text": [
            "GPU available: True, used: True\n",
            "TPU available: None, using: 0 TPU cores\n",
            "LOCAL_RANK: 0 - CUDA_VISIBLE_DEVICES: [0]\n",
            "\n",
            "  | Name    | Type   | Params\n",
            "-----------------------------------\n",
            "0 | layer_1 | Linear | 64    \n",
            "1 | layer_2 | Linear | 30    \n",
            "2 | layer_3 | Linear | 14    \n",
            "-----------------------------------\n",
            "108       Trainable params\n",
            "0         Non-trainable params\n",
            "108       Total params\n"
          ],
          "name": "stderr"
        },
        {
          "output_type": "stream",
          "text": [
            "--------------------------------------------------------------------------------\n",
            "DATALOADER:0 TEST RESULTS\n",
            "{'loss': tensor(0.7970, device='cuda:0')}\n",
            "--------------------------------------------------------------------------------\n"
          ],
          "name": "stdout"
        },
        {
          "output_type": "stream",
          "text": [
            "GPU available: True, used: True\n",
            "TPU available: None, using: 0 TPU cores\n",
            "LOCAL_RANK: 0 - CUDA_VISIBLE_DEVICES: [0]\n",
            "\n",
            "  | Name    | Type   | Params\n",
            "-----------------------------------\n",
            "0 | layer_1 | Linear | 64    \n",
            "1 | layer_2 | Linear | 30    \n",
            "2 | layer_3 | Linear | 14    \n",
            "-----------------------------------\n",
            "108       Trainable params\n",
            "0         Non-trainable params\n",
            "108       Total params\n"
          ],
          "name": "stderr"
        },
        {
          "output_type": "stream",
          "text": [
            "--------------------------------------------------------------------------------\n",
            "DATALOADER:0 TEST RESULTS\n",
            "{'loss': tensor(0.7309, device='cuda:0')}\n",
            "--------------------------------------------------------------------------------\n"
          ],
          "name": "stdout"
        },
        {
          "output_type": "stream",
          "text": [
            "GPU available: True, used: True\n",
            "TPU available: None, using: 0 TPU cores\n",
            "LOCAL_RANK: 0 - CUDA_VISIBLE_DEVICES: [0]\n",
            "\n",
            "  | Name    | Type   | Params\n",
            "-----------------------------------\n",
            "0 | layer_1 | Linear | 64    \n",
            "1 | layer_2 | Linear | 30    \n",
            "2 | layer_3 | Linear | 14    \n",
            "-----------------------------------\n",
            "108       Trainable params\n",
            "0         Non-trainable params\n",
            "108       Total params\n"
          ],
          "name": "stderr"
        },
        {
          "output_type": "stream",
          "text": [
            "--------------------------------------------------------------------------------\n",
            "DATALOADER:0 TEST RESULTS\n",
            "{'loss': tensor(0.8237, device='cuda:0')}\n",
            "--------------------------------------------------------------------------------\n"
          ],
          "name": "stdout"
        },
        {
          "output_type": "stream",
          "text": [
            "GPU available: True, used: True\n",
            "TPU available: None, using: 0 TPU cores\n",
            "LOCAL_RANK: 0 - CUDA_VISIBLE_DEVICES: [0]\n",
            "\n",
            "  | Name    | Type   | Params\n",
            "-----------------------------------\n",
            "0 | layer_1 | Linear | 64    \n",
            "1 | layer_2 | Linear | 30    \n",
            "2 | layer_3 | Linear | 14    \n",
            "-----------------------------------\n",
            "108       Trainable params\n",
            "0         Non-trainable params\n",
            "108       Total params\n"
          ],
          "name": "stderr"
        },
        {
          "output_type": "stream",
          "text": [
            "--------------------------------------------------------------------------------\n",
            "DATALOADER:0 TEST RESULTS\n",
            "{'loss': tensor(1.0535, device='cuda:0')}\n",
            "--------------------------------------------------------------------------------\n"
          ],
          "name": "stdout"
        },
        {
          "output_type": "stream",
          "text": [
            "GPU available: True, used: True\n",
            "TPU available: None, using: 0 TPU cores\n",
            "LOCAL_RANK: 0 - CUDA_VISIBLE_DEVICES: [0]\n",
            "\n",
            "  | Name    | Type   | Params\n",
            "-----------------------------------\n",
            "0 | layer_1 | Linear | 64    \n",
            "1 | layer_2 | Linear | 30    \n",
            "2 | layer_3 | Linear | 14    \n",
            "-----------------------------------\n",
            "108       Trainable params\n",
            "0         Non-trainable params\n",
            "108       Total params\n"
          ],
          "name": "stderr"
        },
        {
          "output_type": "stream",
          "text": [
            "--------------------------------------------------------------------------------\n",
            "DATALOADER:0 TEST RESULTS\n",
            "{'loss': tensor(0.6447, device='cuda:0')}\n",
            "--------------------------------------------------------------------------------\n"
          ],
          "name": "stdout"
        },
        {
          "output_type": "stream",
          "text": [
            "GPU available: True, used: True\n",
            "TPU available: None, using: 0 TPU cores\n",
            "LOCAL_RANK: 0 - CUDA_VISIBLE_DEVICES: [0]\n",
            "\n",
            "  | Name    | Type   | Params\n",
            "-----------------------------------\n",
            "0 | layer_1 | Linear | 64    \n",
            "1 | layer_2 | Linear | 30    \n",
            "2 | layer_3 | Linear | 14    \n",
            "-----------------------------------\n",
            "108       Trainable params\n",
            "0         Non-trainable params\n",
            "108       Total params\n"
          ],
          "name": "stderr"
        },
        {
          "output_type": "stream",
          "text": [
            "--------------------------------------------------------------------------------\n",
            "DATALOADER:0 TEST RESULTS\n",
            "{'loss': tensor(0.3704, device='cuda:0')}\n",
            "--------------------------------------------------------------------------------\n"
          ],
          "name": "stdout"
        },
        {
          "output_type": "stream",
          "text": [
            "GPU available: True, used: True\n",
            "TPU available: None, using: 0 TPU cores\n",
            "LOCAL_RANK: 0 - CUDA_VISIBLE_DEVICES: [0]\n",
            "\n",
            "  | Name    | Type   | Params\n",
            "-----------------------------------\n",
            "0 | layer_1 | Linear | 64    \n",
            "1 | layer_2 | Linear | 30    \n",
            "2 | layer_3 | Linear | 14    \n",
            "-----------------------------------\n",
            "108       Trainable params\n",
            "0         Non-trainable params\n",
            "108       Total params\n"
          ],
          "name": "stderr"
        },
        {
          "output_type": "stream",
          "text": [
            "--------------------------------------------------------------------------------\n",
            "DATALOADER:0 TEST RESULTS\n",
            "{'loss': tensor(0.5949, device='cuda:0')}\n",
            "--------------------------------------------------------------------------------\n"
          ],
          "name": "stdout"
        },
        {
          "output_type": "stream",
          "text": [
            "GPU available: True, used: True\n",
            "TPU available: None, using: 0 TPU cores\n",
            "LOCAL_RANK: 0 - CUDA_VISIBLE_DEVICES: [0]\n",
            "\n",
            "  | Name    | Type   | Params\n",
            "-----------------------------------\n",
            "0 | layer_1 | Linear | 64    \n",
            "1 | layer_2 | Linear | 30    \n",
            "2 | layer_3 | Linear | 14    \n",
            "-----------------------------------\n",
            "108       Trainable params\n",
            "0         Non-trainable params\n",
            "108       Total params\n"
          ],
          "name": "stderr"
        },
        {
          "output_type": "stream",
          "text": [
            "--------------------------------------------------------------------------------\n",
            "DATALOADER:0 TEST RESULTS\n",
            "{'loss': tensor(0.6263, device='cuda:0')}\n",
            "--------------------------------------------------------------------------------\n"
          ],
          "name": "stdout"
        },
        {
          "output_type": "stream",
          "text": [
            "GPU available: True, used: True\n",
            "TPU available: None, using: 0 TPU cores\n",
            "LOCAL_RANK: 0 - CUDA_VISIBLE_DEVICES: [0]\n",
            "\n",
            "  | Name    | Type   | Params\n",
            "-----------------------------------\n",
            "0 | layer_1 | Linear | 64    \n",
            "1 | layer_2 | Linear | 30    \n",
            "2 | layer_3 | Linear | 14    \n",
            "-----------------------------------\n",
            "108       Trainable params\n",
            "0         Non-trainable params\n",
            "108       Total params\n"
          ],
          "name": "stderr"
        },
        {
          "output_type": "stream",
          "text": [
            "--------------------------------------------------------------------------------\n",
            "DATALOADER:0 TEST RESULTS\n",
            "{'loss': tensor(0.6294, device='cuda:0')}\n",
            "--------------------------------------------------------------------------------\n"
          ],
          "name": "stdout"
        },
        {
          "output_type": "stream",
          "text": [
            "GPU available: True, used: True\n",
            "TPU available: None, using: 0 TPU cores\n",
            "LOCAL_RANK: 0 - CUDA_VISIBLE_DEVICES: [0]\n",
            "\n",
            "  | Name    | Type   | Params\n",
            "-----------------------------------\n",
            "0 | layer_1 | Linear | 64    \n",
            "1 | layer_2 | Linear | 30    \n",
            "2 | layer_3 | Linear | 14    \n",
            "-----------------------------------\n",
            "108       Trainable params\n",
            "0         Non-trainable params\n",
            "108       Total params\n"
          ],
          "name": "stderr"
        },
        {
          "output_type": "stream",
          "text": [
            "--------------------------------------------------------------------------------\n",
            "DATALOADER:0 TEST RESULTS\n",
            "{'loss': tensor(0.5939, device='cuda:0')}\n",
            "--------------------------------------------------------------------------------\n"
          ],
          "name": "stdout"
        },
        {
          "output_type": "stream",
          "text": [
            "GPU available: True, used: True\n",
            "TPU available: None, using: 0 TPU cores\n",
            "LOCAL_RANK: 0 - CUDA_VISIBLE_DEVICES: [0]\n",
            "\n",
            "  | Name    | Type   | Params\n",
            "-----------------------------------\n",
            "0 | layer_1 | Linear | 64    \n",
            "1 | layer_2 | Linear | 30    \n",
            "2 | layer_3 | Linear | 14    \n",
            "-----------------------------------\n",
            "108       Trainable params\n",
            "0         Non-trainable params\n",
            "108       Total params\n"
          ],
          "name": "stderr"
        },
        {
          "output_type": "stream",
          "text": [
            "--------------------------------------------------------------------------------\n",
            "DATALOADER:0 TEST RESULTS\n",
            "{'loss': tensor(0.6165, device='cuda:0')}\n",
            "--------------------------------------------------------------------------------\n"
          ],
          "name": "stdout"
        },
        {
          "output_type": "stream",
          "text": [
            "GPU available: True, used: True\n",
            "TPU available: None, using: 0 TPU cores\n",
            "LOCAL_RANK: 0 - CUDA_VISIBLE_DEVICES: [0]\n",
            "\n",
            "  | Name    | Type   | Params\n",
            "-----------------------------------\n",
            "0 | layer_1 | Linear | 64    \n",
            "1 | layer_2 | Linear | 30    \n",
            "2 | layer_3 | Linear | 14    \n",
            "-----------------------------------\n",
            "108       Trainable params\n",
            "0         Non-trainable params\n",
            "108       Total params\n"
          ],
          "name": "stderr"
        },
        {
          "output_type": "stream",
          "text": [
            "--------------------------------------------------------------------------------\n",
            "DATALOADER:0 TEST RESULTS\n",
            "{'loss': tensor(0.2229, device='cuda:0')}\n",
            "--------------------------------------------------------------------------------\n"
          ],
          "name": "stdout"
        },
        {
          "output_type": "stream",
          "text": [
            "GPU available: True, used: True\n",
            "TPU available: None, using: 0 TPU cores\n",
            "LOCAL_RANK: 0 - CUDA_VISIBLE_DEVICES: [0]\n",
            "\n",
            "  | Name    | Type   | Params\n",
            "-----------------------------------\n",
            "0 | layer_1 | Linear | 64    \n",
            "1 | layer_2 | Linear | 30    \n",
            "2 | layer_3 | Linear | 14    \n",
            "-----------------------------------\n",
            "108       Trainable params\n",
            "0         Non-trainable params\n",
            "108       Total params\n"
          ],
          "name": "stderr"
        },
        {
          "output_type": "stream",
          "text": [
            "--------------------------------------------------------------------------------\n",
            "DATALOADER:0 TEST RESULTS\n",
            "{'loss': tensor(0.5803, device='cuda:0')}\n",
            "--------------------------------------------------------------------------------\n"
          ],
          "name": "stdout"
        },
        {
          "output_type": "stream",
          "text": [
            "GPU available: True, used: True\n",
            "TPU available: None, using: 0 TPU cores\n",
            "LOCAL_RANK: 0 - CUDA_VISIBLE_DEVICES: [0]\n",
            "\n",
            "  | Name    | Type   | Params\n",
            "-----------------------------------\n",
            "0 | layer_1 | Linear | 64    \n",
            "1 | layer_2 | Linear | 30    \n",
            "2 | layer_3 | Linear | 14    \n",
            "-----------------------------------\n",
            "108       Trainable params\n",
            "0         Non-trainable params\n",
            "108       Total params\n"
          ],
          "name": "stderr"
        },
        {
          "output_type": "stream",
          "text": [
            "--------------------------------------------------------------------------------\n",
            "DATALOADER:0 TEST RESULTS\n",
            "{'loss': tensor(0.8206, device='cuda:0')}\n",
            "--------------------------------------------------------------------------------\n"
          ],
          "name": "stdout"
        },
        {
          "output_type": "stream",
          "text": [
            "GPU available: True, used: True\n",
            "TPU available: None, using: 0 TPU cores\n",
            "LOCAL_RANK: 0 - CUDA_VISIBLE_DEVICES: [0]\n",
            "\n",
            "  | Name    | Type   | Params\n",
            "-----------------------------------\n",
            "0 | layer_1 | Linear | 64    \n",
            "1 | layer_2 | Linear | 30    \n",
            "2 | layer_3 | Linear | 14    \n",
            "-----------------------------------\n",
            "108       Trainable params\n",
            "0         Non-trainable params\n",
            "108       Total params\n"
          ],
          "name": "stderr"
        },
        {
          "output_type": "stream",
          "text": [
            "--------------------------------------------------------------------------------\n",
            "DATALOADER:0 TEST RESULTS\n",
            "{'loss': tensor(0.5941, device='cuda:0')}\n",
            "--------------------------------------------------------------------------------\n"
          ],
          "name": "stdout"
        },
        {
          "output_type": "stream",
          "text": [
            "GPU available: True, used: True\n",
            "TPU available: None, using: 0 TPU cores\n",
            "LOCAL_RANK: 0 - CUDA_VISIBLE_DEVICES: [0]\n",
            "\n",
            "  | Name    | Type   | Params\n",
            "-----------------------------------\n",
            "0 | layer_1 | Linear | 64    \n",
            "1 | layer_2 | Linear | 30    \n",
            "2 | layer_3 | Linear | 14    \n",
            "-----------------------------------\n",
            "108       Trainable params\n",
            "0         Non-trainable params\n",
            "108       Total params\n"
          ],
          "name": "stderr"
        },
        {
          "output_type": "stream",
          "text": [
            "--------------------------------------------------------------------------------\n",
            "DATALOADER:0 TEST RESULTS\n",
            "{'loss': tensor(0.5759, device='cuda:0')}\n",
            "--------------------------------------------------------------------------------\n"
          ],
          "name": "stdout"
        },
        {
          "output_type": "stream",
          "text": [
            "GPU available: True, used: True\n",
            "TPU available: None, using: 0 TPU cores\n",
            "LOCAL_RANK: 0 - CUDA_VISIBLE_DEVICES: [0]\n",
            "\n",
            "  | Name    | Type   | Params\n",
            "-----------------------------------\n",
            "0 | layer_1 | Linear | 64    \n",
            "1 | layer_2 | Linear | 30    \n",
            "2 | layer_3 | Linear | 14    \n",
            "-----------------------------------\n",
            "108       Trainable params\n",
            "0         Non-trainable params\n",
            "108       Total params\n"
          ],
          "name": "stderr"
        },
        {
          "output_type": "stream",
          "text": [
            "--------------------------------------------------------------------------------\n",
            "DATALOADER:0 TEST RESULTS\n",
            "{'loss': tensor(0.6166, device='cuda:0')}\n",
            "--------------------------------------------------------------------------------\n"
          ],
          "name": "stdout"
        },
        {
          "output_type": "stream",
          "text": [
            "GPU available: True, used: True\n",
            "TPU available: None, using: 0 TPU cores\n",
            "LOCAL_RANK: 0 - CUDA_VISIBLE_DEVICES: [0]\n",
            "\n",
            "  | Name    | Type   | Params\n",
            "-----------------------------------\n",
            "0 | layer_1 | Linear | 64    \n",
            "1 | layer_2 | Linear | 30    \n",
            "2 | layer_3 | Linear | 14    \n",
            "-----------------------------------\n",
            "108       Trainable params\n",
            "0         Non-trainable params\n",
            "108       Total params\n"
          ],
          "name": "stderr"
        },
        {
          "output_type": "stream",
          "text": [
            "--------------------------------------------------------------------------------\n",
            "DATALOADER:0 TEST RESULTS\n",
            "{'loss': tensor(0.5760, device='cuda:0')}\n",
            "--------------------------------------------------------------------------------\n"
          ],
          "name": "stdout"
        },
        {
          "output_type": "stream",
          "text": [
            "GPU available: True, used: True\n",
            "TPU available: None, using: 0 TPU cores\n",
            "LOCAL_RANK: 0 - CUDA_VISIBLE_DEVICES: [0]\n",
            "\n",
            "  | Name    | Type   | Params\n",
            "-----------------------------------\n",
            "0 | layer_1 | Linear | 64    \n",
            "1 | layer_2 | Linear | 30    \n",
            "2 | layer_3 | Linear | 14    \n",
            "-----------------------------------\n",
            "108       Trainable params\n",
            "0         Non-trainable params\n",
            "108       Total params\n"
          ],
          "name": "stderr"
        },
        {
          "output_type": "stream",
          "text": [
            "--------------------------------------------------------------------------------\n",
            "DATALOADER:0 TEST RESULTS\n",
            "{'loss': tensor(0.8975, device='cuda:0')}\n",
            "--------------------------------------------------------------------------------\n"
          ],
          "name": "stdout"
        },
        {
          "output_type": "stream",
          "text": [
            "GPU available: True, used: True\n",
            "TPU available: None, using: 0 TPU cores\n",
            "LOCAL_RANK: 0 - CUDA_VISIBLE_DEVICES: [0]\n",
            "\n",
            "  | Name    | Type   | Params\n",
            "-----------------------------------\n",
            "0 | layer_1 | Linear | 64    \n",
            "1 | layer_2 | Linear | 30    \n",
            "2 | layer_3 | Linear | 14    \n",
            "-----------------------------------\n",
            "108       Trainable params\n",
            "0         Non-trainable params\n",
            "108       Total params\n"
          ],
          "name": "stderr"
        },
        {
          "output_type": "stream",
          "text": [
            "--------------------------------------------------------------------------------\n",
            "DATALOADER:0 TEST RESULTS\n",
            "{'loss': tensor(0.4108, device='cuda:0')}\n",
            "--------------------------------------------------------------------------------\n"
          ],
          "name": "stdout"
        },
        {
          "output_type": "stream",
          "text": [
            "GPU available: True, used: True\n",
            "TPU available: None, using: 0 TPU cores\n",
            "LOCAL_RANK: 0 - CUDA_VISIBLE_DEVICES: [0]\n",
            "\n",
            "  | Name    | Type   | Params\n",
            "-----------------------------------\n",
            "0 | layer_1 | Linear | 64    \n",
            "1 | layer_2 | Linear | 30    \n",
            "2 | layer_3 | Linear | 14    \n",
            "-----------------------------------\n",
            "108       Trainable params\n",
            "0         Non-trainable params\n",
            "108       Total params\n"
          ],
          "name": "stderr"
        },
        {
          "output_type": "stream",
          "text": [
            "--------------------------------------------------------------------------------\n",
            "DATALOADER:0 TEST RESULTS\n",
            "{'loss': tensor(0.7499, device='cuda:0')}\n",
            "--------------------------------------------------------------------------------\n"
          ],
          "name": "stdout"
        },
        {
          "output_type": "stream",
          "text": [
            "GPU available: True, used: True\n",
            "TPU available: None, using: 0 TPU cores\n",
            "LOCAL_RANK: 0 - CUDA_VISIBLE_DEVICES: [0]\n",
            "\n",
            "  | Name    | Type   | Params\n",
            "-----------------------------------\n",
            "0 | layer_1 | Linear | 64    \n",
            "1 | layer_2 | Linear | 30    \n",
            "2 | layer_3 | Linear | 14    \n",
            "-----------------------------------\n",
            "108       Trainable params\n",
            "0         Non-trainable params\n",
            "108       Total params\n"
          ],
          "name": "stderr"
        },
        {
          "output_type": "stream",
          "text": [
            "--------------------------------------------------------------------------------\n",
            "DATALOADER:0 TEST RESULTS\n",
            "{'loss': tensor(1.3384, device='cuda:0')}\n",
            "--------------------------------------------------------------------------------\n"
          ],
          "name": "stdout"
        },
        {
          "output_type": "stream",
          "text": [
            "GPU available: True, used: True\n",
            "TPU available: None, using: 0 TPU cores\n",
            "LOCAL_RANK: 0 - CUDA_VISIBLE_DEVICES: [0]\n",
            "\n",
            "  | Name    | Type   | Params\n",
            "-----------------------------------\n",
            "0 | layer_1 | Linear | 64    \n",
            "1 | layer_2 | Linear | 30    \n",
            "2 | layer_3 | Linear | 14    \n",
            "-----------------------------------\n",
            "108       Trainable params\n",
            "0         Non-trainable params\n",
            "108       Total params\n"
          ],
          "name": "stderr"
        },
        {
          "output_type": "stream",
          "text": [
            "--------------------------------------------------------------------------------\n",
            "DATALOADER:0 TEST RESULTS\n",
            "{'loss': tensor(0.3940, device='cuda:0')}\n",
            "--------------------------------------------------------------------------------\n"
          ],
          "name": "stdout"
        },
        {
          "output_type": "stream",
          "text": [
            "GPU available: True, used: True\n",
            "TPU available: None, using: 0 TPU cores\n",
            "LOCAL_RANK: 0 - CUDA_VISIBLE_DEVICES: [0]\n",
            "\n",
            "  | Name    | Type   | Params\n",
            "-----------------------------------\n",
            "0 | layer_1 | Linear | 64    \n",
            "1 | layer_2 | Linear | 30    \n",
            "2 | layer_3 | Linear | 14    \n",
            "-----------------------------------\n",
            "108       Trainable params\n",
            "0         Non-trainable params\n",
            "108       Total params\n"
          ],
          "name": "stderr"
        },
        {
          "output_type": "stream",
          "text": [
            "--------------------------------------------------------------------------------\n",
            "DATALOADER:0 TEST RESULTS\n",
            "{'loss': tensor(0.7487, device='cuda:0')}\n",
            "--------------------------------------------------------------------------------\n",
            "--------------------------------------------------------------------------------\n",
            "DATALOADER:0 TEST RESULTS\n",
            "{'loss': tensor(0.4491, device='cuda:0')}\n",
            "--------------------------------------------------------------------------------\n"
          ],
          "name": "stdout"
        }
      ]
    },
    {
      "cell_type": "markdown",
      "metadata": {
        "id": "rANKa7mPlfBO"
      },
      "source": [
        "# Final Tests"
      ]
    },
    {
      "cell_type": "code",
      "metadata": {
        "id": "s89mydJYlcdM"
      },
      "source": [
        "set_seeds()\n",
        "\n",
        "model2 = nflStatsModule(twitter = True)\n",
        "\n",
        "trainer = pl.Trainer(gpus = 1, max_steps=1000, deterministic=True, progress_bar_refresh_rate=0) #max_epochs=8000) #,limit_val_batches=0.125) #Limit val batches\n",
        "\n",
        "data_path = \"/content/drive/MyDrive/Deep Learning Final Project/Data/all_years_twitter.csv\"\n",
        "data_module = nflStatsDataModule(train_batch=29, val_batch=7, data_dir=data_path)\n",
        "\n",
        "trainer.fit(model2, data_module)\n",
        "\n",
        "#This will come later, this is how we will track, final accuracy and how well our net performs\n",
        "trainer.test(model2, datamodule=data_module)\n",
        "\n",
        "plt.plot(ema(model2.training_loss), 'r', label = \"Training Loss\")\n",
        "plt.plot(ema(model2.validation_loss), 'b', label = \"Validation Loss\")\n",
        "plt.title('Loss over steps')\n",
        "plt.ylabel('Loss')\n",
        "plt.xlabel('Steps')\n",
        "plt.legend()\n",
        "plt.show()\n",
        "\n",
        "plt.plot(ema(model2.training_accuracy), 'r', label = \"Training Accuracy\")\n",
        "plt.plot(ema(model2.validation_accuracy), 'b', label = \"Validation Accuracy\")\n",
        "plt.title('Accuracy over steps')\n",
        "plt.ylabel('Accuracy')\n",
        "plt.xlabel('Steps')\n",
        "plt.legend()\n",
        "plt.show()\n",
        "\n",
        "print(model2.validation_accuracy[-1])"
      ],
      "execution_count": null,
      "outputs": []
    },
    {
      "cell_type": "code",
      "metadata": {
        "id": "05u_MS8I3jIt"
      },
      "source": [
        "set_seeds()\n",
        "\n",
        "model = nflStatsModule()\n",
        "\n",
        "trainer = pl.Trainer(gpus = 1, max_steps=9000, deterministic=True, progress_bar_refresh_rate=0) #max_epochs=8000) #,limit_val_batches=0.125) #Limit val batches\n",
        "\n",
        "data_path = \"/content/drive/MyDrive/Deep Learning Final Project/Data/all_years.csv\"\n",
        "data_module = nflStatsDataModule(train_batch=29, val_batch=7, data_dir=data_path)\n",
        "\n",
        "trainer.fit(model, data_module)\n",
        "\n",
        "#This will come later, this is how we will track, final accuracy and how well our net performs\n",
        "trainer.test(model, datamodule=data_module)\n",
        "\n",
        "plt.plot(ema(model.training_loss), 'r', label = \"Training Loss\")\n",
        "plt.plot(ema(model.validation_loss), 'b', label = \"Validation Loss\")\n",
        "plt.title('Loss over steps')\n",
        "plt.ylabel('Loss')\n",
        "plt.xlabel('Steps')\n",
        "plt.legend()\n",
        "plt.show()\n",
        "\n",
        "plt.plot(ema(model.training_accuracy), 'r', label = \"Training Accuracy\")\n",
        "plt.plot(ema(model.validation_accuracy), 'b', label = \"Validation Accuracy\")\n",
        "plt.title('Accuracy over steps')\n",
        "plt.ylabel('Accuracy')\n",
        "plt.xlabel('Steps')\n",
        "plt.legend()\n",
        "plt.show()\n",
        "\n",
        "print(model.validation_accuracy[-1])\n",
        "# #Plot Data\n",
        "\n",
        "# plot_data(model2.training_loss, model2.validation_loss, 'Loss', save= [True,\"twitter_loss_1ksteps\"], show = True)\n",
        "# plot_data(model2.training_accuracy,model2.validation_accuracy, 'Accuracy',save= [True,\"twitter_acc_1ksteps\"], show = True)"
      ],
      "execution_count": null,
      "outputs": []
    },
    {
      "cell_type": "code",
      "metadata": {
        "id": "Tbr3eUUOWaYZ"
      },
      "source": [
        "print(model.correct_predictions)\n",
        "accuracy = 100 * float(sum(model.correct_predictions)) / len(model.correct_predictions)\n",
        "print(accuracy)"
      ],
      "execution_count": null,
      "outputs": []
    }
  ]
}