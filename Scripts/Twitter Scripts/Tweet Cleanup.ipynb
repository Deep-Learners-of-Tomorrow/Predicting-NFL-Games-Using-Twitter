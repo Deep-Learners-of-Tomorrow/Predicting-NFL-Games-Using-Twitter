{
 "cells": [
  {
   "cell_type": "code",
   "execution_count": 2,
   "metadata": {},
   "outputs": [],
   "source": [
    "import pandas as pd\n",
    "import numpy as np"
   ]
  },
  {
   "cell_type": "code",
   "execution_count": 4,
   "metadata": {},
   "outputs": [],
   "source": [
    "year = \"2011\"\n",
    "\n",
    "# Getting the List of Pulled Tweets\n",
    "tweets_file_name = year+\"alltweets.txt\"\n",
    "tweets_header_list = ['id','text']\n",
    "tweets_df = pd.read_csv(tweets_file_name, names=tweets_header_list, sep='\\t',error_bad_lines=False)\n",
    "\n",
    "# Getting all the tweets we were supposed to have\n",
    "data_header_list = [\"id\", \"tweet_time\",\"team\",\"opponent\", \"week\", \"home_or_away\",\"score\",\"opponent_score\",\"point_spread\",\"over_under\"]\n",
    "data_df = pd.read_csv('nfl-tweets-v1.0/tweets.nfl.'+year+'.weekly.csv', names=data_header_list)"
   ]
  },
  {
   "cell_type": "code",
   "execution_count": 5,
   "metadata": {},
   "outputs": [],
   "source": [
    "# Pulling out the list of tweet ids for each\n",
    "all_ids = set(data_df[\"id\"].tolist())\n",
    "pulled_ids = set(tweets_df['id'].tolist())"
   ]
  },
  {
   "cell_type": "code",
   "execution_count": 8,
   "metadata": {},
   "outputs": [],
   "source": [
    "# Finding what's missing\n",
    "missing_tweets = all_ids-pulled_ids"
   ]
  },
  {
   "cell_type": "code",
   "execution_count": 10,
   "metadata": {},
   "outputs": [
    {
     "name": "stdout",
     "output_type": "stream",
     "text": [
      "179917 519240 339323\n"
     ]
    }
   ],
   "source": [
    "print(len(missing_tweets), len(all_ids), len(pulled_ids))"
   ]
  },
  {
   "cell_type": "code",
   "execution_count": 13,
   "metadata": {},
   "outputs": [
    {
     "name": "stdout",
     "output_type": "stream",
     "text": [
      "1 0\n",
      "2 1\n",
      "3 2\n"
     ]
    }
   ],
   "source": [
    "for idx, i in enumerate(a):\n",
    "    print(i, idx)"
   ]
  },
  {
   "cell_type": "markdown",
   "metadata": {},
   "source": [
    "# Looking Into GroupBy"
   ]
  },
  {
   "cell_type": "code",
   "execution_count": 23,
   "metadata": {},
   "outputs": [
    {
     "data": {
      "text/html": [
       "<div>\n",
       "<style scoped>\n",
       "    .dataframe tbody tr th:only-of-type {\n",
       "        vertical-align: middle;\n",
       "    }\n",
       "\n",
       "    .dataframe tbody tr th {\n",
       "        vertical-align: top;\n",
       "    }\n",
       "\n",
       "    .dataframe thead th {\n",
       "        text-align: right;\n",
       "    }\n",
       "</style>\n",
       "<table border=\"1\" class=\"dataframe\">\n",
       "  <thead>\n",
       "    <tr style=\"text-align: right;\">\n",
       "      <th></th>\n",
       "      <th></th>\n",
       "      <th>score</th>\n",
       "    </tr>\n",
       "    <tr>\n",
       "      <th>week</th>\n",
       "      <th>team</th>\n",
       "      <th></th>\n",
       "    </tr>\n",
       "  </thead>\n",
       "  <tbody>\n",
       "    <tr>\n",
       "      <th rowspan=\"2\" valign=\"top\">1</th>\n",
       "      <th>a</th>\n",
       "      <td>6</td>\n",
       "    </tr>\n",
       "    <tr>\n",
       "      <th>b</th>\n",
       "      <td>2</td>\n",
       "    </tr>\n",
       "    <tr>\n",
       "      <th rowspan=\"2\" valign=\"top\">2</th>\n",
       "      <th>a</th>\n",
       "      <td>3</td>\n",
       "    </tr>\n",
       "    <tr>\n",
       "      <th>b</th>\n",
       "      <td>4</td>\n",
       "    </tr>\n",
       "    <tr>\n",
       "      <th rowspan=\"2\" valign=\"top\">3</th>\n",
       "      <th>a</th>\n",
       "      <td>5</td>\n",
       "    </tr>\n",
       "    <tr>\n",
       "      <th>b</th>\n",
       "      <td>6</td>\n",
       "    </tr>\n",
       "    <tr>\n",
       "      <th rowspan=\"2\" valign=\"top\">4</th>\n",
       "      <th>a</th>\n",
       "      <td>7</td>\n",
       "    </tr>\n",
       "    <tr>\n",
       "      <th>b</th>\n",
       "      <td>8</td>\n",
       "    </tr>\n",
       "  </tbody>\n",
       "</table>\n",
       "</div>"
      ],
      "text/plain": [
       "           score\n",
       "week team       \n",
       "1    a         6\n",
       "     b         2\n",
       "2    a         3\n",
       "     b         4\n",
       "3    a         5\n",
       "     b         6\n",
       "4    a         7\n",
       "     b         8"
      ]
     },
     "execution_count": 23,
     "metadata": {},
     "output_type": "execute_result"
    }
   ],
   "source": [
    "d = {'week': [1,1,1,1,2,2,2,2,3,3,3,3,4,4,4,4], 'team': ['a','a','b','b','a','a','b','b','a','a','b','b','a','a','b','b'],'score': [10,2,1,3,2,4,3,5,4,6,5,7,6,8,7,9]}\n",
    "df = pd.DataFrame(data=d)\n",
    "df.groupby(['week','team']).mean()"
   ]
  },
  {
   "cell_type": "code",
   "execution_count": 24,
   "metadata": {},
   "outputs": [],
   "source": [
    "df.to_csv('test.csv',index=False)"
   ]
  },
  {
   "cell_type": "code",
   "execution_count": 25,
   "metadata": {},
   "outputs": [
    {
     "name": "stderr",
     "output_type": "stream",
     "text": [
      "[nltk_data] Downloading package vader_lexicon to\n",
      "[nltk_data]     /Users/stanierc17/nltk_data...\n",
      "[nltk_data]   Package vader_lexicon is already up-to-date!\n"
     ]
    }
   ],
   "source": [
    "import re\n",
    "import nltk\n",
    "#from textblob import TextBlob\n",
    "from nltk.sentiment.vader import SentimentIntensityAnalyzer\n",
    "nltk.download('vader_lexicon')\n",
    "\n",
    "def get_sentiment(tweet):\n",
    "    analyzer = SentimentIntensityAnalyzer()\n",
    "    return analyzer.polarity_scores(tweet)['compound']\n",
    "\n",
    "def add_sentiment(df):\n",
    "    df['sentiment'] = df['text'].apply(lambda x: get_sentiment(str(x)))\n",
    "    return df\n",
    "\n",
    "def cleanTxt(text):\n",
    "    text = re.sub('@[A-Za-z0–9]+', '', text) #Removing @mentions\n",
    "    text = re.sub('#', '', text) # Removing '#' hash tag\n",
    "    text = re.sub('RT[\\s]+', '', text) # Removing RT\n",
    "    text = re.sub('https?:\\/\\/\\S+', '', text) # Removing hyperlink\n",
    "    return text\n",
    "\n",
    "def make_twitter_df(year):\n",
    "    year = str(year)\n",
    "    tweets_file_name = year+\"alltweets.txt\"\n",
    "    tweets_header_list = ['id','text']\n",
    "    tweets_df = pd.read_csv(tweets_file_name, names=tweets_header_list, sep='\\t',error_bad_lines=False)\n",
    "    tweets_df = tweets_df.dropna()\n",
    "    tweets_df['text'] = tweets_df['text'].apply(cleanTxt)\n",
    "    tweets_df['id'] = tweets_df['id'].apply(int)\n",
    "    \n",
    "    data_header_list = [\"id\", \"tweet_time\",\"team\",\"opponent\", \"week\", \"home_or_away\",\"score\",\"opponent_score\",\"point_spread\",\"over_under\"]\n",
    "    data_df = pd.read_csv('nfl-tweets-v1.0/tweets.nfl.'+year+'.weekly.csv', names=data_header_list)\n",
    "    \n",
    "    combined_df = pd.merge(data_df,tweets_df,on='id').dropna()\n",
    "    sent_df = add_sentiment(combined_df)\n",
    "    \n",
    "    final_df = sent_df[[\"team\", \"week\",\"sentiment\",\"text\"]]\n",
    "    final_df = final_df.groupby(['team','week'],as_index=False)['sentiment'].mean()\n",
    "\n",
    "    return final_df"
   ]
  },
  {
   "cell_type": "code",
   "execution_count": 26,
   "metadata": {},
   "outputs": [],
   "source": [
    "df = make_twitter_df(2012)"
   ]
  },
  {
   "cell_type": "code",
   "execution_count": 27,
   "metadata": {},
   "outputs": [],
   "source": [
    "df.to_csv(\"2012sentiment.csv\",index=False)"
   ]
  },
  {
   "cell_type": "code",
   "execution_count": null,
   "metadata": {},
   "outputs": [],
   "source": []
  }
 ],
 "metadata": {
  "kernelspec": {
   "display_name": "Python 3",
   "language": "python",
   "name": "python3"
  },
  "language_info": {
   "codemirror_mode": {
    "name": "ipython",
    "version": 3
   },
   "file_extension": ".py",
   "mimetype": "text/x-python",
   "name": "python",
   "nbconvert_exporter": "python",
   "pygments_lexer": "ipython3",
   "version": "3.8.2"
  }
 },
 "nbformat": 4,
 "nbformat_minor": 4
}
