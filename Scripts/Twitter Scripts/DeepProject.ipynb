{
 "cells": [
  {
   "cell_type": "code",
   "execution_count": 3,
   "metadata": {},
   "outputs": [],
   "source": [
    "from sportsreference.nfl.teams import Teams\n",
    "from sportsreference.nfl.boxscore import Boxscores"
   ]
  },
  {
   "cell_type": "code",
   "execution_count": 1,
   "metadata": {},
   "outputs": [
    {
     "name": "stdout",
     "output_type": "stream",
     "text": [
      "Collecting sportsreference\n",
      "  Using cached sportsreference-0.5.2-py3-none-any.whl (472 kB)\n",
      "Requirement already satisfied: pandas>=0.24.1 in /usr/local/Cellar/jupyterlab/2.1.2/libexec/lib/python3.8/site-packages (from sportsreference) (1.1.4)\n",
      "Requirement already satisfied: requests>=2.18.4 in /usr/local/Cellar/jupyterlab/2.1.2/libexec/lib/python3.8/site-packages (from sportsreference) (2.23.0)\n",
      "Collecting pyquery>=1.4.0\n",
      "  Downloading pyquery-1.4.3-py3-none-any.whl (22 kB)\n",
      "Requirement already satisfied: python-dateutil>=2.7.3 in /usr/local/Cellar/jupyterlab/2.1.2/libexec/lib/python3.8/site-packages (from pandas>=0.24.1->sportsreference) (2.8.1)\n",
      "Requirement already satisfied: numpy>=1.15.4 in /usr/local/Cellar/jupyterlab/2.1.2/libexec/lib/python3.8/site-packages (from pandas>=0.24.1->sportsreference) (1.19.4)\n",
      "Requirement already satisfied: pytz>=2017.2 in /usr/local/Cellar/jupyterlab/2.1.2/libexec/lib/python3.8/site-packages (from pandas>=0.24.1->sportsreference) (2020.4)\n",
      "Requirement already satisfied: chardet<4,>=3.0.2 in /usr/local/Cellar/jupyterlab/2.1.2/libexec/lib/python3.8/site-packages (from requests>=2.18.4->sportsreference) (3.0.4)\n",
      "Requirement already satisfied: idna<3,>=2.5 in /usr/local/Cellar/jupyterlab/2.1.2/libexec/lib/python3.8/site-packages (from requests>=2.18.4->sportsreference) (2.9)\n",
      "Requirement already satisfied: urllib3!=1.25.0,!=1.25.1,<1.26,>=1.21.1 in /usr/local/Cellar/jupyterlab/2.1.2/libexec/lib/python3.8/site-packages (from requests>=2.18.4->sportsreference) (1.25.9)\n",
      "Requirement already satisfied: certifi>=2017.4.17 in /usr/local/Cellar/jupyterlab/2.1.2/libexec/lib/python3.8/site-packages (from requests>=2.18.4->sportsreference) (2020.4.5.1)\n",
      "Collecting lxml>=2.1\n",
      "  Downloading lxml-4.6.2-cp38-cp38-macosx_10_9_x86_64.whl (4.6 MB)\n",
      "\u001b[K     |████████████████████████████████| 4.6 MB 2.3 MB/s eta 0:00:01\n",
      "\u001b[?25hCollecting cssselect>0.7.9\n",
      "  Using cached cssselect-1.1.0-py2.py3-none-any.whl (16 kB)\n",
      "Requirement already satisfied: six>=1.5 in /usr/local/Cellar/jupyterlab/2.1.2/libexec/lib/python3.8/site-packages (from python-dateutil>=2.7.3->pandas>=0.24.1->sportsreference) (1.14.0)\n",
      "Installing collected packages: lxml, cssselect, pyquery, sportsreference\n",
      "Successfully installed cssselect-1.1.0 lxml-4.6.2 pyquery-1.4.3 sportsreference-0.5.2\n",
      "\u001b[33mWARNING: You are using pip version 20.1; however, version 20.3.3 is available.\n",
      "You should consider upgrading via the '/usr/local/Cellar/jupyterlab/2.1.2/libexec/bin/python3.8 -m pip install --upgrade pip' command.\u001b[0m\n",
      "Note: you may need to restart the kernel to use updated packages.\n"
     ]
    }
   ],
   "source": [
    "%pip install sportsreference"
   ]
  },
  {
   "cell_type": "code",
   "execution_count": 4,
   "metadata": {},
   "outputs": [],
   "source": [
    "games_today = Boxscores(2, 2010)"
   ]
  },
  {
   "cell_type": "code",
   "execution_count": 5,
   "metadata": {},
   "outputs": [
    {
     "name": "stdout",
     "output_type": "stream",
     "text": [
      "{'2-2010': [{'boxscore': '201009190cin', 'away_name': 'Baltimore Ravens', 'away_abbr': 'rav', 'away_score': 10, 'home_name': 'Cincinnati Bengals', 'home_abbr': 'cin', 'home_score': 15, 'winning_name': 'Cincinnati Bengals', 'winning_abbr': 'cin', 'losing_name': 'Baltimore Ravens', 'losing_abbr': 'rav'}, {'boxscore': '201009190oti', 'away_name': 'Pittsburgh Steelers', 'away_abbr': 'pit', 'away_score': 19, 'home_name': 'Tennessee Titans', 'home_abbr': 'oti', 'home_score': 11, 'winning_name': 'Pittsburgh Steelers', 'winning_abbr': 'pit', 'losing_name': 'Tennessee Titans', 'losing_abbr': 'oti'}, {'boxscore': '201009190gnb', 'away_name': 'Buffalo Bills', 'away_abbr': 'buf', 'away_score': 7, 'home_name': 'Green Bay Packers', 'home_abbr': 'gnb', 'home_score': 34, 'winning_name': 'Green Bay Packers', 'winning_abbr': 'gnb', 'losing_name': 'Buffalo Bills', 'losing_abbr': 'buf'}, {'boxscore': '201009190det', 'away_name': 'Philadelphia Eagles', 'away_abbr': 'phi', 'away_score': 35, 'home_name': 'Detroit Lions', 'home_abbr': 'det', 'home_score': 32, 'winning_name': 'Philadelphia Eagles', 'winning_abbr': 'phi', 'losing_name': 'Detroit Lions', 'losing_abbr': 'det'}, {'boxscore': '201009190cle', 'away_name': 'Kansas City Chiefs', 'away_abbr': 'kan', 'away_score': 16, 'home_name': 'Cleveland Browns', 'home_abbr': 'cle', 'home_score': 14, 'winning_name': 'Kansas City Chiefs', 'winning_abbr': 'kan', 'losing_name': 'Cleveland Browns', 'losing_abbr': 'cle'}, {'boxscore': '201009190car', 'away_name': 'Tampa Bay Buccaneers', 'away_abbr': 'tam', 'away_score': 20, 'home_name': 'Carolina Panthers', 'home_abbr': 'car', 'home_score': 7, 'winning_name': 'Tampa Bay Buccaneers', 'winning_abbr': 'tam', 'losing_name': 'Carolina Panthers', 'losing_abbr': 'car'}, {'boxscore': '201009190atl', 'away_name': 'Arizona Cardinals', 'away_abbr': 'crd', 'away_score': 7, 'home_name': 'Atlanta Falcons', 'home_abbr': 'atl', 'home_score': 41, 'winning_name': 'Atlanta Falcons', 'winning_abbr': 'atl', 'losing_name': 'Arizona Cardinals', 'losing_abbr': 'crd'}, {'boxscore': '201009190min', 'away_name': 'Miami Dolphins', 'away_abbr': 'mia', 'away_score': 14, 'home_name': 'Minnesota Vikings', 'home_abbr': 'min', 'home_score': 10, 'winning_name': 'Miami Dolphins', 'winning_abbr': 'mia', 'losing_name': 'Minnesota Vikings', 'losing_abbr': 'min'}, {'boxscore': '201009190dal', 'away_name': 'Chicago Bears', 'away_abbr': 'chi', 'away_score': 27, 'home_name': 'Dallas Cowboys', 'home_abbr': 'dal', 'home_score': 20, 'winning_name': 'Chicago Bears', 'winning_abbr': 'chi', 'losing_name': 'Dallas Cowboys', 'losing_abbr': 'dal'}, {'boxscore': '201009190rai', 'away_name': 'St. Louis Rams', 'away_abbr': 'ram', 'away_score': 14, 'home_name': 'Oakland Raiders', 'home_abbr': 'rai', 'home_score': 16, 'winning_name': 'Oakland Raiders', 'winning_abbr': 'rai', 'losing_name': 'St. Louis Rams', 'losing_abbr': 'ram'}, {'boxscore': '201009190den', 'away_name': 'Seattle Seahawks', 'away_abbr': 'sea', 'away_score': 14, 'home_name': 'Denver Broncos', 'home_abbr': 'den', 'home_score': 31, 'winning_name': 'Denver Broncos', 'winning_abbr': 'den', 'losing_name': 'Seattle Seahawks', 'losing_abbr': 'sea'}, {'boxscore': '201009190was', 'away_name': 'Houston Texans', 'away_abbr': 'htx', 'away_score': 30, 'home_name': 'Washington Redskins', 'home_abbr': 'was', 'home_score': 27, 'winning_name': 'Houston Texans', 'winning_abbr': 'htx', 'losing_name': 'Washington Redskins', 'losing_abbr': 'was'}, {'boxscore': '201009190sdg', 'away_name': 'Jacksonville Jaguars', 'away_abbr': 'jax', 'away_score': 13, 'home_name': 'San Diego Chargers', 'home_abbr': 'sdg', 'home_score': 38, 'winning_name': 'San Diego Chargers', 'winning_abbr': 'sdg', 'losing_name': 'Jacksonville Jaguars', 'losing_abbr': 'jax'}, {'boxscore': '201009190nyj', 'away_name': 'New England Patriots', 'away_abbr': 'nwe', 'away_score': 14, 'home_name': 'New York Jets', 'home_abbr': 'nyj', 'home_score': 28, 'winning_name': 'New York Jets', 'winning_abbr': 'nyj', 'losing_name': 'New England Patriots', 'losing_abbr': 'nwe'}, {'boxscore': '201009190clt', 'away_name': 'New York Giants', 'away_abbr': 'nyg', 'away_score': 14, 'home_name': 'Indianapolis Colts', 'home_abbr': 'clt', 'home_score': 38, 'winning_name': 'Indianapolis Colts', 'winning_abbr': 'clt', 'losing_name': 'New York Giants', 'losing_abbr': 'nyg'}, {'boxscore': '201009200sfo', 'away_name': 'New Orleans Saints', 'away_abbr': 'nor', 'away_score': 25, 'home_name': 'San Francisco 49ers', 'home_abbr': 'sfo', 'home_score': 22, 'winning_name': 'New Orleans Saints', 'winning_abbr': 'nor', 'losing_name': 'San Francisco 49ers', 'losing_abbr': 'sfo'}]}\n"
     ]
    }
   ],
   "source": [
    "print(games_today.games)"
   ]
  },
  {
   "cell_type": "code",
   "execution_count": null,
   "metadata": {},
   "outputs": [],
   "source": [
    "game_data = Boxscore('201709070nwe')"
   ]
  },
  {
   "cell_type": "code",
   "execution_count": 11,
   "metadata": {},
   "outputs": [
    {
     "data": {
      "text/html": [
       "<div>\n",
       "<style scoped>\n",
       "    .dataframe tbody tr th:only-of-type {\n",
       "        vertical-align: middle;\n",
       "    }\n",
       "\n",
       "    .dataframe tbody tr th {\n",
       "        vertical-align: top;\n",
       "    }\n",
       "\n",
       "    .dataframe thead th {\n",
       "        text-align: right;\n",
       "    }\n",
       "</style>\n",
       "<table border=\"1\" class=\"dataframe\">\n",
       "  <thead>\n",
       "    <tr style=\"text-align: right;\">\n",
       "      <th></th>\n",
       "      <th>attendance</th>\n",
       "      <th>away_first_downs</th>\n",
       "      <th>away_fourth_down_attempts</th>\n",
       "      <th>away_fourth_down_conversions</th>\n",
       "      <th>away_fumbles</th>\n",
       "      <th>away_fumbles_lost</th>\n",
       "      <th>away_interceptions</th>\n",
       "      <th>away_net_pass_yards</th>\n",
       "      <th>away_pass_attempts</th>\n",
       "      <th>away_pass_completions</th>\n",
       "      <th>...</th>\n",
       "      <th>home_turnovers</th>\n",
       "      <th>home_yards_from_penalties</th>\n",
       "      <th>home_yards_lost_from_sacks</th>\n",
       "      <th>losing_abbr</th>\n",
       "      <th>losing_name</th>\n",
       "      <th>stadium</th>\n",
       "      <th>time</th>\n",
       "      <th>winner</th>\n",
       "      <th>winning_abbr</th>\n",
       "      <th>winning_name</th>\n",
       "    </tr>\n",
       "  </thead>\n",
       "  <tbody>\n",
       "    <tr>\n",
       "      <th>201709070nwe</th>\n",
       "      <td>65878</td>\n",
       "      <td>26</td>\n",
       "      <td>0</td>\n",
       "      <td>0</td>\n",
       "      <td>2</td>\n",
       "      <td>1</td>\n",
       "      <td>0</td>\n",
       "      <td>352</td>\n",
       "      <td>35</td>\n",
       "      <td>28</td>\n",
       "      <td>...</td>\n",
       "      <td>0</td>\n",
       "      <td>55</td>\n",
       "      <td>20</td>\n",
       "      <td>NWE</td>\n",
       "      <td>New England Patriots</td>\n",
       "      <td>Gillette Stadium</td>\n",
       "      <td>8:30pm</td>\n",
       "      <td>Away</td>\n",
       "      <td>KAN</td>\n",
       "      <td>Kansas City Chiefs</td>\n",
       "    </tr>\n",
       "  </tbody>\n",
       "</table>\n",
       "<p>1 rows × 58 columns</p>\n",
       "</div>"
      ],
      "text/plain": [
       "              attendance  away_first_downs  away_fourth_down_attempts  \\\n",
       "201709070nwe       65878                26                          0   \n",
       "\n",
       "              away_fourth_down_conversions  away_fumbles  away_fumbles_lost  \\\n",
       "201709070nwe                             0             2                  1   \n",
       "\n",
       "              away_interceptions  away_net_pass_yards  away_pass_attempts  \\\n",
       "201709070nwe                   0                  352                  35   \n",
       "\n",
       "              away_pass_completions  ...  home_turnovers  \\\n",
       "201709070nwe                     28  ...               0   \n",
       "\n",
       "              home_yards_from_penalties  home_yards_lost_from_sacks  \\\n",
       "201709070nwe                         55                          20   \n",
       "\n",
       "              losing_abbr           losing_name           stadium    time  \\\n",
       "201709070nwe          NWE  New England Patriots  Gillette Stadium  8:30pm   \n",
       "\n",
       "              winner  winning_abbr        winning_name  \n",
       "201709070nwe    Away           KAN  Kansas City Chiefs  \n",
       "\n",
       "[1 rows x 58 columns]"
      ]
     },
     "execution_count": 11,
     "metadata": {},
     "output_type": "execute_result"
    }
   ],
   "source": [
    "df = game_data.dataframe \n",
    "df.head()"
   ]
  },
  {
   "cell_type": "code",
   "execution_count": 12,
   "metadata": {},
   "outputs": [
    {
     "name": "stdout",
     "output_type": "stream",
     "text": [
      "Collecting tweepy\n",
      "  Downloading https://files.pythonhosted.org/packages/bb/7c/99d51f80f3b77b107ebae2634108717362c059a41384a1810d13e2429a81/tweepy-3.9.0-py2.py3-none-any.whl\n",
      "Requirement already satisfied: requests[socks]>=2.11.1 in /Users/stanierc17/anaconda3/lib/python3.7/site-packages (from tweepy) (2.22.0)\n",
      "Requirement already satisfied: six>=1.10.0 in /Users/stanierc17/anaconda3/lib/python3.7/site-packages (from tweepy) (1.12.0)\n",
      "Collecting requests-oauthlib>=0.7.0 (from tweepy)\n",
      "  Downloading https://files.pythonhosted.org/packages/a3/12/b92740d845ab62ea4edf04d2f4164d82532b5a0b03836d4d4e71c6f3d379/requests_oauthlib-1.3.0-py2.py3-none-any.whl\n",
      "Requirement already satisfied: certifi>=2017.4.17 in /Users/stanierc17/anaconda3/lib/python3.7/site-packages (from requests[socks]>=2.11.1->tweepy) (2019.6.16)\n",
      "Requirement already satisfied: idna<2.9,>=2.5 in /Users/stanierc17/anaconda3/lib/python3.7/site-packages (from requests[socks]>=2.11.1->tweepy) (2.8)\n",
      "Requirement already satisfied: chardet<3.1.0,>=3.0.2 in /Users/stanierc17/anaconda3/lib/python3.7/site-packages (from requests[socks]>=2.11.1->tweepy) (3.0.4)\n",
      "Requirement already satisfied: urllib3!=1.25.0,!=1.25.1,<1.26,>=1.21.1 in /Users/stanierc17/anaconda3/lib/python3.7/site-packages (from requests[socks]>=2.11.1->tweepy) (1.24.2)\n",
      "Requirement already satisfied: PySocks!=1.5.7,>=1.5.6; extra == \"socks\" in /Users/stanierc17/anaconda3/lib/python3.7/site-packages (from requests[socks]>=2.11.1->tweepy) (1.7.0)\n",
      "Collecting oauthlib>=3.0.0 (from requests-oauthlib>=0.7.0->tweepy)\n",
      "\u001b[?25l  Downloading https://files.pythonhosted.org/packages/05/57/ce2e7a8fa7c0afb54a0581b14a65b56e62b5759dbc98e80627142b8a3704/oauthlib-3.1.0-py2.py3-none-any.whl (147kB)\n",
      "\u001b[K     |████████████████████████████████| 153kB 4.4MB/s eta 0:00:01\n",
      "\u001b[?25hInstalling collected packages: oauthlib, requests-oauthlib, tweepy\n",
      "Successfully installed oauthlib-3.1.0 requests-oauthlib-1.3.0 tweepy-3.9.0\n",
      "Note: you may need to restart the kernel to use updated packages.\n"
     ]
    }
   ],
   "source": [
    "%pip install tweepy"
   ]
  },
  {
   "cell_type": "code",
   "execution_count": 10,
   "metadata": {},
   "outputs": [],
   "source": [
    "import tweepy\n",
    "\n",
    "# Twitter Developer keys here\n",
    "# It is CENSORED\n",
    "consumer_key = 'gsRDvnb0jTVbF7TOOtHbG1sUR'\n",
    "consumer_key_secret = 'MhZZApwBk1ipSGt2ORngg7oLHWx4aJ4iPQujnjDrAqYQQz13um'\n",
    "access_token = '1326973506647625728-Qm13wltJzawex8V31nJmJFWF5gkeGM'\n",
    "access_token_secret = 'YAJ38bZJaRtLD1qxpk8dEKBBEnRISHyNCw5yMRIF0PpDh'\n",
    "\n",
    "auth = tweepy.OAuthHandler(consumer_key, consumer_key_secret)\n",
    "auth.set_access_token(access_token, access_token_secret)\n",
    "api = tweepy.API(auth)"
   ]
  },
  {
   "cell_type": "code",
   "execution_count": 11,
   "metadata": {},
   "outputs": [
    {
     "name": "stdout",
     "output_type": "stream",
     "text": [
      "Tweet fetched: Can someone please tell me WTF the #Seahawks are doing? #retards\n"
     ]
    }
   ],
   "source": [
    "tweetFetched = api.get_status(\"22662042404\")\n",
    "print(\"Tweet fetched: \" + tweetFetched.text)"
   ]
  },
  {
   "cell_type": "code",
   "execution_count": 3,
   "metadata": {},
   "outputs": [
    {
     "ename": "TypeError",
     "evalue": "read_csv() missing 1 required positional argument: 'filepath_or_buffer'",
     "output_type": "error",
     "traceback": [
      "\u001b[0;31m---------------------------------------------------------------------------\u001b[0m",
      "\u001b[0;31mTypeError\u001b[0m                                 Traceback (most recent call last)",
      "\u001b[0;32m<ipython-input-3-03c300d401f6>\u001b[0m in \u001b[0;36m<module>\u001b[0;34m\u001b[0m\n\u001b[1;32m      1\u001b[0m \u001b[0;32mimport\u001b[0m \u001b[0mpandas\u001b[0m \u001b[0;32mas\u001b[0m \u001b[0mpd\u001b[0m\u001b[0;34m\u001b[0m\u001b[0;34m\u001b[0m\u001b[0m\n\u001b[0;32m----> 2\u001b[0;31m \u001b[0mdf\u001b[0m \u001b[0;34m=\u001b[0m \u001b[0mpd\u001b[0m\u001b[0;34m.\u001b[0m\u001b[0mread_csv\u001b[0m\u001b[0;34m(\u001b[0m\u001b[0;34m)\u001b[0m\u001b[0;34m\u001b[0m\u001b[0;34m\u001b[0m\u001b[0m\n\u001b[0m",
      "\u001b[0;31mTypeError\u001b[0m: read_csv() missing 1 required positional argument: 'filepath_or_buffer'"
     ]
    }
   ],
   "source": [
    "import pandas as pd\n",
    "df = pd.read_csv()"
   ]
  },
  {
   "cell_type": "code",
   "execution_count": 17,
   "metadata": {},
   "outputs": [],
   "source": [
    "f = open('workfile.txt', 'a')\n",
    "    "
   ]
  },
  {
   "cell_type": "code",
   "execution_count": 4,
   "metadata": {},
   "outputs": [
    {
     "name": "stdout",
     "output_type": "stream",
     "text": [
      "environ({'TERM_PROGRAM': 'Apple_Terminal', 'SHELL': '/bin/zsh', 'TERM': 'xterm-color', 'TMPDIR': '/var/folders/pl/k6tk2ch95zs3jd8vt1bqf4qc0000gp/T/', 'TERM_PROGRAM_VERSION': '433', 'TERM_SESSION_ID': 'AD96ED59-320C-48B2-99EE-E2398891C12A', 'USER': 'stanierc17', 'SSH_AUTH_SOCK': '/private/tmp/com.apple.launchd.XrZK2RXJGS/Listeners', 'PATH': '/Users/stanierc17/anaconda3/condabin:/usr/local/bin:/usr/bin:/bin:/usr/sbin:/sbin:/Library/TeX/texbin:/opt/X11/bin:/Library/Frameworks/Mono.framework/Versions/Current/Commands:/Applications/Wireshark.app/Contents/MacOS:/Users/stanierc17/Desktop/college/clubs/DSC/flutter/bin', 'PWD': '/Users/stanierc17/Desktop', 'LANG': 'en_US.UTF-8', 'XPC_FLAGS': '0x0', 'XPC_SERVICE_NAME': '0', 'SHLVL': '1', 'HOME': '/Users/stanierc17', 'LOGNAME': 'stanierc17', 'DISPLAY': '/private/tmp/com.apple.launchd.RaowOxUzT0/org.macosforge.xquartz:0', 'OLDPWD': '/Users/stanierc17/Desktop', 'CONDA_EXE': '/Users/stanierc17/anaconda3/bin/conda', '_CE_M': '', '_CE_CONDA': '', 'CONDA_PYTHON_EXE': '/Users/stanierc17/anaconda3/bin/python', 'CONDA_SHLVL': '0', '_': '/usr/local/bin/jupyter', '__CF_USER_TEXT_ENCODING': '0x1F6:0x0:0x0', 'KERNEL_LAUNCH_TIMEOUT': '40', 'JPY_PARENT_PID': '2816', 'CLICOLOR': '1', 'PAGER': 'cat', 'GIT_PAGER': 'cat', 'MPLBACKEND': 'module://ipykernel.pylab.backend_inline'})\n"
     ]
    }
   ],
   "source": [
    "import os\n",
    "print(os.environ)"
   ]
  },
  {
   "cell_type": "code",
   "execution_count": 22,
   "metadata": {},
   "outputs": [
    {
     "data": {
      "text/plain": [
       "'/Users/stanierc17/Desktop'"
      ]
     },
     "execution_count": 22,
     "metadata": {},
     "output_type": "execute_result"
    }
   ],
   "source": [
    "%pwd"
   ]
  },
  {
   "cell_type": "code",
   "execution_count": 23,
   "metadata": {},
   "outputs": [
    {
     "data": {
      "text/plain": [
       "4"
      ]
     },
     "execution_count": 23,
     "metadata": {},
     "output_type": "execute_result"
    }
   ],
   "source": [
    "f.write('heyo')"
   ]
  },
  {
   "cell_type": "code",
   "execution_count": 32,
   "metadata": {},
   "outputs": [
    {
     "name": "stdout",
     "output_type": "stream",
     "text": [
      "done\n",
      "done\n",
      "done\n"
     ]
    }
   ],
   "source": [
    "for _ in range(3):\n",
    "    with open('Example2.txt', 'a') as writefile:\n",
    "        writefile.write(\"id\")\n",
    "        writefile.write(\"bitches\")\n",
    "        writefile.write(\"\\n\")\n",
    "    print('done')\n",
    "    time.sleep(10)"
   ]
  },
  {
   "cell_type": "code",
   "execution_count": 5,
   "metadata": {},
   "outputs": [
    {
     "name": "stdout",
     "output_type": "stream",
     "text": [
      "Collecting pandas\n",
      "  Downloading pandas-1.1.4-cp38-cp38-macosx_10_9_x86_64.whl (10.1 MB)\n",
      "\u001b[K     |████████████████████████████████| 10.1 MB 3.3 MB/s eta 0:00:01\n",
      "\u001b[?25hCollecting pytz>=2017.2\n",
      "  Using cached pytz-2020.4-py2.py3-none-any.whl (509 kB)\n",
      "Collecting numpy>=1.15.4\n",
      "  Downloading numpy-1.19.4-cp38-cp38-macosx_10_9_x86_64.whl (15.3 MB)\n",
      "\u001b[K     |████████████████████████████████| 15.3 MB 13.5 MB/s eta 0:00:01   |██████████▏                     | 4.9 MB 5.2 MB/s eta 0:00:02\n",
      "\u001b[?25hRequirement already satisfied: python-dateutil>=2.7.3 in /usr/local/Cellar/jupyterlab/2.1.2/libexec/lib/python3.8/site-packages (from pandas) (2.8.1)\n",
      "Requirement already satisfied: six>=1.5 in /usr/local/Cellar/jupyterlab/2.1.2/libexec/lib/python3.8/site-packages (from python-dateutil>=2.7.3->pandas) (1.14.0)\n",
      "Installing collected packages: pytz, numpy, pandas\n",
      "Successfully installed numpy-1.19.4 pandas-1.1.4 pytz-2020.4\n",
      "\u001b[33mWARNING: You are using pip version 20.1; however, version 20.2.4 is available.\n",
      "You should consider upgrading via the '/usr/local/Cellar/jupyterlab/2.1.2/libexec/bin/python3.8 -m pip install --upgrade pip' command.\u001b[0m\n",
      "Note: you may need to restart the kernel to use updated packages.\n"
     ]
    }
   ],
   "source": [
    "%pip install pandas"
   ]
  },
  {
   "cell_type": "markdown",
   "metadata": {},
   "source": [
    "# START HERE"
   ]
  },
  {
   "cell_type": "code",
   "execution_count": 2,
   "metadata": {},
   "outputs": [],
   "source": [
    "import tweepy\n",
    "\n",
    "# Twitter Developer keys here\n",
    "# It is CENSORED (not sure what I meant by that originally)\n",
    "consumer_key = 'gsRDvnb0jTVbF7TOOtHbG1sUR'\n",
    "consumer_key_secret = 'MhZZApwBk1ipSGt2ORngg7oLHWx4aJ4iPQujnjDrAqYQQz13um'\n",
    "access_token = '1326973506647625728-Qm13wltJzawex8V31nJmJFWF5gkeGM'\n",
    "access_token_secret = 'YAJ38bZJaRtLD1qxpk8dEKBBEnRISHyNCw5yMRIF0PpDh'\n",
    "\n",
    "auth = tweepy.OAuthHandler(consumer_key, consumer_key_secret)\n",
    "auth.set_access_token(access_token, access_token_secret)\n",
    "api = tweepy.API(auth, wait_on_rate_limit=True, wait_on_rate_limit_notify=True)"
   ]
  },
  {
   "cell_type": "code",
   "execution_count": 3,
   "metadata": {},
   "outputs": [],
   "source": [
    "import pandas as pd\n",
    "import numpy as np\n",
    "header_list = [\"tweet_ID\", \"tweet_time\",\"team\",\"opponent\", \"week\", \"home_or_away\",\"score\",\"opponent_score\",\"point_spread\",\"over_under\"]\n",
    "  "
   ]
  },
  {
   "cell_type": "code",
   "execution_count": 3,
   "metadata": {},
   "outputs": [],
   "source": [
    "df = pd.read_csv('nfl-tweets-v1.0/tweets.nfl.2012.weekly.csv', names=header_list)"
   ]
  },
  {
   "cell_type": "code",
   "execution_count": 4,
   "metadata": {},
   "outputs": [],
   "source": [
    "tweets = df[\"tweet_ID\"].tolist()"
   ]
  },
  {
   "cell_type": "code",
   "execution_count": 5,
   "metadata": {},
   "outputs": [
    {
     "name": "stdout",
     "output_type": "stream",
     "text": [
      "65415 243138358933590018\n"
     ]
    }
   ],
   "source": [
    "with open('2012lastwrite.txt', 'r') as readfile:\n",
    "    f=readfile.readlines()\n",
    "last_tweet = int(f[-1].split('\\t')[0])\n",
    "last_tweet_index = tweets.index(last_tweet)\n",
    "print(last_tweet_index,last_tweet)"
   ]
  },
  {
   "cell_type": "code",
   "execution_count": 6,
   "metadata": {},
   "outputs": [],
   "source": [
    "rest_of_tweets = tweets[last_tweet_index:]"
   ]
  },
  {
   "cell_type": "code",
   "execution_count": null,
   "metadata": {},
   "outputs": [
    {
     "name": "stderr",
     "output_type": "stream",
     "text": [
      "Rate limit reached. Sleeping for: 140\n",
      "Rate limit reached. Sleeping for: 747\n",
      "Rate limit reached. Sleeping for: 749\n",
      "Rate limit reached. Sleeping for: 752\n",
      "Rate limit reached. Sleeping for: 750\n",
      "Rate limit reached. Sleeping for: 729\n",
      "Rate limit reached. Sleeping for: 745\n",
      "Rate limit reached. Sleeping for: 748\n",
      "Rate limit reached. Sleeping for: 744\n",
      "Rate limit reached. Sleeping for: 748\n",
      "Rate limit reached. Sleeping for: 742\n",
      "Rate limit reached. Sleeping for: 747\n",
      "Rate limit reached. Sleeping for: 747\n",
      "Rate limit reached. Sleeping for: 680\n",
      "Rate limit reached. Sleeping for: 747\n",
      "Rate limit reached. Sleeping for: 745\n",
      "Rate limit reached. Sleeping for: 745\n",
      "Rate limit reached. Sleeping for: 745\n",
      "Rate limit reached. Sleeping for: 745\n",
      "Rate limit reached. Sleeping for: 744\n",
      "Rate limit reached. Sleeping for: 731\n",
      "Rate limit reached. Sleeping for: 743\n",
      "Rate limit reached. Sleeping for: 617\n",
      "Rate limit reached. Sleeping for: 742\n",
      "Rate limit reached. Sleeping for: 751\n",
      "Rate limit reached. Sleeping for: 753\n",
      "Rate limit reached. Sleeping for: 746\n",
      "Rate limit reached. Sleeping for: 747\n",
      "Rate limit reached. Sleeping for: 749\n",
      "Rate limit reached. Sleeping for: 748\n",
      "Rate limit reached. Sleeping for: 752\n",
      "Rate limit reached. Sleeping for: 635\n",
      "Rate limit reached. Sleeping for: 752\n",
      "Rate limit reached. Sleeping for: 749\n",
      "Rate limit reached. Sleeping for: 754\n",
      "Rate limit reached. Sleeping for: 752\n",
      "Rate limit reached. Sleeping for: 754\n",
      "Rate limit reached. Sleeping for: 753\n",
      "Rate limit reached. Sleeping for: 750\n",
      "Rate limit reached. Sleeping for: 753\n",
      "Rate limit reached. Sleeping for: 747\n",
      "Rate limit reached. Sleeping for: 746\n",
      "Rate limit reached. Sleeping for: 748\n",
      "Rate limit reached. Sleeping for: 750\n",
      "Rate limit reached. Sleeping for: 747\n",
      "Rate limit reached. Sleeping for: 747\n",
      "Rate limit reached. Sleeping for: 747\n",
      "Rate limit reached. Sleeping for: 755\n",
      "Rate limit reached. Sleeping for: 752\n",
      "Rate limit reached. Sleeping for: 747\n",
      "Rate limit reached. Sleeping for: 751\n",
      "Rate limit reached. Sleeping for: 752\n",
      "Rate limit reached. Sleeping for: 753\n",
      "Rate limit reached. Sleeping for: 751\n",
      "Rate limit reached. Sleeping for: 748\n",
      "Rate limit reached. Sleeping for: 747\n",
      "Rate limit reached. Sleeping for: 750\n",
      "Rate limit reached. Sleeping for: 749\n",
      "Rate limit reached. Sleeping for: 751\n",
      "Rate limit reached. Sleeping for: 753\n",
      "Rate limit reached. Sleeping for: 754\n",
      "Rate limit reached. Sleeping for: 750\n",
      "Rate limit reached. Sleeping for: 745\n",
      "Rate limit reached. Sleeping for: 747\n",
      "Rate limit reached. Sleeping for: 747\n",
      "Rate limit reached. Sleeping for: 747\n",
      "Rate limit reached. Sleeping for: 685\n",
      "Rate limit reached. Sleeping for: 745\n",
      "Rate limit reached. Sleeping for: 744\n",
      "Rate limit reached. Sleeping for: 745\n",
      "Rate limit reached. Sleeping for: 745\n",
      "Rate limit reached. Sleeping for: 747\n",
      "Rate limit reached. Sleeping for: 754\n",
      "Rate limit reached. Sleeping for: 750\n",
      "Rate limit reached. Sleeping for: 754\n",
      "Rate limit reached. Sleeping for: 754\n",
      "Rate limit reached. Sleeping for: 748\n",
      "Rate limit reached. Sleeping for: 728\n",
      "Rate limit reached. Sleeping for: 749\n",
      "Rate limit reached. Sleeping for: 749\n",
      "Rate limit reached. Sleeping for: 689\n",
      "Rate limit reached. Sleeping for: 748\n",
      "Rate limit reached. Sleeping for: 744\n",
      "Rate limit reached. Sleeping for: 751\n",
      "Rate limit reached. Sleeping for: 747\n",
      "Rate limit reached. Sleeping for: 750\n",
      "Rate limit reached. Sleeping for: 748\n",
      "Rate limit reached. Sleeping for: 745\n",
      "Rate limit reached. Sleeping for: 751\n",
      "Rate limit reached. Sleeping for: 755\n",
      "Rate limit reached. Sleeping for: 754\n",
      "Rate limit reached. Sleeping for: 752\n",
      "Rate limit reached. Sleeping for: 752\n",
      "Rate limit reached. Sleeping for: 630\n",
      "Rate limit reached. Sleeping for: 758\n",
      "Rate limit reached. Sleeping for: 758\n",
      "Rate limit reached. Sleeping for: 759\n",
      "Rate limit reached. Sleeping for: 752\n",
      "Rate limit reached. Sleeping for: 752\n",
      "Rate limit reached. Sleeping for: 751\n",
      "Rate limit reached. Sleeping for: 747\n",
      "Rate limit reached. Sleeping for: 748\n",
      "Rate limit reached. Sleeping for: 747\n",
      "Rate limit reached. Sleeping for: 747\n",
      "Rate limit reached. Sleeping for: 747\n",
      "Rate limit reached. Sleeping for: 747\n",
      "Rate limit reached. Sleeping for: 740\n",
      "Rate limit reached. Sleeping for: 749\n",
      "Rate limit reached. Sleeping for: 747\n",
      "Rate limit reached. Sleeping for: 745\n",
      "Rate limit reached. Sleeping for: 631\n",
      "Rate limit reached. Sleeping for: 744\n",
      "Rate limit reached. Sleeping for: 744\n",
      "Rate limit reached. Sleeping for: 743\n",
      "Rate limit reached. Sleeping for: 747\n",
      "Rate limit reached. Sleeping for: 745\n",
      "Rate limit reached. Sleeping for: 723\n",
      "Rate limit reached. Sleeping for: 733\n",
      "Rate limit reached. Sleeping for: 742\n",
      "Rate limit reached. Sleeping for: 740\n",
      "Rate limit reached. Sleeping for: 740\n",
      "Rate limit reached. Sleeping for: 748\n",
      "Rate limit reached. Sleeping for: 745\n",
      "Rate limit reached. Sleeping for: 746\n",
      "Rate limit reached. Sleeping for: 746\n",
      "Rate limit reached. Sleeping for: 746\n",
      "Rate limit reached. Sleeping for: 617\n",
      "Rate limit reached. Sleeping for: 733\n",
      "Rate limit reached. Sleeping for: 744\n",
      "Rate limit reached. Sleeping for: 745\n",
      "Rate limit reached. Sleeping for: 748\n",
      "Rate limit reached. Sleeping for: 748\n",
      "Rate limit reached. Sleeping for: 749\n",
      "Rate limit reached. Sleeping for: 751\n",
      "Rate limit reached. Sleeping for: 746\n",
      "Rate limit reached. Sleeping for: 749\n",
      "Rate limit reached. Sleeping for: 745\n",
      "Rate limit reached. Sleeping for: 746\n",
      "Rate limit reached. Sleeping for: 750\n",
      "Rate limit reached. Sleeping for: 749\n",
      "Rate limit reached. Sleeping for: 752\n",
      "Rate limit reached. Sleeping for: 751\n",
      "Rate limit reached. Sleeping for: 625\n",
      "Rate limit reached. Sleeping for: 748\n",
      "Rate limit reached. Sleeping for: 749\n",
      "Rate limit reached. Sleeping for: 747\n",
      "Rate limit reached. Sleeping for: 748\n",
      "Rate limit reached. Sleeping for: 748\n",
      "Rate limit reached. Sleeping for: 749\n",
      "Rate limit reached. Sleeping for: 747\n",
      "Rate limit reached. Sleeping for: 752\n",
      "Rate limit reached. Sleeping for: 752\n",
      "Rate limit reached. Sleeping for: 756\n",
      "Rate limit reached. Sleeping for: 756\n",
      "Rate limit reached. Sleeping for: 754\n",
      "Rate limit reached. Sleeping for: 749\n",
      "Rate limit reached. Sleeping for: 747\n",
      "Rate limit reached. Sleeping for: 749\n",
      "Rate limit reached. Sleeping for: 748\n",
      "Rate limit reached. Sleeping for: 631\n",
      "Rate limit reached. Sleeping for: 748\n",
      "Rate limit reached. Sleeping for: 744\n",
      "Rate limit reached. Sleeping for: 741\n",
      "Rate limit reached. Sleeping for: 710\n",
      "Rate limit reached. Sleeping for: 747\n",
      "Rate limit reached. Sleeping for: 749\n",
      "Rate limit reached. Sleeping for: 741\n",
      "Rate limit reached. Sleeping for: 747\n",
      "Rate limit reached. Sleeping for: 747\n",
      "Rate limit reached. Sleeping for: 747\n",
      "Rate limit reached. Sleeping for: 688\n",
      "Rate limit reached. Sleeping for: 744\n",
      "Rate limit reached. Sleeping for: 751\n",
      "Rate limit reached. Sleeping for: 744\n",
      "Rate limit reached. Sleeping for: 749\n",
      "Rate limit reached. Sleeping for: 749\n",
      "Rate limit reached. Sleeping for: 743\n",
      "Rate limit reached. Sleeping for: 744\n",
      "Rate limit reached. Sleeping for: 747\n",
      "Rate limit reached. Sleeping for: 746\n",
      "Rate limit reached. Sleeping for: 746\n",
      "Rate limit reached. Sleeping for: 749\n",
      "Rate limit reached. Sleeping for: 747\n",
      "Rate limit reached. Sleeping for: 749\n",
      "Rate limit reached. Sleeping for: 753\n",
      "Rate limit reached. Sleeping for: 752\n",
      "Rate limit reached. Sleeping for: 750\n",
      "Rate limit reached. Sleeping for: 749\n",
      "Rate limit reached. Sleeping for: 747\n",
      "Rate limit reached. Sleeping for: 744\n",
      "Rate limit reached. Sleeping for: 746\n",
      "Rate limit reached. Sleeping for: 747\n",
      "Rate limit reached. Sleeping for: 748\n",
      "Rate limit reached. Sleeping for: 747\n",
      "Rate limit reached. Sleeping for: 748\n",
      "Rate limit reached. Sleeping for: 752\n",
      "Rate limit reached. Sleeping for: 688\n",
      "Rate limit reached. Sleeping for: 746\n",
      "Rate limit reached. Sleeping for: 747\n",
      "Rate limit reached. Sleeping for: 749\n",
      "Rate limit reached. Sleeping for: 751\n",
      "Rate limit reached. Sleeping for: 748\n",
      "Rate limit reached. Sleeping for: 739\n",
      "Rate limit reached. Sleeping for: 747\n",
      "Rate limit reached. Sleeping for: 748\n",
      "Rate limit reached. Sleeping for: 688\n",
      "Rate limit reached. Sleeping for: 750\n",
      "Rate limit reached. Sleeping for: 750\n",
      "Rate limit reached. Sleeping for: 752\n",
      "Rate limit reached. Sleeping for: 745\n",
      "Rate limit reached. Sleeping for: 754\n",
      "Rate limit reached. Sleeping for: 752\n",
      "Rate limit reached. Sleeping for: 753\n",
      "Rate limit reached. Sleeping for: 756\n",
      "Rate limit reached. Sleeping for: 693\n",
      "Rate limit reached. Sleeping for: 757\n"
     ]
    },
    {
     "name": "stderr",
     "output_type": "stream",
     "text": [
      "Rate limit reached. Sleeping for: 756\n",
      "Rate limit reached. Sleeping for: 759\n",
      "Rate limit reached. Sleeping for: 759\n",
      "Rate limit reached. Sleeping for: 753\n",
      "Rate limit reached. Sleeping for: 754\n",
      "Rate limit reached. Sleeping for: 754\n",
      "Rate limit reached. Sleeping for: 752\n",
      "Rate limit reached. Sleeping for: 692\n",
      "Rate limit reached. Sleeping for: 756\n",
      "Rate limit reached. Sleeping for: 756\n",
      "Rate limit reached. Sleeping for: 758\n",
      "Rate limit reached. Sleeping for: 752\n",
      "Rate limit reached. Sleeping for: 753\n",
      "Rate limit reached. Sleeping for: 753\n",
      "Rate limit reached. Sleeping for: 755\n",
      "Rate limit reached. Sleeping for: 753\n",
      "Rate limit reached. Sleeping for: 695\n",
      "Rate limit reached. Sleeping for: 756\n",
      "Rate limit reached. Sleeping for: 753\n",
      "Rate limit reached. Sleeping for: 753\n",
      "Rate limit reached. Sleeping for: 750\n",
      "Rate limit reached. Sleeping for: 756\n",
      "Rate limit reached. Sleeping for: 754\n",
      "Rate limit reached. Sleeping for: 750\n",
      "Rate limit reached. Sleeping for: 754\n",
      "Rate limit reached. Sleeping for: 750\n",
      "Rate limit reached. Sleeping for: 753\n",
      "Rate limit reached. Sleeping for: 752\n",
      "Rate limit reached. Sleeping for: 749\n",
      "Rate limit reached. Sleeping for: 745\n",
      "Rate limit reached. Sleeping for: 746\n",
      "Rate limit reached. Sleeping for: 749\n",
      "Rate limit reached. Sleeping for: 751\n",
      "Rate limit reached. Sleeping for: 695\n",
      "Rate limit reached. Sleeping for: 751\n",
      "Rate limit reached. Sleeping for: 753\n",
      "Rate limit reached. Sleeping for: 751\n",
      "Rate limit reached. Sleeping for: 754\n",
      "Rate limit reached. Sleeping for: 754\n",
      "Rate limit reached. Sleeping for: 752\n",
      "Rate limit reached. Sleeping for: 753\n",
      "Rate limit reached. Sleeping for: 752\n",
      "Rate limit reached. Sleeping for: 694\n",
      "Rate limit reached. Sleeping for: 751\n",
      "Rate limit reached. Sleeping for: 752\n",
      "Rate limit reached. Sleeping for: 752\n",
      "Rate limit reached. Sleeping for: 753\n",
      "Rate limit reached. Sleeping for: 741\n",
      "Rate limit reached. Sleeping for: 742\n",
      "Rate limit reached. Sleeping for: 747\n",
      "Rate limit reached. Sleeping for: 749\n",
      "Rate limit reached. Sleeping for: 687\n",
      "Rate limit reached. Sleeping for: 743\n",
      "Rate limit reached. Sleeping for: 747\n",
      "Rate limit reached. Sleeping for: 748\n",
      "Rate limit reached. Sleeping for: 746\n",
      "Rate limit reached. Sleeping for: 747\n",
      "Rate limit reached. Sleeping for: 746\n",
      "Rate limit reached. Sleeping for: 741\n",
      "Rate limit reached. Sleeping for: 739\n",
      "Rate limit reached. Sleeping for: 687\n",
      "Rate limit reached. Sleeping for: 749\n",
      "Rate limit reached. Sleeping for: 744\n",
      "Rate limit reached. Sleeping for: 747\n",
      "Rate limit reached. Sleeping for: 744\n",
      "Rate limit reached. Sleeping for: 747\n",
      "Rate limit reached. Sleeping for: 744\n",
      "Rate limit reached. Sleeping for: 745\n",
      "Rate limit reached. Sleeping for: 743\n",
      "Rate limit reached. Sleeping for: 688\n",
      "Rate limit reached. Sleeping for: 745\n",
      "Rate limit reached. Sleeping for: 747\n",
      "Rate limit reached. Sleeping for: 753\n",
      "Rate limit reached. Sleeping for: 740\n",
      "Rate limit reached. Sleeping for: 742\n",
      "Rate limit reached. Sleeping for: 748\n",
      "Rate limit reached. Sleeping for: 748\n",
      "Rate limit reached. Sleeping for: 748\n",
      "Rate limit reached. Sleeping for: 687\n",
      "Rate limit reached. Sleeping for: 745\n",
      "Rate limit reached. Sleeping for: 746\n",
      "Rate limit reached. Sleeping for: 741\n",
      "Rate limit reached. Sleeping for: 746\n",
      "Rate limit reached. Sleeping for: 747\n",
      "Rate limit reached. Sleeping for: 753\n",
      "Rate limit reached. Sleeping for: 745\n",
      "Rate limit reached. Sleeping for: 747\n",
      "Rate limit reached. Sleeping for: 752\n",
      "Rate limit reached. Sleeping for: 750\n",
      "Rate limit reached. Sleeping for: 752\n",
      "Rate limit reached. Sleeping for: 750\n",
      "Rate limit reached. Sleeping for: 752\n",
      "Rate limit reached. Sleeping for: 751\n",
      "Rate limit reached. Sleeping for: 754\n",
      "Rate limit reached. Sleeping for: 756\n",
      "Rate limit reached. Sleeping for: 752\n",
      "Rate limit reached. Sleeping for: 755\n",
      "Rate limit reached. Sleeping for: 754\n",
      "Rate limit reached. Sleeping for: 756\n",
      "Rate limit reached. Sleeping for: 755\n",
      "Rate limit reached. Sleeping for: 757\n",
      "Rate limit reached. Sleeping for: 754\n",
      "Rate limit reached. Sleeping for: 755\n",
      "Rate limit reached. Sleeping for: 754\n",
      "Rate limit reached. Sleeping for: 743\n",
      "Rate limit reached. Sleeping for: 753\n",
      "Rate limit reached. Sleeping for: 756\n",
      "Rate limit reached. Sleeping for: 757\n",
      "Rate limit reached. Sleeping for: 755\n",
      "Rate limit reached. Sleeping for: 754\n",
      "Rate limit reached. Sleeping for: 756\n",
      "Rate limit reached. Sleeping for: 756\n",
      "Rate limit reached. Sleeping for: 744\n",
      "Rate limit reached. Sleeping for: 695\n",
      "Rate limit reached. Sleeping for: 755\n",
      "Rate limit reached. Sleeping for: 760\n",
      "Rate limit reached. Sleeping for: 755\n",
      "Rate limit reached. Sleeping for: 756\n",
      "Rate limit reached. Sleeping for: 752\n",
      "Rate limit reached. Sleeping for: 755\n",
      "Rate limit reached. Sleeping for: 752\n",
      "Rate limit reached. Sleeping for: 751\n",
      "Rate limit reached. Sleeping for: 692\n",
      "Rate limit reached. Sleeping for: 751\n",
      "Rate limit reached. Sleeping for: 753\n",
      "Rate limit reached. Sleeping for: 747\n",
      "Rate limit reached. Sleeping for: 753\n",
      "Rate limit reached. Sleeping for: 748\n",
      "Rate limit reached. Sleeping for: 749\n",
      "Rate limit reached. Sleeping for: 751\n",
      "Rate limit reached. Sleeping for: 751\n",
      "Rate limit reached. Sleeping for: 729\n",
      "Rate limit reached. Sleeping for: 753\n",
      "Rate limit reached. Sleeping for: 748\n",
      "Rate limit reached. Sleeping for: 747\n",
      "Rate limit reached. Sleeping for: 750\n",
      "Rate limit reached. Sleeping for: 748\n",
      "Rate limit reached. Sleeping for: 748\n",
      "Rate limit reached. Sleeping for: 751\n",
      "Rate limit reached. Sleeping for: 750\n",
      "Rate limit reached. Sleeping for: 689\n",
      "Rate limit reached. Sleeping for: 752\n",
      "Rate limit reached. Sleeping for: 754\n",
      "Rate limit reached. Sleeping for: 751\n",
      "Rate limit reached. Sleeping for: 749\n",
      "Rate limit reached. Sleeping for: 743\n",
      "Rate limit reached. Sleeping for: 751\n",
      "Rate limit reached. Sleeping for: 747\n",
      "Rate limit reached. Sleeping for: 748\n",
      "Rate limit reached. Sleeping for: 746\n",
      "Rate limit reached. Sleeping for: 750\n",
      "Rate limit reached. Sleeping for: 750\n",
      "Rate limit reached. Sleeping for: 749\n",
      "Rate limit reached. Sleeping for: 750\n",
      "Rate limit reached. Sleeping for: 751\n",
      "Rate limit reached. Sleeping for: 753\n",
      "Rate limit reached. Sleeping for: 749\n",
      "Rate limit reached. Sleeping for: 689\n",
      "Rate limit reached. Sleeping for: 747\n",
      "Rate limit reached. Sleeping for: 750\n",
      "Rate limit reached. Sleeping for: 753\n",
      "Rate limit reached. Sleeping for: 749\n",
      "Rate limit reached. Sleeping for: 748\n",
      "Rate limit reached. Sleeping for: 751\n",
      "Rate limit reached. Sleeping for: 751\n",
      "Rate limit reached. Sleeping for: 749\n",
      "Rate limit reached. Sleeping for: 685\n",
      "Rate limit reached. Sleeping for: 750\n",
      "Rate limit reached. Sleeping for: 751\n",
      "Rate limit reached. Sleeping for: 746\n",
      "Rate limit reached. Sleeping for: 743\n",
      "Rate limit reached. Sleeping for: 749\n",
      "Rate limit reached. Sleeping for: 751\n",
      "Rate limit reached. Sleeping for: 754\n",
      "Rate limit reached. Sleeping for: 752\n",
      "Rate limit reached. Sleeping for: 689\n",
      "Rate limit reached. Sleeping for: 748\n",
      "Rate limit reached. Sleeping for: 746\n",
      "Rate limit reached. Sleeping for: 748\n",
      "Rate limit reached. Sleeping for: 748\n",
      "Rate limit reached. Sleeping for: 754\n",
      "Rate limit reached. Sleeping for: 748\n",
      "Rate limit reached. Sleeping for: 752\n",
      "Rate limit reached. Sleeping for: 754\n",
      "Rate limit reached. Sleeping for: 682\n",
      "Rate limit reached. Sleeping for: 751\n",
      "Rate limit reached. Sleeping for: 754\n",
      "Rate limit reached. Sleeping for: 754\n",
      "Rate limit reached. Sleeping for: 757\n",
      "Rate limit reached. Sleeping for: 751\n",
      "Rate limit reached. Sleeping for: 753\n",
      "Rate limit reached. Sleeping for: 752\n",
      "Rate limit reached. Sleeping for: 753\n",
      "Rate limit reached. Sleeping for: 691\n",
      "Rate limit reached. Sleeping for: 753\n",
      "Rate limit reached. Sleeping for: 753\n",
      "Rate limit reached. Sleeping for: 755\n",
      "Rate limit reached. Sleeping for: 754\n",
      "Rate limit reached. Sleeping for: 754\n",
      "Rate limit reached. Sleeping for: 758\n",
      "Rate limit reached. Sleeping for: 753\n",
      "Rate limit reached. Sleeping for: 745\n",
      "Rate limit reached. Sleeping for: 692\n",
      "Rate limit reached. Sleeping for: 753\n",
      "Rate limit reached. Sleeping for: 757\n",
      "Rate limit reached. Sleeping for: 754\n",
      "Rate limit reached. Sleeping for: 752\n",
      "Rate limit reached. Sleeping for: 754\n",
      "Rate limit reached. Sleeping for: 757\n",
      "Rate limit reached. Sleeping for: 752\n",
      "Rate limit reached. Sleeping for: 750\n",
      "Rate limit reached. Sleeping for: 751\n",
      "Rate limit reached. Sleeping for: 751\n",
      "Rate limit reached. Sleeping for: 751\n",
      "Rate limit reached. Sleeping for: 749\n",
      "Rate limit reached. Sleeping for: 749\n"
     ]
    },
    {
     "name": "stderr",
     "output_type": "stream",
     "text": [
      "Rate limit reached. Sleeping for: 746\n",
      "Rate limit reached. Sleeping for: 745\n",
      "Rate limit reached. Sleeping for: 750\n",
      "Rate limit reached. Sleeping for: 744\n",
      "Rate limit reached. Sleeping for: 749\n",
      "Rate limit reached. Sleeping for: 746\n",
      "Rate limit reached. Sleeping for: 748\n",
      "Rate limit reached. Sleeping for: 751\n",
      "Rate limit reached. Sleeping for: 747\n",
      "Rate limit reached. Sleeping for: 746\n",
      "Rate limit reached. Sleeping for: 750\n",
      "Rate limit reached. Sleeping for: 748\n",
      "Rate limit reached. Sleeping for: 750\n",
      "Rate limit reached. Sleeping for: 749\n",
      "Rate limit reached. Sleeping for: 756\n",
      "Rate limit reached. Sleeping for: 752\n",
      "Rate limit reached. Sleeping for: 756\n",
      "Rate limit reached. Sleeping for: 749\n",
      "Rate limit reached. Sleeping for: 749\n",
      "Rate limit reached. Sleeping for: 750\n",
      "Rate limit reached. Sleeping for: 749\n",
      "Rate limit reached. Sleeping for: 688\n",
      "Rate limit reached. Sleeping for: 741\n",
      "Rate limit reached. Sleeping for: 746\n",
      "Rate limit reached. Sleeping for: 745\n",
      "Rate limit reached. Sleeping for: 748\n",
      "Rate limit reached. Sleeping for: 745\n",
      "Rate limit reached. Sleeping for: 744\n",
      "Rate limit reached. Sleeping for: 745\n",
      "Rate limit reached. Sleeping for: 747\n",
      "Rate limit reached. Sleeping for: 681\n",
      "Rate limit reached. Sleeping for: 742\n",
      "Rate limit reached. Sleeping for: 743\n",
      "Rate limit reached. Sleeping for: 743\n",
      "Rate limit reached. Sleeping for: 745\n",
      "Rate limit reached. Sleeping for: 741\n",
      "Rate limit reached. Sleeping for: 746\n",
      "Rate limit reached. Sleeping for: 744\n",
      "Rate limit reached. Sleeping for: 747\n",
      "Rate limit reached. Sleeping for: 685\n",
      "Rate limit reached. Sleeping for: 747\n",
      "Rate limit reached. Sleeping for: 746\n",
      "Rate limit reached. Sleeping for: 746\n",
      "Rate limit reached. Sleeping for: 748\n",
      "Rate limit reached. Sleeping for: 748\n",
      "Rate limit reached. Sleeping for: 751\n",
      "Rate limit reached. Sleeping for: 748\n",
      "Rate limit reached. Sleeping for: 754\n",
      "Rate limit reached. Sleeping for: 624\n",
      "Rate limit reached. Sleeping for: 744\n",
      "Rate limit reached. Sleeping for: 747\n",
      "Rate limit reached. Sleeping for: 750\n",
      "Rate limit reached. Sleeping for: 748\n",
      "Rate limit reached. Sleeping for: 745\n",
      "Rate limit reached. Sleeping for: 745\n",
      "Rate limit reached. Sleeping for: 742\n",
      "Rate limit reached. Sleeping for: 744\n",
      "Rate limit reached. Sleeping for: 742\n",
      "Rate limit reached. Sleeping for: 745\n",
      "Rate limit reached. Sleeping for: 748\n",
      "Rate limit reached. Sleeping for: 746\n",
      "Rate limit reached. Sleeping for: 746\n",
      "Rate limit reached. Sleeping for: 751\n",
      "Rate limit reached. Sleeping for: 748\n",
      "Rate limit reached. Sleeping for: 751\n",
      "Rate limit reached. Sleeping for: 744\n",
      "Rate limit reached. Sleeping for: 753\n",
      "Rate limit reached. Sleeping for: 754\n",
      "Rate limit reached. Sleeping for: 749\n",
      "Rate limit reached. Sleeping for: 751\n",
      "Rate limit reached. Sleeping for: 749\n",
      "Rate limit reached. Sleeping for: 752\n",
      "Rate limit reached. Sleeping for: 743\n",
      "Rate limit reached. Sleeping for: 743\n",
      "Rate limit reached. Sleeping for: 680\n",
      "Rate limit reached. Sleeping for: 743\n",
      "Rate limit reached. Sleeping for: 744\n",
      "Rate limit reached. Sleeping for: 745\n",
      "Rate limit reached. Sleeping for: 741\n",
      "Rate limit reached. Sleeping for: 747\n",
      "Rate limit reached. Sleeping for: 747\n",
      "Rate limit reached. Sleeping for: 742\n",
      "Rate limit reached. Sleeping for: 748\n",
      "Rate limit reached. Sleeping for: 674\n",
      "Rate limit reached. Sleeping for: 741\n",
      "Rate limit reached. Sleeping for: 747\n",
      "Rate limit reached. Sleeping for: 748\n",
      "Rate limit reached. Sleeping for: 747\n",
      "Rate limit reached. Sleeping for: 750\n",
      "Rate limit reached. Sleeping for: 741\n",
      "Rate limit reached. Sleeping for: 750\n",
      "Rate limit reached. Sleeping for: 747\n",
      "Rate limit reached. Sleeping for: 734\n",
      "Rate limit reached. Sleeping for: 744\n",
      "Rate limit reached. Sleeping for: 745\n",
      "Rate limit reached. Sleeping for: 752\n",
      "Rate limit reached. Sleeping for: 754\n",
      "Rate limit reached. Sleeping for: 750\n",
      "Rate limit reached. Sleeping for: 756\n",
      "Rate limit reached. Sleeping for: 758\n",
      "Rate limit reached. Sleeping for: 746\n",
      "Rate limit reached. Sleeping for: 740\n",
      "Rate limit reached. Sleeping for: 747\n",
      "Rate limit reached. Sleeping for: 746\n",
      "Rate limit reached. Sleeping for: 745\n",
      "Rate limit reached. Sleeping for: 754\n",
      "Rate limit reached. Sleeping for: 751\n",
      "Rate limit reached. Sleeping for: 751\n",
      "Rate limit reached. Sleeping for: 748\n",
      "Rate limit reached. Sleeping for: 690\n",
      "Rate limit reached. Sleeping for: 720\n",
      "Rate limit reached. Sleeping for: 748\n",
      "Rate limit reached. Sleeping for: 747\n",
      "Rate limit reached. Sleeping for: 746\n",
      "Rate limit reached. Sleeping for: 750\n",
      "Rate limit reached. Sleeping for: 751\n",
      "Rate limit reached. Sleeping for: 751\n",
      "Rate limit reached. Sleeping for: 755\n",
      "Rate limit reached. Sleeping for: 690\n",
      "Rate limit reached. Sleeping for: 752\n",
      "Rate limit reached. Sleeping for: 748\n",
      "Rate limit reached. Sleeping for: 750\n",
      "Rate limit reached. Sleeping for: 750\n",
      "Rate limit reached. Sleeping for: 749\n",
      "Rate limit reached. Sleeping for: 749\n",
      "Rate limit reached. Sleeping for: 754\n",
      "Rate limit reached. Sleeping for: 751\n",
      "Rate limit reached. Sleeping for: 751\n",
      "Rate limit reached. Sleeping for: 749\n",
      "Rate limit reached. Sleeping for: 754\n",
      "Rate limit reached. Sleeping for: 758\n",
      "Rate limit reached. Sleeping for: 756\n",
      "Rate limit reached. Sleeping for: 746\n",
      "Rate limit reached. Sleeping for: 749\n",
      "Rate limit reached. Sleeping for: 751\n",
      "Rate limit reached. Sleeping for: 696\n",
      "Rate limit reached. Sleeping for: 754\n",
      "Rate limit reached. Sleeping for: 752\n",
      "Rate limit reached. Sleeping for: 749\n",
      "Rate limit reached. Sleeping for: 749\n",
      "Rate limit reached. Sleeping for: 749\n",
      "Rate limit reached. Sleeping for: 750\n",
      "Rate limit reached. Sleeping for: 747\n",
      "Rate limit reached. Sleeping for: 752\n",
      "Rate limit reached. Sleeping for: 690\n",
      "Rate limit reached. Sleeping for: 752\n",
      "Rate limit reached. Sleeping for: 756\n",
      "Rate limit reached. Sleeping for: 752\n",
      "Rate limit reached. Sleeping for: 755\n",
      "Rate limit reached. Sleeping for: 752\n",
      "Rate limit reached. Sleeping for: 753\n",
      "Rate limit reached. Sleeping for: 751\n",
      "Rate limit reached. Sleeping for: 752\n",
      "Rate limit reached. Sleeping for: 693\n",
      "Rate limit reached. Sleeping for: 753\n",
      "Rate limit reached. Sleeping for: 751\n",
      "Rate limit reached. Sleeping for: 753\n",
      "Rate limit reached. Sleeping for: 753\n",
      "Rate limit reached. Sleeping for: 747\n",
      "Rate limit reached. Sleeping for: 747\n",
      "Rate limit reached. Sleeping for: 751\n",
      "Rate limit reached. Sleeping for: 748\n",
      "Rate limit reached. Sleeping for: 684\n",
      "Rate limit reached. Sleeping for: 753\n",
      "Rate limit reached. Sleeping for: 753\n",
      "Rate limit reached. Sleeping for: 752\n",
      "Rate limit reached. Sleeping for: 756\n",
      "Rate limit reached. Sleeping for: 752\n",
      "Rate limit reached. Sleeping for: 751\n",
      "Rate limit reached. Sleeping for: 753\n",
      "Rate limit reached. Sleeping for: 751\n",
      "Rate limit reached. Sleeping for: 751\n",
      "Rate limit reached. Sleeping for: 751\n",
      "Rate limit reached. Sleeping for: 756\n",
      "Rate limit reached. Sleeping for: 750\n",
      "Rate limit reached. Sleeping for: 753\n",
      "Rate limit reached. Sleeping for: 755\n",
      "Rate limit reached. Sleeping for: 751\n",
      "Rate limit reached. Sleeping for: 752\n",
      "Rate limit reached. Sleeping for: 685\n",
      "Rate limit reached. Sleeping for: 749\n",
      "Rate limit reached. Sleeping for: 751\n",
      "Rate limit reached. Sleeping for: 752\n",
      "Rate limit reached. Sleeping for: 752\n",
      "Rate limit reached. Sleeping for: 750\n",
      "Rate limit reached. Sleeping for: 753\n",
      "Rate limit reached. Sleeping for: 754\n",
      "Rate limit reached. Sleeping for: 751\n",
      "Rate limit reached. Sleeping for: 632\n",
      "Rate limit reached. Sleeping for: 754\n",
      "Rate limit reached. Sleeping for: 741\n",
      "Rate limit reached. Sleeping for: 756\n",
      "Rate limit reached. Sleeping for: 751\n",
      "Rate limit reached. Sleeping for: 755\n",
      "Rate limit reached. Sleeping for: 758\n",
      "Rate limit reached. Sleeping for: 753\n",
      "Rate limit reached. Sleeping for: 757\n",
      "Rate limit reached. Sleeping for: 755\n",
      "Rate limit reached. Sleeping for: 757\n",
      "Rate limit reached. Sleeping for: 757\n",
      "Rate limit reached. Sleeping for: 755\n",
      "Rate limit reached. Sleeping for: 753\n",
      "Rate limit reached. Sleeping for: 752\n",
      "Rate limit reached. Sleeping for: 754\n",
      "Rate limit reached. Sleeping for: 752\n",
      "Rate limit reached. Sleeping for: 697\n",
      "Rate limit reached. Sleeping for: 752\n",
      "Rate limit reached. Sleeping for: 753\n",
      "Rate limit reached. Sleeping for: 754\n",
      "Rate limit reached. Sleeping for: 752\n",
      "Rate limit reached. Sleeping for: 757\n",
      "Rate limit reached. Sleeping for: 757\n",
      "Rate limit reached. Sleeping for: 753\n",
      "Rate limit reached. Sleeping for: 753\n",
      "Rate limit reached. Sleeping for: 752\n",
      "Rate limit reached. Sleeping for: 751\n"
     ]
    },
    {
     "name": "stderr",
     "output_type": "stream",
     "text": [
      "Rate limit reached. Sleeping for: 747\n",
      "Rate limit reached. Sleeping for: 753\n",
      "Rate limit reached. Sleeping for: 748\n",
      "Rate limit reached. Sleeping for: 753\n",
      "Rate limit reached. Sleeping for: 752\n",
      "Rate limit reached. Sleeping for: 751\n",
      "Rate limit reached. Sleeping for: 695\n",
      "Rate limit reached. Sleeping for: 750\n",
      "Rate limit reached. Sleeping for: 748\n",
      "Rate limit reached. Sleeping for: 750\n",
      "Rate limit reached. Sleeping for: 751\n",
      "Rate limit reached. Sleeping for: 752\n",
      "Rate limit reached. Sleeping for: 750\n",
      "Rate limit reached. Sleeping for: 754\n",
      "Rate limit reached. Sleeping for: 726\n",
      "Rate limit reached. Sleeping for: 632\n",
      "Rate limit reached. Sleeping for: 699\n",
      "Rate limit reached. Sleeping for: 697\n",
      "Rate limit reached. Sleeping for: 698\n",
      "Rate limit reached. Sleeping for: 699\n",
      "Rate limit reached. Sleeping for: 732\n",
      "Rate limit reached. Sleeping for: 752\n",
      "Rate limit reached. Sleeping for: 751\n",
      "Rate limit reached. Sleeping for: 752\n",
      "Rate limit reached. Sleeping for: 685\n",
      "Rate limit reached. Sleeping for: 751\n",
      "Rate limit reached. Sleeping for: 746\n",
      "Rate limit reached. Sleeping for: 740\n",
      "Rate limit reached. Sleeping for: 744\n",
      "Rate limit reached. Sleeping for: 753\n",
      "Rate limit reached. Sleeping for: 742\n",
      "Rate limit reached. Sleeping for: 746\n",
      "Rate limit reached. Sleeping for: 689\n",
      "Rate limit reached. Sleeping for: 745\n",
      "Rate limit reached. Sleeping for: 746\n",
      "Rate limit reached. Sleeping for: 745\n",
      "Rate limit reached. Sleeping for: 747\n",
      "Rate limit reached. Sleeping for: 749\n",
      "Rate limit reached. Sleeping for: 747\n",
      "Rate limit reached. Sleeping for: 747\n",
      "Rate limit reached. Sleeping for: 751\n",
      "Rate limit reached. Sleeping for: 692\n",
      "Rate limit reached. Sleeping for: 754\n",
      "Rate limit reached. Sleeping for: 750\n",
      "Rate limit reached. Sleeping for: 752\n",
      "Rate limit reached. Sleeping for: 753\n",
      "Rate limit reached. Sleeping for: 747\n",
      "Rate limit reached. Sleeping for: 749\n",
      "Rate limit reached. Sleeping for: 744\n",
      "Rate limit reached. Sleeping for: 749\n",
      "Rate limit reached. Sleeping for: 687\n",
      "Rate limit reached. Sleeping for: 738\n",
      "Rate limit reached. Sleeping for: 748\n",
      "Rate limit reached. Sleeping for: 752\n",
      "Rate limit reached. Sleeping for: 749\n",
      "Rate limit reached. Sleeping for: 754\n",
      "Rate limit reached. Sleeping for: 753\n",
      "Rate limit reached. Sleeping for: 744\n",
      "Rate limit reached. Sleeping for: 745\n",
      "Rate limit reached. Sleeping for: 689\n",
      "Rate limit reached. Sleeping for: 740\n",
      "Rate limit reached. Sleeping for: 749\n",
      "Rate limit reached. Sleeping for: 741\n",
      "Rate limit reached. Sleeping for: 745\n",
      "Rate limit reached. Sleeping for: 738\n",
      "Rate limit reached. Sleeping for: 743\n",
      "Rate limit reached. Sleeping for: 743\n",
      "Rate limit reached. Sleeping for: 742\n",
      "Rate limit reached. Sleeping for: 725\n",
      "Rate limit reached. Sleeping for: 750\n",
      "Rate limit reached. Sleeping for: 746\n",
      "Rate limit reached. Sleeping for: 749\n",
      "Rate limit reached. Sleeping for: 751\n",
      "Rate limit reached. Sleeping for: 749\n",
      "Rate limit reached. Sleeping for: 748\n",
      "Rate limit reached. Sleeping for: 754\n",
      "Rate limit reached. Sleeping for: 693\n",
      "Rate limit reached. Sleeping for: 757\n",
      "Rate limit reached. Sleeping for: 755\n",
      "Rate limit reached. Sleeping for: 756\n",
      "Rate limit reached. Sleeping for: 755\n",
      "Rate limit reached. Sleeping for: 757\n",
      "Rate limit reached. Sleeping for: 757\n",
      "Rate limit reached. Sleeping for: 752\n",
      "Rate limit reached. Sleeping for: 757\n",
      "Rate limit reached. Sleeping for: 699\n",
      "Rate limit reached. Sleeping for: 758\n",
      "Rate limit reached. Sleeping for: 755\n",
      "Rate limit reached. Sleeping for: 757\n",
      "Rate limit reached. Sleeping for: 757\n",
      "Rate limit reached. Sleeping for: 751\n",
      "Rate limit reached. Sleeping for: 757\n",
      "Rate limit reached. Sleeping for: 759\n",
      "Rate limit reached. Sleeping for: 757\n",
      "Rate limit reached. Sleeping for: 697\n",
      "Rate limit reached. Sleeping for: 754\n",
      "Rate limit reached. Sleeping for: 756\n",
      "Rate limit reached. Sleeping for: 755\n",
      "Rate limit reached. Sleeping for: 759\n",
      "Rate limit reached. Sleeping for: 755\n",
      "Rate limit reached. Sleeping for: 754\n",
      "Rate limit reached. Sleeping for: 754\n",
      "Rate limit reached. Sleeping for: 756\n",
      "Rate limit reached. Sleeping for: 695\n",
      "Rate limit reached. Sleeping for: 754\n",
      "Rate limit reached. Sleeping for: 754\n",
      "Rate limit reached. Sleeping for: 753\n",
      "Rate limit reached. Sleeping for: 754\n",
      "Rate limit reached. Sleeping for: 755\n",
      "Rate limit reached. Sleeping for: 753\n",
      "Rate limit reached. Sleeping for: 753\n",
      "Rate limit reached. Sleeping for: 738\n",
      "Rate limit reached. Sleeping for: 749\n",
      "Rate limit reached. Sleeping for: 746\n",
      "Rate limit reached. Sleeping for: 730\n",
      "Rate limit reached. Sleeping for: 746\n",
      "Rate limit reached. Sleeping for: 745\n",
      "Rate limit reached. Sleeping for: 750\n",
      "Rate limit reached. Sleeping for: 750\n",
      "Rate limit reached. Sleeping for: 743\n",
      "Rate limit reached. Sleeping for: 747\n",
      "Rate limit reached. Sleeping for: 722\n",
      "Rate limit reached. Sleeping for: 751\n",
      "Rate limit reached. Sleeping for: 746\n",
      "Rate limit reached. Sleeping for: 744\n",
      "Rate limit reached. Sleeping for: 747\n",
      "Rate limit reached. Sleeping for: 753\n",
      "Rate limit reached. Sleeping for: 751\n",
      "Rate limit reached. Sleeping for: 754\n",
      "Rate limit reached. Sleeping for: 695\n",
      "Rate limit reached. Sleeping for: 752\n",
      "Rate limit reached. Sleeping for: 755\n",
      "Rate limit reached. Sleeping for: 754\n",
      "Rate limit reached. Sleeping for: 755\n",
      "Rate limit reached. Sleeping for: 759\n",
      "Rate limit reached. Sleeping for: 756\n",
      "Rate limit reached. Sleeping for: 756\n",
      "Rate limit reached. Sleeping for: 755\n",
      "Rate limit reached. Sleeping for: 692\n",
      "Rate limit reached. Sleeping for: 755\n",
      "Rate limit reached. Sleeping for: 755\n",
      "Rate limit reached. Sleeping for: 756\n",
      "Rate limit reached. Sleeping for: 755\n",
      "Rate limit reached. Sleeping for: 753\n",
      "Rate limit reached. Sleeping for: 753\n",
      "Rate limit reached. Sleeping for: 752\n",
      "Rate limit reached. Sleeping for: 756\n",
      "Rate limit reached. Sleeping for: 697\n",
      "Rate limit reached. Sleeping for: 753\n",
      "Rate limit reached. Sleeping for: 756\n",
      "Rate limit reached. Sleeping for: 751\n",
      "Rate limit reached. Sleeping for: 752\n",
      "Rate limit reached. Sleeping for: 754\n",
      "Rate limit reached. Sleeping for: 753\n",
      "Rate limit reached. Sleeping for: 753\n",
      "Rate limit reached. Sleeping for: 756\n",
      "Rate limit reached. Sleeping for: 704\n",
      "Rate limit reached. Sleeping for: 761\n",
      "Rate limit reached. Sleeping for: 749\n",
      "Rate limit reached. Sleeping for: 680\n",
      "Rate limit reached. Sleeping for: 663\n",
      "Rate limit reached. Sleeping for: 751\n",
      "Rate limit reached. Sleeping for: 752\n",
      "Rate limit reached. Sleeping for: 750\n",
      "Rate limit reached. Sleeping for: 750\n",
      "Rate limit reached. Sleeping for: 749\n",
      "Rate limit reached. Sleeping for: 750\n",
      "Rate limit reached. Sleeping for: 744\n",
      "Rate limit reached. Sleeping for: 755\n",
      "Rate limit reached. Sleeping for: 736\n",
      "Rate limit reached. Sleeping for: 748\n",
      "Rate limit reached. Sleeping for: 748\n",
      "Rate limit reached. Sleeping for: 747\n",
      "Rate limit reached. Sleeping for: 749\n",
      "Rate limit reached. Sleeping for: 756\n",
      "Rate limit reached. Sleeping for: 751\n",
      "Rate limit reached. Sleeping for: 748\n",
      "Rate limit reached. Sleeping for: 751\n",
      "Rate limit reached. Sleeping for: 746\n",
      "Rate limit reached. Sleeping for: 748\n",
      "Rate limit reached. Sleeping for: 748\n",
      "Rate limit reached. Sleeping for: 747\n",
      "Rate limit reached. Sleeping for: 745\n",
      "Rate limit reached. Sleeping for: 747\n",
      "Rate limit reached. Sleeping for: 746\n",
      "Rate limit reached. Sleeping for: 747\n",
      "Rate limit reached. Sleeping for: 752\n",
      "Rate limit reached. Sleeping for: 749\n",
      "Rate limit reached. Sleeping for: 748\n",
      "Rate limit reached. Sleeping for: 751\n",
      "Rate limit reached. Sleeping for: 736\n",
      "Rate limit reached. Sleeping for: 750\n",
      "Rate limit reached. Sleeping for: 753\n",
      "Rate limit reached. Sleeping for: 756\n",
      "Rate limit reached. Sleeping for: 756\n",
      "Rate limit reached. Sleeping for: 753\n",
      "Rate limit reached. Sleeping for: 750\n",
      "Rate limit reached. Sleeping for: 745\n",
      "Rate limit reached. Sleeping for: 755\n",
      "Rate limit reached. Sleeping for: 690\n",
      "Rate limit reached. Sleeping for: 741\n",
      "Rate limit reached. Sleeping for: 744\n",
      "Rate limit reached. Sleeping for: 747\n",
      "Rate limit reached. Sleeping for: 745\n",
      "Rate limit reached. Sleeping for: 743\n",
      "Rate limit reached. Sleeping for: 748\n",
      "Rate limit reached. Sleeping for: 742\n",
      "Rate limit reached. Sleeping for: 740\n",
      "Rate limit reached. Sleeping for: 679\n",
      "Rate limit reached. Sleeping for: 738\n",
      "Rate limit reached. Sleeping for: 731\n",
      "Rate limit reached. Sleeping for: 747\n",
      "Rate limit reached. Sleeping for: 755\n",
      "Rate limit reached. Sleeping for: 746\n",
      "Rate limit reached. Sleeping for: 749\n",
      "Rate limit reached. Sleeping for: 748\n"
     ]
    },
    {
     "name": "stderr",
     "output_type": "stream",
     "text": [
      "Rate limit reached. Sleeping for: 749\n",
      "Rate limit reached. Sleeping for: 739\n",
      "Rate limit reached. Sleeping for: 750\n",
      "Rate limit reached. Sleeping for: 744\n",
      "Rate limit reached. Sleeping for: 745\n",
      "Rate limit reached. Sleeping for: 752\n",
      "Rate limit reached. Sleeping for: 737\n",
      "Rate limit reached. Sleeping for: 738\n",
      "Rate limit reached. Sleeping for: 747\n",
      "Rate limit reached. Sleeping for: 684\n",
      "Rate limit reached. Sleeping for: 743\n",
      "Rate limit reached. Sleeping for: 750\n",
      "Rate limit reached. Sleeping for: 749\n",
      "Rate limit reached. Sleeping for: 751\n",
      "Rate limit reached. Sleeping for: 749\n",
      "Rate limit reached. Sleeping for: 750\n",
      "Rate limit reached. Sleeping for: 746\n",
      "Rate limit reached. Sleeping for: 745\n",
      "Rate limit reached. Sleeping for: 748\n",
      "Rate limit reached. Sleeping for: 749\n",
      "Rate limit reached. Sleeping for: 753\n",
      "Rate limit reached. Sleeping for: 754\n",
      "Rate limit reached. Sleeping for: 751\n",
      "Rate limit reached. Sleeping for: 754\n",
      "Rate limit reached. Sleeping for: 748\n",
      "Rate limit reached. Sleeping for: 743\n",
      "Rate limit reached. Sleeping for: 681\n",
      "Rate limit reached. Sleeping for: 751\n",
      "Rate limit reached. Sleeping for: 750\n",
      "Rate limit reached. Sleeping for: 754\n",
      "Rate limit reached. Sleeping for: 755\n",
      "Rate limit reached. Sleeping for: 756\n",
      "Rate limit reached. Sleeping for: 754\n",
      "Rate limit reached. Sleeping for: 754\n",
      "Rate limit reached. Sleeping for: 747\n",
      "Rate limit reached. Sleeping for: 699\n",
      "Rate limit reached. Sleeping for: 754\n"
     ]
    }
   ],
   "source": [
    "tmp = []\n",
    "count = 0\n",
    "\n",
    "for tid in rest_of_tweets:\n",
    "    try:\n",
    "        tweetFetched = api.get_status(tid)\n",
    "        text = tweetFetched.text.replace(\"\\n\",\"\")\n",
    "        text = text.replace(\"\\r\",\"\")\n",
    "        tmp.append(str(tid)+\"\\t\"+text + \"\\n\")\n",
    "        count += 1\n",
    "        bigcount += 1\n",
    "    except:\n",
    "        pass\n",
    "    \n",
    "    if count >= 100:\n",
    "        with open('2012tweettext.txt', 'a') as writefile:\n",
    "            for line in tmp:\n",
    "                writefile.write(line)\n",
    "        with open('2012lastwrite.txt', 'w') as writefile:\n",
    "            for line in tmp:\n",
    "                writefile.write(line)\n",
    "        tmp = []\n",
    "        count = 0"
   ]
  },
  {
   "cell_type": "code",
   "execution_count": 43,
   "metadata": {},
   "outputs": [
    {
     "data": {
      "text/plain": [
       "'Seattle restructures contract of LB Leroy Hill\\n http://ffd.me/b4rqGW #seahawks'"
      ]
     },
     "execution_count": 43,
     "metadata": {},
     "output_type": "execute_result"
    }
   ],
   "source": [
    "api.get_status(\"22665438100\").text"
   ]
  },
  {
   "cell_type": "code",
   "execution_count": 45,
   "metadata": {},
   "outputs": [
    {
     "data": {
      "text/plain": [
       "'Seattle restructures contract of LB Leroy Hill http://ffd.me/b4rqGW #seahawks'"
      ]
     },
     "execution_count": 45,
     "metadata": {},
     "output_type": "execute_result"
    }
   ],
   "source": [
    "api.get_status(\"22665438100\").text.replace(\"\\n\",\"\")"
   ]
  },
  {
   "cell_type": "code",
   "execution_count": 1,
   "metadata": {},
   "outputs": [],
   "source": [
    "import pandas as pd\n",
    "a = pd.read_csv(\"2010tweettext.txt\",header = None, sep='\\t')"
   ]
  },
  {
   "cell_type": "code",
   "execution_count": 5,
   "metadata": {},
   "outputs": [],
   "source": []
  },
  {
   "cell_type": "code",
   "execution_count": 6,
   "metadata": {},
   "outputs": [
    {
     "data": {
      "text/html": [
       "<div>\n",
       "<style scoped>\n",
       "    .dataframe tbody tr th:only-of-type {\n",
       "        vertical-align: middle;\n",
       "    }\n",
       "\n",
       "    .dataframe tbody tr th {\n",
       "        vertical-align: top;\n",
       "    }\n",
       "\n",
       "    .dataframe thead th {\n",
       "        text-align: right;\n",
       "    }\n",
       "</style>\n",
       "<table border=\"1\" class=\"dataframe\">\n",
       "  <thead>\n",
       "    <tr style=\"text-align: right;\">\n",
       "      <th></th>\n",
       "      <th>0</th>\n",
       "      <th>1</th>\n",
       "    </tr>\n",
       "  </thead>\n",
       "  <tbody>\n",
       "    <tr>\n",
       "      <th>0</th>\n",
       "      <td>22662042404</td>\n",
       "      <td>Can someone please tell me WTF the #Seahawks a...</td>\n",
       "    </tr>\n",
       "    <tr>\n",
       "      <th>1</th>\n",
       "      <td>22662135903</td>\n",
       "      <td>Q&amp;A with Todd Haley - 8/31 #NFL #chiefs http:/...</td>\n",
       "    </tr>\n",
       "    <tr>\n",
       "      <th>2</th>\n",
       "      <td>22662138503</td>\n",
       "      <td>PFW Blog: Bodden done for the year #NFL #patri...</td>\n",
       "    </tr>\n",
       "    <tr>\n",
       "      <th>3</th>\n",
       "      <td>22662142404</td>\n",
       "      <td>Bomar the backup for Giants, for now #NFL #gia...</td>\n",
       "    </tr>\n",
       "    <tr>\n",
       "      <th>4</th>\n",
       "      <td>22662229101</td>\n",
       "      <td>#Packers made the right moves 2day. Tough deci...</td>\n",
       "    </tr>\n",
       "    <tr>\n",
       "      <th>5</th>\n",
       "      <td>22662291903</td>\n",
       "      <td>KS City #Chiefs released WR Lance Long. I've s...</td>\n",
       "    </tr>\n",
       "    <tr>\n",
       "      <th>6</th>\n",
       "      <td>22662473304</td>\n",
       "      <td>#Packers CB Al Harris was asked on Sunday if h...</td>\n",
       "    </tr>\n",
       "    <tr>\n",
       "      <th>7</th>\n",
       "      <td>22662544601</td>\n",
       "      <td>(Updated) 2010 Fantasy Football Rankings: Runn...</td>\n",
       "    </tr>\n",
       "    <tr>\n",
       "      <th>8</th>\n",
       "      <td>22662851103</td>\n",
       "      <td>#Seahawks lesson of the day, if you haven't le...</td>\n",
       "    </tr>\n",
       "    <tr>\n",
       "      <th>9</th>\n",
       "      <td>22663024404</td>\n",
       "      <td>Some rumblings about #Cowboys WR Patrick Crayt...</td>\n",
       "    </tr>\n",
       "    <tr>\n",
       "      <th>10</th>\n",
       "      <td>22663233602</td>\n",
       "      <td>Fellow Miami Hurricanes' say Lamar Miller pois...</td>\n",
       "    </tr>\n",
       "    <tr>\n",
       "      <th>11</th>\n",
       "      <td>22663459002</td>\n",
       "      <td>RT @skjensen: Vikings put Sidney Rice on the P...</td>\n",
       "    </tr>\n",
       "    <tr>\n",
       "      <th>12</th>\n",
       "      <td>22663857001</td>\n",
       "      <td>Wow, John just tells it like it is: http://sbn...</td>\n",
       "    </tr>\n",
       "    <tr>\n",
       "      <th>13</th>\n",
       "      <td>22664297803</td>\n",
       "      <td>Just realized I'll be flying while #Jets opene...</td>\n",
       "    </tr>\n",
       "    <tr>\n",
       "      <th>14</th>\n",
       "      <td>22664472003</td>\n",
       "      <td>RT @CalAthletics: 9/3 is College Colors Day. S...</td>\n",
       "    </tr>\n",
       "    <tr>\n",
       "      <th>15</th>\n",
       "      <td>22665087003</td>\n",
       "      <td>@QBComa92 congrats on the kind of good news. P...</td>\n",
       "    </tr>\n",
       "    <tr>\n",
       "      <th>16</th>\n",
       "      <td>22665153702</td>\n",
       "      <td>Chris Snyder with the best slide of the year. ...</td>\n",
       "    </tr>\n",
       "    <tr>\n",
       "      <th>17</th>\n",
       "      <td>22665401102</td>\n",
       "      <td>Strike that #Cardinals 0 #Astros 2 with runner...</td>\n",
       "    </tr>\n",
       "    <tr>\n",
       "      <th>18</th>\n",
       "      <td>22665438100</td>\n",
       "      <td>Seattle restructures contract of LB Leroy Hill...</td>\n",
       "    </tr>\n",
       "    <tr>\n",
       "      <th>19</th>\n",
       "      <td>22665819900</td>\n",
       "      <td>Chargers claim Fred Bennett #NFL #Chargers htt...</td>\n",
       "    </tr>\n",
       "    <tr>\n",
       "      <th>20</th>\n",
       "      <td>22665855903</td>\n",
       "      <td>Loves the chat between @RyanClark25 and @OGOch...</td>\n",
       "    </tr>\n",
       "    <tr>\n",
       "      <th>21</th>\n",
       "      <td>22666014900</td>\n",
       "      <td>Seriously confused by the J Wilson trade. Puts...</td>\n",
       "    </tr>\n",
       "    <tr>\n",
       "      <th>22</th>\n",
       "      <td>22666084004</td>\n",
       "      <td>#Panthers #NFL #CLT 8/30 Panthers Update http:...</td>\n",
       "    </tr>\n",
       "    <tr>\n",
       "      <th>23</th>\n",
       "      <td>22666182104</td>\n",
       "      <td>Oh yeah! Blue Bell FTW! #astros #cardinals #as...</td>\n",
       "    </tr>\n",
       "    <tr>\n",
       "      <th>24</th>\n",
       "      <td>22666222502</td>\n",
       "      <td>#Reds are winning &amp; #Cardinals are losing... H...</td>\n",
       "    </tr>\n",
       "    <tr>\n",
       "      <th>25</th>\n",
       "      <td>22666310103</td>\n",
       "      <td>RT @redlegnation: A single tear rolls down the...</td>\n",
       "    </tr>\n",
       "    <tr>\n",
       "      <th>26</th>\n",
       "      <td>22666334100</td>\n",
       "      <td>No, why keep him? RT @calvinwatkins Just wonde...</td>\n",
       "    </tr>\n",
       "    <tr>\n",
       "      <th>27</th>\n",
       "      <td>22666543703</td>\n",
       "      <td>Left Coast games are the worst! #Waiting for t...</td>\n",
       "    </tr>\n",
       "    <tr>\n",
       "      <th>28</th>\n",
       "      <td>22666660103</td>\n",
       "      <td>Okay, so SI's Peter King predicts the #Lions t...</td>\n",
       "    </tr>\n",
       "    <tr>\n",
       "      <th>29</th>\n",
       "      <td>22666679300</td>\n",
       "      <td>Props to the New #Lions in the New Commercial ...</td>\n",
       "    </tr>\n",
       "    <tr>\n",
       "      <th>...</th>\n",
       "      <td>...</td>\n",
       "      <td>...</td>\n",
       "    </tr>\n",
       "    <tr>\n",
       "      <th>290</th>\n",
       "      <td>22719712701</td>\n",
       "      <td>RT @LisaHalverstadt: Heavy traffic expected fo...</td>\n",
       "    </tr>\n",
       "    <tr>\n",
       "      <th>291</th>\n",
       "      <td>22719742605</td>\n",
       "      <td>RT @cheeseheadtv: Could The Packers Keep, Gasp...</td>\n",
       "    </tr>\n",
       "    <tr>\n",
       "      <th>292</th>\n",
       "      <td>22719932708</td>\n",
       "      <td>#lions dt landon cohen will be joining @MaxMun...</td>\n",
       "    </tr>\n",
       "    <tr>\n",
       "      <th>293</th>\n",
       "      <td>22720064602</td>\n",
       "      <td>Is Leinart in that picture, Pat? RT @giantspat...</td>\n",
       "    </tr>\n",
       "    <tr>\n",
       "      <th>294</th>\n",
       "      <td>22720079704</td>\n",
       "      <td>Chargers Need Someone To Emerge Opposite Jamme...</td>\n",
       "    </tr>\n",
       "    <tr>\n",
       "      <th>295</th>\n",
       "      <td>22720152802</td>\n",
       "      <td>Bandages and plasters to accompany our next #L...</td>\n",
       "    </tr>\n",
       "    <tr>\n",
       "      <th>296</th>\n",
       "      <td>22720465406</td>\n",
       "      <td>BTW #Giants fans who would you like to see the...</td>\n",
       "    </tr>\n",
       "    <tr>\n",
       "      <th>297</th>\n",
       "      <td>22720554908</td>\n",
       "      <td>Seahawks trade starting CB to Ravens (KGW News...</td>\n",
       "    </tr>\n",
       "    <tr>\n",
       "      <th>298</th>\n",
       "      <td>22720580406</td>\n",
       "      <td>#Buccaneers are going to drive their remaining...</td>\n",
       "    </tr>\n",
       "    <tr>\n",
       "      <th>299</th>\n",
       "      <td>22720683204</td>\n",
       "      <td>@Dantiago I have always liked Manning and the ...</td>\n",
       "    </tr>\n",
       "    <tr>\n",
       "      <th>300</th>\n",
       "      <td>22720708009</td>\n",
       "      <td>#FW #Cowboys Fam -----&amp;gt; @KBIzMrBombastic</td>\n",
       "    </tr>\n",
       "    <tr>\n",
       "      <th>301</th>\n",
       "      <td>22721048002</td>\n",
       "      <td>Code for: \"Let's search for a necklace today!\"...</td>\n",
       "    </tr>\n",
       "    <tr>\n",
       "      <th>302</th>\n",
       "      <td>22721104807</td>\n",
       "      <td>Too bad! RT @STATS_MLB: The #Astros shut out t...</td>\n",
       "    </tr>\n",
       "    <tr>\n",
       "      <th>303</th>\n",
       "      <td>22721112109</td>\n",
       "      <td>All of your Cal broadcast needs in one place: ...</td>\n",
       "    </tr>\n",
       "    <tr>\n",
       "      <th>304</th>\n",
       "      <td>22721140604</td>\n",
       "      <td>Maybe for the 1st official #Pats Game I am goi...</td>\n",
       "    </tr>\n",
       "    <tr>\n",
       "      <th>305</th>\n",
       "      <td>22721168108</td>\n",
       "      <td>RT @GreenLanternJet: Spectrum Disorder &amp; New L...</td>\n",
       "    </tr>\n",
       "    <tr>\n",
       "      <th>306</th>\n",
       "      <td>22721237508</td>\n",
       "      <td>Grandpa Hogette has died. @dcsportsbog has the...</td>\n",
       "    </tr>\n",
       "    <tr>\n",
       "      <th>307</th>\n",
       "      <td>22721251605</td>\n",
       "      <td>#tgod RT @karate_kicks23 I might copp a #jets ...</td>\n",
       "    </tr>\n",
       "    <tr>\n",
       "      <th>308</th>\n",
       "      <td>22721315605</td>\n",
       "      <td>New York Jets debut new technology for fans at...</td>\n",
       "    </tr>\n",
       "    <tr>\n",
       "      <th>309</th>\n",
       "      <td>22721332802</td>\n",
       "      <td>#Lions final pre season game tomorrow. NO MORE...</td>\n",
       "    </tr>\n",
       "    <tr>\n",
       "      <th>310</th>\n",
       "      <td>22721543003</td>\n",
       "      <td>#Raiders News - Raiders | Michael Bush had scr...</td>\n",
       "    </tr>\n",
       "    <tr>\n",
       "      <th>311</th>\n",
       "      <td>22721771503</td>\n",
       "      <td>RT @RedskinsInsider: RT: Grandpa Hogette has d...</td>\n",
       "    </tr>\n",
       "    <tr>\n",
       "      <th>312</th>\n",
       "      <td>22721943201</td>\n",
       "      <td>RT @RedskinsInsider: RT: Grandpa Hogette has d...</td>\n",
       "    </tr>\n",
       "    <tr>\n",
       "      <th>313</th>\n",
       "      <td>22721948804</td>\n",
       "      <td>[Cowboys] Cowboys QB Stephen McGee To Start Th...</td>\n",
       "    </tr>\n",
       "    <tr>\n",
       "      <th>314</th>\n",
       "      <td>22721949700</td>\n",
       "      <td>Report: Patriots rookie in steamy video.. http...</td>\n",
       "    </tr>\n",
       "    <tr>\n",
       "      <th>315</th>\n",
       "      <td>22722373200</td>\n",
       "      <td>@Adam_Schefter An earlier tweet said CB Byron ...</td>\n",
       "    </tr>\n",
       "    <tr>\n",
       "      <th>316</th>\n",
       "      <td>22722504801</td>\n",
       "      <td>A JEWEL!! RT&amp;gt;Glenn Beck's (Pre-Fame) \"Enemy...</td>\n",
       "    </tr>\n",
       "    <tr>\n",
       "      <th>317</th>\n",
       "      <td>22722589400</td>\n",
       "      <td>RT @art2u2: A JEWEL!! RT&amp;gt;Glenn Beck's (Pre-...</td>\n",
       "    </tr>\n",
       "    <tr>\n",
       "      <th>318</th>\n",
       "      <td>22722815500</td>\n",
       "      <td>@tacofro77 Overreaction has been EPIC, going a...</td>\n",
       "    </tr>\n",
       "    <tr>\n",
       "      <th>319</th>\n",
       "      <td>22723028100</td>\n",
       "      <td>Can't get enough of this video of Josh Wilson!...</td>\n",
       "    </tr>\n",
       "  </tbody>\n",
       "</table>\n",
       "<p>320 rows × 2 columns</p>\n",
       "</div>"
      ],
      "text/plain": [
       "               0                                                  1\n",
       "0    22662042404  Can someone please tell me WTF the #Seahawks a...\n",
       "1    22662135903  Q&A with Todd Haley - 8/31 #NFL #chiefs http:/...\n",
       "2    22662138503  PFW Blog: Bodden done for the year #NFL #patri...\n",
       "3    22662142404  Bomar the backup for Giants, for now #NFL #gia...\n",
       "4    22662229101  #Packers made the right moves 2day. Tough deci...\n",
       "5    22662291903  KS City #Chiefs released WR Lance Long. I've s...\n",
       "6    22662473304  #Packers CB Al Harris was asked on Sunday if h...\n",
       "7    22662544601  (Updated) 2010 Fantasy Football Rankings: Runn...\n",
       "8    22662851103  #Seahawks lesson of the day, if you haven't le...\n",
       "9    22663024404  Some rumblings about #Cowboys WR Patrick Crayt...\n",
       "10   22663233602  Fellow Miami Hurricanes' say Lamar Miller pois...\n",
       "11   22663459002  RT @skjensen: Vikings put Sidney Rice on the P...\n",
       "12   22663857001  Wow, John just tells it like it is: http://sbn...\n",
       "13   22664297803  Just realized I'll be flying while #Jets opene...\n",
       "14   22664472003  RT @CalAthletics: 9/3 is College Colors Day. S...\n",
       "15   22665087003  @QBComa92 congrats on the kind of good news. P...\n",
       "16   22665153702  Chris Snyder with the best slide of the year. ...\n",
       "17   22665401102  Strike that #Cardinals 0 #Astros 2 with runner...\n",
       "18   22665438100  Seattle restructures contract of LB Leroy Hill...\n",
       "19   22665819900  Chargers claim Fred Bennett #NFL #Chargers htt...\n",
       "20   22665855903  Loves the chat between @RyanClark25 and @OGOch...\n",
       "21   22666014900  Seriously confused by the J Wilson trade. Puts...\n",
       "22   22666084004  #Panthers #NFL #CLT 8/30 Panthers Update http:...\n",
       "23   22666182104  Oh yeah! Blue Bell FTW! #astros #cardinals #as...\n",
       "24   22666222502  #Reds are winning & #Cardinals are losing... H...\n",
       "25   22666310103  RT @redlegnation: A single tear rolls down the...\n",
       "26   22666334100  No, why keep him? RT @calvinwatkins Just wonde...\n",
       "27   22666543703  Left Coast games are the worst! #Waiting for t...\n",
       "28   22666660103  Okay, so SI's Peter King predicts the #Lions t...\n",
       "29   22666679300  Props to the New #Lions in the New Commercial ...\n",
       "..           ...                                                ...\n",
       "290  22719712701  RT @LisaHalverstadt: Heavy traffic expected fo...\n",
       "291  22719742605  RT @cheeseheadtv: Could The Packers Keep, Gasp...\n",
       "292  22719932708  #lions dt landon cohen will be joining @MaxMun...\n",
       "293  22720064602  Is Leinart in that picture, Pat? RT @giantspat...\n",
       "294  22720079704  Chargers Need Someone To Emerge Opposite Jamme...\n",
       "295  22720152802  Bandages and plasters to accompany our next #L...\n",
       "296  22720465406  BTW #Giants fans who would you like to see the...\n",
       "297  22720554908  Seahawks trade starting CB to Ravens (KGW News...\n",
       "298  22720580406  #Buccaneers are going to drive their remaining...\n",
       "299  22720683204  @Dantiago I have always liked Manning and the ...\n",
       "300  22720708009        #FW #Cowboys Fam -----&gt; @KBIzMrBombastic\n",
       "301  22721048002  Code for: \"Let's search for a necklace today!\"...\n",
       "302  22721104807  Too bad! RT @STATS_MLB: The #Astros shut out t...\n",
       "303  22721112109  All of your Cal broadcast needs in one place: ...\n",
       "304  22721140604  Maybe for the 1st official #Pats Game I am goi...\n",
       "305  22721168108  RT @GreenLanternJet: Spectrum Disorder & New L...\n",
       "306  22721237508  Grandpa Hogette has died. @dcsportsbog has the...\n",
       "307  22721251605  #tgod RT @karate_kicks23 I might copp a #jets ...\n",
       "308  22721315605  New York Jets debut new technology for fans at...\n",
       "309  22721332802  #Lions final pre season game tomorrow. NO MORE...\n",
       "310  22721543003  #Raiders News - Raiders | Michael Bush had scr...\n",
       "311  22721771503  RT @RedskinsInsider: RT: Grandpa Hogette has d...\n",
       "312  22721943201  RT @RedskinsInsider: RT: Grandpa Hogette has d...\n",
       "313  22721948804  [Cowboys] Cowboys QB Stephen McGee To Start Th...\n",
       "314  22721949700  Report: Patriots rookie in steamy video.. http...\n",
       "315  22722373200  @Adam_Schefter An earlier tweet said CB Byron ...\n",
       "316  22722504801  A JEWEL!! RT&gt;Glenn Beck's (Pre-Fame) \"Enemy...\n",
       "317  22722589400  RT @art2u2: A JEWEL!! RT&gt;Glenn Beck's (Pre-...\n",
       "318  22722815500  @tacofro77 Overreaction has been EPIC, going a...\n",
       "319  22723028100  Can't get enough of this video of Josh Wilson!...\n",
       "\n",
       "[320 rows x 2 columns]"
      ]
     },
     "execution_count": 6,
     "metadata": {},
     "output_type": "execute_result"
    }
   ],
   "source": [
    "a"
   ]
  },
  {
   "cell_type": "code",
   "execution_count": null,
   "metadata": {},
   "outputs": [],
   "source": [
    "#devon's api keys\n",
    "consumer_key = 'lsHsFD4MFD8OwmEsYzP9ngLN6'\n",
    "consumer_key_secret = 'cLS0S5Ahsb4OFWMfXYUcKtoyCw7fLw8O88FAwxvqAhn0WmRWaX'\n",
    "access_token = '3167104011-3OvpTfjJT1Sw6uwvp9H4bz0UmnHniImTnPaGZa1'\n",
    "access_token_secret = '41PJm7COypmL8BQRoo4rQNAcTYHDbAqLuGO4qAiqzQlpu'"
   ]
  },
  {
   "cell_type": "markdown",
   "metadata": {},
   "source": [
    "# More Missing Tweets"
   ]
  },
  {
   "cell_type": "code",
   "execution_count": 4,
   "metadata": {},
   "outputs": [],
   "source": [
    "year = \"2012\"\n",
    "\n",
    "# Getting the List of Pulled Tweets\n",
    "tweets_file_name = year+\"alltweets.txt\"\n",
    "tweets_header_list = ['id','text']\n",
    "tweets_df = pd.read_csv(tweets_file_name, names=tweets_header_list, sep='\\t',error_bad_lines=False)\n",
    "\n",
    "# Getting all the tweets we were supposed to have\n",
    "data_header_list = [\"id\", \"tweet_time\",\"team\",\"opponent\", \"week\", \"home_or_away\",\"score\",\"opponent_score\",\"point_spread\",\"over_under\"]\n",
    "data_df = pd.read_csv('nfl-tweets-v1.0/tweets.nfl.'+year+'.weekly.csv', names=data_header_list)\n",
    "\n",
    "# Pulling out the list of tweet ids for each\n",
    "all_ids = set(data_df[\"id\"].tolist())\n",
    "pulled_ids = set(tweets_df['id'].tolist())\n",
    "missing_tweets = all_ids-pulled_ids"
   ]
  },
  {
   "cell_type": "code",
   "execution_count": 5,
   "metadata": {},
   "outputs": [
    {
     "name": "stdout",
     "output_type": "stream",
     "text": [
      "388681 997987 609306\n"
     ]
    }
   ],
   "source": [
    "print(len(missing_tweets),len(all_ids),len(pulled_ids))"
   ]
  },
  {
   "cell_type": "code",
   "execution_count": null,
   "metadata": {},
   "outputs": [
    {
     "name": "stderr",
     "output_type": "stream",
     "text": [
      "Rate limit reached. Sleeping for: 100\n"
     ]
    },
    {
     "name": "stdout",
     "output_type": "stream",
     "text": [
      "0.0 percent done\n"
     ]
    },
    {
     "name": "stderr",
     "output_type": "stream",
     "text": [
      "Rate limit reached. Sleeping for: 761\n"
     ]
    },
    {
     "name": "stdout",
     "output_type": "stream",
     "text": [
      "0.002572803918894929 percent done\n"
     ]
    },
    {
     "name": "stderr",
     "output_type": "stream",
     "text": [
      "Rate limit reached. Sleeping for: 765\n"
     ]
    },
    {
     "name": "stdout",
     "output_type": "stream",
     "text": [
      "0.005145607837789858 percent done\n"
     ]
    },
    {
     "name": "stderr",
     "output_type": "stream",
     "text": [
      "Rate limit reached. Sleeping for: 771\n"
     ]
    },
    {
     "name": "stdout",
     "output_type": "stream",
     "text": [
      "0.007718411756684787 percent done\n"
     ]
    },
    {
     "name": "stderr",
     "output_type": "stream",
     "text": [
      "Rate limit reached. Sleeping for: 765\n"
     ]
    },
    {
     "name": "stdout",
     "output_type": "stream",
     "text": [
      "0.010291215675579717 percent done\n"
     ]
    },
    {
     "name": "stderr",
     "output_type": "stream",
     "text": [
      "Rate limit reached. Sleeping for: 764\n"
     ]
    },
    {
     "name": "stdout",
     "output_type": "stream",
     "text": [
      "0.012864019594474646 percent done\n"
     ]
    },
    {
     "name": "stderr",
     "output_type": "stream",
     "text": [
      "Rate limit reached. Sleeping for: 763\n"
     ]
    },
    {
     "name": "stdout",
     "output_type": "stream",
     "text": [
      "0.015436823513369575 percent done\n"
     ]
    },
    {
     "name": "stderr",
     "output_type": "stream",
     "text": [
      "Rate limit reached. Sleeping for: 761\n"
     ]
    },
    {
     "name": "stdout",
     "output_type": "stream",
     "text": [
      "0.018009627432264506 percent done\n"
     ]
    },
    {
     "name": "stderr",
     "output_type": "stream",
     "text": [
      "Rate limit reached. Sleeping for: 768\n"
     ]
    },
    {
     "name": "stdout",
     "output_type": "stream",
     "text": [
      "0.020582431351159433 percent done\n"
     ]
    },
    {
     "name": "stderr",
     "output_type": "stream",
     "text": [
      "Rate limit reached. Sleeping for: 764\n",
      "Rate limit reached. Sleeping for: 768\n"
     ]
    },
    {
     "name": "stdout",
     "output_type": "stream",
     "text": [
      "0.023155235270054364 percent done\n"
     ]
    },
    {
     "name": "stderr",
     "output_type": "stream",
     "text": [
      "Rate limit reached. Sleeping for: 768\n"
     ]
    },
    {
     "name": "stdout",
     "output_type": "stream",
     "text": [
      "0.02572803918894929 percent done\n"
     ]
    },
    {
     "name": "stderr",
     "output_type": "stream",
     "text": [
      "Rate limit reached. Sleeping for: 760\n"
     ]
    },
    {
     "name": "stdout",
     "output_type": "stream",
     "text": [
      "0.028300843107844222 percent done\n"
     ]
    },
    {
     "name": "stderr",
     "output_type": "stream",
     "text": [
      "Rate limit reached. Sleeping for: 757\n"
     ]
    },
    {
     "name": "stdout",
     "output_type": "stream",
     "text": [
      "0.03087364702673915 percent done\n"
     ]
    },
    {
     "name": "stderr",
     "output_type": "stream",
     "text": [
      "Rate limit reached. Sleeping for: 760\n"
     ]
    },
    {
     "name": "stdout",
     "output_type": "stream",
     "text": [
      "0.03344645094563408 percent done\n"
     ]
    },
    {
     "name": "stderr",
     "output_type": "stream",
     "text": [
      "Rate limit reached. Sleeping for: 766\n"
     ]
    },
    {
     "name": "stdout",
     "output_type": "stream",
     "text": [
      "0.03601925486452901 percent done\n"
     ]
    },
    {
     "name": "stderr",
     "output_type": "stream",
     "text": [
      "Rate limit reached. Sleeping for: 702\n"
     ]
    },
    {
     "name": "stdout",
     "output_type": "stream",
     "text": [
      "0.03859205878342394 percent done\n"
     ]
    },
    {
     "name": "stderr",
     "output_type": "stream",
     "text": [
      "Rate limit reached. Sleeping for: 765\n"
     ]
    },
    {
     "name": "stdout",
     "output_type": "stream",
     "text": [
      "0.041164862702318866 percent done\n"
     ]
    },
    {
     "name": "stderr",
     "output_type": "stream",
     "text": [
      "Rate limit reached. Sleeping for: 760\n"
     ]
    },
    {
     "name": "stdout",
     "output_type": "stream",
     "text": [
      "0.0437376666212138 percent done\n"
     ]
    },
    {
     "name": "stderr",
     "output_type": "stream",
     "text": [
      "Rate limit reached. Sleeping for: 762\n",
      "Rate limit reached. Sleeping for: 761\n"
     ]
    },
    {
     "name": "stdout",
     "output_type": "stream",
     "text": [
      "0.04631047054010873 percent done\n"
     ]
    },
    {
     "name": "stderr",
     "output_type": "stream",
     "text": [
      "Rate limit reached. Sleeping for: 764\n"
     ]
    },
    {
     "name": "stdout",
     "output_type": "stream",
     "text": [
      "0.04888327445900366 percent done\n"
     ]
    },
    {
     "name": "stderr",
     "output_type": "stream",
     "text": [
      "Rate limit reached. Sleeping for: 768\n"
     ]
    },
    {
     "name": "stdout",
     "output_type": "stream",
     "text": [
      "0.05145607837789858 percent done\n"
     ]
    },
    {
     "name": "stderr",
     "output_type": "stream",
     "text": [
      "Rate limit reached. Sleeping for: 763\n"
     ]
    },
    {
     "name": "stdout",
     "output_type": "stream",
     "text": [
      "0.054028882296793514 percent done\n"
     ]
    },
    {
     "name": "stderr",
     "output_type": "stream",
     "text": [
      "Rate limit reached. Sleeping for: 763\n"
     ]
    },
    {
     "name": "stdout",
     "output_type": "stream",
     "text": [
      "0.056601686215688445 percent done\n"
     ]
    },
    {
     "name": "stderr",
     "output_type": "stream",
     "text": [
      "Rate limit reached. Sleeping for: 703\n"
     ]
    },
    {
     "name": "stdout",
     "output_type": "stream",
     "text": [
      "0.059174490134583375 percent done\n"
     ]
    },
    {
     "name": "stderr",
     "output_type": "stream",
     "text": [
      "Rate limit reached. Sleeping for: 763\n"
     ]
    },
    {
     "name": "stdout",
     "output_type": "stream",
     "text": [
      "0.0617472940534783 percent done\n"
     ]
    },
    {
     "name": "stderr",
     "output_type": "stream",
     "text": [
      "Rate limit reached. Sleeping for: 762\n"
     ]
    },
    {
     "name": "stdout",
     "output_type": "stream",
     "text": [
      "0.06432009797237323 percent done\n"
     ]
    },
    {
     "name": "stderr",
     "output_type": "stream",
     "text": [
      "Rate limit reached. Sleeping for: 763\n"
     ]
    },
    {
     "name": "stdout",
     "output_type": "stream",
     "text": [
      "0.06689290189126816 percent done\n"
     ]
    },
    {
     "name": "stderr",
     "output_type": "stream",
     "text": [
      "Rate limit reached. Sleeping for: 765\n"
     ]
    },
    {
     "name": "stdout",
     "output_type": "stream",
     "text": [
      "0.06946570581016309 percent done\n"
     ]
    },
    {
     "name": "stderr",
     "output_type": "stream",
     "text": [
      "Rate limit reached. Sleeping for: 765\n",
      "Rate limit reached. Sleeping for: 760\n"
     ]
    },
    {
     "name": "stdout",
     "output_type": "stream",
     "text": [
      "0.07203850972905802 percent done\n"
     ]
    },
    {
     "name": "stderr",
     "output_type": "stream",
     "text": [
      "Rate limit reached. Sleeping for: 760\n"
     ]
    },
    {
     "name": "stdout",
     "output_type": "stream",
     "text": [
      "0.07461131364795295 percent done\n"
     ]
    },
    {
     "name": "stderr",
     "output_type": "stream",
     "text": [
      "Rate limit reached. Sleeping for: 759\n"
     ]
    },
    {
     "name": "stdout",
     "output_type": "stream",
     "text": [
      "0.07718411756684788 percent done\n"
     ]
    },
    {
     "name": "stderr",
     "output_type": "stream",
     "text": [
      "Rate limit reached. Sleeping for: 701\n"
     ]
    },
    {
     "name": "stdout",
     "output_type": "stream",
     "text": [
      "0.0797569214857428 percent done\n"
     ]
    },
    {
     "name": "stderr",
     "output_type": "stream",
     "text": [
      "Rate limit reached. Sleeping for: 763\n"
     ]
    },
    {
     "name": "stdout",
     "output_type": "stream",
     "text": [
      "0.08232972540463773 percent done\n"
     ]
    },
    {
     "name": "stderr",
     "output_type": "stream",
     "text": [
      "Rate limit reached. Sleeping for: 760\n"
     ]
    },
    {
     "name": "stdout",
     "output_type": "stream",
     "text": [
      "0.08490252932353266 percent done\n"
     ]
    },
    {
     "name": "stderr",
     "output_type": "stream",
     "text": [
      "Rate limit reached. Sleeping for: 761\n"
     ]
    },
    {
     "name": "stdout",
     "output_type": "stream",
     "text": [
      "0.0874753332424276 percent done\n"
     ]
    },
    {
     "name": "stderr",
     "output_type": "stream",
     "text": [
      "Rate limit reached. Sleeping for: 759\n"
     ]
    },
    {
     "name": "stdout",
     "output_type": "stream",
     "text": [
      "0.09004813716132253 percent done\n"
     ]
    },
    {
     "name": "stderr",
     "output_type": "stream",
     "text": [
      "Rate limit reached. Sleeping for: 761\n",
      "Rate limit reached. Sleeping for: 747\n"
     ]
    },
    {
     "name": "stdout",
     "output_type": "stream",
     "text": [
      "0.09262094108021746 percent done\n"
     ]
    },
    {
     "name": "stderr",
     "output_type": "stream",
     "text": [
      "Rate limit reached. Sleeping for: 758\n"
     ]
    },
    {
     "name": "stdout",
     "output_type": "stream",
     "text": [
      "0.09519374499911239 percent done\n"
     ]
    },
    {
     "name": "stderr",
     "output_type": "stream",
     "text": [
      "Rate limit reached. Sleeping for: 757\n"
     ]
    },
    {
     "name": "stdout",
     "output_type": "stream",
     "text": [
      "0.09776654891800732 percent done\n"
     ]
    },
    {
     "name": "stderr",
     "output_type": "stream",
     "text": [
      "Rate limit reached. Sleeping for: 765\n"
     ]
    },
    {
     "name": "stdout",
     "output_type": "stream",
     "text": [
      "0.10033935283690223 percent done\n"
     ]
    },
    {
     "name": "stderr",
     "output_type": "stream",
     "text": [
      "Rate limit reached. Sleeping for: 762\n"
     ]
    },
    {
     "name": "stdout",
     "output_type": "stream",
     "text": [
      "0.10291215675579717 percent done\n"
     ]
    },
    {
     "name": "stderr",
     "output_type": "stream",
     "text": [
      "Rate limit reached. Sleeping for: 753\n"
     ]
    },
    {
     "name": "stdout",
     "output_type": "stream",
     "text": [
      "0.1054849606746921 percent done\n"
     ]
    },
    {
     "name": "stderr",
     "output_type": "stream",
     "text": [
      "Rate limit reached. Sleeping for: 764\n"
     ]
    },
    {
     "name": "stdout",
     "output_type": "stream",
     "text": [
      "0.10805776459358703 percent done\n"
     ]
    },
    {
     "name": "stderr",
     "output_type": "stream",
     "text": [
      "Rate limit reached. Sleeping for: 756\n"
     ]
    },
    {
     "name": "stdout",
     "output_type": "stream",
     "text": [
      "0.11063056851248196 percent done\n"
     ]
    },
    {
     "name": "stderr",
     "output_type": "stream",
     "text": [
      "Rate limit reached. Sleeping for: 764\n"
     ]
    },
    {
     "name": "stdout",
     "output_type": "stream",
     "text": [
      "0.11320337243137689 percent done\n"
     ]
    },
    {
     "name": "stderr",
     "output_type": "stream",
     "text": [
      "Rate limit reached. Sleeping for: 755\n",
      "Rate limit reached. Sleeping for: 762\n"
     ]
    },
    {
     "name": "stdout",
     "output_type": "stream",
     "text": [
      "0.11577617635027182 percent done\n"
     ]
    },
    {
     "name": "stderr",
     "output_type": "stream",
     "text": [
      "Rate limit reached. Sleeping for: 625\n"
     ]
    },
    {
     "name": "stdout",
     "output_type": "stream",
     "text": [
      "0.11834898026916675 percent done\n"
     ]
    },
    {
     "name": "stderr",
     "output_type": "stream",
     "text": [
      "Rate limit reached. Sleeping for: 764\n"
     ]
    },
    {
     "name": "stdout",
     "output_type": "stream",
     "text": [
      "0.12092178418806168 percent done\n"
     ]
    },
    {
     "name": "stderr",
     "output_type": "stream",
     "text": [
      "Rate limit reached. Sleeping for: 746\n"
     ]
    },
    {
     "name": "stdout",
     "output_type": "stream",
     "text": [
      "0.1234945881069566 percent done\n"
     ]
    },
    {
     "name": "stderr",
     "output_type": "stream",
     "text": [
      "Rate limit reached. Sleeping for: 761\n"
     ]
    },
    {
     "name": "stdout",
     "output_type": "stream",
     "text": [
      "0.12606739202585154 percent done\n"
     ]
    },
    {
     "name": "stderr",
     "output_type": "stream",
     "text": [
      "Rate limit reached. Sleeping for: 764\n"
     ]
    },
    {
     "name": "stdout",
     "output_type": "stream",
     "text": [
      "0.12864019594474646 percent done\n"
     ]
    },
    {
     "name": "stderr",
     "output_type": "stream",
     "text": [
      "Rate limit reached. Sleeping for: 761\n"
     ]
    },
    {
     "name": "stdout",
     "output_type": "stream",
     "text": [
      "0.1312129998636414 percent done\n"
     ]
    },
    {
     "name": "stderr",
     "output_type": "stream",
     "text": [
      "Rate limit reached. Sleeping for: 762\n"
     ]
    },
    {
     "name": "stdout",
     "output_type": "stream",
     "text": [
      "0.13378580378253632 percent done\n"
     ]
    },
    {
     "name": "stderr",
     "output_type": "stream",
     "text": [
      "Rate limit reached. Sleeping for: 763\n"
     ]
    },
    {
     "name": "stdout",
     "output_type": "stream",
     "text": [
      "0.13635860770143124 percent done\n"
     ]
    },
    {
     "name": "stderr",
     "output_type": "stream",
     "text": [
      "Rate limit reached. Sleeping for: 760\n"
     ]
    },
    {
     "name": "stdout",
     "output_type": "stream",
     "text": [
      "0.13893141162032618 percent done\n"
     ]
    },
    {
     "name": "stderr",
     "output_type": "stream",
     "text": [
      "Rate limit reached. Sleeping for: 755\n"
     ]
    },
    {
     "name": "stdout",
     "output_type": "stream",
     "text": [
      "0.1415042155392211 percent done\n"
     ]
    },
    {
     "name": "stderr",
     "output_type": "stream",
     "text": [
      "Rate limit reached. Sleeping for: 770\n"
     ]
    },
    {
     "name": "stdout",
     "output_type": "stream",
     "text": [
      "0.14407701945811605 percent done\n"
     ]
    },
    {
     "name": "stderr",
     "output_type": "stream",
     "text": [
      "Rate limit reached. Sleeping for: 762\n"
     ]
    },
    {
     "name": "stdout",
     "output_type": "stream",
     "text": [
      "0.14664982337701096 percent done\n"
     ]
    },
    {
     "name": "stderr",
     "output_type": "stream",
     "text": [
      "Rate limit reached. Sleeping for: 765\n"
     ]
    },
    {
     "name": "stdout",
     "output_type": "stream",
     "text": [
      "0.1492226272959059 percent done\n"
     ]
    },
    {
     "name": "stderr",
     "output_type": "stream",
     "text": [
      "Rate limit reached. Sleeping for: 762\n"
     ]
    },
    {
     "name": "stdout",
     "output_type": "stream",
     "text": [
      "0.15179543121480082 percent done\n"
     ]
    },
    {
     "name": "stderr",
     "output_type": "stream",
     "text": [
      "Rate limit reached. Sleeping for: 760\n"
     ]
    },
    {
     "name": "stdout",
     "output_type": "stream",
     "text": [
      "0.15436823513369577 percent done\n"
     ]
    },
    {
     "name": "stderr",
     "output_type": "stream",
     "text": [
      "Rate limit reached. Sleeping for: 763\n"
     ]
    },
    {
     "name": "stdout",
     "output_type": "stream",
     "text": [
      "0.1569410390525907 percent done\n"
     ]
    },
    {
     "name": "stderr",
     "output_type": "stream",
     "text": [
      "Rate limit reached. Sleeping for: 701\n",
      "Rate limit reached. Sleeping for: 762\n"
     ]
    },
    {
     "name": "stdout",
     "output_type": "stream",
     "text": [
      "0.1595138429714856 percent done\n"
     ]
    },
    {
     "name": "stderr",
     "output_type": "stream",
     "text": [
      "Rate limit reached. Sleeping for: 756\n"
     ]
    },
    {
     "name": "stdout",
     "output_type": "stream",
     "text": [
      "0.16208664689038055 percent done\n"
     ]
    },
    {
     "name": "stderr",
     "output_type": "stream",
     "text": [
      "Rate limit reached. Sleeping for: 766\n"
     ]
    },
    {
     "name": "stdout",
     "output_type": "stream",
     "text": [
      "0.16465945080927546 percent done\n"
     ]
    },
    {
     "name": "stderr",
     "output_type": "stream",
     "text": [
      "Rate limit reached. Sleeping for: 761\n"
     ]
    },
    {
     "name": "stdout",
     "output_type": "stream",
     "text": [
      "0.1672322547281704 percent done\n"
     ]
    },
    {
     "name": "stderr",
     "output_type": "stream",
     "text": [
      "Rate limit reached. Sleeping for: 768\n"
     ]
    },
    {
     "name": "stdout",
     "output_type": "stream",
     "text": [
      "0.16980505864706533 percent done\n"
     ]
    },
    {
     "name": "stderr",
     "output_type": "stream",
     "text": [
      "Rate limit reached. Sleeping for: 766\n"
     ]
    },
    {
     "name": "stdout",
     "output_type": "stream",
     "text": [
      "0.17237786256596027 percent done\n"
     ]
    },
    {
     "name": "stderr",
     "output_type": "stream",
     "text": [
      "Rate limit reached. Sleeping for: 765\n"
     ]
    },
    {
     "name": "stdout",
     "output_type": "stream",
     "text": [
      "0.1749506664848552 percent done\n"
     ]
    },
    {
     "name": "stderr",
     "output_type": "stream",
     "text": [
      "Rate limit reached. Sleeping for: 765\n"
     ]
    },
    {
     "name": "stdout",
     "output_type": "stream",
     "text": [
      "0.1775234704037501 percent done\n"
     ]
    },
    {
     "name": "stderr",
     "output_type": "stream",
     "text": [
      "Rate limit reached. Sleeping for: 709\n"
     ]
    },
    {
     "name": "stdout",
     "output_type": "stream",
     "text": [
      "0.18009627432264505 percent done\n"
     ]
    },
    {
     "name": "stderr",
     "output_type": "stream",
     "text": [
      "Rate limit reached. Sleeping for: 765\n",
      "Rate limit reached. Sleeping for: 763\n"
     ]
    },
    {
     "name": "stdout",
     "output_type": "stream",
     "text": [
      "0.18266907824153997 percent done\n"
     ]
    },
    {
     "name": "stderr",
     "output_type": "stream",
     "text": [
      "Rate limit reached. Sleeping for: 763\n"
     ]
    },
    {
     "name": "stdout",
     "output_type": "stream",
     "text": [
      "0.1852418821604349 percent done\n"
     ]
    },
    {
     "name": "stderr",
     "output_type": "stream",
     "text": [
      "Rate limit reached. Sleeping for: 766\n"
     ]
    },
    {
     "name": "stdout",
     "output_type": "stream",
     "text": [
      "0.18781468607932983 percent done\n"
     ]
    },
    {
     "name": "stderr",
     "output_type": "stream",
     "text": [
      "Rate limit reached. Sleeping for: 766\n"
     ]
    },
    {
     "name": "stdout",
     "output_type": "stream",
     "text": [
      "0.19038748999822477 percent done\n"
     ]
    },
    {
     "name": "stderr",
     "output_type": "stream",
     "text": [
      "Rate limit reached. Sleeping for: 766\n"
     ]
    },
    {
     "name": "stdout",
     "output_type": "stream",
     "text": [
      "0.1929602939171197 percent done\n"
     ]
    },
    {
     "name": "stderr",
     "output_type": "stream",
     "text": [
      "Rate limit reached. Sleeping for: 760\n"
     ]
    },
    {
     "name": "stdout",
     "output_type": "stream",
     "text": [
      "0.19553309783601464 percent done\n"
     ]
    },
    {
     "name": "stderr",
     "output_type": "stream",
     "text": [
      "Rate limit reached. Sleeping for: 764\n"
     ]
    },
    {
     "name": "stdout",
     "output_type": "stream",
     "text": [
      "0.19810590175490955 percent done\n"
     ]
    },
    {
     "name": "stderr",
     "output_type": "stream",
     "text": [
      "Rate limit reached. Sleeping for: 759\n"
     ]
    },
    {
     "name": "stdout",
     "output_type": "stream",
     "text": [
      "0.20067870567380447 percent done\n"
     ]
    },
    {
     "name": "stderr",
     "output_type": "stream",
     "text": [
      "Rate limit reached. Sleeping for: 765\n"
     ]
    },
    {
     "name": "stdout",
     "output_type": "stream",
     "text": [
      "0.20325150959269941 percent done\n"
     ]
    },
    {
     "name": "stderr",
     "output_type": "stream",
     "text": [
      "Rate limit reached. Sleeping for: 764\n",
      "Rate limit reached. Sleeping for: 764\n"
     ]
    },
    {
     "name": "stdout",
     "output_type": "stream",
     "text": [
      "0.20582431351159433 percent done\n"
     ]
    },
    {
     "name": "stderr",
     "output_type": "stream",
     "text": [
      "Rate limit reached. Sleeping for: 765\n"
     ]
    },
    {
     "name": "stdout",
     "output_type": "stream",
     "text": [
      "0.20839711743048928 percent done\n"
     ]
    },
    {
     "name": "stderr",
     "output_type": "stream",
     "text": [
      "Rate limit reached. Sleeping for: 764\n"
     ]
    },
    {
     "name": "stdout",
     "output_type": "stream",
     "text": [
      "0.2109699213493842 percent done\n"
     ]
    },
    {
     "name": "stderr",
     "output_type": "stream",
     "text": [
      "Rate limit reached. Sleeping for: 765\n"
     ]
    },
    {
     "name": "stdout",
     "output_type": "stream",
     "text": [
      "0.21354272526827914 percent done\n"
     ]
    },
    {
     "name": "stderr",
     "output_type": "stream",
     "text": [
      "Rate limit reached. Sleeping for: 770\n"
     ]
    },
    {
     "name": "stdout",
     "output_type": "stream",
     "text": [
      "0.21611552918717405 percent done\n"
     ]
    },
    {
     "name": "stderr",
     "output_type": "stream",
     "text": [
      "Rate limit reached. Sleeping for: 769\n"
     ]
    },
    {
     "name": "stdout",
     "output_type": "stream",
     "text": [
      "0.218688333106069 percent done\n"
     ]
    },
    {
     "name": "stderr",
     "output_type": "stream",
     "text": [
      "Rate limit reached. Sleeping for: 704\n"
     ]
    },
    {
     "name": "stdout",
     "output_type": "stream",
     "text": [
      "0.22126113702496392 percent done\n"
     ]
    },
    {
     "name": "stderr",
     "output_type": "stream",
     "text": [
      "Rate limit reached. Sleeping for: 760\n"
     ]
    },
    {
     "name": "stdout",
     "output_type": "stream",
     "text": [
      "0.22383394094385883 percent done\n"
     ]
    },
    {
     "name": "stderr",
     "output_type": "stream",
     "text": [
      "Rate limit reached. Sleeping for: 762\n"
     ]
    },
    {
     "name": "stdout",
     "output_type": "stream",
     "text": [
      "0.22640674486275378 percent done\n"
     ]
    },
    {
     "name": "stderr",
     "output_type": "stream",
     "text": [
      "Rate limit reached. Sleeping for: 763\n",
      "Rate limit reached. Sleeping for: 762\n"
     ]
    },
    {
     "name": "stdout",
     "output_type": "stream",
     "text": [
      "0.2289795487816487 percent done\n"
     ]
    },
    {
     "name": "stderr",
     "output_type": "stream",
     "text": [
      "Rate limit reached. Sleeping for: 759\n"
     ]
    },
    {
     "name": "stdout",
     "output_type": "stream",
     "text": [
      "0.23155235270054364 percent done\n"
     ]
    },
    {
     "name": "stderr",
     "output_type": "stream",
     "text": [
      "Rate limit reached. Sleeping for: 764\n"
     ]
    },
    {
     "name": "stdout",
     "output_type": "stream",
     "text": [
      "0.23412515661943856 percent done\n"
     ]
    },
    {
     "name": "stderr",
     "output_type": "stream",
     "text": [
      "Rate limit reached. Sleeping for: 766\n"
     ]
    },
    {
     "name": "stdout",
     "output_type": "stream",
     "text": [
      "0.2366979605383335 percent done\n"
     ]
    },
    {
     "name": "stderr",
     "output_type": "stream",
     "text": [
      "Rate limit reached. Sleeping for: 766\n"
     ]
    },
    {
     "name": "stdout",
     "output_type": "stream",
     "text": [
      "0.23927076445722842 percent done\n"
     ]
    },
    {
     "name": "stderr",
     "output_type": "stream",
     "text": [
      "Rate limit reached. Sleeping for: 765\n"
     ]
    },
    {
     "name": "stdout",
     "output_type": "stream",
     "text": [
      "0.24184356837612336 percent done\n"
     ]
    },
    {
     "name": "stderr",
     "output_type": "stream",
     "text": [
      "Rate limit reached. Sleeping for: 766\n"
     ]
    },
    {
     "name": "stdout",
     "output_type": "stream",
     "text": [
      "0.24441637229501828 percent done\n"
     ]
    },
    {
     "name": "stderr",
     "output_type": "stream",
     "text": [
      "Rate limit reached. Sleeping for: 769\n"
     ]
    },
    {
     "name": "stdout",
     "output_type": "stream",
     "text": [
      "0.2469891762139132 percent done\n"
     ]
    },
    {
     "name": "stderr",
     "output_type": "stream",
     "text": [
      "Rate limit reached. Sleeping for: 769\n"
     ]
    },
    {
     "name": "stdout",
     "output_type": "stream",
     "text": [
      "0.24956198013280814 percent done\n"
     ]
    },
    {
     "name": "stderr",
     "output_type": "stream",
     "text": [
      "Rate limit reached. Sleeping for: 765\n",
      "Rate limit reached. Sleeping for: 771\n"
     ]
    },
    {
     "name": "stdout",
     "output_type": "stream",
     "text": [
      "0.2521347840517031 percent done\n"
     ]
    },
    {
     "name": "stderr",
     "output_type": "stream",
     "text": [
      "Rate limit reached. Sleeping for: 769\n"
     ]
    },
    {
     "name": "stdout",
     "output_type": "stream",
     "text": [
      "0.254707587970598 percent done\n"
     ]
    },
    {
     "name": "stderr",
     "output_type": "stream",
     "text": [
      "Rate limit reached. Sleeping for: 769\n"
     ]
    },
    {
     "name": "stdout",
     "output_type": "stream",
     "text": [
      "0.2572803918894929 percent done\n"
     ]
    },
    {
     "name": "stderr",
     "output_type": "stream",
     "text": [
      "Rate limit reached. Sleeping for: 709\n"
     ]
    },
    {
     "name": "stdout",
     "output_type": "stream",
     "text": [
      "0.25985319580838784 percent done\n"
     ]
    },
    {
     "name": "stderr",
     "output_type": "stream",
     "text": [
      "Rate limit reached. Sleeping for: 769\n"
     ]
    },
    {
     "name": "stdout",
     "output_type": "stream",
     "text": [
      "0.2624259997272828 percent done\n"
     ]
    },
    {
     "name": "stderr",
     "output_type": "stream",
     "text": [
      "Rate limit reached. Sleeping for: 769\n"
     ]
    },
    {
     "name": "stdout",
     "output_type": "stream",
     "text": [
      "0.2649988036461777 percent done\n"
     ]
    },
    {
     "name": "stderr",
     "output_type": "stream",
     "text": [
      "Rate limit reached. Sleeping for: 769\n"
     ]
    },
    {
     "name": "stdout",
     "output_type": "stream",
     "text": [
      "0.26757160756507264 percent done\n"
     ]
    },
    {
     "name": "stderr",
     "output_type": "stream",
     "text": [
      "Rate limit reached. Sleeping for: 768\n"
     ]
    },
    {
     "name": "stdout",
     "output_type": "stream",
     "text": [
      "0.27014441148396756 percent done\n"
     ]
    },
    {
     "name": "stderr",
     "output_type": "stream",
     "text": [
      "Rate limit reached. Sleeping for: 768\n"
     ]
    },
    {
     "name": "stdout",
     "output_type": "stream",
     "text": [
      "0.2727172154028625 percent done\n"
     ]
    },
    {
     "name": "stderr",
     "output_type": "stream",
     "text": [
      "Rate limit reached. Sleeping for: 769\n",
      "Rate limit reached. Sleeping for: 768\n"
     ]
    },
    {
     "name": "stdout",
     "output_type": "stream",
     "text": [
      "0.27529001932175745 percent done\n"
     ]
    },
    {
     "name": "stderr",
     "output_type": "stream",
     "text": [
      "Rate limit reached. Sleeping for: 769\n"
     ]
    },
    {
     "name": "stdout",
     "output_type": "stream",
     "text": [
      "0.27786282324065237 percent done\n"
     ]
    },
    {
     "name": "stderr",
     "output_type": "stream",
     "text": [
      "Rate limit reached. Sleeping for: 760\n"
     ]
    },
    {
     "name": "stdout",
     "output_type": "stream",
     "text": [
      "0.2804356271595473 percent done\n"
     ]
    },
    {
     "name": "stderr",
     "output_type": "stream",
     "text": [
      "Rate limit reached. Sleeping for: 768\n"
     ]
    },
    {
     "name": "stdout",
     "output_type": "stream",
     "text": [
      "0.2830084310784422 percent done\n"
     ]
    },
    {
     "name": "stderr",
     "output_type": "stream",
     "text": [
      "Rate limit reached. Sleeping for: 767\n"
     ]
    },
    {
     "name": "stdout",
     "output_type": "stream",
     "text": [
      "0.2855812349973372 percent done\n"
     ]
    },
    {
     "name": "stderr",
     "output_type": "stream",
     "text": [
      "Rate limit reached. Sleeping for: 767\n"
     ]
    },
    {
     "name": "stdout",
     "output_type": "stream",
     "text": [
      "0.2881540389162321 percent done\n"
     ]
    },
    {
     "name": "stderr",
     "output_type": "stream",
     "text": [
      "Rate limit reached. Sleeping for: 764\n"
     ]
    },
    {
     "name": "stdout",
     "output_type": "stream",
     "text": [
      "0.290726842835127 percent done\n"
     ]
    },
    {
     "name": "stderr",
     "output_type": "stream",
     "text": [
      "Rate limit reached. Sleeping for: 762\n"
     ]
    },
    {
     "name": "stdout",
     "output_type": "stream",
     "text": [
      "0.2932996467540219 percent done\n"
     ]
    },
    {
     "name": "stderr",
     "output_type": "stream",
     "text": [
      "Rate limit reached. Sleeping for: 763\n"
     ]
    },
    {
     "name": "stdout",
     "output_type": "stream",
     "text": [
      "0.29587245067291684 percent done\n"
     ]
    },
    {
     "name": "stderr",
     "output_type": "stream",
     "text": [
      "Rate limit reached. Sleeping for: 763\n",
      "Rate limit reached. Sleeping for: 706\n"
     ]
    },
    {
     "name": "stdout",
     "output_type": "stream",
     "text": [
      "0.2984452545918118 percent done\n"
     ]
    },
    {
     "name": "stderr",
     "output_type": "stream",
     "text": [
      "Rate limit reached. Sleeping for: 765\n"
     ]
    },
    {
     "name": "stdout",
     "output_type": "stream",
     "text": [
      "0.30101805851070673 percent done\n"
     ]
    },
    {
     "name": "stderr",
     "output_type": "stream",
     "text": [
      "Rate limit reached. Sleeping for: 767\n"
     ]
    },
    {
     "name": "stdout",
     "output_type": "stream",
     "text": [
      "0.30359086242960165 percent done\n"
     ]
    },
    {
     "name": "stderr",
     "output_type": "stream",
     "text": [
      "Rate limit reached. Sleeping for: 748\n"
     ]
    },
    {
     "name": "stdout",
     "output_type": "stream",
     "text": [
      "0.30616366634849657 percent done\n"
     ]
    },
    {
     "name": "stderr",
     "output_type": "stream",
     "text": [
      "Rate limit reached. Sleeping for: 756\n"
     ]
    },
    {
     "name": "stdout",
     "output_type": "stream",
     "text": [
      "0.30873647026739154 percent done\n",
      "0.31130927418628646 percent done\n"
     ]
    },
    {
     "name": "stderr",
     "output_type": "stream",
     "text": [
      "Rate limit reached. Sleeping for: 695\n",
      "Rate limit reached. Sleeping for: 756\n"
     ]
    },
    {
     "name": "stdout",
     "output_type": "stream",
     "text": [
      "0.3138820781051814 percent done\n"
     ]
    },
    {
     "name": "stderr",
     "output_type": "stream",
     "text": [
      "Rate limit reached. Sleeping for: 758\n"
     ]
    },
    {
     "name": "stdout",
     "output_type": "stream",
     "text": [
      "0.3164548820240763 percent done\n"
     ]
    },
    {
     "name": "stderr",
     "output_type": "stream",
     "text": [
      "Rate limit reached. Sleeping for: 756\n"
     ]
    },
    {
     "name": "stdout",
     "output_type": "stream",
     "text": [
      "0.3190276859429712 percent done\n"
     ]
    },
    {
     "name": "stderr",
     "output_type": "stream",
     "text": [
      "Rate limit reached. Sleeping for: 760\n"
     ]
    },
    {
     "name": "stdout",
     "output_type": "stream",
     "text": [
      "0.3216004898618662 percent done\n"
     ]
    },
    {
     "name": "stderr",
     "output_type": "stream",
     "text": [
      "Rate limit reached. Sleeping for: 760\n"
     ]
    },
    {
     "name": "stdout",
     "output_type": "stream",
     "text": [
      "0.3241732937807611 percent done\n"
     ]
    },
    {
     "name": "stderr",
     "output_type": "stream",
     "text": [
      "Rate limit reached. Sleeping for: 759\n"
     ]
    },
    {
     "name": "stdout",
     "output_type": "stream",
     "text": [
      "0.326746097699656 percent done\n"
     ]
    },
    {
     "name": "stderr",
     "output_type": "stream",
     "text": [
      "Rate limit reached. Sleeping for: 754\n"
     ]
    },
    {
     "name": "stdout",
     "output_type": "stream",
     "text": [
      "0.32931890161855093 percent done\n"
     ]
    },
    {
     "name": "stderr",
     "output_type": "stream",
     "text": [
      "Rate limit reached. Sleeping for: 760\n"
     ]
    },
    {
     "name": "stdout",
     "output_type": "stream",
     "text": [
      "0.33189170553744585 percent done\n"
     ]
    },
    {
     "name": "stderr",
     "output_type": "stream",
     "text": [
      "Rate limit reached. Sleeping for: 761\n"
     ]
    },
    {
     "name": "stdout",
     "output_type": "stream",
     "text": [
      "0.3344645094563408 percent done\n"
     ]
    },
    {
     "name": "stderr",
     "output_type": "stream",
     "text": [
      "Rate limit reached. Sleeping for: 754\n",
      "Rate limit reached. Sleeping for: 759\n"
     ]
    },
    {
     "name": "stdout",
     "output_type": "stream",
     "text": [
      "0.33703731337523574 percent done\n"
     ]
    },
    {
     "name": "stderr",
     "output_type": "stream",
     "text": [
      "Rate limit reached. Sleeping for: 758\n"
     ]
    },
    {
     "name": "stdout",
     "output_type": "stream",
     "text": [
      "0.33961011729413065 percent done\n"
     ]
    },
    {
     "name": "stderr",
     "output_type": "stream",
     "text": [
      "Rate limit reached. Sleeping for: 757\n"
     ]
    },
    {
     "name": "stdout",
     "output_type": "stream",
     "text": [
      "0.34218292121302557 percent done\n"
     ]
    },
    {
     "name": "stderr",
     "output_type": "stream",
     "text": [
      "Rate limit reached. Sleeping for: 757\n"
     ]
    },
    {
     "name": "stdout",
     "output_type": "stream",
     "text": [
      "0.34475572513192054 percent done\n"
     ]
    },
    {
     "name": "stderr",
     "output_type": "stream",
     "text": [
      "Rate limit reached. Sleeping for: 756\n"
     ]
    },
    {
     "name": "stdout",
     "output_type": "stream",
     "text": [
      "0.34732852905081546 percent done\n"
     ]
    },
    {
     "name": "stderr",
     "output_type": "stream",
     "text": [
      "Rate limit reached. Sleeping for: 757\n"
     ]
    },
    {
     "name": "stdout",
     "output_type": "stream",
     "text": [
      "0.3499013329697104 percent done\n"
     ]
    },
    {
     "name": "stderr",
     "output_type": "stream",
     "text": [
      "Rate limit reached. Sleeping for: 758\n"
     ]
    },
    {
     "name": "stdout",
     "output_type": "stream",
     "text": [
      "0.3524741368886053 percent done\n"
     ]
    },
    {
     "name": "stderr",
     "output_type": "stream",
     "text": [
      "Rate limit reached. Sleeping for: 762\n"
     ]
    },
    {
     "name": "stdout",
     "output_type": "stream",
     "text": [
      "0.3550469408075002 percent done\n"
     ]
    },
    {
     "name": "stderr",
     "output_type": "stream",
     "text": [
      "Rate limit reached. Sleeping for: 761\n"
     ]
    },
    {
     "name": "stdout",
     "output_type": "stream",
     "text": [
      "0.3576197447263952 percent done\n"
     ]
    },
    {
     "name": "stderr",
     "output_type": "stream",
     "text": [
      "Rate limit reached. Sleeping for: 763\n",
      "Rate limit reached. Sleeping for: 703\n"
     ]
    },
    {
     "name": "stdout",
     "output_type": "stream",
     "text": [
      "0.3601925486452901 percent done\n"
     ]
    },
    {
     "name": "stderr",
     "output_type": "stream",
     "text": [
      "Rate limit reached. Sleeping for: 763\n"
     ]
    },
    {
     "name": "stdout",
     "output_type": "stream",
     "text": [
      "0.362765352564185 percent done\n"
     ]
    },
    {
     "name": "stderr",
     "output_type": "stream",
     "text": [
      "Rate limit reached. Sleeping for: 764\n"
     ]
    },
    {
     "name": "stdout",
     "output_type": "stream",
     "text": [
      "0.36533815648307993 percent done\n"
     ]
    },
    {
     "name": "stderr",
     "output_type": "stream",
     "text": [
      "Rate limit reached. Sleeping for: 763\n"
     ]
    },
    {
     "name": "stdout",
     "output_type": "stream",
     "text": [
      "0.3679109604019749 percent done\n"
     ]
    },
    {
     "name": "stderr",
     "output_type": "stream",
     "text": [
      "Rate limit reached. Sleeping for: 765\n"
     ]
    },
    {
     "name": "stdout",
     "output_type": "stream",
     "text": [
      "0.3704837643208698 percent done\n"
     ]
    },
    {
     "name": "stderr",
     "output_type": "stream",
     "text": [
      "Rate limit reached. Sleeping for: 767\n"
     ]
    },
    {
     "name": "stdout",
     "output_type": "stream",
     "text": [
      "0.37305656823976474 percent done\n"
     ]
    },
    {
     "name": "stderr",
     "output_type": "stream",
     "text": [
      "Rate limit reached. Sleeping for: 769\n"
     ]
    },
    {
     "name": "stdout",
     "output_type": "stream",
     "text": [
      "0.37562937215865966 percent done\n"
     ]
    },
    {
     "name": "stderr",
     "output_type": "stream",
     "text": [
      "Rate limit reached. Sleeping for: 767\n"
     ]
    },
    {
     "name": "stdout",
     "output_type": "stream",
     "text": [
      "0.3782021760775546 percent done\n"
     ]
    },
    {
     "name": "stderr",
     "output_type": "stream",
     "text": [
      "Rate limit reached. Sleeping for: 765\n"
     ]
    },
    {
     "name": "stdout",
     "output_type": "stream",
     "text": [
      "0.38077497999644955 percent done\n"
     ]
    },
    {
     "name": "stderr",
     "output_type": "stream",
     "text": [
      "Rate limit reached. Sleeping for: 706\n",
      "Rate limit reached. Sleeping for: 760\n"
     ]
    },
    {
     "name": "stdout",
     "output_type": "stream",
     "text": [
      "0.38334778391534446 percent done\n"
     ]
    },
    {
     "name": "stderr",
     "output_type": "stream",
     "text": [
      "Rate limit reached. Sleeping for: 761\n"
     ]
    },
    {
     "name": "stdout",
     "output_type": "stream",
     "text": [
      "0.3859205878342394 percent done\n"
     ]
    },
    {
     "name": "stderr",
     "output_type": "stream",
     "text": [
      "Rate limit reached. Sleeping for: 762\n"
     ]
    },
    {
     "name": "stdout",
     "output_type": "stream",
     "text": [
      "0.3884933917531343 percent done\n"
     ]
    },
    {
     "name": "stderr",
     "output_type": "stream",
     "text": [
      "Rate limit reached. Sleeping for: 763\n"
     ]
    },
    {
     "name": "stdout",
     "output_type": "stream",
     "text": [
      "0.39106619567202927 percent done\n"
     ]
    },
    {
     "name": "stderr",
     "output_type": "stream",
     "text": [
      "Rate limit reached. Sleeping for: 764\n"
     ]
    },
    {
     "name": "stdout",
     "output_type": "stream",
     "text": [
      "0.3936389995909242 percent done\n"
     ]
    },
    {
     "name": "stderr",
     "output_type": "stream",
     "text": [
      "Rate limit reached. Sleeping for: 764\n"
     ]
    },
    {
     "name": "stdout",
     "output_type": "stream",
     "text": [
      "0.3962118035098191 percent done\n"
     ]
    },
    {
     "name": "stderr",
     "output_type": "stream",
     "text": [
      "Rate limit reached. Sleeping for: 766\n"
     ]
    },
    {
     "name": "stdout",
     "output_type": "stream",
     "text": [
      "0.398784607428714 percent done\n"
     ]
    },
    {
     "name": "stderr",
     "output_type": "stream",
     "text": [
      "Rate limit reached. Sleeping for: 765\n"
     ]
    },
    {
     "name": "stdout",
     "output_type": "stream",
     "text": [
      "0.40135741134760894 percent done\n"
     ]
    },
    {
     "name": "stderr",
     "output_type": "stream",
     "text": [
      "Rate limit reached. Sleeping for: 704\n"
     ]
    },
    {
     "name": "stdout",
     "output_type": "stream",
     "text": [
      "0.4039302152665039 percent done\n"
     ]
    },
    {
     "name": "stderr",
     "output_type": "stream",
     "text": [
      "Rate limit reached. Sleeping for: 764\n",
      "Rate limit reached. Sleeping for: 765\n"
     ]
    },
    {
     "name": "stdout",
     "output_type": "stream",
     "text": [
      "0.40650301918539883 percent done\n"
     ]
    },
    {
     "name": "stderr",
     "output_type": "stream",
     "text": [
      "Rate limit reached. Sleeping for: 764\n"
     ]
    },
    {
     "name": "stdout",
     "output_type": "stream",
     "text": [
      "0.40907582310429375 percent done\n"
     ]
    },
    {
     "name": "stderr",
     "output_type": "stream",
     "text": [
      "Rate limit reached. Sleeping for: 765\n"
     ]
    },
    {
     "name": "stdout",
     "output_type": "stream",
     "text": [
      "0.41164862702318866 percent done\n"
     ]
    },
    {
     "name": "stderr",
     "output_type": "stream",
     "text": [
      "Rate limit reached. Sleeping for: 769\n"
     ]
    },
    {
     "name": "stdout",
     "output_type": "stream",
     "text": [
      "0.41422143094208363 percent done\n"
     ]
    },
    {
     "name": "stderr",
     "output_type": "stream",
     "text": [
      "Rate limit reached. Sleeping for: 763\n"
     ]
    },
    {
     "name": "stdout",
     "output_type": "stream",
     "text": [
      "0.41679423486097855 percent done\n"
     ]
    },
    {
     "name": "stderr",
     "output_type": "stream",
     "text": [
      "Rate limit reached. Sleeping for: 759\n"
     ]
    },
    {
     "name": "stdout",
     "output_type": "stream",
     "text": [
      "0.41936703877987347 percent done\n"
     ]
    },
    {
     "name": "stderr",
     "output_type": "stream",
     "text": [
      "Rate limit reached. Sleeping for: 704\n"
     ]
    },
    {
     "name": "stdout",
     "output_type": "stream",
     "text": [
      "0.4219398426987684 percent done\n"
     ]
    },
    {
     "name": "stderr",
     "output_type": "stream",
     "text": [
      "Rate limit reached. Sleeping for: 765\n"
     ]
    },
    {
     "name": "stdout",
     "output_type": "stream",
     "text": [
      "0.4245126466176633 percent done\n"
     ]
    },
    {
     "name": "stderr",
     "output_type": "stream",
     "text": [
      "Rate limit reached. Sleeping for: 766\n"
     ]
    },
    {
     "name": "stdout",
     "output_type": "stream",
     "text": [
      "0.4270854505365583 percent done\n"
     ]
    },
    {
     "name": "stderr",
     "output_type": "stream",
     "text": [
      "Rate limit reached. Sleeping for: 766\n",
      "Rate limit reached. Sleeping for: 765\n"
     ]
    },
    {
     "name": "stdout",
     "output_type": "stream",
     "text": [
      "0.4296582544554532 percent done\n"
     ]
    },
    {
     "name": "stderr",
     "output_type": "stream",
     "text": [
      "Rate limit reached. Sleeping for: 762\n"
     ]
    },
    {
     "name": "stdout",
     "output_type": "stream",
     "text": [
      "0.4322310583743481 percent done\n"
     ]
    },
    {
     "name": "stderr",
     "output_type": "stream",
     "text": [
      "Rate limit reached. Sleeping for: 759\n",
      "Rate limit reached. Sleeping for: 317\n"
     ]
    },
    {
     "name": "stdout",
     "output_type": "stream",
     "text": [
      "0.434803862293243 percent done\n"
     ]
    },
    {
     "name": "stderr",
     "output_type": "stream",
     "text": [
      "Rate limit reached. Sleeping for: 756\n"
     ]
    }
   ],
   "source": [
    "tmp = []\n",
    "count = 0\n",
    "\n",
    "for i,tid in enumerate(missing_tweets):\n",
    "    try:\n",
    "        tweetFetched = api.get_status(tid)\n",
    "        text = tweetFetched.text.replace(\"\\n\",\"\")\n",
    "        text = text.replace(\"\\r\",\"\")\n",
    "        tmp.append(str(tid)+\"\\t\"+text + \"\\n\")\n",
    "        count += 1\n",
    "        bigcount += 1\n",
    "    except:\n",
    "        pass\n",
    "    \n",
    "    if count >= 100:\n",
    "        with open(year+'missing.txt', 'a') as writefile:\n",
    "            for line in tmp:\n",
    "                writefile.write(line)\n",
    "        with open(year+'missinglastwrite.txt', 'w') as writefile:\n",
    "            for line in tmp:\n",
    "                writefile.write(line)\n",
    "        tmp = []\n",
    "        count = 0\n",
    "    if i%1000 == 0:\n",
    "        print(f\"{i/len(missing_tweets)} percent done\")"
   ]
  },
  {
   "cell_type": "code",
   "execution_count": null,
   "metadata": {},
   "outputs": [],
   "source": []
  }
 ],
 "metadata": {
  "kernelspec": {
   "display_name": "Python 3",
   "language": "python",
   "name": "python3"
  },
  "language_info": {
   "codemirror_mode": {
    "name": "ipython",
    "version": 3
   },
   "file_extension": ".py",
   "mimetype": "text/x-python",
   "name": "python",
   "nbconvert_exporter": "python",
   "pygments_lexer": "ipython3",
   "version": "3.8.2"
  }
 },
 "nbformat": 4,
 "nbformat_minor": 2
}
