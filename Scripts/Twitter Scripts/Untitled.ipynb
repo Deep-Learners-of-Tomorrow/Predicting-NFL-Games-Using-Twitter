{
 "cells": [
  {
   "cell_type": "code",
   "execution_count": 12,
   "metadata": {},
   "outputs": [],
   "source": [
    "with open('2010lastwrite.txt', 'r') as readfile:\n",
    "    f=readfile.readlines()\n",
    "last_tweet = f[8].split('\\t')[0]"
   ]
  },
  {
   "cell_type": "code",
   "execution_count": 8,
   "metadata": {},
   "outputs": [
    {
     "name": "stdout",
     "output_type": "stream",
     "text": [
      "k\n"
     ]
    }
   ],
   "source": [
    "2847672448851968"
   ]
  },
  {
   "cell_type": "code",
   "execution_count": 19,
   "metadata": {},
   "outputs": [
    {
     "data": {
      "text/plain": [
       "27656498489"
      ]
     },
     "execution_count": 19,
     "metadata": {},
     "output_type": "execute_result"
    }
   ],
   "source": [
    "int(d[8].split('\\t')[0]) +1"
   ]
  },
  {
   "cell_type": "markdown",
   "metadata": {},
   "source": [
    "# Pulling Tweets in Reverse"
   ]
  },
  {
   "cell_type": "code",
   "execution_count": 2,
   "metadata": {},
   "outputs": [],
   "source": [
    "import tweepy\n",
    "\n",
    "# Twitter Developer keys here\n",
    "# It is CENSORED (not sure what I meant by that originally)\n",
    "consumer_key = 'lsHsFD4MFD8OwmEsYzP9ngLN6'\n",
    "consumer_key_secret = 'cLS0S5Ahsb4OFWMfXYUcKtoyCw7fLw8O88FAwxvqAhn0WmRWaX'\n",
    "access_token = '3167104011-3OvpTfjJT1Sw6uwvp9H4bz0UmnHniImTnPaGZa1'\n",
    "access_token_secret = '41PJm7COypmL8BQRoo4rQNAcTYHDbAqLuGO4qAiqzQlpu'\n",
    "\n",
    "auth = tweepy.OAuthHandler(consumer_key, consumer_key_secret)\n",
    "auth.set_access_token(access_token, access_token_secret)\n",
    "api = tweepy.API(auth, wait_on_rate_limit=True, wait_on_rate_limit_notify=True)"
   ]
  },
  {
   "cell_type": "code",
   "execution_count": 3,
   "metadata": {},
   "outputs": [],
   "source": [
    "import pandas as pd\n",
    "import numpy as np\n",
    "header_list = [\"tweet_ID\", \"tweet_time\",\"team\",\"opponent\", \"week\", \"home_or_away\",\"score\",\"opponent_score\",\"point_spread\",\"over_under\"]"
   ]
  },
  {
   "cell_type": "code",
   "execution_count": 8,
   "metadata": {},
   "outputs": [],
   "source": [
    "df = pd.read_csv('nfl-tweets-v1.0/tweets.nfl.2012.weekly.csv', names=header_list)"
   ]
  },
  {
   "cell_type": "code",
   "execution_count": 9,
   "metadata": {},
   "outputs": [],
   "source": [
    "tweets = df[\"tweet_ID\"].tolist()"
   ]
  },
  {
   "cell_type": "code",
   "execution_count": 10,
   "metadata": {},
   "outputs": [],
   "source": [
    "with open('2012lastwrite(reverse).txt', 'r') as readfile:\n",
    "    f=readfile.readlines()\n",
    "last_tweet = int(f[-1].split('\\t')[0])\n",
    "last_tweet_index = tweets.index(last_tweet) + 1\n",
    "rest_of_tweets = tweets[:last_tweet_index]"
   ]
  },
  {
   "cell_type": "code",
   "execution_count": 11,
   "metadata": {},
   "outputs": [],
   "source": [
    "rest_of_tweets.reverse()"
   ]
  },
  {
   "cell_type": "code",
   "execution_count": null,
   "metadata": {},
   "outputs": [
    {
     "name": "stderr",
     "output_type": "stream",
     "text": [
      "Rate limit reached. Sleeping for: 733\n",
      "Rate limit reached. Sleeping for: 743\n",
      "Rate limit reached. Sleeping for: 746\n",
      "Rate limit reached. Sleeping for: 739\n",
      "Rate limit reached. Sleeping for: 744\n",
      "Rate limit reached. Sleeping for: 743\n",
      "Rate limit reached. Sleeping for: 742\n",
      "Rate limit reached. Sleeping for: 745\n",
      "Rate limit reached. Sleeping for: 747\n",
      "Rate limit reached. Sleeping for: 747\n",
      "Rate limit reached. Sleeping for: 744\n",
      "Rate limit reached. Sleeping for: 746\n",
      "Rate limit reached. Sleeping for: 747\n",
      "Rate limit reached. Sleeping for: 742\n",
      "Rate limit reached. Sleeping for: 742\n",
      "Rate limit reached. Sleeping for: 623\n",
      "Rate limit reached. Sleeping for: 744\n",
      "Rate limit reached. Sleeping for: 739\n",
      "Rate limit reached. Sleeping for: 743\n",
      "Rate limit reached. Sleeping for: 745\n",
      "Rate limit reached. Sleeping for: 743\n",
      "Rate limit reached. Sleeping for: 747\n",
      "Rate limit reached. Sleeping for: 747\n",
      "Rate limit reached. Sleeping for: 746\n",
      "Rate limit reached. Sleeping for: 625\n",
      "Rate limit reached. Sleeping for: 745\n",
      "Rate limit reached. Sleeping for: 743\n",
      "Rate limit reached. Sleeping for: 747\n",
      "Rate limit reached. Sleeping for: 742\n",
      "Rate limit reached. Sleeping for: 742\n",
      "Rate limit reached. Sleeping for: 741\n",
      "Rate limit reached. Sleeping for: 747\n",
      "Rate limit reached. Sleeping for: 747\n",
      "Rate limit reached. Sleeping for: 688\n",
      "Rate limit reached. Sleeping for: 747\n",
      "Rate limit reached. Sleeping for: 747\n",
      "Rate limit reached. Sleeping for: 748\n",
      "Rate limit reached. Sleeping for: 745\n",
      "Rate limit reached. Sleeping for: 746\n",
      "Rate limit reached. Sleeping for: 737\n",
      "Rate limit reached. Sleeping for: 745\n",
      "Rate limit reached. Sleeping for: 746\n",
      "Rate limit reached. Sleeping for: 686\n",
      "Rate limit reached. Sleeping for: 749\n",
      "Rate limit reached. Sleeping for: 750\n",
      "Rate limit reached. Sleeping for: 747\n",
      "Rate limit reached. Sleeping for: 739\n",
      "Rate limit reached. Sleeping for: 745\n",
      "Rate limit reached. Sleeping for: 750\n",
      "Rate limit reached. Sleeping for: 752\n",
      "Rate limit reached. Sleeping for: 752\n",
      "Rate limit reached. Sleeping for: 690\n",
      "Rate limit reached. Sleeping for: 751\n",
      "Rate limit reached. Sleeping for: 752\n",
      "Rate limit reached. Sleeping for: 750\n",
      "Rate limit reached. Sleeping for: 750\n",
      "Rate limit reached. Sleeping for: 750\n",
      "Rate limit reached. Sleeping for: 751\n",
      "Rate limit reached. Sleeping for: 748\n",
      "Rate limit reached. Sleeping for: 750\n",
      "Rate limit reached. Sleeping for: 689\n",
      "Rate limit reached. Sleeping for: 752\n",
      "Rate limit reached. Sleeping for: 748\n",
      "Rate limit reached. Sleeping for: 751\n",
      "Rate limit reached. Sleeping for: 753\n",
      "Rate limit reached. Sleeping for: 751\n",
      "Rate limit reached. Sleeping for: 751\n",
      "Rate limit reached. Sleeping for: 749\n",
      "Rate limit reached. Sleeping for: 749\n",
      "Rate limit reached. Sleeping for: 691\n",
      "Rate limit reached. Sleeping for: 743\n",
      "Rate limit reached. Sleeping for: 750\n",
      "Rate limit reached. Sleeping for: 749\n",
      "Rate limit reached. Sleeping for: 749\n",
      "Rate limit reached. Sleeping for: 751\n",
      "Rate limit reached. Sleeping for: 747\n",
      "Rate limit reached. Sleeping for: 752\n",
      "Rate limit reached. Sleeping for: 628\n",
      "Rate limit reached. Sleeping for: 747\n",
      "Rate limit reached. Sleeping for: 753\n",
      "Rate limit reached. Sleeping for: 748\n",
      "Rate limit reached. Sleeping for: 748\n",
      "Rate limit reached. Sleeping for: 747\n",
      "Rate limit reached. Sleeping for: 746\n",
      "Rate limit reached. Sleeping for: 750\n",
      "Rate limit reached. Sleeping for: 746\n",
      "Rate limit reached. Sleeping for: 690\n",
      "Rate limit reached. Sleeping for: 748\n",
      "Rate limit reached. Sleeping for: 749\n",
      "Rate limit reached. Sleeping for: 749\n",
      "Rate limit reached. Sleeping for: 753\n",
      "Rate limit reached. Sleeping for: 752\n",
      "Rate limit reached. Sleeping for: 752\n",
      "Rate limit reached. Sleeping for: 750\n",
      "Rate limit reached. Sleeping for: 750\n",
      "Rate limit reached. Sleeping for: 686\n",
      "Rate limit reached. Sleeping for: 750\n",
      "Rate limit reached. Sleeping for: 749\n",
      "Rate limit reached. Sleeping for: 748\n",
      "Rate limit reached. Sleeping for: 752\n",
      "Rate limit reached. Sleeping for: 749\n",
      "Rate limit reached. Sleeping for: 748\n",
      "Rate limit reached. Sleeping for: 748\n",
      "Rate limit reached. Sleeping for: 749\n",
      "Rate limit reached. Sleeping for: 675\n",
      "Rate limit reached. Sleeping for: 745\n",
      "Rate limit reached. Sleeping for: 747\n",
      "Rate limit reached. Sleeping for: 745\n",
      "Rate limit reached. Sleeping for: 740\n",
      "Rate limit reached. Sleeping for: 746\n",
      "Rate limit reached. Sleeping for: 742\n",
      "Rate limit reached. Sleeping for: 743\n",
      "Rate limit reached. Sleeping for: 740\n",
      "Rate limit reached. Sleeping for: 686\n",
      "Rate limit reached. Sleeping for: 736\n",
      "Rate limit reached. Sleeping for: 743\n",
      "Rate limit reached. Sleeping for: 742\n",
      "Rate limit reached. Sleeping for: 747\n",
      "Rate limit reached. Sleeping for: 745\n",
      "Rate limit reached. Sleeping for: 746\n",
      "Rate limit reached. Sleeping for: 745\n",
      "Rate limit reached. Sleeping for: 738\n",
      "Rate limit reached. Sleeping for: 680\n",
      "Rate limit reached. Sleeping for: 741\n",
      "Rate limit reached. Sleeping for: 736\n",
      "Rate limit reached. Sleeping for: 747\n",
      "Rate limit reached. Sleeping for: 741\n",
      "Rate limit reached. Sleeping for: 743\n",
      "Rate limit reached. Sleeping for: 740\n",
      "Rate limit reached. Sleeping for: 749\n",
      "Rate limit reached. Sleeping for: 743\n",
      "Rate limit reached. Sleeping for: 682\n",
      "Rate limit reached. Sleeping for: 741\n",
      "Rate limit reached. Sleeping for: 746\n",
      "Rate limit reached. Sleeping for: 745\n",
      "Rate limit reached. Sleeping for: 744\n",
      "Rate limit reached. Sleeping for: 742\n",
      "Rate limit reached. Sleeping for: 748\n",
      "Rate limit reached. Sleeping for: 742\n",
      "Rate limit reached. Sleeping for: 630\n",
      "Rate limit reached. Sleeping for: 748\n",
      "Rate limit reached. Sleeping for: 747\n",
      "Rate limit reached. Sleeping for: 744\n",
      "Rate limit reached. Sleeping for: 746\n",
      "Rate limit reached. Sleeping for: 752\n",
      "Rate limit reached. Sleeping for: 751\n",
      "Rate limit reached. Sleeping for: 751\n",
      "Rate limit reached. Sleeping for: 752\n",
      "Rate limit reached. Sleeping for: 628\n",
      "Rate limit reached. Sleeping for: 751\n",
      "Rate limit reached. Sleeping for: 750\n",
      "Rate limit reached. Sleeping for: 752\n",
      "Rate limit reached. Sleeping for: 754\n",
      "Rate limit reached. Sleeping for: 754\n",
      "Rate limit reached. Sleeping for: 753\n",
      "Rate limit reached. Sleeping for: 753\n",
      "Rate limit reached. Sleeping for: 753\n",
      "Rate limit reached. Sleeping for: 737\n",
      "Rate limit reached. Sleeping for: 753\n",
      "Rate limit reached. Sleeping for: 754\n",
      "Rate limit reached. Sleeping for: 756\n",
      "Rate limit reached. Sleeping for: 752\n",
      "Rate limit reached. Sleeping for: 755\n",
      "Rate limit reached. Sleeping for: 754\n",
      "Rate limit reached. Sleeping for: 754\n",
      "Rate limit reached. Sleeping for: 747\n",
      "Rate limit reached. Sleeping for: 691\n",
      "Rate limit reached. Sleeping for: 754\n",
      "Rate limit reached. Sleeping for: 752\n",
      "Rate limit reached. Sleeping for: 753\n",
      "Rate limit reached. Sleeping for: 749\n",
      "Rate limit reached. Sleeping for: 752\n",
      "Rate limit reached. Sleeping for: 750\n",
      "Rate limit reached. Sleeping for: 749\n",
      "Rate limit reached. Sleeping for: 751\n",
      "Rate limit reached. Sleeping for: 689\n",
      "Rate limit reached. Sleeping for: 751\n",
      "Rate limit reached. Sleeping for: 750\n",
      "Rate limit reached. Sleeping for: 752\n",
      "Rate limit reached. Sleeping for: 753\n",
      "Rate limit reached. Sleeping for: 749\n",
      "Rate limit reached. Sleeping for: 750\n",
      "Rate limit reached. Sleeping for: 741\n",
      "Rate limit reached. Sleeping for: 753\n",
      "Rate limit reached. Sleeping for: 752\n",
      "Rate limit reached. Sleeping for: 751\n",
      "Rate limit reached. Sleeping for: 747\n",
      "Rate limit reached. Sleeping for: 750\n",
      "Rate limit reached. Sleeping for: 745\n",
      "Rate limit reached. Sleeping for: 747\n",
      "Rate limit reached. Sleeping for: 744\n",
      "Rate limit reached. Sleeping for: 750\n",
      "Rate limit reached. Sleeping for: 743\n",
      "Rate limit reached. Sleeping for: 746\n",
      "Rate limit reached. Sleeping for: 750\n",
      "Rate limit reached. Sleeping for: 749\n",
      "Rate limit reached. Sleeping for: 748\n",
      "Rate limit reached. Sleeping for: 742\n",
      "Rate limit reached. Sleeping for: 746\n",
      "Rate limit reached. Sleeping for: 747\n",
      "Rate limit reached. Sleeping for: 743\n",
      "Rate limit reached. Sleeping for: 627\n",
      "Rate limit reached. Sleeping for: 748\n",
      "Rate limit reached. Sleeping for: 749\n",
      "Rate limit reached. Sleeping for: 750\n",
      "Rate limit reached. Sleeping for: 749\n",
      "Rate limit reached. Sleeping for: 749\n",
      "Rate limit reached. Sleeping for: 750\n",
      "Rate limit reached. Sleeping for: 749\n",
      "Rate limit reached. Sleeping for: 746\n",
      "Rate limit reached. Sleeping for: 684\n",
      "Rate limit reached. Sleeping for: 749\n",
      "Rate limit reached. Sleeping for: 750\n",
      "Rate limit reached. Sleeping for: 750\n",
      "Rate limit reached. Sleeping for: 749\n",
      "Rate limit reached. Sleeping for: 748\n"
     ]
    },
    {
     "name": "stderr",
     "output_type": "stream",
     "text": [
      "Rate limit reached. Sleeping for: 748\n",
      "Rate limit reached. Sleeping for: 744\n",
      "Rate limit reached. Sleeping for: 746\n",
      "Rate limit reached. Sleeping for: 687\n",
      "Rate limit reached. Sleeping for: 749\n",
      "Rate limit reached. Sleeping for: 744\n",
      "Rate limit reached. Sleeping for: 743\n",
      "Rate limit reached. Sleeping for: 744\n",
      "Rate limit reached. Sleeping for: 748\n",
      "Rate limit reached. Sleeping for: 751\n",
      "Rate limit reached. Sleeping for: 754\n",
      "Rate limit reached. Sleeping for: 748\n",
      "Rate limit reached. Sleeping for: 686\n",
      "Rate limit reached. Sleeping for: 748\n",
      "Rate limit reached. Sleeping for: 745\n",
      "Rate limit reached. Sleeping for: 746\n",
      "Rate limit reached. Sleeping for: 748\n",
      "Rate limit reached. Sleeping for: 752\n",
      "Rate limit reached. Sleeping for: 751\n",
      "Rate limit reached. Sleeping for: 749\n",
      "Rate limit reached. Sleeping for: 751\n",
      "Rate limit reached. Sleeping for: 681\n",
      "Rate limit reached. Sleeping for: 749\n",
      "Rate limit reached. Sleeping for: 747\n",
      "Rate limit reached. Sleeping for: 753\n",
      "Rate limit reached. Sleeping for: 749\n",
      "Rate limit reached. Sleeping for: 748\n",
      "Rate limit reached. Sleeping for: 747\n",
      "Rate limit reached. Sleeping for: 747\n",
      "Rate limit reached. Sleeping for: 747\n",
      "Rate limit reached. Sleeping for: 688\n",
      "Rate limit reached. Sleeping for: 752\n",
      "Rate limit reached. Sleeping for: 753\n",
      "Rate limit reached. Sleeping for: 751\n",
      "Rate limit reached. Sleeping for: 748\n",
      "Rate limit reached. Sleeping for: 749\n",
      "Rate limit reached. Sleeping for: 755\n",
      "Rate limit reached. Sleeping for: 747\n",
      "Rate limit reached. Sleeping for: 744\n",
      "Rate limit reached. Sleeping for: 692\n",
      "Rate limit reached. Sleeping for: 753\n",
      "Rate limit reached. Sleeping for: 754\n",
      "Rate limit reached. Sleeping for: 751\n",
      "Rate limit reached. Sleeping for: 749\n",
      "Rate limit reached. Sleeping for: 749\n",
      "Rate limit reached. Sleeping for: 747\n",
      "Rate limit reached. Sleeping for: 745\n",
      "Rate limit reached. Sleeping for: 628\n",
      "Rate limit reached. Sleeping for: 749\n",
      "Rate limit reached. Sleeping for: 752\n",
      "Rate limit reached. Sleeping for: 748\n",
      "Rate limit reached. Sleeping for: 749\n",
      "Rate limit reached. Sleeping for: 745\n",
      "Rate limit reached. Sleeping for: 741\n",
      "Rate limit reached. Sleeping for: 748\n",
      "Rate limit reached. Sleeping for: 749\n",
      "Rate limit reached. Sleeping for: 626\n",
      "Rate limit reached. Sleeping for: 746\n",
      "Rate limit reached. Sleeping for: 747\n",
      "Rate limit reached. Sleeping for: 747\n",
      "Rate limit reached. Sleeping for: 747\n",
      "Rate limit reached. Sleeping for: 742\n",
      "Rate limit reached. Sleeping for: 743\n",
      "Rate limit reached. Sleeping for: 747\n",
      "Rate limit reached. Sleeping for: 747\n",
      "Rate limit reached. Sleeping for: 628\n",
      "Rate limit reached. Sleeping for: 749\n",
      "Rate limit reached. Sleeping for: 751\n",
      "Rate limit reached. Sleeping for: 748\n",
      "Rate limit reached. Sleeping for: 750\n",
      "Rate limit reached. Sleeping for: 743\n",
      "Rate limit reached. Sleeping for: 749\n",
      "Rate limit reached. Sleeping for: 744\n",
      "Rate limit reached. Sleeping for: 742\n",
      "Rate limit reached. Sleeping for: 676\n",
      "Rate limit reached. Sleeping for: 746\n",
      "Rate limit reached. Sleeping for: 743\n",
      "Rate limit reached. Sleeping for: 747\n",
      "Rate limit reached. Sleeping for: 744\n",
      "Rate limit reached. Sleeping for: 741\n",
      "Rate limit reached. Sleeping for: 741\n",
      "Rate limit reached. Sleeping for: 746\n",
      "Rate limit reached. Sleeping for: 742\n",
      "Rate limit reached. Sleeping for: 684\n",
      "Rate limit reached. Sleeping for: 743\n",
      "Rate limit reached. Sleeping for: 743\n",
      "Rate limit reached. Sleeping for: 744\n",
      "Rate limit reached. Sleeping for: 743\n",
      "Rate limit reached. Sleeping for: 741\n",
      "Rate limit reached. Sleeping for: 742\n",
      "Rate limit reached. Sleeping for: 748\n",
      "Rate limit reached. Sleeping for: 748\n",
      "Rate limit reached. Sleeping for: 684\n",
      "Rate limit reached. Sleeping for: 744\n",
      "Rate limit reached. Sleeping for: 745\n",
      "Rate limit reached. Sleeping for: 746\n",
      "Rate limit reached. Sleeping for: 745\n",
      "Rate limit reached. Sleeping for: 748\n",
      "Rate limit reached. Sleeping for: 748\n",
      "Rate limit reached. Sleeping for: 752\n",
      "Rate limit reached. Sleeping for: 753\n",
      "Rate limit reached. Sleeping for: 746\n",
      "Rate limit reached. Sleeping for: 744\n",
      "Rate limit reached. Sleeping for: 745\n",
      "Rate limit reached. Sleeping for: 748\n",
      "Rate limit reached. Sleeping for: 745\n",
      "Rate limit reached. Sleeping for: 737\n",
      "Rate limit reached. Sleeping for: 744\n",
      "Rate limit reached. Sleeping for: 743\n",
      "Rate limit reached. Sleeping for: 626\n",
      "Rate limit reached. Sleeping for: 744\n",
      "Rate limit reached. Sleeping for: 750\n",
      "Rate limit reached. Sleeping for: 747\n",
      "Rate limit reached. Sleeping for: 746\n",
      "Rate limit reached. Sleeping for: 752\n",
      "Rate limit reached. Sleeping for: 748\n",
      "Rate limit reached. Sleeping for: 748\n",
      "Rate limit reached. Sleeping for: 744\n",
      "Rate limit reached. Sleeping for: 625\n",
      "Rate limit reached. Sleeping for: 753\n",
      "Rate limit reached. Sleeping for: 752\n",
      "Rate limit reached. Sleeping for: 750\n",
      "Rate limit reached. Sleeping for: 744\n",
      "Rate limit reached. Sleeping for: 741\n",
      "Rate limit reached. Sleeping for: 742\n",
      "Rate limit reached. Sleeping for: 743\n",
      "Rate limit reached. Sleeping for: 738\n",
      "Rate limit reached. Sleeping for: 680\n",
      "Rate limit reached. Sleeping for: 744\n",
      "Rate limit reached. Sleeping for: 738\n",
      "Rate limit reached. Sleeping for: 737\n",
      "Rate limit reached. Sleeping for: 736\n",
      "Rate limit reached. Sleeping for: 742\n",
      "Rate limit reached. Sleeping for: 738\n",
      "Rate limit reached. Sleeping for: 744\n",
      "Rate limit reached. Sleeping for: 744\n",
      "Rate limit reached. Sleeping for: 674\n",
      "Rate limit reached. Sleeping for: 740\n",
      "Rate limit reached. Sleeping for: 745\n",
      "Rate limit reached. Sleeping for: 742\n",
      "Rate limit reached. Sleeping for: 749\n",
      "Rate limit reached. Sleeping for: 744\n",
      "Rate limit reached. Sleeping for: 737\n",
      "Rate limit reached. Sleeping for: 739\n",
      "Rate limit reached. Sleeping for: 623\n",
      "Rate limit reached. Sleeping for: 733\n",
      "Rate limit reached. Sleeping for: 741\n",
      "Rate limit reached. Sleeping for: 742\n",
      "Rate limit reached. Sleeping for: 748\n",
      "Rate limit reached. Sleeping for: 745\n",
      "Rate limit reached. Sleeping for: 750\n",
      "Rate limit reached. Sleeping for: 749\n",
      "Rate limit reached. Sleeping for: 746\n",
      "Rate limit reached. Sleeping for: 739\n",
      "Rate limit reached. Sleeping for: 735\n",
      "Rate limit reached. Sleeping for: 745\n",
      "Rate limit reached. Sleeping for: 745\n",
      "Rate limit reached. Sleeping for: 744\n",
      "Rate limit reached. Sleeping for: 751\n",
      "Rate limit reached. Sleeping for: 745\n",
      "Rate limit reached. Sleeping for: 746\n",
      "Rate limit reached. Sleeping for: 746\n",
      "Rate limit reached. Sleeping for: 688\n",
      "Rate limit reached. Sleeping for: 729\n",
      "Rate limit reached. Sleeping for: 745\n",
      "Rate limit reached. Sleeping for: 747\n",
      "Rate limit reached. Sleeping for: 749\n",
      "Rate limit reached. Sleeping for: 748\n",
      "Rate limit reached. Sleeping for: 750\n",
      "Rate limit reached. Sleeping for: 750\n",
      "Rate limit reached. Sleeping for: 748\n",
      "Rate limit reached. Sleeping for: 689\n",
      "Rate limit reached. Sleeping for: 748\n",
      "Rate limit reached. Sleeping for: 749\n",
      "Rate limit reached. Sleeping for: 750\n",
      "Rate limit reached. Sleeping for: 750\n",
      "Rate limit reached. Sleeping for: 748\n",
      "Rate limit reached. Sleeping for: 747\n",
      "Rate limit reached. Sleeping for: 751\n",
      "Rate limit reached. Sleeping for: 725\n",
      "Rate limit reached. Sleeping for: 745\n",
      "Rate limit reached. Sleeping for: 743\n",
      "Rate limit reached. Sleeping for: 754\n",
      "Rate limit reached. Sleeping for: 758\n",
      "Rate limit reached. Sleeping for: 755\n",
      "Rate limit reached. Sleeping for: 745\n",
      "Rate limit reached. Sleeping for: 742\n",
      "Rate limit reached. Sleeping for: 748\n",
      "Rate limit reached. Sleeping for: 693\n",
      "Rate limit reached. Sleeping for: 749\n",
      "Rate limit reached. Sleeping for: 745\n",
      "Rate limit reached. Sleeping for: 741\n",
      "Rate limit reached. Sleeping for: 742\n",
      "Rate limit reached. Sleeping for: 747\n",
      "Rate limit reached. Sleeping for: 742\n",
      "Rate limit reached. Sleeping for: 747\n",
      "Rate limit reached. Sleeping for: 745\n",
      "Rate limit reached. Sleeping for: 689\n",
      "Rate limit reached. Sleeping for: 747\n",
      "Rate limit reached. Sleeping for: 748\n",
      "Rate limit reached. Sleeping for: 748\n",
      "Rate limit reached. Sleeping for: 747\n",
      "Rate limit reached. Sleeping for: 748\n",
      "Rate limit reached. Sleeping for: 753\n",
      "Rate limit reached. Sleeping for: 751\n",
      "Rate limit reached. Sleeping for: 752\n",
      "Rate limit reached. Sleeping for: 689\n",
      "Rate limit reached. Sleeping for: 747\n",
      "Rate limit reached. Sleeping for: 746\n",
      "Rate limit reached. Sleeping for: 750\n",
      "Rate limit reached. Sleeping for: 747\n",
      "Rate limit reached. Sleeping for: 746\n",
      "Rate limit reached. Sleeping for: 747\n",
      "Rate limit reached. Sleeping for: 749\n",
      "Rate limit reached. Sleeping for: 745\n",
      "Rate limit reached. Sleeping for: 687\n"
     ]
    },
    {
     "name": "stderr",
     "output_type": "stream",
     "text": [
      "Rate limit reached. Sleeping for: 751\n",
      "Rate limit reached. Sleeping for: 751\n",
      "Rate limit reached. Sleeping for: 753\n",
      "Rate limit reached. Sleeping for: 754\n",
      "Rate limit reached. Sleeping for: 751\n",
      "Rate limit reached. Sleeping for: 752\n",
      "Rate limit reached. Sleeping for: 755\n",
      "Rate limit reached. Sleeping for: 625\n",
      "Rate limit reached. Sleeping for: 745\n",
      "Rate limit reached. Sleeping for: 747\n",
      "Rate limit reached. Sleeping for: 754\n",
      "Rate limit reached. Sleeping for: 746\n",
      "Rate limit reached. Sleeping for: 746\n",
      "Rate limit reached. Sleeping for: 747\n",
      "Rate limit reached. Sleeping for: 750\n",
      "Rate limit reached. Sleeping for: 749\n",
      "Rate limit reached. Sleeping for: 690\n",
      "Rate limit reached. Sleeping for: 751\n",
      "Rate limit reached. Sleeping for: 752\n",
      "Rate limit reached. Sleeping for: 750\n",
      "Rate limit reached. Sleeping for: 750\n",
      "Rate limit reached. Sleeping for: 751\n",
      "Rate limit reached. Sleeping for: 751\n",
      "Rate limit reached. Sleeping for: 749\n",
      "Rate limit reached. Sleeping for: 753\n",
      "Rate limit reached. Sleeping for: 748\n",
      "Rate limit reached. Sleeping for: 753\n",
      "Rate limit reached. Sleeping for: 750\n",
      "Rate limit reached. Sleeping for: 756\n",
      "Rate limit reached. Sleeping for: 746\n",
      "Rate limit reached. Sleeping for: 747\n",
      "Rate limit reached. Sleeping for: 753\n",
      "Rate limit reached. Sleeping for: 750\n",
      "Rate limit reached. Sleeping for: 639\n",
      "Rate limit reached. Sleeping for: 755\n",
      "Rate limit reached. Sleeping for: 753\n",
      "Rate limit reached. Sleeping for: 753\n",
      "Rate limit reached. Sleeping for: 751\n",
      "Rate limit reached. Sleeping for: 748\n",
      "Rate limit reached. Sleeping for: 749\n",
      "Rate limit reached. Sleeping for: 753\n",
      "Rate limit reached. Sleeping for: 751\n",
      "Rate limit reached. Sleeping for: 692\n",
      "Rate limit reached. Sleeping for: 748\n",
      "Rate limit reached. Sleeping for: 752\n",
      "Rate limit reached. Sleeping for: 751\n",
      "Rate limit reached. Sleeping for: 750\n",
      "Rate limit reached. Sleeping for: 753\n",
      "Rate limit reached. Sleeping for: 745\n",
      "Rate limit reached. Sleeping for: 749\n",
      "Rate limit reached. Sleeping for: 691\n",
      "Rate limit reached. Sleeping for: 754\n",
      "Rate limit reached. Sleeping for: 754\n",
      "Rate limit reached. Sleeping for: 751\n",
      "Rate limit reached. Sleeping for: 753\n",
      "Rate limit reached. Sleeping for: 750\n",
      "Rate limit reached. Sleeping for: 750\n",
      "Rate limit reached. Sleeping for: 751\n",
      "Rate limit reached. Sleeping for: 753\n",
      "Rate limit reached. Sleeping for: 695\n",
      "Rate limit reached. Sleeping for: 752\n",
      "Rate limit reached. Sleeping for: 752\n",
      "Rate limit reached. Sleeping for: 749\n",
      "Rate limit reached. Sleeping for: 752\n",
      "Rate limit reached. Sleeping for: 744\n",
      "Rate limit reached. Sleeping for: 749\n",
      "Rate limit reached. Sleeping for: 751\n",
      "Rate limit reached. Sleeping for: 714\n",
      "Rate limit reached. Sleeping for: 632\n",
      "Rate limit reached. Sleeping for: 695\n",
      "Rate limit reached. Sleeping for: 690\n",
      "Rate limit reached. Sleeping for: 691\n",
      "Rate limit reached. Sleeping for: 700\n",
      "Rate limit reached. Sleeping for: 732\n",
      "Rate limit reached. Sleeping for: 750\n",
      "Rate limit reached. Sleeping for: 748\n",
      "Rate limit reached. Sleeping for: 745\n",
      "Rate limit reached. Sleeping for: 744\n",
      "Rate limit reached. Sleeping for: 746\n",
      "Rate limit reached. Sleeping for: 738\n",
      "Rate limit reached. Sleeping for: 735\n",
      "Rate limit reached. Sleeping for: 750\n",
      "Rate limit reached. Sleeping for: 746\n",
      "Rate limit reached. Sleeping for: 743\n",
      "Rate limit reached. Sleeping for: 747\n",
      "Rate limit reached. Sleeping for: 690\n",
      "Rate limit reached. Sleeping for: 740\n",
      "Rate limit reached. Sleeping for: 737\n",
      "Rate limit reached. Sleeping for: 743\n",
      "Rate limit reached. Sleeping for: 744\n",
      "Rate limit reached. Sleeping for: 744\n",
      "Rate limit reached. Sleeping for: 742\n",
      "Rate limit reached. Sleeping for: 745\n",
      "Rate limit reached. Sleeping for: 748\n",
      "Rate limit reached. Sleeping for: 689\n",
      "Rate limit reached. Sleeping for: 751\n",
      "Rate limit reached. Sleeping for: 752\n",
      "Rate limit reached. Sleeping for: 752\n",
      "Rate limit reached. Sleeping for: 755\n",
      "Rate limit reached. Sleeping for: 745\n",
      "Rate limit reached. Sleeping for: 748\n",
      "Rate limit reached. Sleeping for: 742\n",
      "Rate limit reached. Sleeping for: 751\n",
      "Rate limit reached. Sleeping for: 687\n",
      "Rate limit reached. Sleeping for: 744\n",
      "Rate limit reached. Sleeping for: 748\n",
      "Rate limit reached. Sleeping for: 752\n",
      "Rate limit reached. Sleeping for: 748\n",
      "Rate limit reached. Sleeping for: 753\n",
      "Rate limit reached. Sleeping for: 748\n",
      "Rate limit reached. Sleeping for: 747\n",
      "Rate limit reached. Sleeping for: 749\n",
      "Rate limit reached. Sleeping for: 691\n",
      "Rate limit reached. Sleeping for: 744\n",
      "Rate limit reached. Sleeping for: 746\n",
      "Rate limit reached. Sleeping for: 741\n",
      "Rate limit reached. Sleeping for: 741\n",
      "Rate limit reached. Sleeping for: 735\n",
      "Rate limit reached. Sleeping for: 747\n",
      "Rate limit reached. Sleeping for: 747\n",
      "Rate limit reached. Sleeping for: 616\n",
      "Rate limit reached. Sleeping for: 740\n",
      "Rate limit reached. Sleeping for: 747\n",
      "Rate limit reached. Sleeping for: 747\n",
      "Rate limit reached. Sleeping for: 751\n",
      "Rate limit reached. Sleeping for: 748\n",
      "Rate limit reached. Sleeping for: 747\n",
      "Rate limit reached. Sleeping for: 748\n",
      "Rate limit reached. Sleeping for: 753\n",
      "Rate limit reached. Sleeping for: 695\n",
      "Rate limit reached. Sleeping for: 756\n",
      "Rate limit reached. Sleeping for: 757\n",
      "Rate limit reached. Sleeping for: 757\n",
      "Rate limit reached. Sleeping for: 753\n",
      "Rate limit reached. Sleeping for: 754\n",
      "Rate limit reached. Sleeping for: 754\n",
      "Rate limit reached. Sleeping for: 740\n",
      "Rate limit reached. Sleeping for: 757\n",
      "Rate limit reached. Sleeping for: 696\n",
      "Rate limit reached. Sleeping for: 759\n",
      "Rate limit reached. Sleeping for: 757\n",
      "Rate limit reached. Sleeping for: 754\n",
      "Rate limit reached. Sleeping for: 757\n",
      "Rate limit reached. Sleeping for: 756\n",
      "Rate limit reached. Sleeping for: 758\n",
      "Rate limit reached. Sleeping for: 757\n",
      "Rate limit reached. Sleeping for: 757\n",
      "Rate limit reached. Sleeping for: 697\n",
      "Rate limit reached. Sleeping for: 758\n",
      "Rate limit reached. Sleeping for: 756\n",
      "Rate limit reached. Sleeping for: 756\n",
      "Rate limit reached. Sleeping for: 755\n",
      "Rate limit reached. Sleeping for: 754\n",
      "Rate limit reached. Sleeping for: 754\n",
      "Rate limit reached. Sleeping for: 754\n",
      "Rate limit reached. Sleeping for: 755\n",
      "Rate limit reached. Sleeping for: 691\n",
      "Rate limit reached. Sleeping for: 754\n",
      "Rate limit reached. Sleeping for: 754\n",
      "Rate limit reached. Sleeping for: 753\n",
      "Rate limit reached. Sleeping for: 752\n",
      "Rate limit reached. Sleeping for: 753\n",
      "Rate limit reached. Sleeping for: 750\n",
      "Rate limit reached. Sleeping for: 748\n",
      "Rate limit reached. Sleeping for: 619\n",
      "Rate limit reached. Sleeping for: 747\n",
      "Rate limit reached. Sleeping for: 740\n",
      "Rate limit reached. Sleeping for: 717\n",
      "Rate limit reached. Sleeping for: 742\n",
      "Rate limit reached. Sleeping for: 741\n",
      "Rate limit reached. Sleeping for: 747\n",
      "Rate limit reached. Sleeping for: 738\n",
      "Rate limit reached. Sleeping for: 741\n",
      "Rate limit reached. Sleeping for: 622\n",
      "Rate limit reached. Sleeping for: 742\n",
      "Rate limit reached. Sleeping for: 743\n",
      "Rate limit reached. Sleeping for: 743\n",
      "Rate limit reached. Sleeping for: 745\n",
      "Rate limit reached. Sleeping for: 745\n",
      "Rate limit reached. Sleeping for: 742\n",
      "Rate limit reached. Sleeping for: 750\n",
      "Rate limit reached. Sleeping for: 753\n",
      "Rate limit reached. Sleeping for: 688\n",
      "Rate limit reached. Sleeping for: 751\n",
      "Rate limit reached. Sleeping for: 750\n",
      "Rate limit reached. Sleeping for: 746\n",
      "Rate limit reached. Sleeping for: 748\n",
      "Rate limit reached. Sleeping for: 753\n",
      "Rate limit reached. Sleeping for: 751\n",
      "Rate limit reached. Sleeping for: 750\n",
      "Rate limit reached. Sleeping for: 751\n",
      "Rate limit reached. Sleeping for: 690\n",
      "Rate limit reached. Sleeping for: 749\n",
      "Rate limit reached. Sleeping for: 754\n",
      "Rate limit reached. Sleeping for: 752\n",
      "Rate limit reached. Sleeping for: 756\n",
      "Rate limit reached. Sleeping for: 751\n",
      "Rate limit reached. Sleeping for: 747\n",
      "Rate limit reached. Sleeping for: 748\n",
      "Rate limit reached. Sleeping for: 751\n",
      "Rate limit reached. Sleeping for: 692\n",
      "Rate limit reached. Sleeping for: 748\n",
      "Rate limit reached. Sleeping for: 751\n",
      "Rate limit reached. Sleeping for: 750\n",
      "Rate limit reached. Sleeping for: 747\n",
      "Rate limit reached. Sleeping for: 753\n",
      "Rate limit reached. Sleeping for: 753\n",
      "Rate limit reached. Sleeping for: 755\n",
      "Rate limit reached. Sleeping for: 754\n",
      "Rate limit reached. Sleeping for: 704\n",
      "Rate limit reached. Sleeping for: 760\n",
      "Rate limit reached. Sleeping for: 750\n",
      "Rate limit reached. Sleeping for: 606\n",
      "Rate limit reached. Sleeping for: 686\n",
      "Rate limit reached. Sleeping for: 751\n",
      "Rate limit reached. Sleeping for: 752\n"
     ]
    },
    {
     "name": "stderr",
     "output_type": "stream",
     "text": [
      "Rate limit reached. Sleeping for: 754\n",
      "Rate limit reached. Sleeping for: 626\n",
      "Rate limit reached. Sleeping for: 747\n",
      "Rate limit reached. Sleeping for: 753\n",
      "Rate limit reached. Sleeping for: 741\n",
      "Rate limit reached. Sleeping for: 749\n",
      "Rate limit reached. Sleeping for: 737\n",
      "Rate limit reached. Sleeping for: 751\n",
      "Rate limit reached. Sleeping for: 749\n",
      "Rate limit reached. Sleeping for: 741\n",
      "Rate limit reached. Sleeping for: 732\n",
      "Rate limit reached. Sleeping for: 757\n",
      "Rate limit reached. Sleeping for: 749\n",
      "Rate limit reached. Sleeping for: 743\n",
      "Rate limit reached. Sleeping for: 745\n",
      "Rate limit reached. Sleeping for: 747\n",
      "Rate limit reached. Sleeping for: 746\n",
      "Rate limit reached. Sleeping for: 740\n",
      "Rate limit reached. Sleeping for: 623\n",
      "Rate limit reached. Sleeping for: 745\n",
      "Rate limit reached. Sleeping for: 743\n",
      "Rate limit reached. Sleeping for: 751\n",
      "Rate limit reached. Sleeping for: 755\n",
      "Rate limit reached. Sleeping for: 755\n",
      "Rate limit reached. Sleeping for: 751\n",
      "Rate limit reached. Sleeping for: 750\n",
      "Rate limit reached. Sleeping for: 752\n",
      "Rate limit reached. Sleeping for: 739\n",
      "Rate limit reached. Sleeping for: 753\n",
      "Rate limit reached. Sleeping for: 752\n",
      "Rate limit reached. Sleeping for: 750\n",
      "Rate limit reached. Sleeping for: 751\n",
      "Rate limit reached. Sleeping for: 750\n",
      "Rate limit reached. Sleeping for: 749\n",
      "Rate limit reached. Sleeping for: 752\n",
      "Rate limit reached. Sleeping for: 748\n",
      "Rate limit reached. Sleeping for: 676\n",
      "Rate limit reached. Sleeping for: 741\n",
      "Rate limit reached. Sleeping for: 742\n",
      "Rate limit reached. Sleeping for: 743\n",
      "Rate limit reached. Sleeping for: 741\n",
      "Rate limit reached. Sleeping for: 744\n",
      "Rate limit reached. Sleeping for: 743\n",
      "Rate limit reached. Sleeping for: 738\n",
      "Rate limit reached. Sleeping for: 735\n",
      "Rate limit reached. Sleeping for: 674\n",
      "Rate limit reached. Sleeping for: 730\n",
      "Rate limit reached. Sleeping for: 741\n",
      "Rate limit reached. Sleeping for: 750\n",
      "Rate limit reached. Sleeping for: 750\n",
      "Rate limit reached. Sleeping for: 750\n",
      "Rate limit reached. Sleeping for: 751\n",
      "Rate limit reached. Sleeping for: 747\n",
      "Rate limit reached. Sleeping for: 627\n",
      "Rate limit reached. Sleeping for: 737\n",
      "Rate limit reached. Sleeping for: 745\n",
      "Rate limit reached. Sleeping for: 738\n",
      "Rate limit reached. Sleeping for: 745\n",
      "Rate limit reached. Sleeping for: 755\n",
      "Rate limit reached. Sleeping for: 741\n",
      "Rate limit reached. Sleeping for: 737\n",
      "Rate limit reached. Sleeping for: 748\n",
      "Rate limit reached. Sleeping for: 687\n",
      "Rate limit reached. Sleeping for: 745\n",
      "Rate limit reached. Sleeping for: 746\n",
      "Rate limit reached. Sleeping for: 748\n",
      "Rate limit reached. Sleeping for: 743\n",
      "Rate limit reached. Sleeping for: 747\n",
      "Rate limit reached. Sleeping for: 747\n",
      "Rate limit reached. Sleeping for: 749\n",
      "Rate limit reached. Sleeping for: 628\n",
      "Rate limit reached. Sleeping for: 746\n",
      "Rate limit reached. Sleeping for: 754\n",
      "Rate limit reached. Sleeping for: 756\n",
      "Rate limit reached. Sleeping for: 756\n",
      "Rate limit reached. Sleeping for: 752\n",
      "Rate limit reached. Sleeping for: 755\n",
      "Rate limit reached. Sleeping for: 748\n",
      "Rate limit reached. Sleeping for: 739\n",
      "Rate limit reached. Sleeping for: 743\n",
      "Rate limit reached. Sleeping for: 749\n",
      "Rate limit reached. Sleeping for: 750\n",
      "Rate limit reached. Sleeping for: 750\n",
      "Rate limit reached. Sleeping for: 752\n",
      "Rate limit reached. Sleeping for: 756\n",
      "Rate limit reached. Sleeping for: 752\n",
      "Rate limit reached. Sleeping for: 752\n",
      "Rate limit reached. Sleeping for: 743\n",
      "Rate limit reached. Sleeping for: 697\n",
      "Rate limit reached. Sleeping for: 750\n"
     ]
    }
   ],
   "source": [
    "tmp = []\n",
    "count = 0\n",
    "\n",
    "for tid in rest_of_tweets:\n",
    "    try:\n",
    "        tweetFetched = api.get_status(tid)\n",
    "        text = tweetFetched.text.replace(\"\\n\",\"\")\n",
    "        text = text.replace(\"\\r\",\"\")\n",
    "        tmp.append(str(tid)+\"\\t\"+text + \"\\n\")\n",
    "        count += 1\n",
    "        bigcount += 1\n",
    "    except:\n",
    "        pass\n",
    "    \n",
    "    if count >= 100:\n",
    "        with open('2012tweettext(reverse).txt', 'a') as writefile:\n",
    "            for line in tmp:\n",
    "                writefile.write(line)\n",
    "        with open('2012lastwrite(reverse).txt', 'w') as writefile:\n",
    "            for line in tmp:\n",
    "                writefile.write(line)\n",
    "        tmp = []\n",
    "        count = 0"
   ]
  },
  {
   "cell_type": "markdown",
   "metadata": {},
   "source": [
    "# Getting the missing tweets"
   ]
  },
  {
   "cell_type": "code",
   "execution_count": 2,
   "metadata": {},
   "outputs": [],
   "source": [
    "import pickle\n",
    "\n",
    "with open('2010missing_tweets', 'rb') as filehandle:\n",
    "    # read the data as binary data stream\n",
    "    missing_tweets = pickle.load(filehandle)\n",
    "missing_tweets = [int(x) for x in missing_tweets]"
   ]
  },
  {
   "cell_type": "code",
   "execution_count": 4,
   "metadata": {},
   "outputs": [],
   "source": [
    "year = \"2011\"\n",
    "\n",
    "# Getting the List of Pulled Tweets\n",
    "tweets_file_name = year+\"alltweets.txt\"\n",
    "tweets_header_list = ['id','text']\n",
    "tweets_df = pd.read_csv(tweets_file_name, names=tweets_header_list, sep='\\t',error_bad_lines=False)\n",
    "\n",
    "# Getting all the tweets we were supposed to have\n",
    "data_header_list = [\"id\", \"tweet_time\",\"team\",\"opponent\", \"week\", \"home_or_away\",\"score\",\"opponent_score\",\"point_spread\",\"over_under\"]\n",
    "data_df = pd.read_csv('nfl-tweets-v1.0/tweets.nfl.'+year+'.weekly.csv', names=data_header_list)\n",
    "\n",
    "# Pulling out the list of tweet ids for each\n",
    "all_ids = set(data_df[\"id\"].tolist())\n",
    "pulled_ids = set(tweets_df['id'].tolist())\n",
    "missing_tweets = all_ids-pulled_ids"
   ]
  },
  {
   "cell_type": "code",
   "execution_count": null,
   "metadata": {},
   "outputs": [
    {
     "name": "stderr",
     "output_type": "stream",
     "text": [
      "Rate limit reached. Sleeping for: 289\n"
     ]
    },
    {
     "name": "stdout",
     "output_type": "stream",
     "text": [
      "0.0 percent done\n"
     ]
    },
    {
     "name": "stderr",
     "output_type": "stream",
     "text": [
      "Rate limit reached. Sleeping for: 759\n"
     ]
    },
    {
     "name": "stdout",
     "output_type": "stream",
     "text": [
      "0.005558118465736978 percent done\n"
     ]
    },
    {
     "name": "stderr",
     "output_type": "stream",
     "text": [
      "Rate limit reached. Sleeping for: 762\n"
     ]
    },
    {
     "name": "stdout",
     "output_type": "stream",
     "text": [
      "0.011116236931473957 percent done\n"
     ]
    },
    {
     "name": "stderr",
     "output_type": "stream",
     "text": [
      "Rate limit reached. Sleeping for: 766\n"
     ]
    },
    {
     "name": "stdout",
     "output_type": "stream",
     "text": [
      "0.016674355397210936 percent done\n"
     ]
    },
    {
     "name": "stderr",
     "output_type": "stream",
     "text": [
      "Rate limit reached. Sleeping for: 765\n"
     ]
    },
    {
     "name": "stdout",
     "output_type": "stream",
     "text": [
      "0.022232473862947914 percent done\n"
     ]
    },
    {
     "name": "stderr",
     "output_type": "stream",
     "text": [
      "Rate limit reached. Sleeping for: 766\n"
     ]
    },
    {
     "name": "stdout",
     "output_type": "stream",
     "text": [
      "0.027790592328684895 percent done\n"
     ]
    },
    {
     "name": "stderr",
     "output_type": "stream",
     "text": [
      "Rate limit reached. Sleeping for: 768\n"
     ]
    },
    {
     "name": "stdout",
     "output_type": "stream",
     "text": [
      "0.03334871079442187 percent done\n"
     ]
    },
    {
     "name": "stderr",
     "output_type": "stream",
     "text": [
      "Rate limit reached. Sleeping for: 700\n"
     ]
    },
    {
     "name": "stdout",
     "output_type": "stream",
     "text": [
      "0.03890682926015885 percent done\n"
     ]
    },
    {
     "name": "stderr",
     "output_type": "stream",
     "text": [
      "Rate limit reached. Sleeping for: 762\n"
     ]
    },
    {
     "name": "stdout",
     "output_type": "stream",
     "text": [
      "0.04446494772589583 percent done\n"
     ]
    },
    {
     "name": "stderr",
     "output_type": "stream",
     "text": [
      "Rate limit reached. Sleeping for: 763\n",
      "Rate limit reached. Sleeping for: 763\n"
     ]
    },
    {
     "name": "stdout",
     "output_type": "stream",
     "text": [
      "0.05002306619163281 percent done\n"
     ]
    },
    {
     "name": "stderr",
     "output_type": "stream",
     "text": [
      "Rate limit reached. Sleeping for: 760\n"
     ]
    },
    {
     "name": "stdout",
     "output_type": "stream",
     "text": [
      "0.05558118465736979 percent done\n"
     ]
    },
    {
     "name": "stderr",
     "output_type": "stream",
     "text": [
      "Rate limit reached. Sleeping for: 765\n"
     ]
    },
    {
     "name": "stdout",
     "output_type": "stream",
     "text": [
      "0.06113930312310677 percent done\n"
     ]
    },
    {
     "name": "stderr",
     "output_type": "stream",
     "text": [
      "Rate limit reached. Sleeping for: 758\n"
     ]
    },
    {
     "name": "stdout",
     "output_type": "stream",
     "text": [
      "0.06669742158884374 percent done\n"
     ]
    },
    {
     "name": "stderr",
     "output_type": "stream",
     "text": [
      "Rate limit reached. Sleeping for: 766\n"
     ]
    },
    {
     "name": "stdout",
     "output_type": "stream",
     "text": [
      "0.07225554005458072 percent done\n"
     ]
    },
    {
     "name": "stderr",
     "output_type": "stream",
     "text": [
      "Rate limit reached. Sleeping for: 770\n"
     ]
    },
    {
     "name": "stdout",
     "output_type": "stream",
     "text": [
      "0.0778136585203177 percent done\n"
     ]
    },
    {
     "name": "stderr",
     "output_type": "stream",
     "text": [
      "Rate limit reached. Sleeping for: 707\n"
     ]
    },
    {
     "name": "stdout",
     "output_type": "stream",
     "text": [
      "0.08337177698605468 percent done\n"
     ]
    },
    {
     "name": "stderr",
     "output_type": "stream",
     "text": [
      "Rate limit reached. Sleeping for: 767\n"
     ]
    },
    {
     "name": "stdout",
     "output_type": "stream",
     "text": [
      "0.08892989545179165 percent done\n"
     ]
    },
    {
     "name": "stderr",
     "output_type": "stream",
     "text": [
      "Rate limit reached. Sleeping for: 763\n"
     ]
    },
    {
     "name": "stdout",
     "output_type": "stream",
     "text": [
      "0.09448801391752863 percent done\n"
     ]
    },
    {
     "name": "stderr",
     "output_type": "stream",
     "text": [
      "Rate limit reached. Sleeping for: 765\n",
      "Rate limit reached. Sleeping for: 762\n"
     ]
    },
    {
     "name": "stdout",
     "output_type": "stream",
     "text": [
      "0.10004613238326562 percent done\n"
     ]
    },
    {
     "name": "stderr",
     "output_type": "stream",
     "text": [
      "Rate limit reached. Sleeping for: 767\n"
     ]
    },
    {
     "name": "stdout",
     "output_type": "stream",
     "text": [
      "0.1056042508490026 percent done\n"
     ]
    },
    {
     "name": "stderr",
     "output_type": "stream",
     "text": [
      "Rate limit reached. Sleeping for: 764\n"
     ]
    },
    {
     "name": "stdout",
     "output_type": "stream",
     "text": [
      "0.11116236931473958 percent done\n"
     ]
    },
    {
     "name": "stderr",
     "output_type": "stream",
     "text": [
      "Rate limit reached. Sleeping for: 766\n"
     ]
    },
    {
     "name": "stdout",
     "output_type": "stream",
     "text": [
      "0.11672048778047656 percent done\n"
     ]
    },
    {
     "name": "stderr",
     "output_type": "stream",
     "text": [
      "Rate limit reached. Sleeping for: 765\n"
     ]
    },
    {
     "name": "stdout",
     "output_type": "stream",
     "text": [
      "0.12227860624621353 percent done\n"
     ]
    },
    {
     "name": "stderr",
     "output_type": "stream",
     "text": [
      "Rate limit reached. Sleeping for: 703\n"
     ]
    },
    {
     "name": "stdout",
     "output_type": "stream",
     "text": [
      "0.1278367247119505 percent done\n"
     ]
    },
    {
     "name": "stderr",
     "output_type": "stream",
     "text": [
      "Rate limit reached. Sleeping for: 762\n"
     ]
    },
    {
     "name": "stdout",
     "output_type": "stream",
     "text": [
      "0.1333948431776875 percent done\n"
     ]
    },
    {
     "name": "stderr",
     "output_type": "stream",
     "text": [
      "Rate limit reached. Sleeping for: 764\n"
     ]
    },
    {
     "name": "stdout",
     "output_type": "stream",
     "text": [
      "0.13895296164342447 percent done\n"
     ]
    },
    {
     "name": "stderr",
     "output_type": "stream",
     "text": [
      "Rate limit reached. Sleeping for: 765\n"
     ]
    },
    {
     "name": "stdout",
     "output_type": "stream",
     "text": [
      "0.14451108010916144 percent done\n"
     ]
    },
    {
     "name": "stderr",
     "output_type": "stream",
     "text": [
      "Rate limit reached. Sleeping for: 766\n",
      "Rate limit reached. Sleeping for: 762\n"
     ]
    },
    {
     "name": "stdout",
     "output_type": "stream",
     "text": [
      "0.15006919857489842 percent done\n"
     ]
    },
    {
     "name": "stderr",
     "output_type": "stream",
     "text": [
      "Rate limit reached. Sleeping for: 763\n"
     ]
    },
    {
     "name": "stdout",
     "output_type": "stream",
     "text": [
      "0.1556273170406354 percent done\n"
     ]
    },
    {
     "name": "stderr",
     "output_type": "stream",
     "text": [
      "Rate limit reached. Sleeping for: 758\n"
     ]
    },
    {
     "name": "stdout",
     "output_type": "stream",
     "text": [
      "0.16118543550637238 percent done\n"
     ]
    },
    {
     "name": "stderr",
     "output_type": "stream",
     "text": [
      "Rate limit reached. Sleeping for: 758\n"
     ]
    },
    {
     "name": "stdout",
     "output_type": "stream",
     "text": [
      "0.16674355397210935 percent done\n"
     ]
    },
    {
     "name": "stderr",
     "output_type": "stream",
     "text": [
      "Rate limit reached. Sleeping for: 704\n"
     ]
    },
    {
     "name": "stdout",
     "output_type": "stream",
     "text": [
      "0.17230167243784633 percent done\n"
     ]
    },
    {
     "name": "stderr",
     "output_type": "stream",
     "text": [
      "Rate limit reached. Sleeping for: 763\n"
     ]
    },
    {
     "name": "stdout",
     "output_type": "stream",
     "text": [
      "0.1778597909035833 percent done\n"
     ]
    },
    {
     "name": "stderr",
     "output_type": "stream",
     "text": [
      "Rate limit reached. Sleeping for: 761\n"
     ]
    },
    {
     "name": "stdout",
     "output_type": "stream",
     "text": [
      "0.1834179093693203 percent done\n"
     ]
    },
    {
     "name": "stderr",
     "output_type": "stream",
     "text": [
      "Rate limit reached. Sleeping for: 758\n"
     ]
    },
    {
     "name": "stdout",
     "output_type": "stream",
     "text": [
      "0.18897602783505726 percent done\n"
     ]
    },
    {
     "name": "stderr",
     "output_type": "stream",
     "text": [
      "Rate limit reached. Sleeping for: 759\n"
     ]
    },
    {
     "name": "stdout",
     "output_type": "stream",
     "text": [
      "0.19453414630079424 percent done\n"
     ]
    },
    {
     "name": "stderr",
     "output_type": "stream",
     "text": [
      "Rate limit reached. Sleeping for: 765\n",
      "Rate limit reached. Sleeping for: 758\n"
     ]
    },
    {
     "name": "stdout",
     "output_type": "stream",
     "text": [
      "0.20009226476653125 percent done\n"
     ]
    },
    {
     "name": "stderr",
     "output_type": "stream",
     "text": [
      "Rate limit reached. Sleeping for: 757\n"
     ]
    },
    {
     "name": "stdout",
     "output_type": "stream",
     "text": [
      "0.20565038323226822 percent done\n"
     ]
    },
    {
     "name": "stderr",
     "output_type": "stream",
     "text": [
      "Rate limit reached. Sleeping for: 645\n"
     ]
    },
    {
     "name": "stdout",
     "output_type": "stream",
     "text": [
      "0.2112085016980052 percent done\n"
     ]
    },
    {
     "name": "stderr",
     "output_type": "stream",
     "text": [
      "Rate limit reached. Sleeping for: 768\n"
     ]
    },
    {
     "name": "stdout",
     "output_type": "stream",
     "text": [
      "0.21676662016374218 percent done\n"
     ]
    },
    {
     "name": "stderr",
     "output_type": "stream",
     "text": [
      "Rate limit reached. Sleeping for: 764\n"
     ]
    },
    {
     "name": "stdout",
     "output_type": "stream",
     "text": [
      "0.22232473862947916 percent done\n"
     ]
    },
    {
     "name": "stderr",
     "output_type": "stream",
     "text": [
      "Rate limit reached. Sleeping for: 754\n"
     ]
    },
    {
     "name": "stdout",
     "output_type": "stream",
     "text": [
      "0.22788285709521613 percent done\n"
     ]
    },
    {
     "name": "stderr",
     "output_type": "stream",
     "text": [
      "Rate limit reached. Sleeping for: 762\n"
     ]
    },
    {
     "name": "stdout",
     "output_type": "stream",
     "text": [
      "0.2334409755609531 percent done\n"
     ]
    },
    {
     "name": "stderr",
     "output_type": "stream",
     "text": [
      "Rate limit reached. Sleeping for: 760\n"
     ]
    },
    {
     "name": "stdout",
     "output_type": "stream",
     "text": [
      "0.2389990940266901 percent done\n"
     ]
    },
    {
     "name": "stderr",
     "output_type": "stream",
     "text": [
      "Rate limit reached. Sleeping for: 761\n"
     ]
    },
    {
     "name": "stdout",
     "output_type": "stream",
     "text": [
      "0.24455721249242707 percent done\n"
     ]
    },
    {
     "name": "stderr",
     "output_type": "stream",
     "text": [
      "Rate limit reached. Sleeping for: 755\n",
      "Rate limit reached. Sleeping for: 761\n"
     ]
    },
    {
     "name": "stdout",
     "output_type": "stream",
     "text": [
      "0.250115330958164 percent done\n"
     ]
    },
    {
     "name": "stderr",
     "output_type": "stream",
     "text": [
      "Rate limit reached. Sleeping for: 646\n"
     ]
    },
    {
     "name": "stdout",
     "output_type": "stream",
     "text": [
      "0.255673449423901 percent done\n"
     ]
    },
    {
     "name": "stderr",
     "output_type": "stream",
     "text": [
      "Rate limit reached. Sleeping for: 757\n"
     ]
    },
    {
     "name": "stdout",
     "output_type": "stream",
     "text": [
      "0.261231567889638 percent done\n"
     ]
    },
    {
     "name": "stderr",
     "output_type": "stream",
     "text": [
      "Rate limit reached. Sleeping for: 762\n"
     ]
    },
    {
     "name": "stdout",
     "output_type": "stream",
     "text": [
      "0.266789686355375 percent done\n"
     ]
    },
    {
     "name": "stderr",
     "output_type": "stream",
     "text": [
      "Rate limit reached. Sleeping for: 762\n"
     ]
    },
    {
     "name": "stdout",
     "output_type": "stream",
     "text": [
      "0.272347804821112 percent done\n"
     ]
    },
    {
     "name": "stderr",
     "output_type": "stream",
     "text": [
      "Rate limit reached. Sleeping for: 765\n"
     ]
    },
    {
     "name": "stdout",
     "output_type": "stream",
     "text": [
      "0.27790592328684893 percent done\n"
     ]
    },
    {
     "name": "stderr",
     "output_type": "stream",
     "text": [
      "Rate limit reached. Sleeping for: 760\n"
     ]
    },
    {
     "name": "stdout",
     "output_type": "stream",
     "text": [
      "0.28346404175258594 percent done\n"
     ]
    },
    {
     "name": "stderr",
     "output_type": "stream",
     "text": [
      "Rate limit reached. Sleeping for: 761\n"
     ]
    },
    {
     "name": "stdout",
     "output_type": "stream",
     "text": [
      "0.2890221602183229 percent done\n"
     ]
    },
    {
     "name": "stderr",
     "output_type": "stream",
     "text": [
      "Rate limit reached. Sleeping for: 759\n"
     ]
    },
    {
     "name": "stdout",
     "output_type": "stream",
     "text": [
      "0.2945802786840599 percent done\n"
     ]
    },
    {
     "name": "stderr",
     "output_type": "stream",
     "text": [
      "Rate limit reached. Sleeping for: 760\n"
     ]
    },
    {
     "name": "stdout",
     "output_type": "stream",
     "text": [
      "0.30013839714979684 percent done\n"
     ]
    },
    {
     "name": "stderr",
     "output_type": "stream",
     "text": [
      "Rate limit reached. Sleeping for: 753\n"
     ]
    },
    {
     "name": "stdout",
     "output_type": "stream",
     "text": [
      "0.30569651561553385 percent done\n"
     ]
    },
    {
     "name": "stderr",
     "output_type": "stream",
     "text": [
      "Rate limit reached. Sleeping for: 767\n"
     ]
    },
    {
     "name": "stdout",
     "output_type": "stream",
     "text": [
      "0.3112546340812708 percent done\n"
     ]
    },
    {
     "name": "stderr",
     "output_type": "stream",
     "text": [
      "Rate limit reached. Sleeping for: 762\n"
     ]
    },
    {
     "name": "stdout",
     "output_type": "stream",
     "text": [
      "0.3168127525470078 percent done\n"
     ]
    },
    {
     "name": "stderr",
     "output_type": "stream",
     "text": [
      "Rate limit reached. Sleeping for: 764\n"
     ]
    },
    {
     "name": "stdout",
     "output_type": "stream",
     "text": [
      "0.32237087101274475 percent done\n"
     ]
    },
    {
     "name": "stderr",
     "output_type": "stream",
     "text": [
      "Rate limit reached. Sleeping for: 760\n"
     ]
    },
    {
     "name": "stdout",
     "output_type": "stream",
     "text": [
      "0.32792898947848176 percent done\n"
     ]
    },
    {
     "name": "stderr",
     "output_type": "stream",
     "text": [
      "Rate limit reached. Sleeping for: 759\n"
     ]
    },
    {
     "name": "stdout",
     "output_type": "stream",
     "text": [
      "0.3334871079442187 percent done\n"
     ]
    },
    {
     "name": "stderr",
     "output_type": "stream",
     "text": [
      "Rate limit reached. Sleeping for: 762\n",
      "Rate limit reached. Sleeping for: 701\n"
     ]
    },
    {
     "name": "stdout",
     "output_type": "stream",
     "text": [
      "0.3390452264099557 percent done\n"
     ]
    },
    {
     "name": "stderr",
     "output_type": "stream",
     "text": [
      "Rate limit reached. Sleeping for: 763\n"
     ]
    },
    {
     "name": "stdout",
     "output_type": "stream",
     "text": [
      "0.34460334487569266 percent done\n"
     ]
    },
    {
     "name": "stderr",
     "output_type": "stream",
     "text": [
      "Rate limit reached. Sleeping for: 756\n"
     ]
    },
    {
     "name": "stdout",
     "output_type": "stream",
     "text": [
      "0.35016146334142967 percent done\n"
     ]
    },
    {
     "name": "stderr",
     "output_type": "stream",
     "text": [
      "Rate limit reached. Sleeping for: 767\n"
     ]
    },
    {
     "name": "stdout",
     "output_type": "stream",
     "text": [
      "0.3557195818071666 percent done\n"
     ]
    },
    {
     "name": "stderr",
     "output_type": "stream",
     "text": [
      "Rate limit reached. Sleeping for: 763\n"
     ]
    },
    {
     "name": "stdout",
     "output_type": "stream",
     "text": [
      "0.3612777002729036 percent done\n"
     ]
    },
    {
     "name": "stderr",
     "output_type": "stream",
     "text": [
      "Rate limit reached. Sleeping for: 767\n"
     ]
    },
    {
     "name": "stdout",
     "output_type": "stream",
     "text": [
      "0.3668358187386406 percent done\n"
     ]
    },
    {
     "name": "stderr",
     "output_type": "stream",
     "text": [
      "Rate limit reached. Sleeping for: 766\n"
     ]
    },
    {
     "name": "stdout",
     "output_type": "stream",
     "text": [
      "0.3723939372043776 percent done\n"
     ]
    },
    {
     "name": "stderr",
     "output_type": "stream",
     "text": [
      "Rate limit reached. Sleeping for: 765\n"
     ]
    },
    {
     "name": "stdout",
     "output_type": "stream",
     "text": [
      "0.37795205567011453 percent done\n"
     ]
    },
    {
     "name": "stderr",
     "output_type": "stream",
     "text": [
      "Rate limit reached. Sleeping for: 765\n"
     ]
    },
    {
     "name": "stdout",
     "output_type": "stream",
     "text": [
      "0.38351017413585153 percent done\n"
     ]
    },
    {
     "name": "stderr",
     "output_type": "stream",
     "text": [
      "Rate limit reached. Sleeping for: 707\n",
      "Rate limit reached. Sleeping for: 766\n"
     ]
    },
    {
     "name": "stdout",
     "output_type": "stream",
     "text": [
      "0.3890682926015885 percent done\n"
     ]
    },
    {
     "name": "stderr",
     "output_type": "stream",
     "text": [
      "Rate limit reached. Sleeping for: 764\n"
     ]
    },
    {
     "name": "stdout",
     "output_type": "stream",
     "text": [
      "0.3946264110673255 percent done\n"
     ]
    },
    {
     "name": "stderr",
     "output_type": "stream",
     "text": [
      "Rate limit reached. Sleeping for: 764\n"
     ]
    },
    {
     "name": "stdout",
     "output_type": "stream",
     "text": [
      "0.4001845295330625 percent done\n"
     ]
    },
    {
     "name": "stderr",
     "output_type": "stream",
     "text": [
      "Rate limit reached. Sleeping for: 764\n"
     ]
    },
    {
     "name": "stdout",
     "output_type": "stream",
     "text": [
      "0.40574264799879944 percent done\n"
     ]
    },
    {
     "name": "stderr",
     "output_type": "stream",
     "text": [
      "Rate limit reached. Sleeping for: 765\n"
     ]
    },
    {
     "name": "stdout",
     "output_type": "stream",
     "text": [
      "0.41130076646453645 percent done\n"
     ]
    },
    {
     "name": "stderr",
     "output_type": "stream",
     "text": [
      "Rate limit reached. Sleeping for: 765\n"
     ]
    },
    {
     "name": "stdout",
     "output_type": "stream",
     "text": [
      "0.4168588849302734 percent done\n"
     ]
    },
    {
     "name": "stderr",
     "output_type": "stream",
     "text": [
      "Rate limit reached. Sleeping for: 760\n"
     ]
    },
    {
     "name": "stdout",
     "output_type": "stream",
     "text": [
      "0.4224170033960104 percent done\n"
     ]
    },
    {
     "name": "stderr",
     "output_type": "stream",
     "text": [
      "Rate limit reached. Sleeping for: 764\n"
     ]
    },
    {
     "name": "stdout",
     "output_type": "stream",
     "text": [
      "0.42797512186174735 percent done\n"
     ]
    },
    {
     "name": "stderr",
     "output_type": "stream",
     "text": [
      "Rate limit reached. Sleeping for: 702\n"
     ]
    },
    {
     "name": "stdout",
     "output_type": "stream",
     "text": [
      "0.43353324032748436 percent done\n"
     ]
    },
    {
     "name": "stderr",
     "output_type": "stream",
     "text": [
      "Rate limit reached. Sleeping for: 765\n",
      "Rate limit reached. Sleeping for: 765\n"
     ]
    },
    {
     "name": "stdout",
     "output_type": "stream",
     "text": [
      "0.4390913587932213 percent done\n"
     ]
    },
    {
     "name": "stderr",
     "output_type": "stream",
     "text": [
      "Rate limit reached. Sleeping for: 764\n"
     ]
    },
    {
     "name": "stdout",
     "output_type": "stream",
     "text": [
      "0.4446494772589583 percent done\n"
     ]
    },
    {
     "name": "stderr",
     "output_type": "stream",
     "text": [
      "Rate limit reached. Sleeping for: 764\n"
     ]
    },
    {
     "name": "stdout",
     "output_type": "stream",
     "text": [
      "0.45020759572469526 percent done\n"
     ]
    },
    {
     "name": "stderr",
     "output_type": "stream",
     "text": [
      "Rate limit reached. Sleeping for: 763\n"
     ]
    },
    {
     "name": "stdout",
     "output_type": "stream",
     "text": [
      "0.45576571419043227 percent done\n"
     ]
    },
    {
     "name": "stderr",
     "output_type": "stream",
     "text": [
      "Rate limit reached. Sleeping for: 766\n"
     ]
    },
    {
     "name": "stdout",
     "output_type": "stream",
     "text": [
      "0.4613238326561692 percent done\n"
     ]
    },
    {
     "name": "stderr",
     "output_type": "stream",
     "text": [
      "Rate limit reached. Sleeping for: 768\n"
     ]
    },
    {
     "name": "stdout",
     "output_type": "stream",
     "text": [
      "0.4668819511219062 percent done\n"
     ]
    },
    {
     "name": "stderr",
     "output_type": "stream",
     "text": [
      "Rate limit reached. Sleeping for: 768\n"
     ]
    },
    {
     "name": "stdout",
     "output_type": "stream",
     "text": [
      "0.4724400695876432 percent done\n"
     ]
    },
    {
     "name": "stderr",
     "output_type": "stream",
     "text": [
      "Rate limit reached. Sleeping for: 704\n"
     ]
    },
    {
     "name": "stdout",
     "output_type": "stream",
     "text": [
      "0.4779981880533802 percent done\n"
     ]
    },
    {
     "name": "stderr",
     "output_type": "stream",
     "text": [
      "Rate limit reached. Sleeping for: 764\n"
     ]
    },
    {
     "name": "stdout",
     "output_type": "stream",
     "text": [
      "0.48355630651911713 percent done\n"
     ]
    },
    {
     "name": "stderr",
     "output_type": "stream",
     "text": [
      "Rate limit reached. Sleeping for: 763\n",
      "Rate limit reached. Sleeping for: 764\n"
     ]
    },
    {
     "name": "stdout",
     "output_type": "stream",
     "text": [
      "0.48911442498485413 percent done\n"
     ]
    },
    {
     "name": "stderr",
     "output_type": "stream",
     "text": [
      "Rate limit reached. Sleeping for: 763\n"
     ]
    },
    {
     "name": "stdout",
     "output_type": "stream",
     "text": [
      "0.4946725434505911 percent done\n"
     ]
    },
    {
     "name": "stderr",
     "output_type": "stream",
     "text": [
      "Rate limit reached. Sleeping for: 758\n"
     ]
    },
    {
     "name": "stdout",
     "output_type": "stream",
     "text": [
      "0.500230661916328 percent done\n"
     ]
    },
    {
     "name": "stderr",
     "output_type": "stream",
     "text": [
      "Rate limit reached. Sleeping for: 765\n"
     ]
    },
    {
     "name": "stdout",
     "output_type": "stream",
     "text": [
      "0.5057887803820651 percent done\n"
     ]
    },
    {
     "name": "stderr",
     "output_type": "stream",
     "text": [
      "Rate limit reached. Sleeping for: 766\n"
     ]
    },
    {
     "name": "stdout",
     "output_type": "stream",
     "text": [
      "0.511346898847802 percent done\n"
     ]
    },
    {
     "name": "stderr",
     "output_type": "stream",
     "text": [
      "Rate limit reached. Sleeping for: 753\n"
     ]
    },
    {
     "name": "stdout",
     "output_type": "stream",
     "text": [
      "0.516905017313539 percent done\n"
     ]
    },
    {
     "name": "stderr",
     "output_type": "stream",
     "text": [
      "Rate limit reached. Sleeping for: 764\n"
     ]
    },
    {
     "name": "stdout",
     "output_type": "stream",
     "text": [
      "0.522463135779276 percent done\n"
     ]
    },
    {
     "name": "stderr",
     "output_type": "stream",
     "text": [
      "Rate limit reached. Sleeping for: 766\n"
     ]
    },
    {
     "name": "stdout",
     "output_type": "stream",
     "text": [
      "0.528021254245013 percent done\n"
     ]
    },
    {
     "name": "stderr",
     "output_type": "stream",
     "text": [
      "Rate limit reached. Sleeping for: 768\n"
     ]
    },
    {
     "name": "stdout",
     "output_type": "stream",
     "text": [
      "0.53357937271075 percent done\n"
     ]
    },
    {
     "name": "stderr",
     "output_type": "stream",
     "text": [
      "Rate limit reached. Sleeping for: 769\n",
      "Rate limit reached. Sleeping for: 767\n"
     ]
    },
    {
     "name": "stdout",
     "output_type": "stream",
     "text": [
      "0.5391374911764869 percent done\n"
     ]
    },
    {
     "name": "stderr",
     "output_type": "stream",
     "text": [
      "Rate limit reached. Sleeping for: 769\n"
     ]
    },
    {
     "name": "stdout",
     "output_type": "stream",
     "text": [
      "0.544695609642224 percent done\n"
     ]
    },
    {
     "name": "stderr",
     "output_type": "stream",
     "text": [
      "Rate limit reached. Sleeping for: 770\n"
     ]
    },
    {
     "name": "stdout",
     "output_type": "stream",
     "text": [
      "0.5502537281079609 percent done\n"
     ]
    },
    {
     "name": "stderr",
     "output_type": "stream",
     "text": [
      "Rate limit reached. Sleeping for: 769\n"
     ]
    },
    {
     "name": "stdout",
     "output_type": "stream",
     "text": [
      "0.5558118465736979 percent done\n"
     ]
    },
    {
     "name": "stderr",
     "output_type": "stream",
     "text": [
      "Rate limit reached. Sleeping for: 707\n"
     ]
    },
    {
     "name": "stdout",
     "output_type": "stream",
     "text": [
      "0.5613699650394348 percent done\n"
     ]
    },
    {
     "name": "stderr",
     "output_type": "stream",
     "text": [
      "Rate limit reached. Sleeping for: 768\n"
     ]
    },
    {
     "name": "stdout",
     "output_type": "stream",
     "text": [
      "0.5669280835051719 percent done\n"
     ]
    },
    {
     "name": "stderr",
     "output_type": "stream",
     "text": [
      "Rate limit reached. Sleeping for: 769\n"
     ]
    },
    {
     "name": "stdout",
     "output_type": "stream",
     "text": [
      "0.5724862019709088 percent done\n"
     ]
    },
    {
     "name": "stderr",
     "output_type": "stream",
     "text": [
      "Rate limit reached. Sleeping for: 768\n"
     ]
    },
    {
     "name": "stdout",
     "output_type": "stream",
     "text": [
      "0.5780443204366458 percent done\n"
     ]
    },
    {
     "name": "stderr",
     "output_type": "stream",
     "text": [
      "Rate limit reached. Sleeping for: 769\n"
     ]
    },
    {
     "name": "stdout",
     "output_type": "stream",
     "text": [
      "0.5836024389023827 percent done\n"
     ]
    },
    {
     "name": "stderr",
     "output_type": "stream",
     "text": [
      "Rate limit reached. Sleeping for: 768\n",
      "Rate limit reached. Sleeping for: 769\n"
     ]
    },
    {
     "name": "stdout",
     "output_type": "stream",
     "text": [
      "0.5891605573681198 percent done\n"
     ]
    },
    {
     "name": "stderr",
     "output_type": "stream",
     "text": [
      "Rate limit reached. Sleeping for: 768\n"
     ]
    },
    {
     "name": "stdout",
     "output_type": "stream",
     "text": [
      "0.5947186758338567 percent done\n"
     ]
    },
    {
     "name": "stderr",
     "output_type": "stream",
     "text": [
      "Rate limit reached. Sleeping for: 768\n"
     ]
    },
    {
     "name": "stdout",
     "output_type": "stream",
     "text": [
      "0.6002767942995937 percent done\n"
     ]
    },
    {
     "name": "stderr",
     "output_type": "stream",
     "text": [
      "Rate limit reached. Sleeping for: 760\n"
     ]
    },
    {
     "name": "stdout",
     "output_type": "stream",
     "text": [
      "0.6058349127653306 percent done\n"
     ]
    },
    {
     "name": "stderr",
     "output_type": "stream",
     "text": [
      "Rate limit reached. Sleeping for: 767\n"
     ]
    },
    {
     "name": "stdout",
     "output_type": "stream",
     "text": [
      "0.6113930312310677 percent done\n"
     ]
    },
    {
     "name": "stderr",
     "output_type": "stream",
     "text": [
      "Rate limit reached. Sleeping for: 766\n"
     ]
    },
    {
     "name": "stdout",
     "output_type": "stream",
     "text": [
      "0.6169511496968046 percent done\n"
     ]
    },
    {
     "name": "stderr",
     "output_type": "stream",
     "text": [
      "Rate limit reached. Sleeping for: 767\n"
     ]
    },
    {
     "name": "stdout",
     "output_type": "stream",
     "text": [
      "0.6225092681625416 percent done\n"
     ]
    },
    {
     "name": "stderr",
     "output_type": "stream",
     "text": [
      "Rate limit reached. Sleeping for: 765\n"
     ]
    },
    {
     "name": "stdout",
     "output_type": "stream",
     "text": [
      "0.6280673866282785 percent done\n"
     ]
    },
    {
     "name": "stderr",
     "output_type": "stream",
     "text": [
      "Rate limit reached. Sleeping for: 763\n"
     ]
    },
    {
     "name": "stdout",
     "output_type": "stream",
     "text": [
      "0.6336255050940156 percent done\n"
     ]
    },
    {
     "name": "stderr",
     "output_type": "stream",
     "text": [
      "Rate limit reached. Sleeping for: 765\n",
      "Rate limit reached. Sleeping for: 763\n"
     ]
    },
    {
     "name": "stdout",
     "output_type": "stream",
     "text": [
      "0.6391836235597526 percent done\n"
     ]
    },
    {
     "name": "stderr",
     "output_type": "stream",
     "text": [
      "Rate limit reached. Sleeping for: 764\n"
     ]
    },
    {
     "name": "stdout",
     "output_type": "stream",
     "text": [
      "0.6447417420254895 percent done\n"
     ]
    },
    {
     "name": "stderr",
     "output_type": "stream",
     "text": [
      "Rate limit reached. Sleeping for: 764\n"
     ]
    },
    {
     "name": "stdout",
     "output_type": "stream",
     "text": [
      "0.6502998604912265 percent done\n"
     ]
    },
    {
     "name": "stderr",
     "output_type": "stream",
     "text": [
      "Rate limit reached. Sleeping for: 768\n"
     ]
    },
    {
     "name": "stdout",
     "output_type": "stream",
     "text": [
      "0.6558579789569635 percent done\n"
     ]
    },
    {
     "name": "stderr",
     "output_type": "stream",
     "text": [
      "Rate limit reached. Sleeping for: 748\n"
     ]
    },
    {
     "name": "stdout",
     "output_type": "stream",
     "text": [
      "0.6614160974227005 percent done\n"
     ]
    },
    {
     "name": "stderr",
     "output_type": "stream",
     "text": [
      "Rate limit reached. Sleeping for: 755\n"
     ]
    },
    {
     "name": "stdout",
     "output_type": "stream",
     "text": [
      "0.6669742158884374 percent done\n"
     ]
    },
    {
     "name": "stderr",
     "output_type": "stream",
     "text": [
      "Rate limit reached. Sleeping for: 692\n"
     ]
    },
    {
     "name": "stdout",
     "output_type": "stream",
     "text": [
      "0.6725323343541745 percent done\n"
     ]
    },
    {
     "name": "stderr",
     "output_type": "stream",
     "text": [
      "Rate limit reached. Sleeping for: 756\n"
     ]
    },
    {
     "name": "stdout",
     "output_type": "stream",
     "text": [
      "0.6780904528199114 percent done\n"
     ]
    },
    {
     "name": "stderr",
     "output_type": "stream",
     "text": [
      "Rate limit reached. Sleeping for: 756\n"
     ]
    },
    {
     "name": "stdout",
     "output_type": "stream",
     "text": [
      "0.6836485712856484 percent done\n"
     ]
    },
    {
     "name": "stderr",
     "output_type": "stream",
     "text": [
      "Rate limit reached. Sleeping for: 757\n"
     ]
    },
    {
     "name": "stdout",
     "output_type": "stream",
     "text": [
      "0.6892066897513853 percent done\n"
     ]
    },
    {
     "name": "stderr",
     "output_type": "stream",
     "text": [
      "Rate limit reached. Sleeping for: 760\n"
     ]
    },
    {
     "name": "stdout",
     "output_type": "stream",
     "text": [
      "0.6947648082171224 percent done\n"
     ]
    },
    {
     "name": "stderr",
     "output_type": "stream",
     "text": [
      "Rate limit reached. Sleeping for: 759\n"
     ]
    },
    {
     "name": "stdout",
     "output_type": "stream",
     "text": [
      "0.7003229266828593 percent done\n"
     ]
    },
    {
     "name": "stderr",
     "output_type": "stream",
     "text": [
      "Rate limit reached. Sleeping for: 758\n"
     ]
    },
    {
     "name": "stdout",
     "output_type": "stream",
     "text": [
      "0.7058810451485963 percent done\n"
     ]
    },
    {
     "name": "stderr",
     "output_type": "stream",
     "text": [
      "Rate limit reached. Sleeping for: 759\n"
     ]
    },
    {
     "name": "stdout",
     "output_type": "stream",
     "text": [
      "0.7114391636143332 percent done\n"
     ]
    },
    {
     "name": "stderr",
     "output_type": "stream",
     "text": [
      "Rate limit reached. Sleeping for: 757\n"
     ]
    },
    {
     "name": "stdout",
     "output_type": "stream",
     "text": [
      "0.7169972820800703 percent done\n"
     ]
    },
    {
     "name": "stderr",
     "output_type": "stream",
     "text": [
      "Rate limit reached. Sleeping for: 760\n",
      "Rate limit reached. Sleeping for: 757\n"
     ]
    },
    {
     "name": "stdout",
     "output_type": "stream",
     "text": [
      "0.7225554005458072 percent done\n"
     ]
    },
    {
     "name": "stderr",
     "output_type": "stream",
     "text": [
      "Rate limit reached. Sleeping for: 754\n"
     ]
    },
    {
     "name": "stdout",
     "output_type": "stream",
     "text": [
      "0.7281135190115442 percent done\n"
     ]
    },
    {
     "name": "stderr",
     "output_type": "stream",
     "text": [
      "Rate limit reached. Sleeping for: 699\n"
     ]
    },
    {
     "name": "stdout",
     "output_type": "stream",
     "text": [
      "0.7336716374772811 percent done\n"
     ]
    },
    {
     "name": "stderr",
     "output_type": "stream",
     "text": [
      "Rate limit reached. Sleeping for: 757\n"
     ]
    },
    {
     "name": "stdout",
     "output_type": "stream",
     "text": [
      "0.7392297559430182 percent done\n"
     ]
    },
    {
     "name": "stderr",
     "output_type": "stream",
     "text": [
      "Rate limit reached. Sleeping for: 759\n"
     ]
    },
    {
     "name": "stdout",
     "output_type": "stream",
     "text": [
      "0.7447878744087552 percent done\n"
     ]
    },
    {
     "name": "stderr",
     "output_type": "stream",
     "text": [
      "Rate limit reached. Sleeping for: 755\n"
     ]
    },
    {
     "name": "stdout",
     "output_type": "stream",
     "text": [
      "0.7503459928744921 percent done\n"
     ]
    },
    {
     "name": "stderr",
     "output_type": "stream",
     "text": [
      "Rate limit reached. Sleeping for: 757\n"
     ]
    },
    {
     "name": "stdout",
     "output_type": "stream",
     "text": [
      "0.7559041113402291 percent done\n"
     ]
    },
    {
     "name": "stderr",
     "output_type": "stream",
     "text": [
      "Rate limit reached. Sleeping for: 756\n"
     ]
    },
    {
     "name": "stdout",
     "output_type": "stream",
     "text": [
      "0.7614622298059661 percent done\n"
     ]
    },
    {
     "name": "stderr",
     "output_type": "stream",
     "text": [
      "Rate limit reached. Sleeping for: 759\n"
     ]
    },
    {
     "name": "stdout",
     "output_type": "stream",
     "text": [
      "0.7670203482717031 percent done\n"
     ]
    },
    {
     "name": "stderr",
     "output_type": "stream",
     "text": [
      "Rate limit reached. Sleeping for: 763\n",
      "Rate limit reached. Sleeping for: 762\n"
     ]
    },
    {
     "name": "stdout",
     "output_type": "stream",
     "text": [
      "0.77257846673744 percent done\n"
     ]
    },
    {
     "name": "stderr",
     "output_type": "stream",
     "text": [
      "Rate limit reached. Sleeping for: 702\n"
     ]
    },
    {
     "name": "stdout",
     "output_type": "stream",
     "text": [
      "0.778136585203177 percent done\n"
     ]
    },
    {
     "name": "stderr",
     "output_type": "stream",
     "text": [
      "Rate limit reached. Sleeping for: 762\n"
     ]
    },
    {
     "name": "stdout",
     "output_type": "stream",
     "text": [
      "0.783694703668914 percent done\n"
     ]
    },
    {
     "name": "stderr",
     "output_type": "stream",
     "text": [
      "Rate limit reached. Sleeping for: 763\n"
     ]
    },
    {
     "name": "stdout",
     "output_type": "stream",
     "text": [
      "0.789252822134651 percent done\n"
     ]
    },
    {
     "name": "stderr",
     "output_type": "stream",
     "text": [
      "Rate limit reached. Sleeping for: 763\n"
     ]
    },
    {
     "name": "stdout",
     "output_type": "stream",
     "text": [
      "0.7948109406003879 percent done\n"
     ]
    },
    {
     "name": "stderr",
     "output_type": "stream",
     "text": [
      "Rate limit reached. Sleeping for: 765\n"
     ]
    },
    {
     "name": "stdout",
     "output_type": "stream",
     "text": [
      "0.800369059066125 percent done\n"
     ]
    },
    {
     "name": "stderr",
     "output_type": "stream",
     "text": [
      "Rate limit reached. Sleeping for: 766\n"
     ]
    },
    {
     "name": "stdout",
     "output_type": "stream",
     "text": [
      "0.8059271775318619 percent done\n"
     ]
    },
    {
     "name": "stderr",
     "output_type": "stream",
     "text": [
      "Rate limit reached. Sleeping for: 767\n"
     ]
    },
    {
     "name": "stdout",
     "output_type": "stream",
     "text": [
      "0.8114852959975989 percent done\n"
     ]
    },
    {
     "name": "stderr",
     "output_type": "stream",
     "text": [
      "Rate limit reached. Sleeping for: 768\n"
     ]
    },
    {
     "name": "stdout",
     "output_type": "stream",
     "text": [
      "0.8170434144633358 percent done\n"
     ]
    },
    {
     "name": "stderr",
     "output_type": "stream",
     "text": [
      "Rate limit reached. Sleeping for: 763\n",
      "Rate limit reached. Sleeping for: 705\n"
     ]
    },
    {
     "name": "stdout",
     "output_type": "stream",
     "text": [
      "0.8226015329290729 percent done\n"
     ]
    },
    {
     "name": "stderr",
     "output_type": "stream",
     "text": [
      "Rate limit reached. Sleeping for: 760\n"
     ]
    },
    {
     "name": "stdout",
     "output_type": "stream",
     "text": [
      "0.8281596513948098 percent done\n"
     ]
    },
    {
     "name": "stderr",
     "output_type": "stream",
     "text": [
      "Rate limit reached. Sleeping for: 764\n"
     ]
    },
    {
     "name": "stdout",
     "output_type": "stream",
     "text": [
      "0.8337177698605468 percent done\n"
     ]
    },
    {
     "name": "stderr",
     "output_type": "stream",
     "text": [
      "Rate limit reached. Sleeping for: 762\n"
     ]
    },
    {
     "name": "stdout",
     "output_type": "stream",
     "text": [
      "0.8392758883262837 percent done\n"
     ]
    },
    {
     "name": "stderr",
     "output_type": "stream",
     "text": [
      "Rate limit reached. Sleeping for: 763\n"
     ]
    },
    {
     "name": "stdout",
     "output_type": "stream",
     "text": [
      "0.8448340067920208 percent done\n"
     ]
    },
    {
     "name": "stderr",
     "output_type": "stream",
     "text": [
      "Rate limit reached. Sleeping for: 763\n"
     ]
    },
    {
     "name": "stdout",
     "output_type": "stream",
     "text": [
      "0.8503921252577578 percent done\n"
     ]
    },
    {
     "name": "stderr",
     "output_type": "stream",
     "text": [
      "Rate limit reached. Sleeping for: 763\n"
     ]
    },
    {
     "name": "stdout",
     "output_type": "stream",
     "text": [
      "0.8559502437234947 percent done\n"
     ]
    },
    {
     "name": "stderr",
     "output_type": "stream",
     "text": [
      "Rate limit reached. Sleeping for: 767\n"
     ]
    },
    {
     "name": "stdout",
     "output_type": "stream",
     "text": [
      "0.8615083621892317 percent done\n"
     ]
    },
    {
     "name": "stderr",
     "output_type": "stream",
     "text": [
      "Rate limit reached. Sleeping for: 764\n"
     ]
    },
    {
     "name": "stdout",
     "output_type": "stream",
     "text": [
      "0.8670664806549687 percent done\n"
     ]
    },
    {
     "name": "stderr",
     "output_type": "stream",
     "text": [
      "Rate limit reached. Sleeping for: 703\n",
      "Rate limit reached. Sleeping for: 761\n"
     ]
    },
    {
     "name": "stdout",
     "output_type": "stream",
     "text": [
      "0.8726245991207057 percent done\n"
     ]
    },
    {
     "name": "stderr",
     "output_type": "stream",
     "text": [
      "Rate limit reached. Sleeping for: 764\n"
     ]
    },
    {
     "name": "stdout",
     "output_type": "stream",
     "text": [
      "0.8781827175864426 percent done\n"
     ]
    },
    {
     "name": "stderr",
     "output_type": "stream",
     "text": [
      "Rate limit reached. Sleeping for: 765\n"
     ]
    },
    {
     "name": "stdout",
     "output_type": "stream",
     "text": [
      "0.8837408360521796 percent done\n"
     ]
    },
    {
     "name": "stderr",
     "output_type": "stream",
     "text": [
      "Rate limit reached. Sleeping for: 765\n"
     ]
    },
    {
     "name": "stdout",
     "output_type": "stream",
     "text": [
      "0.8892989545179166 percent done\n"
     ]
    },
    {
     "name": "stderr",
     "output_type": "stream",
     "text": [
      "Rate limit reached. Sleeping for: 767\n"
     ]
    },
    {
     "name": "stdout",
     "output_type": "stream",
     "text": [
      "0.8948570729836536 percent done\n"
     ]
    },
    {
     "name": "stderr",
     "output_type": "stream",
     "text": [
      "Rate limit reached. Sleeping for: 765\n"
     ]
    },
    {
     "name": "stdout",
     "output_type": "stream",
     "text": [
      "0.9004151914493905 percent done\n"
     ]
    },
    {
     "name": "stderr",
     "output_type": "stream",
     "text": [
      "Rate limit reached. Sleeping for: 758\n"
     ]
    },
    {
     "name": "stdout",
     "output_type": "stream",
     "text": [
      "0.9059733099151275 percent done\n"
     ]
    },
    {
     "name": "stderr",
     "output_type": "stream",
     "text": [
      "Rate limit reached. Sleeping for: 703\n"
     ]
    },
    {
     "name": "stdout",
     "output_type": "stream",
     "text": [
      "0.9115314283808645 percent done\n"
     ]
    },
    {
     "name": "stderr",
     "output_type": "stream",
     "text": [
      "Rate limit reached. Sleeping for: 764\n"
     ]
    },
    {
     "name": "stdout",
     "output_type": "stream",
     "text": [
      "0.9170895468466015 percent done\n"
     ]
    },
    {
     "name": "stderr",
     "output_type": "stream",
     "text": [
      "Rate limit reached. Sleeping for: 763\n",
      "Rate limit reached. Sleeping for: 764\n"
     ]
    },
    {
     "name": "stdout",
     "output_type": "stream",
     "text": [
      "0.9226476653123384 percent done\n"
     ]
    },
    {
     "name": "stderr",
     "output_type": "stream",
     "text": [
      "Rate limit reached. Sleeping for: 762\n"
     ]
    },
    {
     "name": "stdout",
     "output_type": "stream",
     "text": [
      "0.9282057837780755 percent done\n"
     ]
    },
    {
     "name": "stderr",
     "output_type": "stream",
     "text": [
      "Rate limit reached. Sleeping for: 763\n"
     ]
    },
    {
     "name": "stdout",
     "output_type": "stream",
     "text": [
      "0.9337639022438124 percent done\n"
     ]
    },
    {
     "name": "stderr",
     "output_type": "stream",
     "text": [
      "Rate limit reached. Sleeping for: 758\n",
      "Rate limit reached. Sleeping for: 320\n"
     ]
    },
    {
     "name": "stdout",
     "output_type": "stream",
     "text": [
      "0.9393220207095494 percent done\n"
     ]
    },
    {
     "name": "stderr",
     "output_type": "stream",
     "text": [
      "Rate limit reached. Sleeping for: 753\n"
     ]
    }
   ],
   "source": [
    "tmp = []\n",
    "count = 0\n",
    "\n",
    "for i,tid in enumerate(missing_tweets):\n",
    "    try:\n",
    "        tweetFetched = api.get_status(tid)\n",
    "        text = tweetFetched.text.replace(\"\\n\",\"\")\n",
    "        text = text.replace(\"\\r\",\"\")\n",
    "        tmp.append(str(tid)+\"\\t\"+text + \"\\n\")\n",
    "        count += 1\n",
    "        bigcount += 1\n",
    "    except:\n",
    "        pass\n",
    "    \n",
    "    if count >= 100:\n",
    "        with open(year+'missing.txt', 'a') as writefile:\n",
    "            for line in tmp:\n",
    "                writefile.write(line)\n",
    "        with open(year+'missinglastwrite.txt', 'w') as writefile:\n",
    "            for line in tmp:\n",
    "                writefile.write(line)\n",
    "        tmp = []\n",
    "        count = 0\n",
    "    if i%1000 == 0:\n",
    "        print(f\"{i/len(missing_tweets)} percent done\")\n"
   ]
  },
  {
   "cell_type": "code",
   "execution_count": 12,
   "metadata": {},
   "outputs": [
    {
     "data": {
      "text/plain": [
       "24392221907"
      ]
     },
     "execution_count": 12,
     "metadata": {},
     "output_type": "execute_result"
    }
   ],
   "source": [
    "missing_tweets[0]"
   ]
  },
  {
   "cell_type": "code",
   "execution_count": 17,
   "metadata": {},
   "outputs": [
    {
     "ename": "TweepError",
     "evalue": "[{'code': 144, 'message': 'No status found with that ID.'}]",
     "output_type": "error",
     "traceback": [
      "\u001b[0;31m---------------------------------------------------------------------------\u001b[0m",
      "\u001b[0;31mTweepError\u001b[0m                                Traceback (most recent call last)",
      "\u001b[0;32m<ipython-input-17-5a63d4e1069f>\u001b[0m in \u001b[0;36m<module>\u001b[0;34m\u001b[0m\n\u001b[0;32m----> 1\u001b[0;31m \u001b[0mapi\u001b[0m\u001b[0;34m.\u001b[0m\u001b[0mget_status\u001b[0m\u001b[0;34m(\u001b[0m\u001b[0;36m24392221907\u001b[0m\u001b[0;34m)\u001b[0m\u001b[0;34m\u001b[0m\u001b[0;34m\u001b[0m\u001b[0m\n\u001b[0m",
      "\u001b[0;32m/usr/local/Cellar/jupyterlab/2.1.2/libexec/lib/python3.8/site-packages/tweepy/binder.py\u001b[0m in \u001b[0;36m_call\u001b[0;34m(*args, **kwargs)\u001b[0m\n\u001b[1;32m    250\u001b[0m                 \u001b[0;32mreturn\u001b[0m \u001b[0mmethod\u001b[0m\u001b[0;34m\u001b[0m\u001b[0;34m\u001b[0m\u001b[0m\n\u001b[1;32m    251\u001b[0m             \u001b[0;32melse\u001b[0m\u001b[0;34m:\u001b[0m\u001b[0;34m\u001b[0m\u001b[0;34m\u001b[0m\u001b[0m\n\u001b[0;32m--> 252\u001b[0;31m                 \u001b[0;32mreturn\u001b[0m \u001b[0mmethod\u001b[0m\u001b[0;34m.\u001b[0m\u001b[0mexecute\u001b[0m\u001b[0;34m(\u001b[0m\u001b[0;34m)\u001b[0m\u001b[0;34m\u001b[0m\u001b[0;34m\u001b[0m\u001b[0m\n\u001b[0m\u001b[1;32m    253\u001b[0m         \u001b[0;32mfinally\u001b[0m\u001b[0;34m:\u001b[0m\u001b[0;34m\u001b[0m\u001b[0;34m\u001b[0m\u001b[0m\n\u001b[1;32m    254\u001b[0m             \u001b[0mmethod\u001b[0m\u001b[0;34m.\u001b[0m\u001b[0msession\u001b[0m\u001b[0;34m.\u001b[0m\u001b[0mclose\u001b[0m\u001b[0;34m(\u001b[0m\u001b[0;34m)\u001b[0m\u001b[0;34m\u001b[0m\u001b[0;34m\u001b[0m\u001b[0m\n",
      "\u001b[0;32m/usr/local/Cellar/jupyterlab/2.1.2/libexec/lib/python3.8/site-packages/tweepy/binder.py\u001b[0m in \u001b[0;36mexecute\u001b[0;34m(self)\u001b[0m\n\u001b[1;32m    232\u001b[0m                     \u001b[0;32mraise\u001b[0m \u001b[0mRateLimitError\u001b[0m\u001b[0;34m(\u001b[0m\u001b[0merror_msg\u001b[0m\u001b[0;34m,\u001b[0m \u001b[0mresp\u001b[0m\u001b[0;34m)\u001b[0m\u001b[0;34m\u001b[0m\u001b[0;34m\u001b[0m\u001b[0m\n\u001b[1;32m    233\u001b[0m                 \u001b[0;32melse\u001b[0m\u001b[0;34m:\u001b[0m\u001b[0;34m\u001b[0m\u001b[0;34m\u001b[0m\u001b[0m\n\u001b[0;32m--> 234\u001b[0;31m                     \u001b[0;32mraise\u001b[0m \u001b[0mTweepError\u001b[0m\u001b[0;34m(\u001b[0m\u001b[0merror_msg\u001b[0m\u001b[0;34m,\u001b[0m \u001b[0mresp\u001b[0m\u001b[0;34m,\u001b[0m \u001b[0mapi_code\u001b[0m\u001b[0;34m=\u001b[0m\u001b[0mapi_error_code\u001b[0m\u001b[0;34m)\u001b[0m\u001b[0;34m\u001b[0m\u001b[0;34m\u001b[0m\u001b[0m\n\u001b[0m\u001b[1;32m    235\u001b[0m \u001b[0;34m\u001b[0m\u001b[0m\n\u001b[1;32m    236\u001b[0m             \u001b[0;31m# Parse the response payload\u001b[0m\u001b[0;34m\u001b[0m\u001b[0;34m\u001b[0m\u001b[0;34m\u001b[0m\u001b[0m\n",
      "\u001b[0;31mTweepError\u001b[0m: [{'code': 144, 'message': 'No status found with that ID.'}]"
     ]
    }
   ],
   "source": [
    "api.get_status(24392221907)"
   ]
  },
  {
   "cell_type": "code",
   "execution_count": 4,
   "metadata": {},
   "outputs": [
    {
     "data": {
      "text/plain": [
       "['20818964808474624\\t#NFL Fines #NYJets $100,000 for Punt Stunt http://ow.ly/3wt37 #mannydelarosa #NFL\\n',\n",
       " '627862243639296\\tSurging Packers try to further bury Cowboys #NFL #New #York #Jets http://myfeedme.com/m/1767687\\n',\n",
       " '653032387776512\\tRT @gregjohns1: Official #SEahawks injury report: Hasselbeck, Tate and Okung are out. Okung is doubtful. M (cont) http://tl.gd/6qvk7g\\n',\n",
       " '20332215833464832\\tRT @EternalRiteWing: Enemy Within The Gates http://bit.ly/f3fCmQ #religion #patriots #tcot\\n',\n",
       " '25283899801\\tTake a second look..... Shit to fast. We movin. A to B like #JETLIFE ....Fool\\n',\n",
       " '20860157449740288\\t#Packers peeps @AlexTallitsch @PackerRanter @MaxGinsberg @acmepackingco @totalpackers @olbagofdonuts @MidwestFan @theandyman @PACKERHQ\\n',\n",
       " '20959159683915776\\tRT @PGutierrezCSN: #Raiders Friday notes: DMC, Seymour gametime decisions, similarities to 1999 finale, etc... http://tiny.cc/6w1cr\\n',\n",
       " \"20646037890801664\\t#Jets Set Now Where Haven't We Been Yet #taylorgang Still Rolling Up The Paper Planes\\n\",\n",
       " '5645822796505089\\tRT @lionsff Lions vs. Cowboys: Checking In On The Enemy http://ffd.me/9nPlEl #lions\\n',\n",
       " '20867296125784064\\tIs this the end or just the beginning of the #NYG season? Analysis and breakdown----&gt; http://bit.ly/dUgPf8\\n',\n",
       " '663291441451008\\t#Steelers News: Fazende: After Further Review... Saints vs. Steelers http://bit.ly/aFjYks #fb\\n',\n",
       " \"20889936920059904\\tIts clap on clap off in this bitch don't make the #JETS turn off yur own switch.. ... http://tmi.me/4SyZw\\n\",\n",
       " '573877432356865\\tWins? RT @Pacduneslooper: Will Randy Moss help the #Titans?  Someone aak Percy Harvin.\\n',\n",
       " '923476898611200\\t@RaidersBlog  @SI_JimTrotter You wear black to a funeral. #justsayin  #Chiefs\\n',\n",
       " '20788027915767808\\t#bears\\n',\n",
       " '20308971235573762\\t@R_Oben Why I think Coughlin has to go: www.bebackbykickoff.com #NYG\\n',\n",
       " '20677771961303040\\tGiants Need Vintage Play From Offensive Line http://ffd.me/h0FIyf #gmen #nygiants\\n',\n",
       " '20350004250017793\\tPittsburgh Tribune: Big Ben honored for media cooperation http://burgh.us/iz #steelers #nfl\\n',\n",
       " \"20562604757876736\\t@a_googler @PierreGarcon85 wasn't an earthquake. Was just the #colts having practice.\\n\",\n",
       " \"20219829558448128\\tFox analyst Carlson: Vick 'should have been 'executed': Fox analyst Tucker Carlson says Philadelphi... http://bit.ly/f3CxVQ #NHL #Texans\\n\",\n",
       " '20438281707585537\\tRT @StreamRoller Jorge Sedano w/ Mike Marchant (M-F 6-10a E) 790 The Ticket WAXY Miami Florida http://bit.ly/chBFuG #Dolphins #Canes ...\\n',\n",
       " '27151432917\\tIf Clinton Portis is done for the year as @ProFootballTalk suggests, can Ryan Torain & Keiland Williams carry the load for #Redskins? #NFL\\n',\n",
       " '741008031617024\\tRT @MFM_LionsNFL Expect wave of optimism to continue for Lions #NFL #Detroit #Lions http://myfeedme.com/m/1808029\\n',\n",
       " '641967818022912\\tO #Colts tem 7 jogadores no Top 100 de todos os tempos da NFL. São eles: Johnny Unitas, Peyton Manning, Jim Parker, Raymond Berry (+)\\n',\n",
       " '20526319972384770\\tNew on TJB: BGA Extra: Jets at Bears: Disclaimer: All analysis was taken from the TV coverage, so at times... http://bit.ly/dL5XKt #Jets\\n',\n",
       " \"20252079662567425\\tClint Session Optimistic He Will Return to Play in Colts' Regular-Season Finale http://ffd.me/gYsB8r #colts\\n\",\n",
       " \"653007041593344\\tRT @edmorgans: The #NFL has fined James Harrison $125,000 for Borel's hit on Castellano. #BC10 #steelers #jockeyfight\\n\",\n",
       " '25168601706\\t@j_holland7 you always will be apreciated in the #RaiderNation no matter where the road of life takes you! wish you success\\n',\n",
       " '569985109856257\\tFOX protects TWO Packers games from flex scheduling http://ffd.me/be5aOr #gmen #nygiants\\n',\n",
       " '20862975791337472\\tNew blog post: Colts Power Rankings - Week 16 http://bit.ly/euIfDh #indy #colts\\n',\n",
       " '629317860069377\\t#goskins http://www.theonion.com/articles/nation-taking-no-joy-in-cowboys-pathetic-collapse,18405/\\n',\n",
       " '25428452805\\tIts officially on this weekend. Texan fans stand up #TEXANS @979TheBox@HoustonTexans@1560TheGame@MstrMotivator http://plixi.com/p/46889663\\n',\n",
       " '20640119941763072\\tSeattle prepping Whitehurst to start vs. Rams http://ffd.me/gP2uvX #bucs #buccaneers\\n']"
      ]
     },
     "execution_count": 4,
     "metadata": {},
     "output_type": "execute_result"
    }
   ],
   "source": [
    "tmp"
   ]
  },
  {
   "cell_type": "code",
   "execution_count": 5,
   "metadata": {},
   "outputs": [],
   "source": [
    "with open('2010missing.txt', 'a') as writefile:\n",
    "            for line in tmp:\n",
    "                writefile.write(line)"
   ]
  },
  {
   "cell_type": "code",
   "execution_count": null,
   "metadata": {},
   "outputs": [],
   "source": []
  }
 ],
 "metadata": {
  "kernelspec": {
   "display_name": "Python 3",
   "language": "python",
   "name": "python3"
  },
  "language_info": {
   "codemirror_mode": {
    "name": "ipython",
    "version": 3
   },
   "file_extension": ".py",
   "mimetype": "text/x-python",
   "name": "python",
   "nbconvert_exporter": "python",
   "pygments_lexer": "ipython3",
   "version": "3.8.2"
  }
 },
 "nbformat": 4,
 "nbformat_minor": 4
}
